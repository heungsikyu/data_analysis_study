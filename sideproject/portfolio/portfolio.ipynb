{
 "metadata": {
  "language_info": {
   "codemirror_mode": {
    "name": "ipython",
    "version": 3
   },
   "file_extension": ".py",
   "mimetype": "text/x-python",
   "name": "python",
   "nbconvert_exporter": "python",
   "pygments_lexer": "ipython3",
   "version": "3.9.1-final"
  },
  "orig_nbformat": 2,
  "kernelspec": {
   "name": "python3",
   "display_name": "Python 3.9.1 64-bit",
   "metadata": {
    "interpreter": {
     "hash": "aee8b7b246df8f9039afb4144a1f6fd8d2ca17a180786b69acc140d282b71a49"
    }
   }
  }
 },
 "nbformat": 4,
 "nbformat_minor": 2,
 "cells": [
  {
   "cell_type": "code",
   "execution_count": 1,
   "metadata": {},
   "outputs": [
    {
     "output_type": "stream",
     "name": "stdout",
     "text": [
      "4.14.3\n"
     ]
    }
   ],
   "source": [
    "import pandas as pd\n",
    "from pandas_datareader import data as pdr\n",
    "import numpy as np \n",
    "import datetime \n",
    "import matplotlib.pyplot as plt  \n",
    "import plotly.graph_objs as go  \n",
    "%matplotlib inline\n",
    "\n",
    "from plotly import __version__\n",
    "from plotly.offline import download_plotlyjs, init_notebook_mode, plot, iplot\n",
    "\n",
    "\n",
    "print(__version__)\n"
   ]
  },
  {
   "cell_type": "code",
   "execution_count": 2,
   "metadata": {},
   "outputs": [
    {
     "output_type": "execute_result",
     "data": {
      "text/plain": [
       "                     High            Low           Open          Close  \\\n",
       "Date                                                                     \n",
       "2016-01-20   17180.199219   16106.400391   16993.500000   16293.200195   \n",
       "2016-01-21   16620.000000   16013.099609   16433.199219   16293.200195   \n",
       "2016-01-22   16433.199219   15499.500000   16386.599609   15966.400391   \n",
       "2016-01-25   16013.099609   15639.599609   16013.099609   15873.000000   \n",
       "2016-01-26   16153.099609   15639.599609   15779.599609   15733.000000   \n",
       "...                   ...            ...            ...            ...   \n",
       "2018-01-26   99900.000000   94800.000000   96000.000000   97400.000000   \n",
       "2018-01-29  101900.000000   94400.000000   94700.000000   99900.000000   \n",
       "2018-01-30  103800.000000   97900.000000  101200.000000   99500.000000   \n",
       "2018-01-31   99600.000000   96600.000000   97100.000000   97500.000000   \n",
       "2021-01-18  199800.000000  170000.000000  185500.000000  179500.000000   \n",
       "\n",
       "               Volume      Adj Close  \n",
       "Date                                  \n",
       "2016-01-20   254722.0   16293.200195  \n",
       "2016-01-21   156843.0   16293.200195  \n",
       "2016-01-22   175944.0   15966.400391  \n",
       "2016-01-25    90294.0   15873.000000  \n",
       "2016-01-26    77758.0   15733.000000  \n",
       "...               ...            ...  \n",
       "2018-01-26   890629.0   97400.000000  \n",
       "2018-01-29  1145142.0   99900.000000  \n",
       "2018-01-30  1109788.0   99500.000000  \n",
       "2018-01-31   559330.0   97500.000000  \n",
       "2021-01-18  1491433.0  179500.000000  \n",
       "\n",
       "[495 rows x 6 columns]"
      ],
      "text/html": "<div>\n<style scoped>\n    .dataframe tbody tr th:only-of-type {\n        vertical-align: middle;\n    }\n\n    .dataframe tbody tr th {\n        vertical-align: top;\n    }\n\n    .dataframe thead th {\n        text-align: right;\n    }\n</style>\n<table border=\"1\" class=\"dataframe\">\n  <thead>\n    <tr style=\"text-align: right;\">\n      <th></th>\n      <th>High</th>\n      <th>Low</th>\n      <th>Open</th>\n      <th>Close</th>\n      <th>Volume</th>\n      <th>Adj Close</th>\n    </tr>\n    <tr>\n      <th>Date</th>\n      <th></th>\n      <th></th>\n      <th></th>\n      <th></th>\n      <th></th>\n      <th></th>\n    </tr>\n  </thead>\n  <tbody>\n    <tr>\n      <th>2016-01-20</th>\n      <td>17180.199219</td>\n      <td>16106.400391</td>\n      <td>16993.500000</td>\n      <td>16293.200195</td>\n      <td>254722.0</td>\n      <td>16293.200195</td>\n    </tr>\n    <tr>\n      <th>2016-01-21</th>\n      <td>16620.000000</td>\n      <td>16013.099609</td>\n      <td>16433.199219</td>\n      <td>16293.200195</td>\n      <td>156843.0</td>\n      <td>16293.200195</td>\n    </tr>\n    <tr>\n      <th>2016-01-22</th>\n      <td>16433.199219</td>\n      <td>15499.500000</td>\n      <td>16386.599609</td>\n      <td>15966.400391</td>\n      <td>175944.0</td>\n      <td>15966.400391</td>\n    </tr>\n    <tr>\n      <th>2016-01-25</th>\n      <td>16013.099609</td>\n      <td>15639.599609</td>\n      <td>16013.099609</td>\n      <td>15873.000000</td>\n      <td>90294.0</td>\n      <td>15873.000000</td>\n    </tr>\n    <tr>\n      <th>2016-01-26</th>\n      <td>16153.099609</td>\n      <td>15639.599609</td>\n      <td>15779.599609</td>\n      <td>15733.000000</td>\n      <td>77758.0</td>\n      <td>15733.000000</td>\n    </tr>\n    <tr>\n      <th>...</th>\n      <td>...</td>\n      <td>...</td>\n      <td>...</td>\n      <td>...</td>\n      <td>...</td>\n      <td>...</td>\n    </tr>\n    <tr>\n      <th>2018-01-26</th>\n      <td>99900.000000</td>\n      <td>94800.000000</td>\n      <td>96000.000000</td>\n      <td>97400.000000</td>\n      <td>890629.0</td>\n      <td>97400.000000</td>\n    </tr>\n    <tr>\n      <th>2018-01-29</th>\n      <td>101900.000000</td>\n      <td>94400.000000</td>\n      <td>94700.000000</td>\n      <td>99900.000000</td>\n      <td>1145142.0</td>\n      <td>99900.000000</td>\n    </tr>\n    <tr>\n      <th>2018-01-30</th>\n      <td>103800.000000</td>\n      <td>97900.000000</td>\n      <td>101200.000000</td>\n      <td>99500.000000</td>\n      <td>1109788.0</td>\n      <td>99500.000000</td>\n    </tr>\n    <tr>\n      <th>2018-01-31</th>\n      <td>99600.000000</td>\n      <td>96600.000000</td>\n      <td>97100.000000</td>\n      <td>97500.000000</td>\n      <td>559330.0</td>\n      <td>97500.000000</td>\n    </tr>\n    <tr>\n      <th>2021-01-18</th>\n      <td>199800.000000</td>\n      <td>170000.000000</td>\n      <td>185500.000000</td>\n      <td>179500.000000</td>\n      <td>1491433.0</td>\n      <td>179500.000000</td>\n    </tr>\n  </tbody>\n</table>\n<p>495 rows × 6 columns</p>\n</div>"
     },
     "metadata": {},
     "execution_count": 2
    }
   ],
   "source": [
    "# YoY는 Year on Year의 약어인데, 전년 동기 대비 증감율\n",
    "# QoQ는 Quarter on Quarter의 약어인데, 직전 분기 대비 증감율\n",
    "# YTD는 Year To Date의 약어인데, 연초 누계, 연초 누계 대비 증감율 혹은 연초 대비 증감율\n",
    "#   YTD의 첫번째 사용예는 단순히 올해 초부터 현재까지 누적값\n",
    "#   YTD의 두번째 사용예는 \"올해 현재까지의 누적값\"과 \"올해 현재 날짜와 같은 전년 날짜까지의 누적값\"\n",
    "#   YTD의 세번째 사용예는 올해 첫날부터 현재까지의 수익률\n",
    "# %와 %p(point)\n",
    "    # %는 증감율 혹은 비율을 표시할 때 사용 \n",
    "    # %p(point)는 단위가 %인 비율의 증감을 의미\n",
    "\n",
    "# df = pdr.get_data_yahoo('005930.KS')#삼성전자\n",
    "# df = pdr.get_data_yahoo('066570.KS')#LG전자\n",
    "# df = pdr.get_data_yahoo('005380.KS')#현대차\n",
    "# df = pdr.get_data_yahoo('068270.KS')# 셀트리온 \n",
    "# df = pdr.get_data_yahoo('035420.KS')# NAVER \n",
    "# df = pdr.get_data_yahoo('010060.KS')# OCI \n",
    "df = pdr.get_data_yahoo('068760.KQ')# OCI \n",
    "df"
   ]
  },
  {
   "cell_type": "code",
   "execution_count": 127,
   "metadata": {},
   "outputs": [],
   "source": [
    "# 미국 주식 시장의 SP 500의 기간에대한 모든 ticker 데이터 가져오기\n",
    "# Modify these date ranges each week.\n",
    "# 주별로 수정해야 한다. \n",
    "# 특정일 기준으로 기간 데이터를 가져온다\n",
    "start_sp = datetime.datetime(2010, 1, 1)\n",
    "end_sp = datetime.datetime(2021, 1, 18)\n",
    "\n",
    "# This variable is used for YTD performance.\n",
    "# YTD 올해 첫날부터 현재까지의 수익률\n",
    "end_of_last_year = datetime.datetime(2020, 12, 31)\n",
    "\n",
    "# These are separate if for some reason want different date range than SP.\n",
    "stocks_start = datetime.datetime(2021, 1, 11)\n",
    "stocks_end = datetime.datetime(2021, 1, 15)\n",
    "\n",
    "def get(tickers, startdate, enddate):\n",
    "  def data(ticker):\n",
    "    return (pdr.get_data_yahoo(ticker, start=startdate, end=enddate))\n",
    "  datas = map (data, tickers)\n",
    "  return(pd.concat(datas, keys=tickers, names=['Ticker', 'Date']))\n",
    "\n"
   ]
  },
  {
   "cell_type": "code",
   "execution_count": 222,
   "metadata": {},
   "outputs": [
    {
     "output_type": "error",
     "ename": "RemoteDataError",
     "evalue": "No data fetched for symbol KOSPI using YahooDailyReader",
     "traceback": [
      "\u001b[0;31m---------------------------------------------------------------------------\u001b[0m",
      "\u001b[0;31mKeyError\u001b[0m                                  Traceback (most recent call last)",
      "\u001b[0;32m/Library/Frameworks/Python.framework/Versions/3.9/lib/python3.9/site-packages/pandas_datareader/yahoo/daily.py\u001b[0m in \u001b[0;36m_read_one_data\u001b[0;34m(self, url, params)\u001b[0m\n\u001b[1;32m    156\u001b[0m             \u001b[0mj\u001b[0m \u001b[0;34m=\u001b[0m \u001b[0mjson\u001b[0m\u001b[0;34m.\u001b[0m\u001b[0mloads\u001b[0m\u001b[0;34m(\u001b[0m\u001b[0mre\u001b[0m\u001b[0;34m.\u001b[0m\u001b[0msearch\u001b[0m\u001b[0;34m(\u001b[0m\u001b[0mptrn\u001b[0m\u001b[0;34m,\u001b[0m \u001b[0mresp\u001b[0m\u001b[0;34m.\u001b[0m\u001b[0mtext\u001b[0m\u001b[0;34m,\u001b[0m \u001b[0mre\u001b[0m\u001b[0;34m.\u001b[0m\u001b[0mDOTALL\u001b[0m\u001b[0;34m)\u001b[0m\u001b[0;34m.\u001b[0m\u001b[0mgroup\u001b[0m\u001b[0;34m(\u001b[0m\u001b[0;36m1\u001b[0m\u001b[0;34m)\u001b[0m\u001b[0;34m)\u001b[0m\u001b[0;34m\u001b[0m\u001b[0;34m\u001b[0m\u001b[0m\n\u001b[0;32m--> 157\u001b[0;31m             \u001b[0mdata\u001b[0m \u001b[0;34m=\u001b[0m \u001b[0mj\u001b[0m\u001b[0;34m[\u001b[0m\u001b[0;34m\"context\"\u001b[0m\u001b[0;34m]\u001b[0m\u001b[0;34m[\u001b[0m\u001b[0;34m\"dispatcher\"\u001b[0m\u001b[0;34m]\u001b[0m\u001b[0;34m[\u001b[0m\u001b[0;34m\"stores\"\u001b[0m\u001b[0;34m]\u001b[0m\u001b[0;34m[\u001b[0m\u001b[0;34m\"HistoricalPriceStore\"\u001b[0m\u001b[0;34m]\u001b[0m\u001b[0;34m\u001b[0m\u001b[0;34m\u001b[0m\u001b[0m\n\u001b[0m\u001b[1;32m    158\u001b[0m         \u001b[0;32mexcept\u001b[0m \u001b[0mKeyError\u001b[0m\u001b[0;34m:\u001b[0m\u001b[0;34m\u001b[0m\u001b[0;34m\u001b[0m\u001b[0m\n",
      "\u001b[0;31mKeyError\u001b[0m: 'HistoricalPriceStore'",
      "\nDuring handling of the above exception, another exception occurred:\n",
      "\u001b[0;31mRemoteDataError\u001b[0m                           Traceback (most recent call last)",
      "\u001b[0;32m<ipython-input-222-b68f520e27e7>\u001b[0m in \u001b[0;36m<module>\u001b[0;34m\u001b[0m\n\u001b[0;32m----> 1\u001b[0;31m \u001b[0mkospi\u001b[0m \u001b[0;34m=\u001b[0m \u001b[0mpdr\u001b[0m\u001b[0;34m.\u001b[0m\u001b[0mget_data_yahoo\u001b[0m\u001b[0;34m(\u001b[0m\u001b[0;34m'KOSPI'\u001b[0m\u001b[0;34m,\u001b[0m\u001b[0mstart_sp\u001b[0m\u001b[0;34m,\u001b[0m \u001b[0mend_sp\u001b[0m\u001b[0;34m)\u001b[0m\u001b[0;34m\u001b[0m\u001b[0;34m\u001b[0m\u001b[0m\n\u001b[0m\u001b[1;32m      2\u001b[0m \u001b[0mkospi\u001b[0m\u001b[0;34m\u001b[0m\u001b[0;34m\u001b[0m\u001b[0m\n\u001b[1;32m      3\u001b[0m \u001b[0;31m# sp500 = pdr.get_data_yahoo('^GSPC',start_sp, end_sp)\u001b[0m\u001b[0;34m\u001b[0m\u001b[0;34m\u001b[0m\u001b[0;34m\u001b[0m\u001b[0m\n\u001b[1;32m      4\u001b[0m \u001b[0;31m# sp500\u001b[0m\u001b[0;34m\u001b[0m\u001b[0;34m\u001b[0m\u001b[0;34m\u001b[0m\u001b[0m\n",
      "\u001b[0;32m/Library/Frameworks/Python.framework/Versions/3.9/lib/python3.9/site-packages/pandas_datareader/data.py\u001b[0m in \u001b[0;36mget_data_yahoo\u001b[0;34m(*args, **kwargs)\u001b[0m\n\u001b[1;32m     84\u001b[0m \u001b[0;34m\u001b[0m\u001b[0m\n\u001b[1;32m     85\u001b[0m \u001b[0;32mdef\u001b[0m \u001b[0mget_data_yahoo\u001b[0m\u001b[0;34m(\u001b[0m\u001b[0;34m*\u001b[0m\u001b[0margs\u001b[0m\u001b[0;34m,\u001b[0m \u001b[0;34m**\u001b[0m\u001b[0mkwargs\u001b[0m\u001b[0;34m)\u001b[0m\u001b[0;34m:\u001b[0m\u001b[0;34m\u001b[0m\u001b[0;34m\u001b[0m\u001b[0m\n\u001b[0;32m---> 86\u001b[0;31m     \u001b[0;32mreturn\u001b[0m \u001b[0mYahooDailyReader\u001b[0m\u001b[0;34m(\u001b[0m\u001b[0;34m*\u001b[0m\u001b[0margs\u001b[0m\u001b[0;34m,\u001b[0m \u001b[0;34m**\u001b[0m\u001b[0mkwargs\u001b[0m\u001b[0;34m)\u001b[0m\u001b[0;34m.\u001b[0m\u001b[0mread\u001b[0m\u001b[0;34m(\u001b[0m\u001b[0;34m)\u001b[0m\u001b[0;34m\u001b[0m\u001b[0;34m\u001b[0m\u001b[0m\n\u001b[0m\u001b[1;32m     87\u001b[0m \u001b[0;34m\u001b[0m\u001b[0m\n\u001b[1;32m     88\u001b[0m \u001b[0;34m\u001b[0m\u001b[0m\n",
      "\u001b[0;32m/Library/Frameworks/Python.framework/Versions/3.9/lib/python3.9/site-packages/pandas_datareader/base.py\u001b[0m in \u001b[0;36mread\u001b[0;34m(self)\u001b[0m\n\u001b[1;32m    251\u001b[0m         \u001b[0;31m# If a single symbol, (e.g., 'GOOG')\u001b[0m\u001b[0;34m\u001b[0m\u001b[0;34m\u001b[0m\u001b[0;34m\u001b[0m\u001b[0m\n\u001b[1;32m    252\u001b[0m         \u001b[0;32mif\u001b[0m \u001b[0misinstance\u001b[0m\u001b[0;34m(\u001b[0m\u001b[0mself\u001b[0m\u001b[0;34m.\u001b[0m\u001b[0msymbols\u001b[0m\u001b[0;34m,\u001b[0m \u001b[0;34m(\u001b[0m\u001b[0mstring_types\u001b[0m\u001b[0;34m,\u001b[0m \u001b[0mint\u001b[0m\u001b[0;34m)\u001b[0m\u001b[0;34m)\u001b[0m\u001b[0;34m:\u001b[0m\u001b[0;34m\u001b[0m\u001b[0;34m\u001b[0m\u001b[0m\n\u001b[0;32m--> 253\u001b[0;31m             \u001b[0mdf\u001b[0m \u001b[0;34m=\u001b[0m \u001b[0mself\u001b[0m\u001b[0;34m.\u001b[0m\u001b[0m_read_one_data\u001b[0m\u001b[0;34m(\u001b[0m\u001b[0mself\u001b[0m\u001b[0;34m.\u001b[0m\u001b[0murl\u001b[0m\u001b[0;34m,\u001b[0m \u001b[0mparams\u001b[0m\u001b[0;34m=\u001b[0m\u001b[0mself\u001b[0m\u001b[0;34m.\u001b[0m\u001b[0m_get_params\u001b[0m\u001b[0;34m(\u001b[0m\u001b[0mself\u001b[0m\u001b[0;34m.\u001b[0m\u001b[0msymbols\u001b[0m\u001b[0;34m)\u001b[0m\u001b[0;34m)\u001b[0m\u001b[0;34m\u001b[0m\u001b[0;34m\u001b[0m\u001b[0m\n\u001b[0m\u001b[1;32m    254\u001b[0m         \u001b[0;31m# Or multiple symbols, (e.g., ['GOOG', 'AAPL', 'MSFT'])\u001b[0m\u001b[0;34m\u001b[0m\u001b[0;34m\u001b[0m\u001b[0;34m\u001b[0m\u001b[0m\n\u001b[1;32m    255\u001b[0m         \u001b[0;32melif\u001b[0m \u001b[0misinstance\u001b[0m\u001b[0;34m(\u001b[0m\u001b[0mself\u001b[0m\u001b[0;34m.\u001b[0m\u001b[0msymbols\u001b[0m\u001b[0;34m,\u001b[0m \u001b[0mDataFrame\u001b[0m\u001b[0;34m)\u001b[0m\u001b[0;34m:\u001b[0m\u001b[0;34m\u001b[0m\u001b[0;34m\u001b[0m\u001b[0m\n",
      "\u001b[0;32m/Library/Frameworks/Python.framework/Versions/3.9/lib/python3.9/site-packages/pandas_datareader/yahoo/daily.py\u001b[0m in \u001b[0;36m_read_one_data\u001b[0;34m(self, url, params)\u001b[0m\n\u001b[1;32m    158\u001b[0m         \u001b[0;32mexcept\u001b[0m \u001b[0mKeyError\u001b[0m\u001b[0;34m:\u001b[0m\u001b[0;34m\u001b[0m\u001b[0;34m\u001b[0m\u001b[0m\n\u001b[1;32m    159\u001b[0m             \u001b[0mmsg\u001b[0m \u001b[0;34m=\u001b[0m \u001b[0;34m\"No data fetched for symbol {} using {}\"\u001b[0m\u001b[0;34m\u001b[0m\u001b[0;34m\u001b[0m\u001b[0m\n\u001b[0;32m--> 160\u001b[0;31m             \u001b[0;32mraise\u001b[0m \u001b[0mRemoteDataError\u001b[0m\u001b[0;34m(\u001b[0m\u001b[0mmsg\u001b[0m\u001b[0;34m.\u001b[0m\u001b[0mformat\u001b[0m\u001b[0;34m(\u001b[0m\u001b[0msymbol\u001b[0m\u001b[0;34m,\u001b[0m \u001b[0mself\u001b[0m\u001b[0;34m.\u001b[0m\u001b[0m__class__\u001b[0m\u001b[0;34m.\u001b[0m\u001b[0m__name__\u001b[0m\u001b[0;34m)\u001b[0m\u001b[0;34m)\u001b[0m\u001b[0;34m\u001b[0m\u001b[0;34m\u001b[0m\u001b[0m\n\u001b[0m\u001b[1;32m    161\u001b[0m \u001b[0;34m\u001b[0m\u001b[0m\n\u001b[1;32m    162\u001b[0m         \u001b[0;31m# price data\u001b[0m\u001b[0;34m\u001b[0m\u001b[0;34m\u001b[0m\u001b[0;34m\u001b[0m\u001b[0m\n",
      "\u001b[0;31mRemoteDataError\u001b[0m: No data fetched for symbol KOSPI using YahooDailyReader"
     ]
    }
   ],
   "source": [
    "kospi = pdr.get_data_yahoo('KOSPI',start_sp, end_sp)\n",
    "kospi\n",
    "# sp500 = pdr.get_data_yahoo('^GSPC',start_sp, end_sp)\n",
    "# sp500"
   ]
  },
  {
   "cell_type": "code",
   "execution_count": 129,
   "metadata": {},
   "outputs": [
    {
     "output_type": "execute_result",
     "data": {
      "text/plain": [
       "                        High        Low       Open      Close       Volume  \\\n",
       "Ticker Date                                                                  \n",
       "AAPL   2009-12-31   7.619643   7.520000   7.611786   7.526071  352410800.0   \n",
       "       2010-01-04   7.660714   7.585000   7.622500   7.643214  493729600.0   \n",
       "       2010-01-05   7.699643   7.616071   7.664286   7.656429  601904800.0   \n",
       "       2010-01-06   7.686786   7.526786   7.656429   7.534643  552160000.0   \n",
       "       2010-01-07   7.571429   7.466071   7.562500   7.520714  477131200.0   \n",
       "...                      ...        ...        ...        ...          ...   \n",
       "TWTR   2021-01-11  49.490002  45.150002  47.090000  48.180000   61647600.0   \n",
       "       2021-01-12  49.130001  46.560001  48.549999  47.040001   26288500.0   \n",
       "       2021-01-13  48.389999  47.020000  48.090000  47.220001   19097200.0   \n",
       "       2021-01-14  47.660000  45.430000  47.660000  45.790001   29748700.0   \n",
       "       2021-01-15  46.200001  45.080002  46.099998  45.180000   25688200.0   \n",
       "\n",
       "                   Adj Close  \n",
       "Ticker Date                   \n",
       "AAPL   2009-12-31   6.492369  \n",
       "       2010-01-04   6.593423  \n",
       "       2010-01-05   6.604822  \n",
       "       2010-01-06   6.499765  \n",
       "       2010-01-07   6.487749  \n",
       "...                      ...  \n",
       "TWTR   2021-01-11  48.180000  \n",
       "       2021-01-12  47.040001  \n",
       "       2021-01-13  47.220001  \n",
       "       2021-01-14  45.790001  \n",
       "       2021-01-15  45.180000  \n",
       "\n",
       "[23450 rows x 6 columns]"
      ],
      "text/html": "<div>\n<style scoped>\n    .dataframe tbody tr th:only-of-type {\n        vertical-align: middle;\n    }\n\n    .dataframe tbody tr th {\n        vertical-align: top;\n    }\n\n    .dataframe thead th {\n        text-align: right;\n    }\n</style>\n<table border=\"1\" class=\"dataframe\">\n  <thead>\n    <tr style=\"text-align: right;\">\n      <th></th>\n      <th></th>\n      <th>High</th>\n      <th>Low</th>\n      <th>Open</th>\n      <th>Close</th>\n      <th>Volume</th>\n      <th>Adj Close</th>\n    </tr>\n    <tr>\n      <th>Ticker</th>\n      <th>Date</th>\n      <th></th>\n      <th></th>\n      <th></th>\n      <th></th>\n      <th></th>\n      <th></th>\n    </tr>\n  </thead>\n  <tbody>\n    <tr>\n      <th rowspan=\"5\" valign=\"top\">AAPL</th>\n      <th>2009-12-31</th>\n      <td>7.619643</td>\n      <td>7.520000</td>\n      <td>7.611786</td>\n      <td>7.526071</td>\n      <td>352410800.0</td>\n      <td>6.492369</td>\n    </tr>\n    <tr>\n      <th>2010-01-04</th>\n      <td>7.660714</td>\n      <td>7.585000</td>\n      <td>7.622500</td>\n      <td>7.643214</td>\n      <td>493729600.0</td>\n      <td>6.593423</td>\n    </tr>\n    <tr>\n      <th>2010-01-05</th>\n      <td>7.699643</td>\n      <td>7.616071</td>\n      <td>7.664286</td>\n      <td>7.656429</td>\n      <td>601904800.0</td>\n      <td>6.604822</td>\n    </tr>\n    <tr>\n      <th>2010-01-06</th>\n      <td>7.686786</td>\n      <td>7.526786</td>\n      <td>7.656429</td>\n      <td>7.534643</td>\n      <td>552160000.0</td>\n      <td>6.499765</td>\n    </tr>\n    <tr>\n      <th>2010-01-07</th>\n      <td>7.571429</td>\n      <td>7.466071</td>\n      <td>7.562500</td>\n      <td>7.520714</td>\n      <td>477131200.0</td>\n      <td>6.487749</td>\n    </tr>\n    <tr>\n      <th>...</th>\n      <th>...</th>\n      <td>...</td>\n      <td>...</td>\n      <td>...</td>\n      <td>...</td>\n      <td>...</td>\n      <td>...</td>\n    </tr>\n    <tr>\n      <th rowspan=\"5\" valign=\"top\">TWTR</th>\n      <th>2021-01-11</th>\n      <td>49.490002</td>\n      <td>45.150002</td>\n      <td>47.090000</td>\n      <td>48.180000</td>\n      <td>61647600.0</td>\n      <td>48.180000</td>\n    </tr>\n    <tr>\n      <th>2021-01-12</th>\n      <td>49.130001</td>\n      <td>46.560001</td>\n      <td>48.549999</td>\n      <td>47.040001</td>\n      <td>26288500.0</td>\n      <td>47.040001</td>\n    </tr>\n    <tr>\n      <th>2021-01-13</th>\n      <td>48.389999</td>\n      <td>47.020000</td>\n      <td>48.090000</td>\n      <td>47.220001</td>\n      <td>19097200.0</td>\n      <td>47.220001</td>\n    </tr>\n    <tr>\n      <th>2021-01-14</th>\n      <td>47.660000</td>\n      <td>45.430000</td>\n      <td>47.660000</td>\n      <td>45.790001</td>\n      <td>29748700.0</td>\n      <td>45.790001</td>\n    </tr>\n    <tr>\n      <th>2021-01-15</th>\n      <td>46.200001</td>\n      <td>45.080002</td>\n      <td>46.099998</td>\n      <td>45.180000</td>\n      <td>25688200.0</td>\n      <td>45.180000</td>\n    </tr>\n  </tbody>\n</table>\n<p>23450 rows × 6 columns</p>\n</div>"
     },
     "metadata": {},
     "execution_count": 129
    }
   ],
   "source": [
    "# 포트폴리오의 구성\n",
    "tickers = ['AAPL', 'JNJ', 'MCD','MTCH','NFLX','GOOG', 'WMT','FB','TWTR' ]\n",
    "all_data = get(tickers, start_sp, end_sp)\n",
    "\n",
    "all_data"
   ]
  },
  {
   "cell_type": "code",
   "execution_count": 120,
   "metadata": {},
   "outputs": [
    {
     "output_type": "execute_result",
     "data": {
      "text/plain": [
       "                  High         Low        Open       Close      Volume  \\\n",
       "Date                                                                     \n",
       "2009-12-31    8.011429    7.864286    7.947143    7.870000   5291300.0   \n",
       "2010-01-04    7.961429    7.565714    7.931429    7.640000  17239600.0   \n",
       "2010-01-05    7.657143    7.258571    7.652857    7.358571  23753100.0   \n",
       "2010-01-06    7.672857    7.197143    7.361429    7.617143  23290400.0   \n",
       "2010-01-07    7.757143    7.462857    7.731429    7.485714   9955400.0   \n",
       "...                ...         ...         ...         ...         ...   \n",
       "2021-01-11  510.730011  497.950012  507.839996  499.100006   3812700.0   \n",
       "2021-01-12  501.089996  485.670013  500.000000  494.250000   5990400.0   \n",
       "2021-01-13  512.349976  493.010010  495.500000  507.790009   5032100.0   \n",
       "2021-01-14  514.500000  499.579987  507.350006  500.859985   4177400.0   \n",
       "2021-01-15  506.320007  495.100006  500.000000  497.980011   5890200.0   \n",
       "\n",
       "             Adj Close  \n",
       "Date                    \n",
       "2009-12-31    7.870000  \n",
       "2010-01-04    7.640000  \n",
       "2010-01-05    7.358571  \n",
       "2010-01-06    7.617143  \n",
       "2010-01-07    7.485714  \n",
       "...                ...  \n",
       "2021-01-11  499.100006  \n",
       "2021-01-12  494.250000  \n",
       "2021-01-13  507.790009  \n",
       "2021-01-14  500.859985  \n",
       "2021-01-15  497.980011  \n",
       "\n",
       "[2780 rows x 6 columns]"
      ],
      "text/html": "<div>\n<style scoped>\n    .dataframe tbody tr th:only-of-type {\n        vertical-align: middle;\n    }\n\n    .dataframe tbody tr th {\n        vertical-align: top;\n    }\n\n    .dataframe thead th {\n        text-align: right;\n    }\n</style>\n<table border=\"1\" class=\"dataframe\">\n  <thead>\n    <tr style=\"text-align: right;\">\n      <th></th>\n      <th>High</th>\n      <th>Low</th>\n      <th>Open</th>\n      <th>Close</th>\n      <th>Volume</th>\n      <th>Adj Close</th>\n    </tr>\n    <tr>\n      <th>Date</th>\n      <th></th>\n      <th></th>\n      <th></th>\n      <th></th>\n      <th></th>\n      <th></th>\n    </tr>\n  </thead>\n  <tbody>\n    <tr>\n      <th>2009-12-31</th>\n      <td>8.011429</td>\n      <td>7.864286</td>\n      <td>7.947143</td>\n      <td>7.870000</td>\n      <td>5291300.0</td>\n      <td>7.870000</td>\n    </tr>\n    <tr>\n      <th>2010-01-04</th>\n      <td>7.961429</td>\n      <td>7.565714</td>\n      <td>7.931429</td>\n      <td>7.640000</td>\n      <td>17239600.0</td>\n      <td>7.640000</td>\n    </tr>\n    <tr>\n      <th>2010-01-05</th>\n      <td>7.657143</td>\n      <td>7.258571</td>\n      <td>7.652857</td>\n      <td>7.358571</td>\n      <td>23753100.0</td>\n      <td>7.358571</td>\n    </tr>\n    <tr>\n      <th>2010-01-06</th>\n      <td>7.672857</td>\n      <td>7.197143</td>\n      <td>7.361429</td>\n      <td>7.617143</td>\n      <td>23290400.0</td>\n      <td>7.617143</td>\n    </tr>\n    <tr>\n      <th>2010-01-07</th>\n      <td>7.757143</td>\n      <td>7.462857</td>\n      <td>7.731429</td>\n      <td>7.485714</td>\n      <td>9955400.0</td>\n      <td>7.485714</td>\n    </tr>\n    <tr>\n      <th>...</th>\n      <td>...</td>\n      <td>...</td>\n      <td>...</td>\n      <td>...</td>\n      <td>...</td>\n      <td>...</td>\n    </tr>\n    <tr>\n      <th>2021-01-11</th>\n      <td>510.730011</td>\n      <td>497.950012</td>\n      <td>507.839996</td>\n      <td>499.100006</td>\n      <td>3812700.0</td>\n      <td>499.100006</td>\n    </tr>\n    <tr>\n      <th>2021-01-12</th>\n      <td>501.089996</td>\n      <td>485.670013</td>\n      <td>500.000000</td>\n      <td>494.250000</td>\n      <td>5990400.0</td>\n      <td>494.250000</td>\n    </tr>\n    <tr>\n      <th>2021-01-13</th>\n      <td>512.349976</td>\n      <td>493.010010</td>\n      <td>495.500000</td>\n      <td>507.790009</td>\n      <td>5032100.0</td>\n      <td>507.790009</td>\n    </tr>\n    <tr>\n      <th>2021-01-14</th>\n      <td>514.500000</td>\n      <td>499.579987</td>\n      <td>507.350006</td>\n      <td>500.859985</td>\n      <td>4177400.0</td>\n      <td>500.859985</td>\n    </tr>\n    <tr>\n      <th>2021-01-15</th>\n      <td>506.320007</td>\n      <td>495.100006</td>\n      <td>500.000000</td>\n      <td>497.980011</td>\n      <td>5890200.0</td>\n      <td>497.980011</td>\n    </tr>\n  </tbody>\n</table>\n<p>2780 rows × 6 columns</p>\n</div>"
     },
     "metadata": {},
     "execution_count": 120
    }
   ],
   "source": [
    "# 멀티 인덱스에서 특정 Ticker 가져오기\n",
    "all_data.xs('NFLX')"
   ]
  },
  {
   "cell_type": "code",
   "execution_count": 130,
   "metadata": {},
   "outputs": [
    {
     "output_type": "execute_result",
     "data": {
      "text/plain": [
       "      Ticker       Date  Adj Close\n",
       "0       AAPL 2009-12-31   6.492369\n",
       "1       AAPL 2010-01-04   6.593423\n",
       "2       AAPL 2010-01-05   6.604822\n",
       "3       AAPL 2010-01-06   6.499765\n",
       "4       AAPL 2010-01-07   6.487749\n",
       "...      ...        ...        ...\n",
       "23445   TWTR 2021-01-11  48.180000\n",
       "23446   TWTR 2021-01-12  47.040001\n",
       "23447   TWTR 2021-01-13  47.220001\n",
       "23448   TWTR 2021-01-14  45.790001\n",
       "23449   TWTR 2021-01-15  45.180000\n",
       "\n",
       "[23450 rows x 3 columns]"
      ],
      "text/html": "<div>\n<style scoped>\n    .dataframe tbody tr th:only-of-type {\n        vertical-align: middle;\n    }\n\n    .dataframe tbody tr th {\n        vertical-align: top;\n    }\n\n    .dataframe thead th {\n        text-align: right;\n    }\n</style>\n<table border=\"1\" class=\"dataframe\">\n  <thead>\n    <tr style=\"text-align: right;\">\n      <th></th>\n      <th>Ticker</th>\n      <th>Date</th>\n      <th>Adj Close</th>\n    </tr>\n  </thead>\n  <tbody>\n    <tr>\n      <th>0</th>\n      <td>AAPL</td>\n      <td>2009-12-31</td>\n      <td>6.492369</td>\n    </tr>\n    <tr>\n      <th>1</th>\n      <td>AAPL</td>\n      <td>2010-01-04</td>\n      <td>6.593423</td>\n    </tr>\n    <tr>\n      <th>2</th>\n      <td>AAPL</td>\n      <td>2010-01-05</td>\n      <td>6.604822</td>\n    </tr>\n    <tr>\n      <th>3</th>\n      <td>AAPL</td>\n      <td>2010-01-06</td>\n      <td>6.499765</td>\n    </tr>\n    <tr>\n      <th>4</th>\n      <td>AAPL</td>\n      <td>2010-01-07</td>\n      <td>6.487749</td>\n    </tr>\n    <tr>\n      <th>...</th>\n      <td>...</td>\n      <td>...</td>\n      <td>...</td>\n    </tr>\n    <tr>\n      <th>23445</th>\n      <td>TWTR</td>\n      <td>2021-01-11</td>\n      <td>48.180000</td>\n    </tr>\n    <tr>\n      <th>23446</th>\n      <td>TWTR</td>\n      <td>2021-01-12</td>\n      <td>47.040001</td>\n    </tr>\n    <tr>\n      <th>23447</th>\n      <td>TWTR</td>\n      <td>2021-01-13</td>\n      <td>47.220001</td>\n    </tr>\n    <tr>\n      <th>23448</th>\n      <td>TWTR</td>\n      <td>2021-01-14</td>\n      <td>45.790001</td>\n    </tr>\n    <tr>\n      <th>23449</th>\n      <td>TWTR</td>\n      <td>2021-01-15</td>\n      <td>45.180000</td>\n    </tr>\n  </tbody>\n</table>\n<p>23450 rows × 3 columns</p>\n</div>"
     },
     "metadata": {},
     "execution_count": 130
    }
   ],
   "source": [
    "# 모든 포트폴리오 주식 데이터에서 조정 종가를 가져와서 인덱스처리 한다. \n",
    "adj_close = all_data[['Adj Close']].reset_index()\n",
    "adj_close"
   ]
  },
  {
   "cell_type": "code",
   "execution_count": 148,
   "metadata": {},
   "outputs": [
    {
     "output_type": "execute_result",
     "data": {
      "text/plain": [
       "      Ticker       Date    Adj Close\n",
       "2769    AAPL 2020-12-31   132.690002\n",
       "5549     JNJ 2020-12-31   157.380005\n",
       "8329     MCD 2020-12-31   214.580002\n",
       "11109   MTCH 2020-12-31   151.190002\n",
       "13889   NFLX 2020-12-31   540.729980\n",
       "16669   GOOG 2020-12-31  1751.880005\n",
       "19449    WMT 2020-12-31   144.149994\n",
       "21629     FB 2020-12-31   273.160004\n",
       "23439   TWTR 2020-12-31    54.150002"
      ],
      "text/html": "<div>\n<style scoped>\n    .dataframe tbody tr th:only-of-type {\n        vertical-align: middle;\n    }\n\n    .dataframe tbody tr th {\n        vertical-align: top;\n    }\n\n    .dataframe thead th {\n        text-align: right;\n    }\n</style>\n<table border=\"1\" class=\"dataframe\">\n  <thead>\n    <tr style=\"text-align: right;\">\n      <th></th>\n      <th>Ticker</th>\n      <th>Date</th>\n      <th>Adj Close</th>\n    </tr>\n  </thead>\n  <tbody>\n    <tr>\n      <th>2769</th>\n      <td>AAPL</td>\n      <td>2020-12-31</td>\n      <td>132.690002</td>\n    </tr>\n    <tr>\n      <th>5549</th>\n      <td>JNJ</td>\n      <td>2020-12-31</td>\n      <td>157.380005</td>\n    </tr>\n    <tr>\n      <th>8329</th>\n      <td>MCD</td>\n      <td>2020-12-31</td>\n      <td>214.580002</td>\n    </tr>\n    <tr>\n      <th>11109</th>\n      <td>MTCH</td>\n      <td>2020-12-31</td>\n      <td>151.190002</td>\n    </tr>\n    <tr>\n      <th>13889</th>\n      <td>NFLX</td>\n      <td>2020-12-31</td>\n      <td>540.729980</td>\n    </tr>\n    <tr>\n      <th>16669</th>\n      <td>GOOG</td>\n      <td>2020-12-31</td>\n      <td>1751.880005</td>\n    </tr>\n    <tr>\n      <th>19449</th>\n      <td>WMT</td>\n      <td>2020-12-31</td>\n      <td>144.149994</td>\n    </tr>\n    <tr>\n      <th>21629</th>\n      <td>FB</td>\n      <td>2020-12-31</td>\n      <td>273.160004</td>\n    </tr>\n    <tr>\n      <th>23439</th>\n      <td>TWTR</td>\n      <td>2020-12-31</td>\n      <td>54.150002</td>\n    </tr>\n  </tbody>\n</table>\n</div>"
     },
     "metadata": {},
     "execution_count": 148
    }
   ],
   "source": [
    "# 작년 마지막 영업일과 같은 조정 종가를 가져와서 adj_close_start 에 저장 \n",
    "adj_close_start = adj_close[adj_close['Date']==end_of_last_year]\n",
    "adj_close_start"
   ]
  },
  {
   "cell_type": "code",
   "execution_count": 133,
   "metadata": {},
   "outputs": [
    {
     "output_type": "execute_result",
     "data": {
      "text/plain": [
       "      Ticker       Date    Adj Close\n",
       "2779    AAPL 2021-01-15   127.139999\n",
       "5559     JNJ 2021-01-15   160.300003\n",
       "8339     MCD 2021-01-15   209.910004\n",
       "11119   MTCH 2021-01-15   150.850006\n",
       "13899   NFLX 2021-01-15   497.980011\n",
       "16679   GOOG 2021-01-15  1736.189941\n",
       "19459    WMT 2021-01-15   144.639999\n",
       "21639     FB 2021-01-15   251.360001\n",
       "23449   TWTR 2021-01-15    45.180000"
      ],
      "text/html": "<div>\n<style scoped>\n    .dataframe tbody tr th:only-of-type {\n        vertical-align: middle;\n    }\n\n    .dataframe tbody tr th {\n        vertical-align: top;\n    }\n\n    .dataframe thead th {\n        text-align: right;\n    }\n</style>\n<table border=\"1\" class=\"dataframe\">\n  <thead>\n    <tr style=\"text-align: right;\">\n      <th></th>\n      <th>Ticker</th>\n      <th>Date</th>\n      <th>Adj Close</th>\n    </tr>\n  </thead>\n  <tbody>\n    <tr>\n      <th>2779</th>\n      <td>AAPL</td>\n      <td>2021-01-15</td>\n      <td>127.139999</td>\n    </tr>\n    <tr>\n      <th>5559</th>\n      <td>JNJ</td>\n      <td>2021-01-15</td>\n      <td>160.300003</td>\n    </tr>\n    <tr>\n      <th>8339</th>\n      <td>MCD</td>\n      <td>2021-01-15</td>\n      <td>209.910004</td>\n    </tr>\n    <tr>\n      <th>11119</th>\n      <td>MTCH</td>\n      <td>2021-01-15</td>\n      <td>150.850006</td>\n    </tr>\n    <tr>\n      <th>13899</th>\n      <td>NFLX</td>\n      <td>2021-01-15</td>\n      <td>497.980011</td>\n    </tr>\n    <tr>\n      <th>16679</th>\n      <td>GOOG</td>\n      <td>2021-01-15</td>\n      <td>1736.189941</td>\n    </tr>\n    <tr>\n      <th>19459</th>\n      <td>WMT</td>\n      <td>2021-01-15</td>\n      <td>144.639999</td>\n    </tr>\n    <tr>\n      <th>21639</th>\n      <td>FB</td>\n      <td>2021-01-15</td>\n      <td>251.360001</td>\n    </tr>\n    <tr>\n      <th>23449</th>\n      <td>TWTR</td>\n      <td>2021-01-15</td>\n      <td>45.180000</td>\n    </tr>\n  </tbody>\n</table>\n</div>"
     },
     "metadata": {},
     "execution_count": 133
    }
   ],
   "source": [
    "# Grab the latest stock close price\n",
    "# 최종 종가를 를 가져와서 adj_close_latest에 저장 \n",
    "adj_close_latest = adj_close[adj_close['Date']==stocks_end]\n",
    "adj_close_latest"
   ]
  },
  {
   "cell_type": "code",
   "execution_count": 134,
   "metadata": {},
   "outputs": [
    {
     "output_type": "execute_result",
     "data": {
      "text/plain": [
       "             Date    Adj Close\n",
       "Ticker                        \n",
       "AAPL   2021-01-15   127.139999\n",
       "JNJ    2021-01-15   160.300003\n",
       "MCD    2021-01-15   209.910004\n",
       "MTCH   2021-01-15   150.850006\n",
       "NFLX   2021-01-15   497.980011\n",
       "GOOG   2021-01-15  1736.189941\n",
       "WMT    2021-01-15   144.639999\n",
       "FB     2021-01-15   251.360001\n",
       "TWTR   2021-01-15    45.180000"
      ],
      "text/html": "<div>\n<style scoped>\n    .dataframe tbody tr th:only-of-type {\n        vertical-align: middle;\n    }\n\n    .dataframe tbody tr th {\n        vertical-align: top;\n    }\n\n    .dataframe thead th {\n        text-align: right;\n    }\n</style>\n<table border=\"1\" class=\"dataframe\">\n  <thead>\n    <tr style=\"text-align: right;\">\n      <th></th>\n      <th>Date</th>\n      <th>Adj Close</th>\n    </tr>\n    <tr>\n      <th>Ticker</th>\n      <th></th>\n      <th></th>\n    </tr>\n  </thead>\n  <tbody>\n    <tr>\n      <th>AAPL</th>\n      <td>2021-01-15</td>\n      <td>127.139999</td>\n    </tr>\n    <tr>\n      <th>JNJ</th>\n      <td>2021-01-15</td>\n      <td>160.300003</td>\n    </tr>\n    <tr>\n      <th>MCD</th>\n      <td>2021-01-15</td>\n      <td>209.910004</td>\n    </tr>\n    <tr>\n      <th>MTCH</th>\n      <td>2021-01-15</td>\n      <td>150.850006</td>\n    </tr>\n    <tr>\n      <th>NFLX</th>\n      <td>2021-01-15</td>\n      <td>497.980011</td>\n    </tr>\n    <tr>\n      <th>GOOG</th>\n      <td>2021-01-15</td>\n      <td>1736.189941</td>\n    </tr>\n    <tr>\n      <th>WMT</th>\n      <td>2021-01-15</td>\n      <td>144.639999</td>\n    </tr>\n    <tr>\n      <th>FB</th>\n      <td>2021-01-15</td>\n      <td>251.360001</td>\n    </tr>\n    <tr>\n      <th>TWTR</th>\n      <td>2021-01-15</td>\n      <td>45.180000</td>\n    </tr>\n  </tbody>\n</table>\n</div>"
     },
     "metadata": {},
     "execution_count": 134
    }
   ],
   "source": [
    "# 인덱스를 ticker로 \n",
    "adj_close_latest.set_index('Ticker', inplace=True)\n",
    "adj_close_latest"
   ]
  },
  {
   "cell_type": "code",
   "execution_count": 135,
   "metadata": {},
   "outputs": [
    {
     "output_type": "execute_result",
     "data": {
      "text/plain": [
       "  Acquisition Date Ticker  Quantity  Unit Cost  Cost Basis Start of Year\n",
       "0       2013-02-07   AAPL     125.0      65.40     8175.00    2017-12-29\n",
       "1       2014-02-27    JNJ     100.0      81.90     8190.00    2017-12-29\n",
       "2       2013-06-04    MCD     100.0      84.99     8499.00    2017-12-29\n",
       "3       2015-12-14   MTCH     600.0      13.63     8178.00    2017-12-29\n",
       "4       2016-01-14   NFLX      75.0     108.71     8153.25    2017-12-29"
      ],
      "text/html": "<div>\n<style scoped>\n    .dataframe tbody tr th:only-of-type {\n        vertical-align: middle;\n    }\n\n    .dataframe tbody tr th {\n        vertical-align: top;\n    }\n\n    .dataframe thead th {\n        text-align: right;\n    }\n</style>\n<table border=\"1\" class=\"dataframe\">\n  <thead>\n    <tr style=\"text-align: right;\">\n      <th></th>\n      <th>Acquisition Date</th>\n      <th>Ticker</th>\n      <th>Quantity</th>\n      <th>Unit Cost</th>\n      <th>Cost Basis</th>\n      <th>Start of Year</th>\n    </tr>\n  </thead>\n  <tbody>\n    <tr>\n      <th>0</th>\n      <td>2013-02-07</td>\n      <td>AAPL</td>\n      <td>125.0</td>\n      <td>65.40</td>\n      <td>8175.00</td>\n      <td>2017-12-29</td>\n    </tr>\n    <tr>\n      <th>1</th>\n      <td>2014-02-27</td>\n      <td>JNJ</td>\n      <td>100.0</td>\n      <td>81.90</td>\n      <td>8190.00</td>\n      <td>2017-12-29</td>\n    </tr>\n    <tr>\n      <th>2</th>\n      <td>2013-06-04</td>\n      <td>MCD</td>\n      <td>100.0</td>\n      <td>84.99</td>\n      <td>8499.00</td>\n      <td>2017-12-29</td>\n    </tr>\n    <tr>\n      <th>3</th>\n      <td>2015-12-14</td>\n      <td>MTCH</td>\n      <td>600.0</td>\n      <td>13.63</td>\n      <td>8178.00</td>\n      <td>2017-12-29</td>\n    </tr>\n    <tr>\n      <th>4</th>\n      <td>2016-01-14</td>\n      <td>NFLX</td>\n      <td>75.0</td>\n      <td>108.71</td>\n      <td>8153.25</td>\n      <td>2017-12-29</td>\n    </tr>\n  </tbody>\n</table>\n</div>"
     },
     "metadata": {},
     "execution_count": 135
    }
   ],
   "source": [
    "# 포트폴리오 셋팅 된 데이터를 가져온다.\n",
    "# portfolio_df = pd.read_excel('portfolio.xlsx')\n",
    "portfolio_df = pd.read_excel('Sample stocks acquisition dates_costs.xlsx')\n",
    "del portfolio_df['Unnamed: 6']\n",
    "del portfolio_df['Unnamed: 7']\n",
    "del portfolio_df['Unnamed: 8']\n",
    "del portfolio_df['Unnamed: 9']\n",
    "del portfolio_df['Unnamed: 10']\n",
    "\n",
    "portfolio_df.head()"
   ]
  },
  {
   "cell_type": "code",
   "execution_count": 136,
   "metadata": {},
   "outputs": [
    {
     "output_type": "execute_result",
     "data": {
      "text/plain": [
       "       Acquisition Date  Quantity  Unit Cost  Cost Basis Start of Year\n",
       "Ticker                                                                \n",
       "AAPL         2013-02-07     125.0      65.40     8175.00    2017-12-29\n",
       "JNJ          2014-02-27     100.0      81.90     8190.00    2017-12-29\n",
       "MCD          2013-06-04     100.0      84.99     8499.00    2017-12-29\n",
       "MTCH         2015-12-14     600.0      13.63     8178.00    2017-12-29\n",
       "NFLX         2016-01-14      75.0     108.71     8153.25    2017-12-29\n",
       "WMT          2013-08-14     125.0      68.30     8537.50    2017-12-29\n",
       "FB           2013-12-13     150.0      53.32     7998.00    2017-12-29\n",
       "TWTR         2015-01-05     225.0      36.38     8185.50    2017-12-29\n",
       "NaN                 NaT       NaN        NaN         NaN           NaT"
      ],
      "text/html": "<div>\n<style scoped>\n    .dataframe tbody tr th:only-of-type {\n        vertical-align: middle;\n    }\n\n    .dataframe tbody tr th {\n        vertical-align: top;\n    }\n\n    .dataframe thead th {\n        text-align: right;\n    }\n</style>\n<table border=\"1\" class=\"dataframe\">\n  <thead>\n    <tr style=\"text-align: right;\">\n      <th></th>\n      <th>Acquisition Date</th>\n      <th>Quantity</th>\n      <th>Unit Cost</th>\n      <th>Cost Basis</th>\n      <th>Start of Year</th>\n    </tr>\n    <tr>\n      <th>Ticker</th>\n      <th></th>\n      <th></th>\n      <th></th>\n      <th></th>\n      <th></th>\n    </tr>\n  </thead>\n  <tbody>\n    <tr>\n      <th>AAPL</th>\n      <td>2013-02-07</td>\n      <td>125.0</td>\n      <td>65.40</td>\n      <td>8175.00</td>\n      <td>2017-12-29</td>\n    </tr>\n    <tr>\n      <th>JNJ</th>\n      <td>2014-02-27</td>\n      <td>100.0</td>\n      <td>81.90</td>\n      <td>8190.00</td>\n      <td>2017-12-29</td>\n    </tr>\n    <tr>\n      <th>MCD</th>\n      <td>2013-06-04</td>\n      <td>100.0</td>\n      <td>84.99</td>\n      <td>8499.00</td>\n      <td>2017-12-29</td>\n    </tr>\n    <tr>\n      <th>MTCH</th>\n      <td>2015-12-14</td>\n      <td>600.0</td>\n      <td>13.63</td>\n      <td>8178.00</td>\n      <td>2017-12-29</td>\n    </tr>\n    <tr>\n      <th>NFLX</th>\n      <td>2016-01-14</td>\n      <td>75.0</td>\n      <td>108.71</td>\n      <td>8153.25</td>\n      <td>2017-12-29</td>\n    </tr>\n    <tr>\n      <th>WMT</th>\n      <td>2013-08-14</td>\n      <td>125.0</td>\n      <td>68.30</td>\n      <td>8537.50</td>\n      <td>2017-12-29</td>\n    </tr>\n    <tr>\n      <th>FB</th>\n      <td>2013-12-13</td>\n      <td>150.0</td>\n      <td>53.32</td>\n      <td>7998.00</td>\n      <td>2017-12-29</td>\n    </tr>\n    <tr>\n      <th>TWTR</th>\n      <td>2015-01-05</td>\n      <td>225.0</td>\n      <td>36.38</td>\n      <td>8185.50</td>\n      <td>2017-12-29</td>\n    </tr>\n    <tr>\n      <th>NaN</th>\n      <td>NaT</td>\n      <td>NaN</td>\n      <td>NaN</td>\n      <td>NaN</td>\n      <td>NaT</td>\n    </tr>\n  </tbody>\n</table>\n</div>"
     },
     "metadata": {},
     "execution_count": 136
    }
   ],
   "source": [
    "# 인덱스를 ticker 로\n",
    "portfolio_df.set_index('Ticker', inplace=True)\n",
    "portfolio_df"
   ]
  },
  {
   "cell_type": "code",
   "execution_count": 137,
   "metadata": {},
   "outputs": [
    {
     "output_type": "execute_result",
     "data": {
      "text/plain": [
       "       Acquisition Date  Quantity  Unit Cost  Cost Basis Start of Year  \\\n",
       "Ticker                                                                   \n",
       "AAPL         2013-02-07     125.0      65.40     8175.00    2017-12-29   \n",
       "JNJ          2014-02-27     100.0      81.90     8190.00    2017-12-29   \n",
       "MCD          2013-06-04     100.0      84.99     8499.00    2017-12-29   \n",
       "MTCH         2015-12-14     600.0      13.63     8178.00    2017-12-29   \n",
       "NFLX         2016-01-14      75.0     108.71     8153.25    2017-12-29   \n",
       "WMT          2013-08-14     125.0      68.30     8537.50    2017-12-29   \n",
       "FB           2013-12-13     150.0      53.32     7998.00    2017-12-29   \n",
       "TWTR         2015-01-05     225.0      36.38     8185.50    2017-12-29   \n",
       "\n",
       "             Date   Adj Close  \n",
       "Ticker                         \n",
       "AAPL   2021-01-15  127.139999  \n",
       "JNJ    2021-01-15  160.300003  \n",
       "MCD    2021-01-15  209.910004  \n",
       "MTCH   2021-01-15  150.850006  \n",
       "NFLX   2021-01-15  497.980011  \n",
       "WMT    2021-01-15  144.639999  \n",
       "FB     2021-01-15  251.360001  \n",
       "TWTR   2021-01-15   45.180000  "
      ],
      "text/html": "<div>\n<style scoped>\n    .dataframe tbody tr th:only-of-type {\n        vertical-align: middle;\n    }\n\n    .dataframe tbody tr th {\n        vertical-align: top;\n    }\n\n    .dataframe thead th {\n        text-align: right;\n    }\n</style>\n<table border=\"1\" class=\"dataframe\">\n  <thead>\n    <tr style=\"text-align: right;\">\n      <th></th>\n      <th>Acquisition Date</th>\n      <th>Quantity</th>\n      <th>Unit Cost</th>\n      <th>Cost Basis</th>\n      <th>Start of Year</th>\n      <th>Date</th>\n      <th>Adj Close</th>\n    </tr>\n    <tr>\n      <th>Ticker</th>\n      <th></th>\n      <th></th>\n      <th></th>\n      <th></th>\n      <th></th>\n      <th></th>\n      <th></th>\n    </tr>\n  </thead>\n  <tbody>\n    <tr>\n      <th>AAPL</th>\n      <td>2013-02-07</td>\n      <td>125.0</td>\n      <td>65.40</td>\n      <td>8175.00</td>\n      <td>2017-12-29</td>\n      <td>2021-01-15</td>\n      <td>127.139999</td>\n    </tr>\n    <tr>\n      <th>JNJ</th>\n      <td>2014-02-27</td>\n      <td>100.0</td>\n      <td>81.90</td>\n      <td>8190.00</td>\n      <td>2017-12-29</td>\n      <td>2021-01-15</td>\n      <td>160.300003</td>\n    </tr>\n    <tr>\n      <th>MCD</th>\n      <td>2013-06-04</td>\n      <td>100.0</td>\n      <td>84.99</td>\n      <td>8499.00</td>\n      <td>2017-12-29</td>\n      <td>2021-01-15</td>\n      <td>209.910004</td>\n    </tr>\n    <tr>\n      <th>MTCH</th>\n      <td>2015-12-14</td>\n      <td>600.0</td>\n      <td>13.63</td>\n      <td>8178.00</td>\n      <td>2017-12-29</td>\n      <td>2021-01-15</td>\n      <td>150.850006</td>\n    </tr>\n    <tr>\n      <th>NFLX</th>\n      <td>2016-01-14</td>\n      <td>75.0</td>\n      <td>108.71</td>\n      <td>8153.25</td>\n      <td>2017-12-29</td>\n      <td>2021-01-15</td>\n      <td>497.980011</td>\n    </tr>\n    <tr>\n      <th>WMT</th>\n      <td>2013-08-14</td>\n      <td>125.0</td>\n      <td>68.30</td>\n      <td>8537.50</td>\n      <td>2017-12-29</td>\n      <td>2021-01-15</td>\n      <td>144.639999</td>\n    </tr>\n    <tr>\n      <th>FB</th>\n      <td>2013-12-13</td>\n      <td>150.0</td>\n      <td>53.32</td>\n      <td>7998.00</td>\n      <td>2017-12-29</td>\n      <td>2021-01-15</td>\n      <td>251.360001</td>\n    </tr>\n    <tr>\n      <th>TWTR</th>\n      <td>2015-01-05</td>\n      <td>225.0</td>\n      <td>36.38</td>\n      <td>8185.50</td>\n      <td>2017-12-29</td>\n      <td>2021-01-15</td>\n      <td>45.180000</td>\n    </tr>\n  </tbody>\n</table>\n</div>"
     },
     "metadata": {},
     "execution_count": 137
    }
   ],
   "source": [
    "# Merge the portfolio dataframe with the adj close dataframe; they are being joined by their indexes.\n",
    "# 포트폴리오 데이터와 최종 조정 종가를 합친다. \n",
    "merged_portfolio = pd.merge(portfolio_df, adj_close_latest, left_index=True, right_index=True)\n",
    "merged_portfolio"
   ]
  },
  {
   "cell_type": "code",
   "execution_count": 138,
   "metadata": {},
   "outputs": [
    {
     "output_type": "execute_result",
     "data": {
      "text/plain": [
       "       Acquisition Date  Quantity  Unit Cost  Cost Basis Start of Year  \\\n",
       "Ticker                                                                   \n",
       "AAPL         2013-02-07     125.0      65.40     8175.00    2017-12-29   \n",
       "JNJ          2014-02-27     100.0      81.90     8190.00    2017-12-29   \n",
       "MCD          2013-06-04     100.0      84.99     8499.00    2017-12-29   \n",
       "MTCH         2015-12-14     600.0      13.63     8178.00    2017-12-29   \n",
       "NFLX         2016-01-14      75.0     108.71     8153.25    2017-12-29   \n",
       "WMT          2013-08-14     125.0      68.30     8537.50    2017-12-29   \n",
       "FB           2013-12-13     150.0      53.32     7998.00    2017-12-29   \n",
       "TWTR         2015-01-05     225.0      36.38     8185.50    2017-12-29   \n",
       "\n",
       "             Date   Adj Close  ticker return  \n",
       "Ticker                                        \n",
       "AAPL   2021-01-15  127.139999       0.944037  \n",
       "JNJ    2021-01-15  160.300003       0.957265  \n",
       "MCD    2021-01-15  209.910004       1.469820  \n",
       "MTCH   2021-01-15  150.850006      10.067499  \n",
       "NFLX   2021-01-15  497.980011       3.580811  \n",
       "WMT    2021-01-15  144.639999       1.117716  \n",
       "FB     2021-01-15  251.360001       3.714179  \n",
       "TWTR   2021-01-15   45.180000       0.241891  "
      ],
      "text/html": "<div>\n<style scoped>\n    .dataframe tbody tr th:only-of-type {\n        vertical-align: middle;\n    }\n\n    .dataframe tbody tr th {\n        vertical-align: top;\n    }\n\n    .dataframe thead th {\n        text-align: right;\n    }\n</style>\n<table border=\"1\" class=\"dataframe\">\n  <thead>\n    <tr style=\"text-align: right;\">\n      <th></th>\n      <th>Acquisition Date</th>\n      <th>Quantity</th>\n      <th>Unit Cost</th>\n      <th>Cost Basis</th>\n      <th>Start of Year</th>\n      <th>Date</th>\n      <th>Adj Close</th>\n      <th>ticker return</th>\n    </tr>\n    <tr>\n      <th>Ticker</th>\n      <th></th>\n      <th></th>\n      <th></th>\n      <th></th>\n      <th></th>\n      <th></th>\n      <th></th>\n      <th></th>\n    </tr>\n  </thead>\n  <tbody>\n    <tr>\n      <th>AAPL</th>\n      <td>2013-02-07</td>\n      <td>125.0</td>\n      <td>65.40</td>\n      <td>8175.00</td>\n      <td>2017-12-29</td>\n      <td>2021-01-15</td>\n      <td>127.139999</td>\n      <td>0.944037</td>\n    </tr>\n    <tr>\n      <th>JNJ</th>\n      <td>2014-02-27</td>\n      <td>100.0</td>\n      <td>81.90</td>\n      <td>8190.00</td>\n      <td>2017-12-29</td>\n      <td>2021-01-15</td>\n      <td>160.300003</td>\n      <td>0.957265</td>\n    </tr>\n    <tr>\n      <th>MCD</th>\n      <td>2013-06-04</td>\n      <td>100.0</td>\n      <td>84.99</td>\n      <td>8499.00</td>\n      <td>2017-12-29</td>\n      <td>2021-01-15</td>\n      <td>209.910004</td>\n      <td>1.469820</td>\n    </tr>\n    <tr>\n      <th>MTCH</th>\n      <td>2015-12-14</td>\n      <td>600.0</td>\n      <td>13.63</td>\n      <td>8178.00</td>\n      <td>2017-12-29</td>\n      <td>2021-01-15</td>\n      <td>150.850006</td>\n      <td>10.067499</td>\n    </tr>\n    <tr>\n      <th>NFLX</th>\n      <td>2016-01-14</td>\n      <td>75.0</td>\n      <td>108.71</td>\n      <td>8153.25</td>\n      <td>2017-12-29</td>\n      <td>2021-01-15</td>\n      <td>497.980011</td>\n      <td>3.580811</td>\n    </tr>\n    <tr>\n      <th>WMT</th>\n      <td>2013-08-14</td>\n      <td>125.0</td>\n      <td>68.30</td>\n      <td>8537.50</td>\n      <td>2017-12-29</td>\n      <td>2021-01-15</td>\n      <td>144.639999</td>\n      <td>1.117716</td>\n    </tr>\n    <tr>\n      <th>FB</th>\n      <td>2013-12-13</td>\n      <td>150.0</td>\n      <td>53.32</td>\n      <td>7998.00</td>\n      <td>2017-12-29</td>\n      <td>2021-01-15</td>\n      <td>251.360001</td>\n      <td>3.714179</td>\n    </tr>\n    <tr>\n      <th>TWTR</th>\n      <td>2015-01-05</td>\n      <td>225.0</td>\n      <td>36.38</td>\n      <td>8185.50</td>\n      <td>2017-12-29</td>\n      <td>2021-01-15</td>\n      <td>45.180000</td>\n      <td>0.241891</td>\n    </tr>\n  </tbody>\n</table>\n</div>"
     },
     "metadata": {},
     "execution_count": 138
    }
   ],
   "source": [
    "# ticker별 수익율 컬럼(열)을 추가한다. 각 ticker별 최종 조정된 종가를 구매시 1주당 가격으로 나누고 -1을 해서 수익율을 구한 다음 'ticker return' 열에 할당한다. \n",
    "merged_portfolio['ticker return'] = merged_portfolio['Adj Close'] / merged_portfolio['Unit Cost'] -1 \n",
    "merged_portfolio"
   ]
  },
  {
   "cell_type": "code",
   "execution_count": 149,
   "metadata": {},
   "outputs": [
    {
     "output_type": "execute_result",
     "data": {
      "text/plain": [
       "   index Ticker Acquisition Date  Quantity  Unit Cost  Cost Basis  \\\n",
       "0      0   AAPL       2013-02-07     125.0      65.40     8175.00   \n",
       "1      1    JNJ       2014-02-27     100.0      81.90     8190.00   \n",
       "2      2    MCD       2013-06-04     100.0      84.99     8499.00   \n",
       "3      3   MTCH       2015-12-14     600.0      13.63     8178.00   \n",
       "4      4   NFLX       2016-01-14      75.0     108.71     8153.25   \n",
       "5      5    WMT       2013-08-14     125.0      68.30     8537.50   \n",
       "6      6     FB       2013-12-13     150.0      53.32     7998.00   \n",
       "7      7   TWTR       2015-01-05     225.0      36.38     8185.50   \n",
       "\n",
       "  Start of Year       Date   Adj Close  ticker return  \n",
       "0    2017-12-29 2021-01-15  127.139999       0.944037  \n",
       "1    2017-12-29 2021-01-15  160.300003       0.957265  \n",
       "2    2017-12-29 2021-01-15  209.910004       1.469820  \n",
       "3    2017-12-29 2021-01-15  150.850006      10.067499  \n",
       "4    2017-12-29 2021-01-15  497.980011       3.580811  \n",
       "5    2017-12-29 2021-01-15  144.639999       1.117716  \n",
       "6    2017-12-29 2021-01-15  251.360001       3.714179  \n",
       "7    2017-12-29 2021-01-15   45.180000       0.241891  "
      ],
      "text/html": "<div>\n<style scoped>\n    .dataframe tbody tr th:only-of-type {\n        vertical-align: middle;\n    }\n\n    .dataframe tbody tr th {\n        vertical-align: top;\n    }\n\n    .dataframe thead th {\n        text-align: right;\n    }\n</style>\n<table border=\"1\" class=\"dataframe\">\n  <thead>\n    <tr style=\"text-align: right;\">\n      <th></th>\n      <th>index</th>\n      <th>Ticker</th>\n      <th>Acquisition Date</th>\n      <th>Quantity</th>\n      <th>Unit Cost</th>\n      <th>Cost Basis</th>\n      <th>Start of Year</th>\n      <th>Date</th>\n      <th>Adj Close</th>\n      <th>ticker return</th>\n    </tr>\n  </thead>\n  <tbody>\n    <tr>\n      <th>0</th>\n      <td>0</td>\n      <td>AAPL</td>\n      <td>2013-02-07</td>\n      <td>125.0</td>\n      <td>65.40</td>\n      <td>8175.00</td>\n      <td>2017-12-29</td>\n      <td>2021-01-15</td>\n      <td>127.139999</td>\n      <td>0.944037</td>\n    </tr>\n    <tr>\n      <th>1</th>\n      <td>1</td>\n      <td>JNJ</td>\n      <td>2014-02-27</td>\n      <td>100.0</td>\n      <td>81.90</td>\n      <td>8190.00</td>\n      <td>2017-12-29</td>\n      <td>2021-01-15</td>\n      <td>160.300003</td>\n      <td>0.957265</td>\n    </tr>\n    <tr>\n      <th>2</th>\n      <td>2</td>\n      <td>MCD</td>\n      <td>2013-06-04</td>\n      <td>100.0</td>\n      <td>84.99</td>\n      <td>8499.00</td>\n      <td>2017-12-29</td>\n      <td>2021-01-15</td>\n      <td>209.910004</td>\n      <td>1.469820</td>\n    </tr>\n    <tr>\n      <th>3</th>\n      <td>3</td>\n      <td>MTCH</td>\n      <td>2015-12-14</td>\n      <td>600.0</td>\n      <td>13.63</td>\n      <td>8178.00</td>\n      <td>2017-12-29</td>\n      <td>2021-01-15</td>\n      <td>150.850006</td>\n      <td>10.067499</td>\n    </tr>\n    <tr>\n      <th>4</th>\n      <td>4</td>\n      <td>NFLX</td>\n      <td>2016-01-14</td>\n      <td>75.0</td>\n      <td>108.71</td>\n      <td>8153.25</td>\n      <td>2017-12-29</td>\n      <td>2021-01-15</td>\n      <td>497.980011</td>\n      <td>3.580811</td>\n    </tr>\n    <tr>\n      <th>5</th>\n      <td>5</td>\n      <td>WMT</td>\n      <td>2013-08-14</td>\n      <td>125.0</td>\n      <td>68.30</td>\n      <td>8537.50</td>\n      <td>2017-12-29</td>\n      <td>2021-01-15</td>\n      <td>144.639999</td>\n      <td>1.117716</td>\n    </tr>\n    <tr>\n      <th>6</th>\n      <td>6</td>\n      <td>FB</td>\n      <td>2013-12-13</td>\n      <td>150.0</td>\n      <td>53.32</td>\n      <td>7998.00</td>\n      <td>2017-12-29</td>\n      <td>2021-01-15</td>\n      <td>251.360001</td>\n      <td>3.714179</td>\n    </tr>\n    <tr>\n      <th>7</th>\n      <td>7</td>\n      <td>TWTR</td>\n      <td>2015-01-05</td>\n      <td>225.0</td>\n      <td>36.38</td>\n      <td>8185.50</td>\n      <td>2017-12-29</td>\n      <td>2021-01-15</td>\n      <td>45.180000</td>\n      <td>0.241891</td>\n    </tr>\n  </tbody>\n</table>\n</div>"
     },
     "metadata": {},
     "execution_count": 149
    }
   ],
   "source": [
    "merged_portfolio.reset_index(inplace=True) # 인덱스를 리셋한다.\n",
    "merged_portfolio"
   ]
  },
  {
   "cell_type": "code",
   "execution_count": 150,
   "metadata": {},
   "outputs": [
    {
     "output_type": "execute_result",
     "data": {
      "text/plain": [
       "Date\n",
       "2009-12-31    1115.099976\n",
       "2010-01-04    1132.989990\n",
       "2010-01-05    1136.520020\n",
       "2010-01-06    1137.140015\n",
       "2010-01-07    1141.689941\n",
       "                 ...     \n",
       "2021-01-11    3799.610107\n",
       "2021-01-12    3801.189941\n",
       "2021-01-13    3809.840088\n",
       "2021-01-14    3795.540039\n",
       "2021-01-15    3768.250000\n",
       "Name: Adj Close, Length: 2780, dtype: float64"
      ]
     },
     "metadata": {},
     "execution_count": 150
    }
   ],
   "source": [
    "#sp500 데이터에서 날짜와 조정 종가를 빼서 데이터 프레임을 구성한다. \n",
    "\n",
    "sp_500_adj_close = sp500['Adj Close']\n",
    "sp_500_adj_close \n"
   ]
  },
  {
   "cell_type": "code",
   "execution_count": 151,
   "metadata": {},
   "outputs": [
    {
     "output_type": "stream",
     "name": "stdout",
     "text": [
      "<class 'pandas.core.frame.DataFrame'>\nDatetimeIndex: 2780 entries, 2009-12-31 to 2021-01-15\nData columns (total 6 columns):\n #   Column     Non-Null Count  Dtype  \n---  ------     --------------  -----  \n 0   High       2780 non-null   float64\n 1   Low        2780 non-null   float64\n 2   Open       2780 non-null   float64\n 3   Close      2780 non-null   float64\n 4   Volume     2780 non-null   int64  \n 5   Adj Close  2780 non-null   float64\ndtypes: float64(5), int64(1)\nmemory usage: 216.6 KB\n"
     ]
    },
    {
     "output_type": "execute_result",
     "data": {
      "text/plain": [
       "DatetimeIndex(['2009-12-31', '2010-01-04', '2010-01-05', '2010-01-06',\n",
       "               '2010-01-07', '2010-01-08', '2010-01-11', '2010-01-12',\n",
       "               '2010-01-13', '2010-01-14',\n",
       "               ...\n",
       "               '2021-01-04', '2021-01-05', '2021-01-06', '2021-01-07',\n",
       "               '2021-01-08', '2021-01-11', '2021-01-12', '2021-01-13',\n",
       "               '2021-01-14', '2021-01-15'],\n",
       "              dtype='datetime64[ns]', name='Date', length=2780, freq=None)"
      ]
     },
     "metadata": {},
     "execution_count": 151
    }
   ],
   "source": [
    "sp500.info()\n",
    "sp500.index\n"
   ]
  },
  {
   "cell_type": "code",
   "execution_count": 152,
   "metadata": {},
   "outputs": [
    {
     "output_type": "execute_result",
     "data": {
      "text/plain": [
       "                   High         Low         Open        Close      Volume  \\\n",
       "Date                                                                        \n",
       "2015-12-14  2022.920044  1993.26001  2013.369995  2021.939941  4612440000   \n",
       "\n",
       "              Adj Close  \n",
       "Date                     \n",
       "2015-12-14  2021.939941  "
      ],
      "text/html": "<div>\n<style scoped>\n    .dataframe tbody tr th:only-of-type {\n        vertical-align: middle;\n    }\n\n    .dataframe tbody tr th {\n        vertical-align: top;\n    }\n\n    .dataframe thead th {\n        text-align: right;\n    }\n</style>\n<table border=\"1\" class=\"dataframe\">\n  <thead>\n    <tr style=\"text-align: right;\">\n      <th></th>\n      <th>High</th>\n      <th>Low</th>\n      <th>Open</th>\n      <th>Close</th>\n      <th>Volume</th>\n      <th>Adj Close</th>\n    </tr>\n    <tr>\n      <th>Date</th>\n      <th></th>\n      <th></th>\n      <th></th>\n      <th></th>\n      <th></th>\n      <th></th>\n    </tr>\n  </thead>\n  <tbody>\n    <tr>\n      <th>2015-12-14</th>\n      <td>2022.920044</td>\n      <td>1993.26001</td>\n      <td>2013.369995</td>\n      <td>2021.939941</td>\n      <td>4612440000</td>\n      <td>2021.939941</td>\n    </tr>\n  </tbody>\n</table>\n</div>"
     },
     "metadata": {},
     "execution_count": 152
    }
   ],
   "source": [
    "sp500['2015-12-14':'2015-12-14']"
   ]
  },
  {
   "cell_type": "code",
   "execution_count": 154,
   "metadata": {},
   "outputs": [
    {
     "output_type": "execute_result",
     "data": {
      "text/plain": [
       "   index Ticker Acquisition Date  Quantity  Unit Cost  Cost Basis  \\\n",
       "0      0   AAPL       2013-02-07     125.0      65.40     8175.00   \n",
       "1      1    JNJ       2014-02-27     100.0      81.90     8190.00   \n",
       "2      2    MCD       2013-06-04     100.0      84.99     8499.00   \n",
       "3      3   MTCH       2015-12-14     600.0      13.63     8178.00   \n",
       "4      4   NFLX       2016-01-14      75.0     108.71     8153.25   \n",
       "5      5    WMT       2013-08-14     125.0      68.30     8537.50   \n",
       "6      6     FB       2013-12-13     150.0      53.32     7998.00   \n",
       "7      7   TWTR       2015-01-05     225.0      36.38     8185.50   \n",
       "\n",
       "  Start of Year       Date  Adj Close_x  ticker return  Adj Close_y  \n",
       "0    2017-12-29 2021-01-15   127.139999       0.944037  1509.390015  \n",
       "1    2017-12-29 2021-01-15   160.300003       0.957265  1854.290039  \n",
       "2    2017-12-29 2021-01-15   209.910004       1.469820  1631.380005  \n",
       "3    2017-12-29 2021-01-15   150.850006      10.067499  2021.939941  \n",
       "4    2017-12-29 2021-01-15   497.980011       3.580811  1921.839966  \n",
       "5    2017-12-29 2021-01-15   144.639999       1.117716  1685.390015  \n",
       "6    2017-12-29 2021-01-15   251.360001       3.714179  1775.319946  \n",
       "7    2017-12-29 2021-01-15    45.180000       0.241891  2020.579956  "
      ],
      "text/html": "<div>\n<style scoped>\n    .dataframe tbody tr th:only-of-type {\n        vertical-align: middle;\n    }\n\n    .dataframe tbody tr th {\n        vertical-align: top;\n    }\n\n    .dataframe thead th {\n        text-align: right;\n    }\n</style>\n<table border=\"1\" class=\"dataframe\">\n  <thead>\n    <tr style=\"text-align: right;\">\n      <th></th>\n      <th>index</th>\n      <th>Ticker</th>\n      <th>Acquisition Date</th>\n      <th>Quantity</th>\n      <th>Unit Cost</th>\n      <th>Cost Basis</th>\n      <th>Start of Year</th>\n      <th>Date</th>\n      <th>Adj Close_x</th>\n      <th>ticker return</th>\n      <th>Adj Close_y</th>\n    </tr>\n  </thead>\n  <tbody>\n    <tr>\n      <th>0</th>\n      <td>0</td>\n      <td>AAPL</td>\n      <td>2013-02-07</td>\n      <td>125.0</td>\n      <td>65.40</td>\n      <td>8175.00</td>\n      <td>2017-12-29</td>\n      <td>2021-01-15</td>\n      <td>127.139999</td>\n      <td>0.944037</td>\n      <td>1509.390015</td>\n    </tr>\n    <tr>\n      <th>1</th>\n      <td>1</td>\n      <td>JNJ</td>\n      <td>2014-02-27</td>\n      <td>100.0</td>\n      <td>81.90</td>\n      <td>8190.00</td>\n      <td>2017-12-29</td>\n      <td>2021-01-15</td>\n      <td>160.300003</td>\n      <td>0.957265</td>\n      <td>1854.290039</td>\n    </tr>\n    <tr>\n      <th>2</th>\n      <td>2</td>\n      <td>MCD</td>\n      <td>2013-06-04</td>\n      <td>100.0</td>\n      <td>84.99</td>\n      <td>8499.00</td>\n      <td>2017-12-29</td>\n      <td>2021-01-15</td>\n      <td>209.910004</td>\n      <td>1.469820</td>\n      <td>1631.380005</td>\n    </tr>\n    <tr>\n      <th>3</th>\n      <td>3</td>\n      <td>MTCH</td>\n      <td>2015-12-14</td>\n      <td>600.0</td>\n      <td>13.63</td>\n      <td>8178.00</td>\n      <td>2017-12-29</td>\n      <td>2021-01-15</td>\n      <td>150.850006</td>\n      <td>10.067499</td>\n      <td>2021.939941</td>\n    </tr>\n    <tr>\n      <th>4</th>\n      <td>4</td>\n      <td>NFLX</td>\n      <td>2016-01-14</td>\n      <td>75.0</td>\n      <td>108.71</td>\n      <td>8153.25</td>\n      <td>2017-12-29</td>\n      <td>2021-01-15</td>\n      <td>497.980011</td>\n      <td>3.580811</td>\n      <td>1921.839966</td>\n    </tr>\n    <tr>\n      <th>5</th>\n      <td>5</td>\n      <td>WMT</td>\n      <td>2013-08-14</td>\n      <td>125.0</td>\n      <td>68.30</td>\n      <td>8537.50</td>\n      <td>2017-12-29</td>\n      <td>2021-01-15</td>\n      <td>144.639999</td>\n      <td>1.117716</td>\n      <td>1685.390015</td>\n    </tr>\n    <tr>\n      <th>6</th>\n      <td>6</td>\n      <td>FB</td>\n      <td>2013-12-13</td>\n      <td>150.0</td>\n      <td>53.32</td>\n      <td>7998.00</td>\n      <td>2017-12-29</td>\n      <td>2021-01-15</td>\n      <td>251.360001</td>\n      <td>3.714179</td>\n      <td>1775.319946</td>\n    </tr>\n    <tr>\n      <th>7</th>\n      <td>7</td>\n      <td>TWTR</td>\n      <td>2015-01-05</td>\n      <td>225.0</td>\n      <td>36.38</td>\n      <td>8185.50</td>\n      <td>2017-12-29</td>\n      <td>2021-01-15</td>\n      <td>45.180000</td>\n      <td>0.241891</td>\n      <td>2020.579956</td>\n    </tr>\n  </tbody>\n</table>\n</div>"
     },
     "metadata": {},
     "execution_count": 154
    }
   ],
   "source": [
    "#sp500 데이터에서 포트폴리오 주식 취득 날짜와 같은 종가를 추가한다.\n",
    "merged_portfolio_sp = pd.merge(merged_portfolio, sp_500_adj_close, left_on='Acquisition Date', right_on='Date')\n",
    "merged_portfolio_sp"
   ]
  },
  {
   "cell_type": "code",
   "execution_count": 155,
   "metadata": {},
   "outputs": [],
   "source": [
    "# We will delete the additional date column which is created from this merge.\n",
    "# We then rename columns to Latest Date and then reflect Ticker Adj Close and SP 500 Initial Close.\n",
    "\n",
    "# def merged_portfolio_sp['Date_y']"
   ]
  },
  {
   "cell_type": "code",
   "execution_count": 156,
   "metadata": {},
   "outputs": [],
   "source": [
    "merged_portfolio_sp.rename(columns={'Date': 'Latest Date', 'Adj Close_x': 'Ticker Adj Close'\n",
    "                                    , 'Adj Close_y': 'SP 500 Initial Close'}, inplace=True)"
   ]
  },
  {
   "cell_type": "code",
   "execution_count": 157,
   "metadata": {},
   "outputs": [
    {
     "output_type": "execute_result",
     "data": {
      "text/plain": [
       "   index Ticker Acquisition Date  Quantity  Unit Cost  Cost Basis  \\\n",
       "0      0   AAPL       2013-02-07     125.0      65.40     8175.00   \n",
       "1      1    JNJ       2014-02-27     100.0      81.90     8190.00   \n",
       "2      2    MCD       2013-06-04     100.0      84.99     8499.00   \n",
       "3      3   MTCH       2015-12-14     600.0      13.63     8178.00   \n",
       "4      4   NFLX       2016-01-14      75.0     108.71     8153.25   \n",
       "5      5    WMT       2013-08-14     125.0      68.30     8537.50   \n",
       "6      6     FB       2013-12-13     150.0      53.32     7998.00   \n",
       "7      7   TWTR       2015-01-05     225.0      36.38     8185.50   \n",
       "\n",
       "  Start of Year Latest Date  Ticker Adj Close  ticker return  \\\n",
       "0    2017-12-29  2021-01-15        127.139999       0.944037   \n",
       "1    2017-12-29  2021-01-15        160.300003       0.957265   \n",
       "2    2017-12-29  2021-01-15        209.910004       1.469820   \n",
       "3    2017-12-29  2021-01-15        150.850006      10.067499   \n",
       "4    2017-12-29  2021-01-15        497.980011       3.580811   \n",
       "5    2017-12-29  2021-01-15        144.639999       1.117716   \n",
       "6    2017-12-29  2021-01-15        251.360001       3.714179   \n",
       "7    2017-12-29  2021-01-15         45.180000       0.241891   \n",
       "\n",
       "   SP 500 Initial Close  \n",
       "0           1509.390015  \n",
       "1           1854.290039  \n",
       "2           1631.380005  \n",
       "3           2021.939941  \n",
       "4           1921.839966  \n",
       "5           1685.390015  \n",
       "6           1775.319946  \n",
       "7           2020.579956  "
      ],
      "text/html": "<div>\n<style scoped>\n    .dataframe tbody tr th:only-of-type {\n        vertical-align: middle;\n    }\n\n    .dataframe tbody tr th {\n        vertical-align: top;\n    }\n\n    .dataframe thead th {\n        text-align: right;\n    }\n</style>\n<table border=\"1\" class=\"dataframe\">\n  <thead>\n    <tr style=\"text-align: right;\">\n      <th></th>\n      <th>index</th>\n      <th>Ticker</th>\n      <th>Acquisition Date</th>\n      <th>Quantity</th>\n      <th>Unit Cost</th>\n      <th>Cost Basis</th>\n      <th>Start of Year</th>\n      <th>Latest Date</th>\n      <th>Ticker Adj Close</th>\n      <th>ticker return</th>\n      <th>SP 500 Initial Close</th>\n    </tr>\n  </thead>\n  <tbody>\n    <tr>\n      <th>0</th>\n      <td>0</td>\n      <td>AAPL</td>\n      <td>2013-02-07</td>\n      <td>125.0</td>\n      <td>65.40</td>\n      <td>8175.00</td>\n      <td>2017-12-29</td>\n      <td>2021-01-15</td>\n      <td>127.139999</td>\n      <td>0.944037</td>\n      <td>1509.390015</td>\n    </tr>\n    <tr>\n      <th>1</th>\n      <td>1</td>\n      <td>JNJ</td>\n      <td>2014-02-27</td>\n      <td>100.0</td>\n      <td>81.90</td>\n      <td>8190.00</td>\n      <td>2017-12-29</td>\n      <td>2021-01-15</td>\n      <td>160.300003</td>\n      <td>0.957265</td>\n      <td>1854.290039</td>\n    </tr>\n    <tr>\n      <th>2</th>\n      <td>2</td>\n      <td>MCD</td>\n      <td>2013-06-04</td>\n      <td>100.0</td>\n      <td>84.99</td>\n      <td>8499.00</td>\n      <td>2017-12-29</td>\n      <td>2021-01-15</td>\n      <td>209.910004</td>\n      <td>1.469820</td>\n      <td>1631.380005</td>\n    </tr>\n    <tr>\n      <th>3</th>\n      <td>3</td>\n      <td>MTCH</td>\n      <td>2015-12-14</td>\n      <td>600.0</td>\n      <td>13.63</td>\n      <td>8178.00</td>\n      <td>2017-12-29</td>\n      <td>2021-01-15</td>\n      <td>150.850006</td>\n      <td>10.067499</td>\n      <td>2021.939941</td>\n    </tr>\n    <tr>\n      <th>4</th>\n      <td>4</td>\n      <td>NFLX</td>\n      <td>2016-01-14</td>\n      <td>75.0</td>\n      <td>108.71</td>\n      <td>8153.25</td>\n      <td>2017-12-29</td>\n      <td>2021-01-15</td>\n      <td>497.980011</td>\n      <td>3.580811</td>\n      <td>1921.839966</td>\n    </tr>\n    <tr>\n      <th>5</th>\n      <td>5</td>\n      <td>WMT</td>\n      <td>2013-08-14</td>\n      <td>125.0</td>\n      <td>68.30</td>\n      <td>8537.50</td>\n      <td>2017-12-29</td>\n      <td>2021-01-15</td>\n      <td>144.639999</td>\n      <td>1.117716</td>\n      <td>1685.390015</td>\n    </tr>\n    <tr>\n      <th>6</th>\n      <td>6</td>\n      <td>FB</td>\n      <td>2013-12-13</td>\n      <td>150.0</td>\n      <td>53.32</td>\n      <td>7998.00</td>\n      <td>2017-12-29</td>\n      <td>2021-01-15</td>\n      <td>251.360001</td>\n      <td>3.714179</td>\n      <td>1775.319946</td>\n    </tr>\n    <tr>\n      <th>7</th>\n      <td>7</td>\n      <td>TWTR</td>\n      <td>2015-01-05</td>\n      <td>225.0</td>\n      <td>36.38</td>\n      <td>8185.50</td>\n      <td>2017-12-29</td>\n      <td>2021-01-15</td>\n      <td>45.180000</td>\n      <td>0.241891</td>\n      <td>2020.579956</td>\n    </tr>\n  </tbody>\n</table>\n</div>"
     },
     "metadata": {},
     "execution_count": 157
    }
   ],
   "source": [
    "merged_portfolio_sp"
   ]
  },
  {
   "cell_type": "code",
   "execution_count": 158,
   "metadata": {},
   "outputs": [
    {
     "output_type": "execute_result",
     "data": {
      "text/plain": [
       "   index Ticker Acquisition Date  Quantity  Unit Cost  Cost Basis  \\\n",
       "0      0   AAPL       2013-02-07     125.0      65.40     8175.00   \n",
       "1      1    JNJ       2014-02-27     100.0      81.90     8190.00   \n",
       "2      2    MCD       2013-06-04     100.0      84.99     8499.00   \n",
       "3      3   MTCH       2015-12-14     600.0      13.63     8178.00   \n",
       "4      4   NFLX       2016-01-14      75.0     108.71     8153.25   \n",
       "\n",
       "  Start of Year Latest Date  Ticker Adj Close  ticker return  \\\n",
       "0    2017-12-29  2021-01-15        127.139999       0.944037   \n",
       "1    2017-12-29  2021-01-15        160.300003       0.957265   \n",
       "2    2017-12-29  2021-01-15        209.910004       1.469820   \n",
       "3    2017-12-29  2021-01-15        150.850006      10.067499   \n",
       "4    2017-12-29  2021-01-15        497.980011       3.580811   \n",
       "\n",
       "   SP 500 Initial Close  Equiv SP Shares  \n",
       "0           1509.390015         5.416095  \n",
       "1           1854.290039         4.416785  \n",
       "2           1631.380005         5.209700  \n",
       "3           2021.939941         4.044631  \n",
       "4           1921.839966         4.242419  "
      ],
      "text/html": "<div>\n<style scoped>\n    .dataframe tbody tr th:only-of-type {\n        vertical-align: middle;\n    }\n\n    .dataframe tbody tr th {\n        vertical-align: top;\n    }\n\n    .dataframe thead th {\n        text-align: right;\n    }\n</style>\n<table border=\"1\" class=\"dataframe\">\n  <thead>\n    <tr style=\"text-align: right;\">\n      <th></th>\n      <th>index</th>\n      <th>Ticker</th>\n      <th>Acquisition Date</th>\n      <th>Quantity</th>\n      <th>Unit Cost</th>\n      <th>Cost Basis</th>\n      <th>Start of Year</th>\n      <th>Latest Date</th>\n      <th>Ticker Adj Close</th>\n      <th>ticker return</th>\n      <th>SP 500 Initial Close</th>\n      <th>Equiv SP Shares</th>\n    </tr>\n  </thead>\n  <tbody>\n    <tr>\n      <th>0</th>\n      <td>0</td>\n      <td>AAPL</td>\n      <td>2013-02-07</td>\n      <td>125.0</td>\n      <td>65.40</td>\n      <td>8175.00</td>\n      <td>2017-12-29</td>\n      <td>2021-01-15</td>\n      <td>127.139999</td>\n      <td>0.944037</td>\n      <td>1509.390015</td>\n      <td>5.416095</td>\n    </tr>\n    <tr>\n      <th>1</th>\n      <td>1</td>\n      <td>JNJ</td>\n      <td>2014-02-27</td>\n      <td>100.0</td>\n      <td>81.90</td>\n      <td>8190.00</td>\n      <td>2017-12-29</td>\n      <td>2021-01-15</td>\n      <td>160.300003</td>\n      <td>0.957265</td>\n      <td>1854.290039</td>\n      <td>4.416785</td>\n    </tr>\n    <tr>\n      <th>2</th>\n      <td>2</td>\n      <td>MCD</td>\n      <td>2013-06-04</td>\n      <td>100.0</td>\n      <td>84.99</td>\n      <td>8499.00</td>\n      <td>2017-12-29</td>\n      <td>2021-01-15</td>\n      <td>209.910004</td>\n      <td>1.469820</td>\n      <td>1631.380005</td>\n      <td>5.209700</td>\n    </tr>\n    <tr>\n      <th>3</th>\n      <td>3</td>\n      <td>MTCH</td>\n      <td>2015-12-14</td>\n      <td>600.0</td>\n      <td>13.63</td>\n      <td>8178.00</td>\n      <td>2017-12-29</td>\n      <td>2021-01-15</td>\n      <td>150.850006</td>\n      <td>10.067499</td>\n      <td>2021.939941</td>\n      <td>4.044631</td>\n    </tr>\n    <tr>\n      <th>4</th>\n      <td>4</td>\n      <td>NFLX</td>\n      <td>2016-01-14</td>\n      <td>75.0</td>\n      <td>108.71</td>\n      <td>8153.25</td>\n      <td>2017-12-29</td>\n      <td>2021-01-15</td>\n      <td>497.980011</td>\n      <td>3.580811</td>\n      <td>1921.839966</td>\n      <td>4.242419</td>\n    </tr>\n  </tbody>\n</table>\n</div>"
     },
     "metadata": {},
     "execution_count": 158
    }
   ],
   "source": [
    "# This new column determines what SP 500 equivalent purchase would have been at purchase date of stock.\n",
    "merged_portfolio_sp['Equiv SP Shares'] = merged_portfolio_sp['Cost Basis'] / merged_portfolio_sp['SP 500 Initial Close']\n",
    "merged_portfolio_sp.head()"
   ]
  },
  {
   "cell_type": "code",
   "execution_count": 159,
   "metadata": {},
   "outputs": [],
   "source": [
    "# We are joining the developing dataframe with the sp500 closes again, this time with the latest close for SP.\n",
    "merged_portfolio_sp_latest = pd.merge(merged_portfolio_sp, sp_500_adj_close, left_on='Latest Date', right_on='Date')"
   ]
  },
  {
   "cell_type": "code",
   "execution_count": 160,
   "metadata": {},
   "outputs": [
    {
     "output_type": "execute_result",
     "data": {
      "text/plain": [
       "   index Ticker Acquisition Date  Quantity  Unit Cost  Cost Basis  \\\n",
       "0      0   AAPL       2013-02-07     125.0      65.40     8175.00   \n",
       "1      1    JNJ       2014-02-27     100.0      81.90     8190.00   \n",
       "2      2    MCD       2013-06-04     100.0      84.99     8499.00   \n",
       "3      3   MTCH       2015-12-14     600.0      13.63     8178.00   \n",
       "4      4   NFLX       2016-01-14      75.0     108.71     8153.25   \n",
       "5      5    WMT       2013-08-14     125.0      68.30     8537.50   \n",
       "6      6     FB       2013-12-13     150.0      53.32     7998.00   \n",
       "7      7   TWTR       2015-01-05     225.0      36.38     8185.50   \n",
       "\n",
       "  Start of Year Latest Date  Ticker Adj Close  ticker return  \\\n",
       "0    2017-12-29  2021-01-15        127.139999       0.944037   \n",
       "1    2017-12-29  2021-01-15        160.300003       0.957265   \n",
       "2    2017-12-29  2021-01-15        209.910004       1.469820   \n",
       "3    2017-12-29  2021-01-15        150.850006      10.067499   \n",
       "4    2017-12-29  2021-01-15        497.980011       3.580811   \n",
       "5    2017-12-29  2021-01-15        144.639999       1.117716   \n",
       "6    2017-12-29  2021-01-15        251.360001       3.714179   \n",
       "7    2017-12-29  2021-01-15         45.180000       0.241891   \n",
       "\n",
       "   SP 500 Initial Close  Equiv SP Shares  Adj Close  \n",
       "0           1509.390015         5.416095    3768.25  \n",
       "1           1854.290039         4.416785    3768.25  \n",
       "2           1631.380005         5.209700    3768.25  \n",
       "3           2021.939941         4.044631    3768.25  \n",
       "4           1921.839966         4.242419    3768.25  \n",
       "5           1685.390015         5.065593    3768.25  \n",
       "6           1775.319946         4.505103    3768.25  \n",
       "7           2020.579956         4.051065    3768.25  "
      ],
      "text/html": "<div>\n<style scoped>\n    .dataframe tbody tr th:only-of-type {\n        vertical-align: middle;\n    }\n\n    .dataframe tbody tr th {\n        vertical-align: top;\n    }\n\n    .dataframe thead th {\n        text-align: right;\n    }\n</style>\n<table border=\"1\" class=\"dataframe\">\n  <thead>\n    <tr style=\"text-align: right;\">\n      <th></th>\n      <th>index</th>\n      <th>Ticker</th>\n      <th>Acquisition Date</th>\n      <th>Quantity</th>\n      <th>Unit Cost</th>\n      <th>Cost Basis</th>\n      <th>Start of Year</th>\n      <th>Latest Date</th>\n      <th>Ticker Adj Close</th>\n      <th>ticker return</th>\n      <th>SP 500 Initial Close</th>\n      <th>Equiv SP Shares</th>\n      <th>Adj Close</th>\n    </tr>\n  </thead>\n  <tbody>\n    <tr>\n      <th>0</th>\n      <td>0</td>\n      <td>AAPL</td>\n      <td>2013-02-07</td>\n      <td>125.0</td>\n      <td>65.40</td>\n      <td>8175.00</td>\n      <td>2017-12-29</td>\n      <td>2021-01-15</td>\n      <td>127.139999</td>\n      <td>0.944037</td>\n      <td>1509.390015</td>\n      <td>5.416095</td>\n      <td>3768.25</td>\n    </tr>\n    <tr>\n      <th>1</th>\n      <td>1</td>\n      <td>JNJ</td>\n      <td>2014-02-27</td>\n      <td>100.0</td>\n      <td>81.90</td>\n      <td>8190.00</td>\n      <td>2017-12-29</td>\n      <td>2021-01-15</td>\n      <td>160.300003</td>\n      <td>0.957265</td>\n      <td>1854.290039</td>\n      <td>4.416785</td>\n      <td>3768.25</td>\n    </tr>\n    <tr>\n      <th>2</th>\n      <td>2</td>\n      <td>MCD</td>\n      <td>2013-06-04</td>\n      <td>100.0</td>\n      <td>84.99</td>\n      <td>8499.00</td>\n      <td>2017-12-29</td>\n      <td>2021-01-15</td>\n      <td>209.910004</td>\n      <td>1.469820</td>\n      <td>1631.380005</td>\n      <td>5.209700</td>\n      <td>3768.25</td>\n    </tr>\n    <tr>\n      <th>3</th>\n      <td>3</td>\n      <td>MTCH</td>\n      <td>2015-12-14</td>\n      <td>600.0</td>\n      <td>13.63</td>\n      <td>8178.00</td>\n      <td>2017-12-29</td>\n      <td>2021-01-15</td>\n      <td>150.850006</td>\n      <td>10.067499</td>\n      <td>2021.939941</td>\n      <td>4.044631</td>\n      <td>3768.25</td>\n    </tr>\n    <tr>\n      <th>4</th>\n      <td>4</td>\n      <td>NFLX</td>\n      <td>2016-01-14</td>\n      <td>75.0</td>\n      <td>108.71</td>\n      <td>8153.25</td>\n      <td>2017-12-29</td>\n      <td>2021-01-15</td>\n      <td>497.980011</td>\n      <td>3.580811</td>\n      <td>1921.839966</td>\n      <td>4.242419</td>\n      <td>3768.25</td>\n    </tr>\n    <tr>\n      <th>5</th>\n      <td>5</td>\n      <td>WMT</td>\n      <td>2013-08-14</td>\n      <td>125.0</td>\n      <td>68.30</td>\n      <td>8537.50</td>\n      <td>2017-12-29</td>\n      <td>2021-01-15</td>\n      <td>144.639999</td>\n      <td>1.117716</td>\n      <td>1685.390015</td>\n      <td>5.065593</td>\n      <td>3768.25</td>\n    </tr>\n    <tr>\n      <th>6</th>\n      <td>6</td>\n      <td>FB</td>\n      <td>2013-12-13</td>\n      <td>150.0</td>\n      <td>53.32</td>\n      <td>7998.00</td>\n      <td>2017-12-29</td>\n      <td>2021-01-15</td>\n      <td>251.360001</td>\n      <td>3.714179</td>\n      <td>1775.319946</td>\n      <td>4.505103</td>\n      <td>3768.25</td>\n    </tr>\n    <tr>\n      <th>7</th>\n      <td>7</td>\n      <td>TWTR</td>\n      <td>2015-01-05</td>\n      <td>225.0</td>\n      <td>36.38</td>\n      <td>8185.50</td>\n      <td>2017-12-29</td>\n      <td>2021-01-15</td>\n      <td>45.180000</td>\n      <td>0.241891</td>\n      <td>2020.579956</td>\n      <td>4.051065</td>\n      <td>3768.25</td>\n    </tr>\n  </tbody>\n</table>\n</div>"
     },
     "metadata": {},
     "execution_count": 160
    }
   ],
   "source": [
    "merged_portfolio_sp_latest"
   ]
  },
  {
   "cell_type": "code",
   "execution_count": 161,
   "metadata": {},
   "outputs": [
    {
     "output_type": "execute_result",
     "data": {
      "text/plain": [
       "Date\n",
       "2009-12-31    1115.099976\n",
       "2010-01-04    1132.989990\n",
       "2010-01-05    1136.520020\n",
       "2010-01-06    1137.140015\n",
       "2010-01-07    1141.689941\n",
       "                 ...     \n",
       "2021-01-11    3799.610107\n",
       "2021-01-12    3801.189941\n",
       "2021-01-13    3809.840088\n",
       "2021-01-14    3795.540039\n",
       "2021-01-15    3768.250000\n",
       "Name: Adj Close, Length: 2780, dtype: float64"
      ]
     },
     "metadata": {},
     "execution_count": 161
    }
   ],
   "source": [
    "# Once again need to delete the new Date column added as it's redundant to Latest Date.  \n",
    "# Modify Adj Close from the sp dataframe to distinguish it by calling it the SP 500 Latest Close.\n",
    "# del merged_portfolio_sp_latest['Date']\n",
    "\n",
    "sp_500_adj_close"
   ]
  },
  {
   "source": [
    "merged_portfolio_sp_latest.rename(columns={'Adj Close': 'SP 500 Latest Close'}, inplace=True)"
   ],
   "cell_type": "code",
   "metadata": {},
   "execution_count": 162,
   "outputs": []
  },
  {
   "cell_type": "code",
   "execution_count": 163,
   "metadata": {},
   "outputs": [
    {
     "output_type": "execute_result",
     "data": {
      "text/plain": [
       "   index Ticker Acquisition Date  Quantity  Unit Cost  Cost Basis  \\\n",
       "0      0   AAPL       2013-02-07     125.0      65.40     8175.00   \n",
       "1      1    JNJ       2014-02-27     100.0      81.90     8190.00   \n",
       "2      2    MCD       2013-06-04     100.0      84.99     8499.00   \n",
       "3      3   MTCH       2015-12-14     600.0      13.63     8178.00   \n",
       "4      4   NFLX       2016-01-14      75.0     108.71     8153.25   \n",
       "5      5    WMT       2013-08-14     125.0      68.30     8537.50   \n",
       "6      6     FB       2013-12-13     150.0      53.32     7998.00   \n",
       "7      7   TWTR       2015-01-05     225.0      36.38     8185.50   \n",
       "\n",
       "  Start of Year Latest Date  Ticker Adj Close  ticker return  \\\n",
       "0    2017-12-29  2021-01-15        127.139999       0.944037   \n",
       "1    2017-12-29  2021-01-15        160.300003       0.957265   \n",
       "2    2017-12-29  2021-01-15        209.910004       1.469820   \n",
       "3    2017-12-29  2021-01-15        150.850006      10.067499   \n",
       "4    2017-12-29  2021-01-15        497.980011       3.580811   \n",
       "5    2017-12-29  2021-01-15        144.639999       1.117716   \n",
       "6    2017-12-29  2021-01-15        251.360001       3.714179   \n",
       "7    2017-12-29  2021-01-15         45.180000       0.241891   \n",
       "\n",
       "   SP 500 Initial Close  Equiv SP Shares  SP 500 Latest Close  \n",
       "0           1509.390015         5.416095              3768.25  \n",
       "1           1854.290039         4.416785              3768.25  \n",
       "2           1631.380005         5.209700              3768.25  \n",
       "3           2021.939941         4.044631              3768.25  \n",
       "4           1921.839966         4.242419              3768.25  \n",
       "5           1685.390015         5.065593              3768.25  \n",
       "6           1775.319946         4.505103              3768.25  \n",
       "7           2020.579956         4.051065              3768.25  "
      ],
      "text/html": "<div>\n<style scoped>\n    .dataframe tbody tr th:only-of-type {\n        vertical-align: middle;\n    }\n\n    .dataframe tbody tr th {\n        vertical-align: top;\n    }\n\n    .dataframe thead th {\n        text-align: right;\n    }\n</style>\n<table border=\"1\" class=\"dataframe\">\n  <thead>\n    <tr style=\"text-align: right;\">\n      <th></th>\n      <th>index</th>\n      <th>Ticker</th>\n      <th>Acquisition Date</th>\n      <th>Quantity</th>\n      <th>Unit Cost</th>\n      <th>Cost Basis</th>\n      <th>Start of Year</th>\n      <th>Latest Date</th>\n      <th>Ticker Adj Close</th>\n      <th>ticker return</th>\n      <th>SP 500 Initial Close</th>\n      <th>Equiv SP Shares</th>\n      <th>SP 500 Latest Close</th>\n    </tr>\n  </thead>\n  <tbody>\n    <tr>\n      <th>0</th>\n      <td>0</td>\n      <td>AAPL</td>\n      <td>2013-02-07</td>\n      <td>125.0</td>\n      <td>65.40</td>\n      <td>8175.00</td>\n      <td>2017-12-29</td>\n      <td>2021-01-15</td>\n      <td>127.139999</td>\n      <td>0.944037</td>\n      <td>1509.390015</td>\n      <td>5.416095</td>\n      <td>3768.25</td>\n    </tr>\n    <tr>\n      <th>1</th>\n      <td>1</td>\n      <td>JNJ</td>\n      <td>2014-02-27</td>\n      <td>100.0</td>\n      <td>81.90</td>\n      <td>8190.00</td>\n      <td>2017-12-29</td>\n      <td>2021-01-15</td>\n      <td>160.300003</td>\n      <td>0.957265</td>\n      <td>1854.290039</td>\n      <td>4.416785</td>\n      <td>3768.25</td>\n    </tr>\n    <tr>\n      <th>2</th>\n      <td>2</td>\n      <td>MCD</td>\n      <td>2013-06-04</td>\n      <td>100.0</td>\n      <td>84.99</td>\n      <td>8499.00</td>\n      <td>2017-12-29</td>\n      <td>2021-01-15</td>\n      <td>209.910004</td>\n      <td>1.469820</td>\n      <td>1631.380005</td>\n      <td>5.209700</td>\n      <td>3768.25</td>\n    </tr>\n    <tr>\n      <th>3</th>\n      <td>3</td>\n      <td>MTCH</td>\n      <td>2015-12-14</td>\n      <td>600.0</td>\n      <td>13.63</td>\n      <td>8178.00</td>\n      <td>2017-12-29</td>\n      <td>2021-01-15</td>\n      <td>150.850006</td>\n      <td>10.067499</td>\n      <td>2021.939941</td>\n      <td>4.044631</td>\n      <td>3768.25</td>\n    </tr>\n    <tr>\n      <th>4</th>\n      <td>4</td>\n      <td>NFLX</td>\n      <td>2016-01-14</td>\n      <td>75.0</td>\n      <td>108.71</td>\n      <td>8153.25</td>\n      <td>2017-12-29</td>\n      <td>2021-01-15</td>\n      <td>497.980011</td>\n      <td>3.580811</td>\n      <td>1921.839966</td>\n      <td>4.242419</td>\n      <td>3768.25</td>\n    </tr>\n    <tr>\n      <th>5</th>\n      <td>5</td>\n      <td>WMT</td>\n      <td>2013-08-14</td>\n      <td>125.0</td>\n      <td>68.30</td>\n      <td>8537.50</td>\n      <td>2017-12-29</td>\n      <td>2021-01-15</td>\n      <td>144.639999</td>\n      <td>1.117716</td>\n      <td>1685.390015</td>\n      <td>5.065593</td>\n      <td>3768.25</td>\n    </tr>\n    <tr>\n      <th>6</th>\n      <td>6</td>\n      <td>FB</td>\n      <td>2013-12-13</td>\n      <td>150.0</td>\n      <td>53.32</td>\n      <td>7998.00</td>\n      <td>2017-12-29</td>\n      <td>2021-01-15</td>\n      <td>251.360001</td>\n      <td>3.714179</td>\n      <td>1775.319946</td>\n      <td>4.505103</td>\n      <td>3768.25</td>\n    </tr>\n    <tr>\n      <th>7</th>\n      <td>7</td>\n      <td>TWTR</td>\n      <td>2015-01-05</td>\n      <td>225.0</td>\n      <td>36.38</td>\n      <td>8185.50</td>\n      <td>2017-12-29</td>\n      <td>2021-01-15</td>\n      <td>45.180000</td>\n      <td>0.241891</td>\n      <td>2020.579956</td>\n      <td>4.051065</td>\n      <td>3768.25</td>\n    </tr>\n  </tbody>\n</table>\n</div>"
     },
     "metadata": {},
     "execution_count": 163
    }
   ],
   "source": [
    "merged_portfolio_sp_latest"
   ]
  },
  {
   "cell_type": "code",
   "execution_count": 164,
   "metadata": {},
   "outputs": [],
   "source": [
    "# Percent return of SP from acquisition date of position through latest trading day.\n",
    "merged_portfolio_sp_latest['SP Return'] = merged_portfolio_sp_latest['SP 500 Latest Close'] / merged_portfolio_sp_latest['SP 500 Initial Close'] - 1\n"
   ]
  },
  {
   "cell_type": "code",
   "execution_count": 165,
   "metadata": {},
   "outputs": [],
   "source": [
    "# This is a new column which takes the tickers return and subtracts the sp 500 equivalent range return.\n",
    "merged_portfolio_sp_latest['Abs. Return Compare'] = merged_portfolio_sp_latest['ticker return'] - merged_portfolio_sp_latest['SP Return']"
   ]
  },
  {
   "cell_type": "code",
   "execution_count": 166,
   "metadata": {},
   "outputs": [],
   "source": [
    "# This is a new column where we calculate the ticker's share value by multiplying the original quantity by the latest close.\n",
    "merged_portfolio_sp_latest['Ticker Share Value'] = merged_portfolio_sp_latest['Quantity'] * merged_portfolio_sp_latest['Ticker Adj Close']\n"
   ]
  },
  {
   "cell_type": "code",
   "execution_count": 167,
   "metadata": {},
   "outputs": [],
   "source": [
    "# We calculate the equivalent SP 500 Value if we take the original SP shares * the latest SP 500 share price.\n",
    "merged_portfolio_sp_latest['SP 500 Value'] = merged_portfolio_sp_latest['Equiv SP Shares'] * merged_portfolio_sp_latest['SP 500 Latest Close']"
   ]
  },
  {
   "cell_type": "code",
   "execution_count": 168,
   "metadata": {},
   "outputs": [],
   "source": [
    "# This is a new column where we take the current market value for the shares and subtract the SP 500 value.\n",
    "merged_portfolio_sp_latest['Abs Value Compare'] = merged_portfolio_sp_latest['Ticker Share Value'] - merged_portfolio_sp_latest['SP 500 Value']"
   ]
  },
  {
   "cell_type": "code",
   "execution_count": 169,
   "metadata": {},
   "outputs": [],
   "source": [
    "# This column calculates profit / loss for stock position.\n",
    "merged_portfolio_sp_latest['Stock Gain / (Loss)'] = merged_portfolio_sp_latest['Ticker Share Value'] - merged_portfolio_sp_latest['Cost Basis']"
   ]
  },
  {
   "cell_type": "code",
   "execution_count": 170,
   "metadata": {},
   "outputs": [],
   "source": [
    "# This column calculates profit / loss for SP 500.\n",
    "merged_portfolio_sp_latest['SP 500 Gain / (Loss)'] = merged_portfolio_sp_latest['SP 500 Value'] - merged_portfolio_sp_latest['Cost Basis']"
   ]
  },
  {
   "cell_type": "code",
   "execution_count": 171,
   "metadata": {},
   "outputs": [
    {
     "output_type": "execute_result",
     "data": {
      "text/plain": [
       "   index Ticker Acquisition Date  Quantity  Unit Cost  Cost Basis  \\\n",
       "0      0   AAPL       2013-02-07     125.0      65.40     8175.00   \n",
       "1      1    JNJ       2014-02-27     100.0      81.90     8190.00   \n",
       "2      2    MCD       2013-06-04     100.0      84.99     8499.00   \n",
       "3      3   MTCH       2015-12-14     600.0      13.63     8178.00   \n",
       "4      4   NFLX       2016-01-14      75.0     108.71     8153.25   \n",
       "5      5    WMT       2013-08-14     125.0      68.30     8537.50   \n",
       "6      6     FB       2013-12-13     150.0      53.32     7998.00   \n",
       "7      7   TWTR       2015-01-05     225.0      36.38     8185.50   \n",
       "\n",
       "  Start of Year Latest Date  Ticker Adj Close  ticker return  \\\n",
       "0    2017-12-29  2021-01-15        127.139999       0.944037   \n",
       "1    2017-12-29  2021-01-15        160.300003       0.957265   \n",
       "2    2017-12-29  2021-01-15        209.910004       1.469820   \n",
       "3    2017-12-29  2021-01-15        150.850006      10.067499   \n",
       "4    2017-12-29  2021-01-15        497.980011       3.580811   \n",
       "5    2017-12-29  2021-01-15        144.639999       1.117716   \n",
       "6    2017-12-29  2021-01-15        251.360001       3.714179   \n",
       "7    2017-12-29  2021-01-15         45.180000       0.241891   \n",
       "\n",
       "   SP 500 Initial Close  Equiv SP Shares  SP 500 Latest Close  SP Return  \\\n",
       "0           1509.390015         5.416095              3768.25   1.496538   \n",
       "1           1854.290039         4.416785              3768.25   1.032179   \n",
       "2           1631.380005         5.209700              3768.25   1.309854   \n",
       "3           2021.939941         4.044631              3768.25   0.863680   \n",
       "4           1921.839966         4.242419              3768.25   0.960751   \n",
       "5           1685.390015         5.065593              3768.25   1.235833   \n",
       "6           1775.319946         4.505103              3768.25   1.122575   \n",
       "7           2020.579956         4.051065              3768.25   0.864935   \n",
       "\n",
       "   Abs. Return Compare  Ticker Share Value  SP 500 Value  Abs Value Compare  \\\n",
       "0            -0.552502        15892.499924  20409.200704       -4516.700781   \n",
       "1            -0.074914        16030.000305  16643.549202        -613.548897   \n",
       "2             0.159966        20991.000366  19631.451075        1359.549292   \n",
       "3             9.203818        90510.003662  15241.178963       75268.824699   \n",
       "4             2.620060        37348.500824  15986.494640       21362.006184   \n",
       "5            -0.118117        18079.999924  19088.421134       -1008.421211   \n",
       "6             2.591603        37704.000092  16976.356044       20727.644048   \n",
       "7            -0.623044        10165.500069  15265.424307       -5099.924238   \n",
       "\n",
       "   Stock Gain / (Loss)  SP 500 Gain / (Loss)  \n",
       "0          7717.499924          12234.200704  \n",
       "1          7840.000305           8453.549202  \n",
       "2         12492.000366          11132.451075  \n",
       "3         82332.003662           7063.178963  \n",
       "4         29195.250824           7833.244640  \n",
       "5          9542.499924          10550.921134  \n",
       "6         29706.000092           8978.356044  \n",
       "7          1980.000069           7079.924307  "
      ],
      "text/html": "<div>\n<style scoped>\n    .dataframe tbody tr th:only-of-type {\n        vertical-align: middle;\n    }\n\n    .dataframe tbody tr th {\n        vertical-align: top;\n    }\n\n    .dataframe thead th {\n        text-align: right;\n    }\n</style>\n<table border=\"1\" class=\"dataframe\">\n  <thead>\n    <tr style=\"text-align: right;\">\n      <th></th>\n      <th>index</th>\n      <th>Ticker</th>\n      <th>Acquisition Date</th>\n      <th>Quantity</th>\n      <th>Unit Cost</th>\n      <th>Cost Basis</th>\n      <th>Start of Year</th>\n      <th>Latest Date</th>\n      <th>Ticker Adj Close</th>\n      <th>ticker return</th>\n      <th>SP 500 Initial Close</th>\n      <th>Equiv SP Shares</th>\n      <th>SP 500 Latest Close</th>\n      <th>SP Return</th>\n      <th>Abs. Return Compare</th>\n      <th>Ticker Share Value</th>\n      <th>SP 500 Value</th>\n      <th>Abs Value Compare</th>\n      <th>Stock Gain / (Loss)</th>\n      <th>SP 500 Gain / (Loss)</th>\n    </tr>\n  </thead>\n  <tbody>\n    <tr>\n      <th>0</th>\n      <td>0</td>\n      <td>AAPL</td>\n      <td>2013-02-07</td>\n      <td>125.0</td>\n      <td>65.40</td>\n      <td>8175.00</td>\n      <td>2017-12-29</td>\n      <td>2021-01-15</td>\n      <td>127.139999</td>\n      <td>0.944037</td>\n      <td>1509.390015</td>\n      <td>5.416095</td>\n      <td>3768.25</td>\n      <td>1.496538</td>\n      <td>-0.552502</td>\n      <td>15892.499924</td>\n      <td>20409.200704</td>\n      <td>-4516.700781</td>\n      <td>7717.499924</td>\n      <td>12234.200704</td>\n    </tr>\n    <tr>\n      <th>1</th>\n      <td>1</td>\n      <td>JNJ</td>\n      <td>2014-02-27</td>\n      <td>100.0</td>\n      <td>81.90</td>\n      <td>8190.00</td>\n      <td>2017-12-29</td>\n      <td>2021-01-15</td>\n      <td>160.300003</td>\n      <td>0.957265</td>\n      <td>1854.290039</td>\n      <td>4.416785</td>\n      <td>3768.25</td>\n      <td>1.032179</td>\n      <td>-0.074914</td>\n      <td>16030.000305</td>\n      <td>16643.549202</td>\n      <td>-613.548897</td>\n      <td>7840.000305</td>\n      <td>8453.549202</td>\n    </tr>\n    <tr>\n      <th>2</th>\n      <td>2</td>\n      <td>MCD</td>\n      <td>2013-06-04</td>\n      <td>100.0</td>\n      <td>84.99</td>\n      <td>8499.00</td>\n      <td>2017-12-29</td>\n      <td>2021-01-15</td>\n      <td>209.910004</td>\n      <td>1.469820</td>\n      <td>1631.380005</td>\n      <td>5.209700</td>\n      <td>3768.25</td>\n      <td>1.309854</td>\n      <td>0.159966</td>\n      <td>20991.000366</td>\n      <td>19631.451075</td>\n      <td>1359.549292</td>\n      <td>12492.000366</td>\n      <td>11132.451075</td>\n    </tr>\n    <tr>\n      <th>3</th>\n      <td>3</td>\n      <td>MTCH</td>\n      <td>2015-12-14</td>\n      <td>600.0</td>\n      <td>13.63</td>\n      <td>8178.00</td>\n      <td>2017-12-29</td>\n      <td>2021-01-15</td>\n      <td>150.850006</td>\n      <td>10.067499</td>\n      <td>2021.939941</td>\n      <td>4.044631</td>\n      <td>3768.25</td>\n      <td>0.863680</td>\n      <td>9.203818</td>\n      <td>90510.003662</td>\n      <td>15241.178963</td>\n      <td>75268.824699</td>\n      <td>82332.003662</td>\n      <td>7063.178963</td>\n    </tr>\n    <tr>\n      <th>4</th>\n      <td>4</td>\n      <td>NFLX</td>\n      <td>2016-01-14</td>\n      <td>75.0</td>\n      <td>108.71</td>\n      <td>8153.25</td>\n      <td>2017-12-29</td>\n      <td>2021-01-15</td>\n      <td>497.980011</td>\n      <td>3.580811</td>\n      <td>1921.839966</td>\n      <td>4.242419</td>\n      <td>3768.25</td>\n      <td>0.960751</td>\n      <td>2.620060</td>\n      <td>37348.500824</td>\n      <td>15986.494640</td>\n      <td>21362.006184</td>\n      <td>29195.250824</td>\n      <td>7833.244640</td>\n    </tr>\n    <tr>\n      <th>5</th>\n      <td>5</td>\n      <td>WMT</td>\n      <td>2013-08-14</td>\n      <td>125.0</td>\n      <td>68.30</td>\n      <td>8537.50</td>\n      <td>2017-12-29</td>\n      <td>2021-01-15</td>\n      <td>144.639999</td>\n      <td>1.117716</td>\n      <td>1685.390015</td>\n      <td>5.065593</td>\n      <td>3768.25</td>\n      <td>1.235833</td>\n      <td>-0.118117</td>\n      <td>18079.999924</td>\n      <td>19088.421134</td>\n      <td>-1008.421211</td>\n      <td>9542.499924</td>\n      <td>10550.921134</td>\n    </tr>\n    <tr>\n      <th>6</th>\n      <td>6</td>\n      <td>FB</td>\n      <td>2013-12-13</td>\n      <td>150.0</td>\n      <td>53.32</td>\n      <td>7998.00</td>\n      <td>2017-12-29</td>\n      <td>2021-01-15</td>\n      <td>251.360001</td>\n      <td>3.714179</td>\n      <td>1775.319946</td>\n      <td>4.505103</td>\n      <td>3768.25</td>\n      <td>1.122575</td>\n      <td>2.591603</td>\n      <td>37704.000092</td>\n      <td>16976.356044</td>\n      <td>20727.644048</td>\n      <td>29706.000092</td>\n      <td>8978.356044</td>\n    </tr>\n    <tr>\n      <th>7</th>\n      <td>7</td>\n      <td>TWTR</td>\n      <td>2015-01-05</td>\n      <td>225.0</td>\n      <td>36.38</td>\n      <td>8185.50</td>\n      <td>2017-12-29</td>\n      <td>2021-01-15</td>\n      <td>45.180000</td>\n      <td>0.241891</td>\n      <td>2020.579956</td>\n      <td>4.051065</td>\n      <td>3768.25</td>\n      <td>0.864935</td>\n      <td>-0.623044</td>\n      <td>10165.500069</td>\n      <td>15265.424307</td>\n      <td>-5099.924238</td>\n      <td>1980.000069</td>\n      <td>7079.924307</td>\n    </tr>\n  </tbody>\n</table>\n</div>"
     },
     "metadata": {},
     "execution_count": 171
    }
   ],
   "source": [
    "merged_portfolio_sp_latest"
   ]
  },
  {
   "cell_type": "code",
   "execution_count": 172,
   "metadata": {},
   "outputs": [
    {
     "output_type": "execute_result",
     "data": {
      "text/plain": [
       "   index Ticker Acquisition Date  Quantity  Unit Cost  Cost Basis  \\\n",
       "0      0   AAPL       2013-02-07     125.0      65.40     8175.00   \n",
       "1      1    JNJ       2014-02-27     100.0      81.90     8190.00   \n",
       "2      2    MCD       2013-06-04     100.0      84.99     8499.00   \n",
       "3      3   MTCH       2015-12-14     600.0      13.63     8178.00   \n",
       "4      4   NFLX       2016-01-14      75.0     108.71     8153.25   \n",
       "5      5    WMT       2013-08-14     125.0      68.30     8537.50   \n",
       "6      6     FB       2013-12-13     150.0      53.32     7998.00   \n",
       "7      7   TWTR       2015-01-05     225.0      36.38     8185.50   \n",
       "\n",
       "  Start of Year Latest Date  Ticker Adj Close  ticker return  \\\n",
       "0    2017-12-29  2021-01-15        127.139999       0.944037   \n",
       "1    2017-12-29  2021-01-15        160.300003       0.957265   \n",
       "2    2017-12-29  2021-01-15        209.910004       1.469820   \n",
       "3    2017-12-29  2021-01-15        150.850006      10.067499   \n",
       "4    2017-12-29  2021-01-15        497.980011       3.580811   \n",
       "5    2017-12-29  2021-01-15        144.639999       1.117716   \n",
       "6    2017-12-29  2021-01-15        251.360001       3.714179   \n",
       "7    2017-12-29  2021-01-15         45.180000       0.241891   \n",
       "\n",
       "   SP 500 Initial Close  Equiv SP Shares  SP 500 Latest Close  SP Return  \\\n",
       "0           1509.390015         5.416095              3768.25   1.496538   \n",
       "1           1854.290039         4.416785              3768.25   1.032179   \n",
       "2           1631.380005         5.209700              3768.25   1.309854   \n",
       "3           2021.939941         4.044631              3768.25   0.863680   \n",
       "4           1921.839966         4.242419              3768.25   0.960751   \n",
       "5           1685.390015         5.065593              3768.25   1.235833   \n",
       "6           1775.319946         4.505103              3768.25   1.122575   \n",
       "7           2020.579956         4.051065              3768.25   0.864935   \n",
       "\n",
       "   Abs. Return Compare  Ticker Share Value  SP 500 Value  Abs Value Compare  \\\n",
       "0            -0.552502        15892.499924  20409.200704       -4516.700781   \n",
       "1            -0.074914        16030.000305  16643.549202        -613.548897   \n",
       "2             0.159966        20991.000366  19631.451075        1359.549292   \n",
       "3             9.203818        90510.003662  15241.178963       75268.824699   \n",
       "4             2.620060        37348.500824  15986.494640       21362.006184   \n",
       "5            -0.118117        18079.999924  19088.421134       -1008.421211   \n",
       "6             2.591603        37704.000092  16976.356044       20727.644048   \n",
       "7            -0.623044        10165.500069  15265.424307       -5099.924238   \n",
       "\n",
       "   Stock Gain / (Loss)  SP 500 Gain / (Loss)       Date   Adj Close  \n",
       "0          7717.499924          12234.200704 2020-12-31  132.690002  \n",
       "1          7840.000305           8453.549202 2020-12-31  157.380005  \n",
       "2         12492.000366          11132.451075 2020-12-31  214.580002  \n",
       "3         82332.003662           7063.178963 2020-12-31  151.190002  \n",
       "4         29195.250824           7833.244640 2020-12-31  540.729980  \n",
       "5          9542.499924          10550.921134 2020-12-31  144.149994  \n",
       "6         29706.000092           8978.356044 2020-12-31  273.160004  \n",
       "7          1980.000069           7079.924307 2020-12-31   54.150002  "
      ],
      "text/html": "<div>\n<style scoped>\n    .dataframe tbody tr th:only-of-type {\n        vertical-align: middle;\n    }\n\n    .dataframe tbody tr th {\n        vertical-align: top;\n    }\n\n    .dataframe thead th {\n        text-align: right;\n    }\n</style>\n<table border=\"1\" class=\"dataframe\">\n  <thead>\n    <tr style=\"text-align: right;\">\n      <th></th>\n      <th>index</th>\n      <th>Ticker</th>\n      <th>Acquisition Date</th>\n      <th>Quantity</th>\n      <th>Unit Cost</th>\n      <th>Cost Basis</th>\n      <th>Start of Year</th>\n      <th>Latest Date</th>\n      <th>Ticker Adj Close</th>\n      <th>ticker return</th>\n      <th>SP 500 Initial Close</th>\n      <th>Equiv SP Shares</th>\n      <th>SP 500 Latest Close</th>\n      <th>SP Return</th>\n      <th>Abs. Return Compare</th>\n      <th>Ticker Share Value</th>\n      <th>SP 500 Value</th>\n      <th>Abs Value Compare</th>\n      <th>Stock Gain / (Loss)</th>\n      <th>SP 500 Gain / (Loss)</th>\n      <th>Date</th>\n      <th>Adj Close</th>\n    </tr>\n  </thead>\n  <tbody>\n    <tr>\n      <th>0</th>\n      <td>0</td>\n      <td>AAPL</td>\n      <td>2013-02-07</td>\n      <td>125.0</td>\n      <td>65.40</td>\n      <td>8175.00</td>\n      <td>2017-12-29</td>\n      <td>2021-01-15</td>\n      <td>127.139999</td>\n      <td>0.944037</td>\n      <td>1509.390015</td>\n      <td>5.416095</td>\n      <td>3768.25</td>\n      <td>1.496538</td>\n      <td>-0.552502</td>\n      <td>15892.499924</td>\n      <td>20409.200704</td>\n      <td>-4516.700781</td>\n      <td>7717.499924</td>\n      <td>12234.200704</td>\n      <td>2020-12-31</td>\n      <td>132.690002</td>\n    </tr>\n    <tr>\n      <th>1</th>\n      <td>1</td>\n      <td>JNJ</td>\n      <td>2014-02-27</td>\n      <td>100.0</td>\n      <td>81.90</td>\n      <td>8190.00</td>\n      <td>2017-12-29</td>\n      <td>2021-01-15</td>\n      <td>160.300003</td>\n      <td>0.957265</td>\n      <td>1854.290039</td>\n      <td>4.416785</td>\n      <td>3768.25</td>\n      <td>1.032179</td>\n      <td>-0.074914</td>\n      <td>16030.000305</td>\n      <td>16643.549202</td>\n      <td>-613.548897</td>\n      <td>7840.000305</td>\n      <td>8453.549202</td>\n      <td>2020-12-31</td>\n      <td>157.380005</td>\n    </tr>\n    <tr>\n      <th>2</th>\n      <td>2</td>\n      <td>MCD</td>\n      <td>2013-06-04</td>\n      <td>100.0</td>\n      <td>84.99</td>\n      <td>8499.00</td>\n      <td>2017-12-29</td>\n      <td>2021-01-15</td>\n      <td>209.910004</td>\n      <td>1.469820</td>\n      <td>1631.380005</td>\n      <td>5.209700</td>\n      <td>3768.25</td>\n      <td>1.309854</td>\n      <td>0.159966</td>\n      <td>20991.000366</td>\n      <td>19631.451075</td>\n      <td>1359.549292</td>\n      <td>12492.000366</td>\n      <td>11132.451075</td>\n      <td>2020-12-31</td>\n      <td>214.580002</td>\n    </tr>\n    <tr>\n      <th>3</th>\n      <td>3</td>\n      <td>MTCH</td>\n      <td>2015-12-14</td>\n      <td>600.0</td>\n      <td>13.63</td>\n      <td>8178.00</td>\n      <td>2017-12-29</td>\n      <td>2021-01-15</td>\n      <td>150.850006</td>\n      <td>10.067499</td>\n      <td>2021.939941</td>\n      <td>4.044631</td>\n      <td>3768.25</td>\n      <td>0.863680</td>\n      <td>9.203818</td>\n      <td>90510.003662</td>\n      <td>15241.178963</td>\n      <td>75268.824699</td>\n      <td>82332.003662</td>\n      <td>7063.178963</td>\n      <td>2020-12-31</td>\n      <td>151.190002</td>\n    </tr>\n    <tr>\n      <th>4</th>\n      <td>4</td>\n      <td>NFLX</td>\n      <td>2016-01-14</td>\n      <td>75.0</td>\n      <td>108.71</td>\n      <td>8153.25</td>\n      <td>2017-12-29</td>\n      <td>2021-01-15</td>\n      <td>497.980011</td>\n      <td>3.580811</td>\n      <td>1921.839966</td>\n      <td>4.242419</td>\n      <td>3768.25</td>\n      <td>0.960751</td>\n      <td>2.620060</td>\n      <td>37348.500824</td>\n      <td>15986.494640</td>\n      <td>21362.006184</td>\n      <td>29195.250824</td>\n      <td>7833.244640</td>\n      <td>2020-12-31</td>\n      <td>540.729980</td>\n    </tr>\n    <tr>\n      <th>5</th>\n      <td>5</td>\n      <td>WMT</td>\n      <td>2013-08-14</td>\n      <td>125.0</td>\n      <td>68.30</td>\n      <td>8537.50</td>\n      <td>2017-12-29</td>\n      <td>2021-01-15</td>\n      <td>144.639999</td>\n      <td>1.117716</td>\n      <td>1685.390015</td>\n      <td>5.065593</td>\n      <td>3768.25</td>\n      <td>1.235833</td>\n      <td>-0.118117</td>\n      <td>18079.999924</td>\n      <td>19088.421134</td>\n      <td>-1008.421211</td>\n      <td>9542.499924</td>\n      <td>10550.921134</td>\n      <td>2020-12-31</td>\n      <td>144.149994</td>\n    </tr>\n    <tr>\n      <th>6</th>\n      <td>6</td>\n      <td>FB</td>\n      <td>2013-12-13</td>\n      <td>150.0</td>\n      <td>53.32</td>\n      <td>7998.00</td>\n      <td>2017-12-29</td>\n      <td>2021-01-15</td>\n      <td>251.360001</td>\n      <td>3.714179</td>\n      <td>1775.319946</td>\n      <td>4.505103</td>\n      <td>3768.25</td>\n      <td>1.122575</td>\n      <td>2.591603</td>\n      <td>37704.000092</td>\n      <td>16976.356044</td>\n      <td>20727.644048</td>\n      <td>29706.000092</td>\n      <td>8978.356044</td>\n      <td>2020-12-31</td>\n      <td>273.160004</td>\n    </tr>\n    <tr>\n      <th>7</th>\n      <td>7</td>\n      <td>TWTR</td>\n      <td>2015-01-05</td>\n      <td>225.0</td>\n      <td>36.38</td>\n      <td>8185.50</td>\n      <td>2017-12-29</td>\n      <td>2021-01-15</td>\n      <td>45.180000</td>\n      <td>0.241891</td>\n      <td>2020.579956</td>\n      <td>4.051065</td>\n      <td>3768.25</td>\n      <td>0.864935</td>\n      <td>-0.623044</td>\n      <td>10165.500069</td>\n      <td>15265.424307</td>\n      <td>-5099.924238</td>\n      <td>1980.000069</td>\n      <td>7079.924307</td>\n      <td>2020-12-31</td>\n      <td>54.150002</td>\n    </tr>\n  </tbody>\n</table>\n</div>"
     },
     "metadata": {},
     "execution_count": 172
    }
   ],
   "source": [
    "# Merge the overall dataframe with the adj close start of year dataframe for YTD tracking of tickers.\n",
    "merged_portfolio_sp_latest_YTD = pd.merge(merged_portfolio_sp_latest, adj_close_start, on='Ticker')\n",
    "# , how='outer'\n",
    "\n",
    "merged_portfolio_sp_latest_YTD"
   ]
  },
  {
   "cell_type": "code",
   "execution_count": 173,
   "metadata": {},
   "outputs": [],
   "source": [
    "# Deleting date again as it's an unnecessary column.  Explaining that new column is the Ticker Start of Year Close.\n",
    "del merged_portfolio_sp_latest_YTD['Date']"
   ]
  },
  {
   "cell_type": "code",
   "execution_count": 174,
   "metadata": {},
   "outputs": [
    {
     "output_type": "execute_result",
     "data": {
      "text/plain": [
       "   index Ticker Acquisition Date  Quantity  Unit Cost  Cost Basis  \\\n",
       "0      0   AAPL       2013-02-07     125.0      65.40     8175.00   \n",
       "1      1    JNJ       2014-02-27     100.0      81.90     8190.00   \n",
       "2      2    MCD       2013-06-04     100.0      84.99     8499.00   \n",
       "3      3   MTCH       2015-12-14     600.0      13.63     8178.00   \n",
       "4      4   NFLX       2016-01-14      75.0     108.71     8153.25   \n",
       "5      5    WMT       2013-08-14     125.0      68.30     8537.50   \n",
       "6      6     FB       2013-12-13     150.0      53.32     7998.00   \n",
       "7      7   TWTR       2015-01-05     225.0      36.38     8185.50   \n",
       "\n",
       "  Start of Year Latest Date  Ticker Adj Close  ticker return  \\\n",
       "0    2017-12-29  2021-01-15        127.139999       0.944037   \n",
       "1    2017-12-29  2021-01-15        160.300003       0.957265   \n",
       "2    2017-12-29  2021-01-15        209.910004       1.469820   \n",
       "3    2017-12-29  2021-01-15        150.850006      10.067499   \n",
       "4    2017-12-29  2021-01-15        497.980011       3.580811   \n",
       "5    2017-12-29  2021-01-15        144.639999       1.117716   \n",
       "6    2017-12-29  2021-01-15        251.360001       3.714179   \n",
       "7    2017-12-29  2021-01-15         45.180000       0.241891   \n",
       "\n",
       "   SP 500 Initial Close  Equiv SP Shares  SP 500 Latest Close  SP Return  \\\n",
       "0           1509.390015         5.416095              3768.25   1.496538   \n",
       "1           1854.290039         4.416785              3768.25   1.032179   \n",
       "2           1631.380005         5.209700              3768.25   1.309854   \n",
       "3           2021.939941         4.044631              3768.25   0.863680   \n",
       "4           1921.839966         4.242419              3768.25   0.960751   \n",
       "5           1685.390015         5.065593              3768.25   1.235833   \n",
       "6           1775.319946         4.505103              3768.25   1.122575   \n",
       "7           2020.579956         4.051065              3768.25   0.864935   \n",
       "\n",
       "   Abs. Return Compare  Ticker Share Value  SP 500 Value  Abs Value Compare  \\\n",
       "0            -0.552502        15892.499924  20409.200704       -4516.700781   \n",
       "1            -0.074914        16030.000305  16643.549202        -613.548897   \n",
       "2             0.159966        20991.000366  19631.451075        1359.549292   \n",
       "3             9.203818        90510.003662  15241.178963       75268.824699   \n",
       "4             2.620060        37348.500824  15986.494640       21362.006184   \n",
       "5            -0.118117        18079.999924  19088.421134       -1008.421211   \n",
       "6             2.591603        37704.000092  16976.356044       20727.644048   \n",
       "7            -0.623044        10165.500069  15265.424307       -5099.924238   \n",
       "\n",
       "   Stock Gain / (Loss)  SP 500 Gain / (Loss)   Adj Close  \n",
       "0          7717.499924          12234.200704  132.690002  \n",
       "1          7840.000305           8453.549202  157.380005  \n",
       "2         12492.000366          11132.451075  214.580002  \n",
       "3         82332.003662           7063.178963  151.190002  \n",
       "4         29195.250824           7833.244640  540.729980  \n",
       "5          9542.499924          10550.921134  144.149994  \n",
       "6         29706.000092           8978.356044  273.160004  \n",
       "7          1980.000069           7079.924307   54.150002  "
      ],
      "text/html": "<div>\n<style scoped>\n    .dataframe tbody tr th:only-of-type {\n        vertical-align: middle;\n    }\n\n    .dataframe tbody tr th {\n        vertical-align: top;\n    }\n\n    .dataframe thead th {\n        text-align: right;\n    }\n</style>\n<table border=\"1\" class=\"dataframe\">\n  <thead>\n    <tr style=\"text-align: right;\">\n      <th></th>\n      <th>index</th>\n      <th>Ticker</th>\n      <th>Acquisition Date</th>\n      <th>Quantity</th>\n      <th>Unit Cost</th>\n      <th>Cost Basis</th>\n      <th>Start of Year</th>\n      <th>Latest Date</th>\n      <th>Ticker Adj Close</th>\n      <th>ticker return</th>\n      <th>SP 500 Initial Close</th>\n      <th>Equiv SP Shares</th>\n      <th>SP 500 Latest Close</th>\n      <th>SP Return</th>\n      <th>Abs. Return Compare</th>\n      <th>Ticker Share Value</th>\n      <th>SP 500 Value</th>\n      <th>Abs Value Compare</th>\n      <th>Stock Gain / (Loss)</th>\n      <th>SP 500 Gain / (Loss)</th>\n      <th>Adj Close</th>\n    </tr>\n  </thead>\n  <tbody>\n    <tr>\n      <th>0</th>\n      <td>0</td>\n      <td>AAPL</td>\n      <td>2013-02-07</td>\n      <td>125.0</td>\n      <td>65.40</td>\n      <td>8175.00</td>\n      <td>2017-12-29</td>\n      <td>2021-01-15</td>\n      <td>127.139999</td>\n      <td>0.944037</td>\n      <td>1509.390015</td>\n      <td>5.416095</td>\n      <td>3768.25</td>\n      <td>1.496538</td>\n      <td>-0.552502</td>\n      <td>15892.499924</td>\n      <td>20409.200704</td>\n      <td>-4516.700781</td>\n      <td>7717.499924</td>\n      <td>12234.200704</td>\n      <td>132.690002</td>\n    </tr>\n    <tr>\n      <th>1</th>\n      <td>1</td>\n      <td>JNJ</td>\n      <td>2014-02-27</td>\n      <td>100.0</td>\n      <td>81.90</td>\n      <td>8190.00</td>\n      <td>2017-12-29</td>\n      <td>2021-01-15</td>\n      <td>160.300003</td>\n      <td>0.957265</td>\n      <td>1854.290039</td>\n      <td>4.416785</td>\n      <td>3768.25</td>\n      <td>1.032179</td>\n      <td>-0.074914</td>\n      <td>16030.000305</td>\n      <td>16643.549202</td>\n      <td>-613.548897</td>\n      <td>7840.000305</td>\n      <td>8453.549202</td>\n      <td>157.380005</td>\n    </tr>\n    <tr>\n      <th>2</th>\n      <td>2</td>\n      <td>MCD</td>\n      <td>2013-06-04</td>\n      <td>100.0</td>\n      <td>84.99</td>\n      <td>8499.00</td>\n      <td>2017-12-29</td>\n      <td>2021-01-15</td>\n      <td>209.910004</td>\n      <td>1.469820</td>\n      <td>1631.380005</td>\n      <td>5.209700</td>\n      <td>3768.25</td>\n      <td>1.309854</td>\n      <td>0.159966</td>\n      <td>20991.000366</td>\n      <td>19631.451075</td>\n      <td>1359.549292</td>\n      <td>12492.000366</td>\n      <td>11132.451075</td>\n      <td>214.580002</td>\n    </tr>\n    <tr>\n      <th>3</th>\n      <td>3</td>\n      <td>MTCH</td>\n      <td>2015-12-14</td>\n      <td>600.0</td>\n      <td>13.63</td>\n      <td>8178.00</td>\n      <td>2017-12-29</td>\n      <td>2021-01-15</td>\n      <td>150.850006</td>\n      <td>10.067499</td>\n      <td>2021.939941</td>\n      <td>4.044631</td>\n      <td>3768.25</td>\n      <td>0.863680</td>\n      <td>9.203818</td>\n      <td>90510.003662</td>\n      <td>15241.178963</td>\n      <td>75268.824699</td>\n      <td>82332.003662</td>\n      <td>7063.178963</td>\n      <td>151.190002</td>\n    </tr>\n    <tr>\n      <th>4</th>\n      <td>4</td>\n      <td>NFLX</td>\n      <td>2016-01-14</td>\n      <td>75.0</td>\n      <td>108.71</td>\n      <td>8153.25</td>\n      <td>2017-12-29</td>\n      <td>2021-01-15</td>\n      <td>497.980011</td>\n      <td>3.580811</td>\n      <td>1921.839966</td>\n      <td>4.242419</td>\n      <td>3768.25</td>\n      <td>0.960751</td>\n      <td>2.620060</td>\n      <td>37348.500824</td>\n      <td>15986.494640</td>\n      <td>21362.006184</td>\n      <td>29195.250824</td>\n      <td>7833.244640</td>\n      <td>540.729980</td>\n    </tr>\n    <tr>\n      <th>5</th>\n      <td>5</td>\n      <td>WMT</td>\n      <td>2013-08-14</td>\n      <td>125.0</td>\n      <td>68.30</td>\n      <td>8537.50</td>\n      <td>2017-12-29</td>\n      <td>2021-01-15</td>\n      <td>144.639999</td>\n      <td>1.117716</td>\n      <td>1685.390015</td>\n      <td>5.065593</td>\n      <td>3768.25</td>\n      <td>1.235833</td>\n      <td>-0.118117</td>\n      <td>18079.999924</td>\n      <td>19088.421134</td>\n      <td>-1008.421211</td>\n      <td>9542.499924</td>\n      <td>10550.921134</td>\n      <td>144.149994</td>\n    </tr>\n    <tr>\n      <th>6</th>\n      <td>6</td>\n      <td>FB</td>\n      <td>2013-12-13</td>\n      <td>150.0</td>\n      <td>53.32</td>\n      <td>7998.00</td>\n      <td>2017-12-29</td>\n      <td>2021-01-15</td>\n      <td>251.360001</td>\n      <td>3.714179</td>\n      <td>1775.319946</td>\n      <td>4.505103</td>\n      <td>3768.25</td>\n      <td>1.122575</td>\n      <td>2.591603</td>\n      <td>37704.000092</td>\n      <td>16976.356044</td>\n      <td>20727.644048</td>\n      <td>29706.000092</td>\n      <td>8978.356044</td>\n      <td>273.160004</td>\n    </tr>\n    <tr>\n      <th>7</th>\n      <td>7</td>\n      <td>TWTR</td>\n      <td>2015-01-05</td>\n      <td>225.0</td>\n      <td>36.38</td>\n      <td>8185.50</td>\n      <td>2017-12-29</td>\n      <td>2021-01-15</td>\n      <td>45.180000</td>\n      <td>0.241891</td>\n      <td>2020.579956</td>\n      <td>4.051065</td>\n      <td>3768.25</td>\n      <td>0.864935</td>\n      <td>-0.623044</td>\n      <td>10165.500069</td>\n      <td>15265.424307</td>\n      <td>-5099.924238</td>\n      <td>1980.000069</td>\n      <td>7079.924307</td>\n      <td>54.150002</td>\n    </tr>\n  </tbody>\n</table>\n</div>"
     },
     "metadata": {},
     "execution_count": 174
    }
   ],
   "source": [
    "merged_portfolio_sp_latest_YTD"
   ]
  },
  {
   "cell_type": "code",
   "execution_count": 175,
   "metadata": {},
   "outputs": [],
   "source": [
    "merged_portfolio_sp_latest_YTD.rename(columns={'Adj Close': 'Ticker Start Year Close'}, inplace=True)"
   ]
  },
  {
   "cell_type": "code",
   "execution_count": 176,
   "metadata": {},
   "outputs": [
    {
     "output_type": "execute_result",
     "data": {
      "text/plain": [
       "   index Ticker Acquisition Date  Quantity  Unit Cost  Cost Basis  \\\n",
       "0      0   AAPL       2013-02-07     125.0      65.40     8175.00   \n",
       "1      1    JNJ       2014-02-27     100.0      81.90     8190.00   \n",
       "2      2    MCD       2013-06-04     100.0      84.99     8499.00   \n",
       "3      3   MTCH       2015-12-14     600.0      13.63     8178.00   \n",
       "4      4   NFLX       2016-01-14      75.0     108.71     8153.25   \n",
       "5      5    WMT       2013-08-14     125.0      68.30     8537.50   \n",
       "6      6     FB       2013-12-13     150.0      53.32     7998.00   \n",
       "7      7   TWTR       2015-01-05     225.0      36.38     8185.50   \n",
       "\n",
       "  Start of Year Latest Date  Ticker Adj Close  ticker return  \\\n",
       "0    2017-12-29  2021-01-15        127.139999       0.944037   \n",
       "1    2017-12-29  2021-01-15        160.300003       0.957265   \n",
       "2    2017-12-29  2021-01-15        209.910004       1.469820   \n",
       "3    2017-12-29  2021-01-15        150.850006      10.067499   \n",
       "4    2017-12-29  2021-01-15        497.980011       3.580811   \n",
       "5    2017-12-29  2021-01-15        144.639999       1.117716   \n",
       "6    2017-12-29  2021-01-15        251.360001       3.714179   \n",
       "7    2017-12-29  2021-01-15         45.180000       0.241891   \n",
       "\n",
       "   SP 500 Initial Close  Equiv SP Shares  SP 500 Latest Close  SP Return  \\\n",
       "0           1509.390015         5.416095              3768.25   1.496538   \n",
       "1           1854.290039         4.416785              3768.25   1.032179   \n",
       "2           1631.380005         5.209700              3768.25   1.309854   \n",
       "3           2021.939941         4.044631              3768.25   0.863680   \n",
       "4           1921.839966         4.242419              3768.25   0.960751   \n",
       "5           1685.390015         5.065593              3768.25   1.235833   \n",
       "6           1775.319946         4.505103              3768.25   1.122575   \n",
       "7           2020.579956         4.051065              3768.25   0.864935   \n",
       "\n",
       "   Abs. Return Compare  Ticker Share Value  SP 500 Value  Abs Value Compare  \\\n",
       "0            -0.552502        15892.499924  20409.200704       -4516.700781   \n",
       "1            -0.074914        16030.000305  16643.549202        -613.548897   \n",
       "2             0.159966        20991.000366  19631.451075        1359.549292   \n",
       "3             9.203818        90510.003662  15241.178963       75268.824699   \n",
       "4             2.620060        37348.500824  15986.494640       21362.006184   \n",
       "5            -0.118117        18079.999924  19088.421134       -1008.421211   \n",
       "6             2.591603        37704.000092  16976.356044       20727.644048   \n",
       "7            -0.623044        10165.500069  15265.424307       -5099.924238   \n",
       "\n",
       "   Stock Gain / (Loss)  SP 500 Gain / (Loss)  Ticker Start Year Close  \n",
       "0          7717.499924          12234.200704               132.690002  \n",
       "1          7840.000305           8453.549202               157.380005  \n",
       "2         12492.000366          11132.451075               214.580002  \n",
       "3         82332.003662           7063.178963               151.190002  \n",
       "4         29195.250824           7833.244640               540.729980  \n",
       "5          9542.499924          10550.921134               144.149994  \n",
       "6         29706.000092           8978.356044               273.160004  \n",
       "7          1980.000069           7079.924307                54.150002  "
      ],
      "text/html": "<div>\n<style scoped>\n    .dataframe tbody tr th:only-of-type {\n        vertical-align: middle;\n    }\n\n    .dataframe tbody tr th {\n        vertical-align: top;\n    }\n\n    .dataframe thead th {\n        text-align: right;\n    }\n</style>\n<table border=\"1\" class=\"dataframe\">\n  <thead>\n    <tr style=\"text-align: right;\">\n      <th></th>\n      <th>index</th>\n      <th>Ticker</th>\n      <th>Acquisition Date</th>\n      <th>Quantity</th>\n      <th>Unit Cost</th>\n      <th>Cost Basis</th>\n      <th>Start of Year</th>\n      <th>Latest Date</th>\n      <th>Ticker Adj Close</th>\n      <th>ticker return</th>\n      <th>SP 500 Initial Close</th>\n      <th>Equiv SP Shares</th>\n      <th>SP 500 Latest Close</th>\n      <th>SP Return</th>\n      <th>Abs. Return Compare</th>\n      <th>Ticker Share Value</th>\n      <th>SP 500 Value</th>\n      <th>Abs Value Compare</th>\n      <th>Stock Gain / (Loss)</th>\n      <th>SP 500 Gain / (Loss)</th>\n      <th>Ticker Start Year Close</th>\n    </tr>\n  </thead>\n  <tbody>\n    <tr>\n      <th>0</th>\n      <td>0</td>\n      <td>AAPL</td>\n      <td>2013-02-07</td>\n      <td>125.0</td>\n      <td>65.40</td>\n      <td>8175.00</td>\n      <td>2017-12-29</td>\n      <td>2021-01-15</td>\n      <td>127.139999</td>\n      <td>0.944037</td>\n      <td>1509.390015</td>\n      <td>5.416095</td>\n      <td>3768.25</td>\n      <td>1.496538</td>\n      <td>-0.552502</td>\n      <td>15892.499924</td>\n      <td>20409.200704</td>\n      <td>-4516.700781</td>\n      <td>7717.499924</td>\n      <td>12234.200704</td>\n      <td>132.690002</td>\n    </tr>\n    <tr>\n      <th>1</th>\n      <td>1</td>\n      <td>JNJ</td>\n      <td>2014-02-27</td>\n      <td>100.0</td>\n      <td>81.90</td>\n      <td>8190.00</td>\n      <td>2017-12-29</td>\n      <td>2021-01-15</td>\n      <td>160.300003</td>\n      <td>0.957265</td>\n      <td>1854.290039</td>\n      <td>4.416785</td>\n      <td>3768.25</td>\n      <td>1.032179</td>\n      <td>-0.074914</td>\n      <td>16030.000305</td>\n      <td>16643.549202</td>\n      <td>-613.548897</td>\n      <td>7840.000305</td>\n      <td>8453.549202</td>\n      <td>157.380005</td>\n    </tr>\n    <tr>\n      <th>2</th>\n      <td>2</td>\n      <td>MCD</td>\n      <td>2013-06-04</td>\n      <td>100.0</td>\n      <td>84.99</td>\n      <td>8499.00</td>\n      <td>2017-12-29</td>\n      <td>2021-01-15</td>\n      <td>209.910004</td>\n      <td>1.469820</td>\n      <td>1631.380005</td>\n      <td>5.209700</td>\n      <td>3768.25</td>\n      <td>1.309854</td>\n      <td>0.159966</td>\n      <td>20991.000366</td>\n      <td>19631.451075</td>\n      <td>1359.549292</td>\n      <td>12492.000366</td>\n      <td>11132.451075</td>\n      <td>214.580002</td>\n    </tr>\n    <tr>\n      <th>3</th>\n      <td>3</td>\n      <td>MTCH</td>\n      <td>2015-12-14</td>\n      <td>600.0</td>\n      <td>13.63</td>\n      <td>8178.00</td>\n      <td>2017-12-29</td>\n      <td>2021-01-15</td>\n      <td>150.850006</td>\n      <td>10.067499</td>\n      <td>2021.939941</td>\n      <td>4.044631</td>\n      <td>3768.25</td>\n      <td>0.863680</td>\n      <td>9.203818</td>\n      <td>90510.003662</td>\n      <td>15241.178963</td>\n      <td>75268.824699</td>\n      <td>82332.003662</td>\n      <td>7063.178963</td>\n      <td>151.190002</td>\n    </tr>\n    <tr>\n      <th>4</th>\n      <td>4</td>\n      <td>NFLX</td>\n      <td>2016-01-14</td>\n      <td>75.0</td>\n      <td>108.71</td>\n      <td>8153.25</td>\n      <td>2017-12-29</td>\n      <td>2021-01-15</td>\n      <td>497.980011</td>\n      <td>3.580811</td>\n      <td>1921.839966</td>\n      <td>4.242419</td>\n      <td>3768.25</td>\n      <td>0.960751</td>\n      <td>2.620060</td>\n      <td>37348.500824</td>\n      <td>15986.494640</td>\n      <td>21362.006184</td>\n      <td>29195.250824</td>\n      <td>7833.244640</td>\n      <td>540.729980</td>\n    </tr>\n    <tr>\n      <th>5</th>\n      <td>5</td>\n      <td>WMT</td>\n      <td>2013-08-14</td>\n      <td>125.0</td>\n      <td>68.30</td>\n      <td>8537.50</td>\n      <td>2017-12-29</td>\n      <td>2021-01-15</td>\n      <td>144.639999</td>\n      <td>1.117716</td>\n      <td>1685.390015</td>\n      <td>5.065593</td>\n      <td>3768.25</td>\n      <td>1.235833</td>\n      <td>-0.118117</td>\n      <td>18079.999924</td>\n      <td>19088.421134</td>\n      <td>-1008.421211</td>\n      <td>9542.499924</td>\n      <td>10550.921134</td>\n      <td>144.149994</td>\n    </tr>\n    <tr>\n      <th>6</th>\n      <td>6</td>\n      <td>FB</td>\n      <td>2013-12-13</td>\n      <td>150.0</td>\n      <td>53.32</td>\n      <td>7998.00</td>\n      <td>2017-12-29</td>\n      <td>2021-01-15</td>\n      <td>251.360001</td>\n      <td>3.714179</td>\n      <td>1775.319946</td>\n      <td>4.505103</td>\n      <td>3768.25</td>\n      <td>1.122575</td>\n      <td>2.591603</td>\n      <td>37704.000092</td>\n      <td>16976.356044</td>\n      <td>20727.644048</td>\n      <td>29706.000092</td>\n      <td>8978.356044</td>\n      <td>273.160004</td>\n    </tr>\n    <tr>\n      <th>7</th>\n      <td>7</td>\n      <td>TWTR</td>\n      <td>2015-01-05</td>\n      <td>225.0</td>\n      <td>36.38</td>\n      <td>8185.50</td>\n      <td>2017-12-29</td>\n      <td>2021-01-15</td>\n      <td>45.180000</td>\n      <td>0.241891</td>\n      <td>2020.579956</td>\n      <td>4.051065</td>\n      <td>3768.25</td>\n      <td>0.864935</td>\n      <td>-0.623044</td>\n      <td>10165.500069</td>\n      <td>15265.424307</td>\n      <td>-5099.924238</td>\n      <td>1980.000069</td>\n      <td>7079.924307</td>\n      <td>54.150002</td>\n    </tr>\n  </tbody>\n</table>\n</div>"
     },
     "metadata": {},
     "execution_count": 176
    }
   ],
   "source": [
    "merged_portfolio_sp_latest_YTD"
   ]
  },
  {
   "cell_type": "code",
   "execution_count": 177,
   "metadata": {},
   "outputs": [
    {
     "output_type": "execute_result",
     "data": {
      "text/plain": [
       "Date\n",
       "2009-12-31    1115.099976\n",
       "2010-01-04    1132.989990\n",
       "2010-01-05    1136.520020\n",
       "2010-01-06    1137.140015\n",
       "2010-01-07    1141.689941\n",
       "                 ...     \n",
       "2021-01-11    3799.610107\n",
       "2021-01-12    3801.189941\n",
       "2021-01-13    3809.840088\n",
       "2021-01-14    3795.540039\n",
       "2021-01-15    3768.250000\n",
       "Name: Adj Close, Length: 2780, dtype: float64"
      ]
     },
     "metadata": {},
     "execution_count": 177
    }
   ],
   "source": [
    "sp_500_adj_close_start = sp500['Adj Close']\n",
    "sp_500_adj_close_start"
   ]
  },
  {
   "cell_type": "code",
   "execution_count": 179,
   "metadata": {},
   "outputs": [],
   "source": [
    "\n",
    "# Join the SP 500 start of year with current dataframe for SP 500 ytd comparisons to tickers.\n",
    "merged_portfolio_sp_latest_YTD_sp = pd.merge(merged_portfolio_sp_latest_YTD, sp_500_adj_close_start\n",
    "                                             , left_on='Start of Year', right_on='Date')"
   ]
  },
  {
   "cell_type": "code",
   "execution_count": 44,
   "metadata": {},
   "outputs": [
    {
     "output_type": "execute_result",
     "data": {
      "text/plain": [
       "  Ticker Acquisition Date  Quantity  Unit Cost  Cost Basis Start Of Year  \\\n",
       "0   AAPL       2013-02-07     125.0      65.40     8175.00    2020-12-29   \n",
       "1    JNJ       2014-02-27     100.0      91.90     9190.00    2020-12-29   \n",
       "2    MCD       2013-06-04     100.0      84.99     8499.00    2020-12-29   \n",
       "3   MTCH       2015-12-14     600.0      13.63     8178.00    2020-12-29   \n",
       "4   NFLX       2016-01-14      75.0     108.71     8153.25    2020-12-29   \n",
       "\n",
       "  Latest Date  Ticker Adj Close  ticker return  SP 500 Initial Close  ...  \\\n",
       "0  2021-01-15        127.139999       0.944037           1509.390015  ...   \n",
       "1  2021-01-15        160.300003       0.744287           1854.290039  ...   \n",
       "2  2021-01-15        209.910004       1.469820           1631.380005  ...   \n",
       "3  2021-01-15        150.850006      10.067499           2021.939941  ...   \n",
       "4  2021-01-15        497.980011       3.580811           1921.839966  ...   \n",
       "\n",
       "   SP 500 Latest Close  SP Return  Abs. Return Compare  Ticker Share Value  \\\n",
       "0              3768.25   1.496538            -0.552502        15892.499924   \n",
       "1              3768.25   1.032179            -0.287892        16030.000305   \n",
       "2              3768.25   1.309854             0.159966        20991.000366   \n",
       "3              3768.25   0.863680             9.203818        90510.003662   \n",
       "4              3768.25   0.960751             2.620060        37348.500824   \n",
       "\n",
       "   SP 500 Value  Abs Value Compare  Stock Gain / (Loss)  SP 500 Gain / (Loss)  \\\n",
       "0  20409.200704       -4516.700781          7717.499924          12234.200704   \n",
       "1  18675.728592       -2645.728287          6840.000305           9485.728592   \n",
       "2  19631.451075        1359.549292         12492.000366          11132.451075   \n",
       "3  15241.178963       75268.824699         82332.003662           7063.178963   \n",
       "4  15986.494640       21362.006184         29195.250824           7833.244640   \n",
       "\n",
       "   Ticker Start Year Close    Adj Close  \n",
       "0               132.690002  3727.040039  \n",
       "1               157.380005  3727.040039  \n",
       "2               214.580002  3727.040039  \n",
       "3               151.190002  3727.040039  \n",
       "4               540.729980  3727.040039  \n",
       "\n",
       "[5 rows x 21 columns]"
      ],
      "text/html": "<div>\n<style scoped>\n    .dataframe tbody tr th:only-of-type {\n        vertical-align: middle;\n    }\n\n    .dataframe tbody tr th {\n        vertical-align: top;\n    }\n\n    .dataframe thead th {\n        text-align: right;\n    }\n</style>\n<table border=\"1\" class=\"dataframe\">\n  <thead>\n    <tr style=\"text-align: right;\">\n      <th></th>\n      <th>Ticker</th>\n      <th>Acquisition Date</th>\n      <th>Quantity</th>\n      <th>Unit Cost</th>\n      <th>Cost Basis</th>\n      <th>Start Of Year</th>\n      <th>Latest Date</th>\n      <th>Ticker Adj Close</th>\n      <th>ticker return</th>\n      <th>SP 500 Initial Close</th>\n      <th>...</th>\n      <th>SP 500 Latest Close</th>\n      <th>SP Return</th>\n      <th>Abs. Return Compare</th>\n      <th>Ticker Share Value</th>\n      <th>SP 500 Value</th>\n      <th>Abs Value Compare</th>\n      <th>Stock Gain / (Loss)</th>\n      <th>SP 500 Gain / (Loss)</th>\n      <th>Ticker Start Year Close</th>\n      <th>Adj Close</th>\n    </tr>\n  </thead>\n  <tbody>\n    <tr>\n      <th>0</th>\n      <td>AAPL</td>\n      <td>2013-02-07</td>\n      <td>125.0</td>\n      <td>65.40</td>\n      <td>8175.00</td>\n      <td>2020-12-29</td>\n      <td>2021-01-15</td>\n      <td>127.139999</td>\n      <td>0.944037</td>\n      <td>1509.390015</td>\n      <td>...</td>\n      <td>3768.25</td>\n      <td>1.496538</td>\n      <td>-0.552502</td>\n      <td>15892.499924</td>\n      <td>20409.200704</td>\n      <td>-4516.700781</td>\n      <td>7717.499924</td>\n      <td>12234.200704</td>\n      <td>132.690002</td>\n      <td>3727.040039</td>\n    </tr>\n    <tr>\n      <th>1</th>\n      <td>JNJ</td>\n      <td>2014-02-27</td>\n      <td>100.0</td>\n      <td>91.90</td>\n      <td>9190.00</td>\n      <td>2020-12-29</td>\n      <td>2021-01-15</td>\n      <td>160.300003</td>\n      <td>0.744287</td>\n      <td>1854.290039</td>\n      <td>...</td>\n      <td>3768.25</td>\n      <td>1.032179</td>\n      <td>-0.287892</td>\n      <td>16030.000305</td>\n      <td>18675.728592</td>\n      <td>-2645.728287</td>\n      <td>6840.000305</td>\n      <td>9485.728592</td>\n      <td>157.380005</td>\n      <td>3727.040039</td>\n    </tr>\n    <tr>\n      <th>2</th>\n      <td>MCD</td>\n      <td>2013-06-04</td>\n      <td>100.0</td>\n      <td>84.99</td>\n      <td>8499.00</td>\n      <td>2020-12-29</td>\n      <td>2021-01-15</td>\n      <td>209.910004</td>\n      <td>1.469820</td>\n      <td>1631.380005</td>\n      <td>...</td>\n      <td>3768.25</td>\n      <td>1.309854</td>\n      <td>0.159966</td>\n      <td>20991.000366</td>\n      <td>19631.451075</td>\n      <td>1359.549292</td>\n      <td>12492.000366</td>\n      <td>11132.451075</td>\n      <td>214.580002</td>\n      <td>3727.040039</td>\n    </tr>\n    <tr>\n      <th>3</th>\n      <td>MTCH</td>\n      <td>2015-12-14</td>\n      <td>600.0</td>\n      <td>13.63</td>\n      <td>8178.00</td>\n      <td>2020-12-29</td>\n      <td>2021-01-15</td>\n      <td>150.850006</td>\n      <td>10.067499</td>\n      <td>2021.939941</td>\n      <td>...</td>\n      <td>3768.25</td>\n      <td>0.863680</td>\n      <td>9.203818</td>\n      <td>90510.003662</td>\n      <td>15241.178963</td>\n      <td>75268.824699</td>\n      <td>82332.003662</td>\n      <td>7063.178963</td>\n      <td>151.190002</td>\n      <td>3727.040039</td>\n    </tr>\n    <tr>\n      <th>4</th>\n      <td>NFLX</td>\n      <td>2016-01-14</td>\n      <td>75.0</td>\n      <td>108.71</td>\n      <td>8153.25</td>\n      <td>2020-12-29</td>\n      <td>2021-01-15</td>\n      <td>497.980011</td>\n      <td>3.580811</td>\n      <td>1921.839966</td>\n      <td>...</td>\n      <td>3768.25</td>\n      <td>0.960751</td>\n      <td>2.620060</td>\n      <td>37348.500824</td>\n      <td>15986.494640</td>\n      <td>21362.006184</td>\n      <td>29195.250824</td>\n      <td>7833.244640</td>\n      <td>540.729980</td>\n      <td>3727.040039</td>\n    </tr>\n  </tbody>\n</table>\n<p>5 rows × 21 columns</p>\n</div>"
     },
     "metadata": {},
     "execution_count": 44
    }
   ],
   "source": [
    "merged_portfolio_sp_latest_YTD_sp"
   ]
  },
  {
   "cell_type": "code",
   "execution_count": 180,
   "metadata": {},
   "outputs": [],
   "source": [
    "# Deleting another unneeded Date column.\n",
    "# del merged_portfolio_sp_latest_YTD_sp['Date']"
   ]
  },
  {
   "cell_type": "code",
   "execution_count": 181,
   "metadata": {},
   "outputs": [],
   "source": [
    "# Renaming so that it's clear this column is SP 500 start of year close.\n",
    "merged_portfolio_sp_latest_YTD_sp.rename(columns={'Adj Close': 'SP Start Year Close'}, inplace=True)"
   ]
  },
  {
   "cell_type": "code",
   "execution_count": 182,
   "metadata": {},
   "outputs": [
    {
     "output_type": "execute_result",
     "data": {
      "text/plain": [
       "   index Ticker Acquisition Date  Quantity  Unit Cost  Cost Basis  \\\n",
       "0      0   AAPL       2013-02-07     125.0      65.40     8175.00   \n",
       "1      1    JNJ       2014-02-27     100.0      81.90     8190.00   \n",
       "2      2    MCD       2013-06-04     100.0      84.99     8499.00   \n",
       "3      3   MTCH       2015-12-14     600.0      13.63     8178.00   \n",
       "4      4   NFLX       2016-01-14      75.0     108.71     8153.25   \n",
       "5      5    WMT       2013-08-14     125.0      68.30     8537.50   \n",
       "6      6     FB       2013-12-13     150.0      53.32     7998.00   \n",
       "7      7   TWTR       2015-01-05     225.0      36.38     8185.50   \n",
       "\n",
       "  Start of Year Latest Date  Ticker Adj Close  ticker return  \\\n",
       "0    2017-12-29  2021-01-15        127.139999       0.944037   \n",
       "1    2017-12-29  2021-01-15        160.300003       0.957265   \n",
       "2    2017-12-29  2021-01-15        209.910004       1.469820   \n",
       "3    2017-12-29  2021-01-15        150.850006      10.067499   \n",
       "4    2017-12-29  2021-01-15        497.980011       3.580811   \n",
       "5    2017-12-29  2021-01-15        144.639999       1.117716   \n",
       "6    2017-12-29  2021-01-15        251.360001       3.714179   \n",
       "7    2017-12-29  2021-01-15         45.180000       0.241891   \n",
       "\n",
       "   SP 500 Initial Close  Equiv SP Shares  SP 500 Latest Close  SP Return  \\\n",
       "0           1509.390015         5.416095              3768.25   1.496538   \n",
       "1           1854.290039         4.416785              3768.25   1.032179   \n",
       "2           1631.380005         5.209700              3768.25   1.309854   \n",
       "3           2021.939941         4.044631              3768.25   0.863680   \n",
       "4           1921.839966         4.242419              3768.25   0.960751   \n",
       "5           1685.390015         5.065593              3768.25   1.235833   \n",
       "6           1775.319946         4.505103              3768.25   1.122575   \n",
       "7           2020.579956         4.051065              3768.25   0.864935   \n",
       "\n",
       "   Abs. Return Compare  Ticker Share Value  SP 500 Value  Abs Value Compare  \\\n",
       "0            -0.552502        15892.499924  20409.200704       -4516.700781   \n",
       "1            -0.074914        16030.000305  16643.549202        -613.548897   \n",
       "2             0.159966        20991.000366  19631.451075        1359.549292   \n",
       "3             9.203818        90510.003662  15241.178963       75268.824699   \n",
       "4             2.620060        37348.500824  15986.494640       21362.006184   \n",
       "5            -0.118117        18079.999924  19088.421134       -1008.421211   \n",
       "6             2.591603        37704.000092  16976.356044       20727.644048   \n",
       "7            -0.623044        10165.500069  15265.424307       -5099.924238   \n",
       "\n",
       "   Stock Gain / (Loss)  SP 500 Gain / (Loss)  Ticker Start Year Close  \\\n",
       "0          7717.499924          12234.200704               132.690002   \n",
       "1          7840.000305           8453.549202               157.380005   \n",
       "2         12492.000366          11132.451075               214.580002   \n",
       "3         82332.003662           7063.178963               151.190002   \n",
       "4         29195.250824           7833.244640               540.729980   \n",
       "5          9542.499924          10550.921134               144.149994   \n",
       "6         29706.000092           8978.356044               273.160004   \n",
       "7          1980.000069           7079.924307                54.150002   \n",
       "\n",
       "   SP Start Year Close  \n",
       "0          2673.610107  \n",
       "1          2673.610107  \n",
       "2          2673.610107  \n",
       "3          2673.610107  \n",
       "4          2673.610107  \n",
       "5          2673.610107  \n",
       "6          2673.610107  \n",
       "7          2673.610107  "
      ],
      "text/html": "<div>\n<style scoped>\n    .dataframe tbody tr th:only-of-type {\n        vertical-align: middle;\n    }\n\n    .dataframe tbody tr th {\n        vertical-align: top;\n    }\n\n    .dataframe thead th {\n        text-align: right;\n    }\n</style>\n<table border=\"1\" class=\"dataframe\">\n  <thead>\n    <tr style=\"text-align: right;\">\n      <th></th>\n      <th>index</th>\n      <th>Ticker</th>\n      <th>Acquisition Date</th>\n      <th>Quantity</th>\n      <th>Unit Cost</th>\n      <th>Cost Basis</th>\n      <th>Start of Year</th>\n      <th>Latest Date</th>\n      <th>Ticker Adj Close</th>\n      <th>ticker return</th>\n      <th>SP 500 Initial Close</th>\n      <th>Equiv SP Shares</th>\n      <th>SP 500 Latest Close</th>\n      <th>SP Return</th>\n      <th>Abs. Return Compare</th>\n      <th>Ticker Share Value</th>\n      <th>SP 500 Value</th>\n      <th>Abs Value Compare</th>\n      <th>Stock Gain / (Loss)</th>\n      <th>SP 500 Gain / (Loss)</th>\n      <th>Ticker Start Year Close</th>\n      <th>SP Start Year Close</th>\n    </tr>\n  </thead>\n  <tbody>\n    <tr>\n      <th>0</th>\n      <td>0</td>\n      <td>AAPL</td>\n      <td>2013-02-07</td>\n      <td>125.0</td>\n      <td>65.40</td>\n      <td>8175.00</td>\n      <td>2017-12-29</td>\n      <td>2021-01-15</td>\n      <td>127.139999</td>\n      <td>0.944037</td>\n      <td>1509.390015</td>\n      <td>5.416095</td>\n      <td>3768.25</td>\n      <td>1.496538</td>\n      <td>-0.552502</td>\n      <td>15892.499924</td>\n      <td>20409.200704</td>\n      <td>-4516.700781</td>\n      <td>7717.499924</td>\n      <td>12234.200704</td>\n      <td>132.690002</td>\n      <td>2673.610107</td>\n    </tr>\n    <tr>\n      <th>1</th>\n      <td>1</td>\n      <td>JNJ</td>\n      <td>2014-02-27</td>\n      <td>100.0</td>\n      <td>81.90</td>\n      <td>8190.00</td>\n      <td>2017-12-29</td>\n      <td>2021-01-15</td>\n      <td>160.300003</td>\n      <td>0.957265</td>\n      <td>1854.290039</td>\n      <td>4.416785</td>\n      <td>3768.25</td>\n      <td>1.032179</td>\n      <td>-0.074914</td>\n      <td>16030.000305</td>\n      <td>16643.549202</td>\n      <td>-613.548897</td>\n      <td>7840.000305</td>\n      <td>8453.549202</td>\n      <td>157.380005</td>\n      <td>2673.610107</td>\n    </tr>\n    <tr>\n      <th>2</th>\n      <td>2</td>\n      <td>MCD</td>\n      <td>2013-06-04</td>\n      <td>100.0</td>\n      <td>84.99</td>\n      <td>8499.00</td>\n      <td>2017-12-29</td>\n      <td>2021-01-15</td>\n      <td>209.910004</td>\n      <td>1.469820</td>\n      <td>1631.380005</td>\n      <td>5.209700</td>\n      <td>3768.25</td>\n      <td>1.309854</td>\n      <td>0.159966</td>\n      <td>20991.000366</td>\n      <td>19631.451075</td>\n      <td>1359.549292</td>\n      <td>12492.000366</td>\n      <td>11132.451075</td>\n      <td>214.580002</td>\n      <td>2673.610107</td>\n    </tr>\n    <tr>\n      <th>3</th>\n      <td>3</td>\n      <td>MTCH</td>\n      <td>2015-12-14</td>\n      <td>600.0</td>\n      <td>13.63</td>\n      <td>8178.00</td>\n      <td>2017-12-29</td>\n      <td>2021-01-15</td>\n      <td>150.850006</td>\n      <td>10.067499</td>\n      <td>2021.939941</td>\n      <td>4.044631</td>\n      <td>3768.25</td>\n      <td>0.863680</td>\n      <td>9.203818</td>\n      <td>90510.003662</td>\n      <td>15241.178963</td>\n      <td>75268.824699</td>\n      <td>82332.003662</td>\n      <td>7063.178963</td>\n      <td>151.190002</td>\n      <td>2673.610107</td>\n    </tr>\n    <tr>\n      <th>4</th>\n      <td>4</td>\n      <td>NFLX</td>\n      <td>2016-01-14</td>\n      <td>75.0</td>\n      <td>108.71</td>\n      <td>8153.25</td>\n      <td>2017-12-29</td>\n      <td>2021-01-15</td>\n      <td>497.980011</td>\n      <td>3.580811</td>\n      <td>1921.839966</td>\n      <td>4.242419</td>\n      <td>3768.25</td>\n      <td>0.960751</td>\n      <td>2.620060</td>\n      <td>37348.500824</td>\n      <td>15986.494640</td>\n      <td>21362.006184</td>\n      <td>29195.250824</td>\n      <td>7833.244640</td>\n      <td>540.729980</td>\n      <td>2673.610107</td>\n    </tr>\n    <tr>\n      <th>5</th>\n      <td>5</td>\n      <td>WMT</td>\n      <td>2013-08-14</td>\n      <td>125.0</td>\n      <td>68.30</td>\n      <td>8537.50</td>\n      <td>2017-12-29</td>\n      <td>2021-01-15</td>\n      <td>144.639999</td>\n      <td>1.117716</td>\n      <td>1685.390015</td>\n      <td>5.065593</td>\n      <td>3768.25</td>\n      <td>1.235833</td>\n      <td>-0.118117</td>\n      <td>18079.999924</td>\n      <td>19088.421134</td>\n      <td>-1008.421211</td>\n      <td>9542.499924</td>\n      <td>10550.921134</td>\n      <td>144.149994</td>\n      <td>2673.610107</td>\n    </tr>\n    <tr>\n      <th>6</th>\n      <td>6</td>\n      <td>FB</td>\n      <td>2013-12-13</td>\n      <td>150.0</td>\n      <td>53.32</td>\n      <td>7998.00</td>\n      <td>2017-12-29</td>\n      <td>2021-01-15</td>\n      <td>251.360001</td>\n      <td>3.714179</td>\n      <td>1775.319946</td>\n      <td>4.505103</td>\n      <td>3768.25</td>\n      <td>1.122575</td>\n      <td>2.591603</td>\n      <td>37704.000092</td>\n      <td>16976.356044</td>\n      <td>20727.644048</td>\n      <td>29706.000092</td>\n      <td>8978.356044</td>\n      <td>273.160004</td>\n      <td>2673.610107</td>\n    </tr>\n    <tr>\n      <th>7</th>\n      <td>7</td>\n      <td>TWTR</td>\n      <td>2015-01-05</td>\n      <td>225.0</td>\n      <td>36.38</td>\n      <td>8185.50</td>\n      <td>2017-12-29</td>\n      <td>2021-01-15</td>\n      <td>45.180000</td>\n      <td>0.241891</td>\n      <td>2020.579956</td>\n      <td>4.051065</td>\n      <td>3768.25</td>\n      <td>0.864935</td>\n      <td>-0.623044</td>\n      <td>10165.500069</td>\n      <td>15265.424307</td>\n      <td>-5099.924238</td>\n      <td>1980.000069</td>\n      <td>7079.924307</td>\n      <td>54.150002</td>\n      <td>2673.610107</td>\n    </tr>\n  </tbody>\n</table>\n</div>"
     },
     "metadata": {},
     "execution_count": 182
    }
   ],
   "source": [
    "merged_portfolio_sp_latest_YTD_sp"
   ]
  },
  {
   "cell_type": "code",
   "execution_count": 183,
   "metadata": {},
   "outputs": [],
   "source": [
    "# YTD return for portfolio position.\n",
    "merged_portfolio_sp_latest_YTD_sp['Share YTD'] = merged_portfolio_sp_latest_YTD_sp['Ticker Adj Close'] / merged_portfolio_sp_latest_YTD_sp['Ticker Start Year Close'] - 1"
   ]
  },
  {
   "cell_type": "code",
   "execution_count": 184,
   "metadata": {},
   "outputs": [],
   "source": [
    "# YTD return for SP to run compares.\n",
    "merged_portfolio_sp_latest_YTD_sp['SP 500 YTD'] = merged_portfolio_sp_latest_YTD_sp['SP 500 Latest Close'] / merged_portfolio_sp_latest_YTD_sp['SP Start Year Close'] - 1"
   ]
  },
  {
   "cell_type": "code",
   "execution_count": 185,
   "metadata": {},
   "outputs": [
    {
     "output_type": "execute_result",
     "data": {
      "text/plain": [
       "   index Ticker Acquisition Date  Quantity  Unit Cost  Cost Basis  \\\n",
       "0      0   AAPL       2013-02-07     125.0      65.40     8175.00   \n",
       "1      1    JNJ       2014-02-27     100.0      81.90     8190.00   \n",
       "2      2    MCD       2013-06-04     100.0      84.99     8499.00   \n",
       "3      3   MTCH       2015-12-14     600.0      13.63     8178.00   \n",
       "4      4   NFLX       2016-01-14      75.0     108.71     8153.25   \n",
       "5      5    WMT       2013-08-14     125.0      68.30     8537.50   \n",
       "6      6     FB       2013-12-13     150.0      53.32     7998.00   \n",
       "7      7   TWTR       2015-01-05     225.0      36.38     8185.50   \n",
       "\n",
       "  Start of Year Latest Date  Ticker Adj Close  ticker return  \\\n",
       "0    2017-12-29  2021-01-15        127.139999       0.944037   \n",
       "1    2017-12-29  2021-01-15        160.300003       0.957265   \n",
       "2    2017-12-29  2021-01-15        209.910004       1.469820   \n",
       "3    2017-12-29  2021-01-15        150.850006      10.067499   \n",
       "4    2017-12-29  2021-01-15        497.980011       3.580811   \n",
       "5    2017-12-29  2021-01-15        144.639999       1.117716   \n",
       "6    2017-12-29  2021-01-15        251.360001       3.714179   \n",
       "7    2017-12-29  2021-01-15         45.180000       0.241891   \n",
       "\n",
       "   SP 500 Initial Close  Equiv SP Shares  SP 500 Latest Close  SP Return  \\\n",
       "0           1509.390015         5.416095              3768.25   1.496538   \n",
       "1           1854.290039         4.416785              3768.25   1.032179   \n",
       "2           1631.380005         5.209700              3768.25   1.309854   \n",
       "3           2021.939941         4.044631              3768.25   0.863680   \n",
       "4           1921.839966         4.242419              3768.25   0.960751   \n",
       "5           1685.390015         5.065593              3768.25   1.235833   \n",
       "6           1775.319946         4.505103              3768.25   1.122575   \n",
       "7           2020.579956         4.051065              3768.25   0.864935   \n",
       "\n",
       "   Abs. Return Compare  Ticker Share Value  SP 500 Value  Abs Value Compare  \\\n",
       "0            -0.552502        15892.499924  20409.200704       -4516.700781   \n",
       "1            -0.074914        16030.000305  16643.549202        -613.548897   \n",
       "2             0.159966        20991.000366  19631.451075        1359.549292   \n",
       "3             9.203818        90510.003662  15241.178963       75268.824699   \n",
       "4             2.620060        37348.500824  15986.494640       21362.006184   \n",
       "5            -0.118117        18079.999924  19088.421134       -1008.421211   \n",
       "6             2.591603        37704.000092  16976.356044       20727.644048   \n",
       "7            -0.623044        10165.500069  15265.424307       -5099.924238   \n",
       "\n",
       "   Stock Gain / (Loss)  SP 500 Gain / (Loss)  Ticker Start Year Close  \\\n",
       "0          7717.499924          12234.200704               132.690002   \n",
       "1          7840.000305           8453.549202               157.380005   \n",
       "2         12492.000366          11132.451075               214.580002   \n",
       "3         82332.003662           7063.178963               151.190002   \n",
       "4         29195.250824           7833.244640               540.729980   \n",
       "5          9542.499924          10550.921134               144.149994   \n",
       "6         29706.000092           8978.356044               273.160004   \n",
       "7          1980.000069           7079.924307                54.150002   \n",
       "\n",
       "   SP Start Year Close  Share YTD  SP 500 YTD  \n",
       "0          2673.610107  -0.041827    0.409424  \n",
       "1          2673.610107   0.018554    0.409424  \n",
       "2          2673.610107  -0.021763    0.409424  \n",
       "3          2673.610107  -0.002249    0.409424  \n",
       "4          2673.610107  -0.079060    0.409424  \n",
       "5          2673.610107   0.003399    0.409424  \n",
       "6          2673.610107  -0.079807    0.409424  \n",
       "7          2673.610107  -0.165651    0.409424  "
      ],
      "text/html": "<div>\n<style scoped>\n    .dataframe tbody tr th:only-of-type {\n        vertical-align: middle;\n    }\n\n    .dataframe tbody tr th {\n        vertical-align: top;\n    }\n\n    .dataframe thead th {\n        text-align: right;\n    }\n</style>\n<table border=\"1\" class=\"dataframe\">\n  <thead>\n    <tr style=\"text-align: right;\">\n      <th></th>\n      <th>index</th>\n      <th>Ticker</th>\n      <th>Acquisition Date</th>\n      <th>Quantity</th>\n      <th>Unit Cost</th>\n      <th>Cost Basis</th>\n      <th>Start of Year</th>\n      <th>Latest Date</th>\n      <th>Ticker Adj Close</th>\n      <th>ticker return</th>\n      <th>SP 500 Initial Close</th>\n      <th>Equiv SP Shares</th>\n      <th>SP 500 Latest Close</th>\n      <th>SP Return</th>\n      <th>Abs. Return Compare</th>\n      <th>Ticker Share Value</th>\n      <th>SP 500 Value</th>\n      <th>Abs Value Compare</th>\n      <th>Stock Gain / (Loss)</th>\n      <th>SP 500 Gain / (Loss)</th>\n      <th>Ticker Start Year Close</th>\n      <th>SP Start Year Close</th>\n      <th>Share YTD</th>\n      <th>SP 500 YTD</th>\n    </tr>\n  </thead>\n  <tbody>\n    <tr>\n      <th>0</th>\n      <td>0</td>\n      <td>AAPL</td>\n      <td>2013-02-07</td>\n      <td>125.0</td>\n      <td>65.40</td>\n      <td>8175.00</td>\n      <td>2017-12-29</td>\n      <td>2021-01-15</td>\n      <td>127.139999</td>\n      <td>0.944037</td>\n      <td>1509.390015</td>\n      <td>5.416095</td>\n      <td>3768.25</td>\n      <td>1.496538</td>\n      <td>-0.552502</td>\n      <td>15892.499924</td>\n      <td>20409.200704</td>\n      <td>-4516.700781</td>\n      <td>7717.499924</td>\n      <td>12234.200704</td>\n      <td>132.690002</td>\n      <td>2673.610107</td>\n      <td>-0.041827</td>\n      <td>0.409424</td>\n    </tr>\n    <tr>\n      <th>1</th>\n      <td>1</td>\n      <td>JNJ</td>\n      <td>2014-02-27</td>\n      <td>100.0</td>\n      <td>81.90</td>\n      <td>8190.00</td>\n      <td>2017-12-29</td>\n      <td>2021-01-15</td>\n      <td>160.300003</td>\n      <td>0.957265</td>\n      <td>1854.290039</td>\n      <td>4.416785</td>\n      <td>3768.25</td>\n      <td>1.032179</td>\n      <td>-0.074914</td>\n      <td>16030.000305</td>\n      <td>16643.549202</td>\n      <td>-613.548897</td>\n      <td>7840.000305</td>\n      <td>8453.549202</td>\n      <td>157.380005</td>\n      <td>2673.610107</td>\n      <td>0.018554</td>\n      <td>0.409424</td>\n    </tr>\n    <tr>\n      <th>2</th>\n      <td>2</td>\n      <td>MCD</td>\n      <td>2013-06-04</td>\n      <td>100.0</td>\n      <td>84.99</td>\n      <td>8499.00</td>\n      <td>2017-12-29</td>\n      <td>2021-01-15</td>\n      <td>209.910004</td>\n      <td>1.469820</td>\n      <td>1631.380005</td>\n      <td>5.209700</td>\n      <td>3768.25</td>\n      <td>1.309854</td>\n      <td>0.159966</td>\n      <td>20991.000366</td>\n      <td>19631.451075</td>\n      <td>1359.549292</td>\n      <td>12492.000366</td>\n      <td>11132.451075</td>\n      <td>214.580002</td>\n      <td>2673.610107</td>\n      <td>-0.021763</td>\n      <td>0.409424</td>\n    </tr>\n    <tr>\n      <th>3</th>\n      <td>3</td>\n      <td>MTCH</td>\n      <td>2015-12-14</td>\n      <td>600.0</td>\n      <td>13.63</td>\n      <td>8178.00</td>\n      <td>2017-12-29</td>\n      <td>2021-01-15</td>\n      <td>150.850006</td>\n      <td>10.067499</td>\n      <td>2021.939941</td>\n      <td>4.044631</td>\n      <td>3768.25</td>\n      <td>0.863680</td>\n      <td>9.203818</td>\n      <td>90510.003662</td>\n      <td>15241.178963</td>\n      <td>75268.824699</td>\n      <td>82332.003662</td>\n      <td>7063.178963</td>\n      <td>151.190002</td>\n      <td>2673.610107</td>\n      <td>-0.002249</td>\n      <td>0.409424</td>\n    </tr>\n    <tr>\n      <th>4</th>\n      <td>4</td>\n      <td>NFLX</td>\n      <td>2016-01-14</td>\n      <td>75.0</td>\n      <td>108.71</td>\n      <td>8153.25</td>\n      <td>2017-12-29</td>\n      <td>2021-01-15</td>\n      <td>497.980011</td>\n      <td>3.580811</td>\n      <td>1921.839966</td>\n      <td>4.242419</td>\n      <td>3768.25</td>\n      <td>0.960751</td>\n      <td>2.620060</td>\n      <td>37348.500824</td>\n      <td>15986.494640</td>\n      <td>21362.006184</td>\n      <td>29195.250824</td>\n      <td>7833.244640</td>\n      <td>540.729980</td>\n      <td>2673.610107</td>\n      <td>-0.079060</td>\n      <td>0.409424</td>\n    </tr>\n    <tr>\n      <th>5</th>\n      <td>5</td>\n      <td>WMT</td>\n      <td>2013-08-14</td>\n      <td>125.0</td>\n      <td>68.30</td>\n      <td>8537.50</td>\n      <td>2017-12-29</td>\n      <td>2021-01-15</td>\n      <td>144.639999</td>\n      <td>1.117716</td>\n      <td>1685.390015</td>\n      <td>5.065593</td>\n      <td>3768.25</td>\n      <td>1.235833</td>\n      <td>-0.118117</td>\n      <td>18079.999924</td>\n      <td>19088.421134</td>\n      <td>-1008.421211</td>\n      <td>9542.499924</td>\n      <td>10550.921134</td>\n      <td>144.149994</td>\n      <td>2673.610107</td>\n      <td>0.003399</td>\n      <td>0.409424</td>\n    </tr>\n    <tr>\n      <th>6</th>\n      <td>6</td>\n      <td>FB</td>\n      <td>2013-12-13</td>\n      <td>150.0</td>\n      <td>53.32</td>\n      <td>7998.00</td>\n      <td>2017-12-29</td>\n      <td>2021-01-15</td>\n      <td>251.360001</td>\n      <td>3.714179</td>\n      <td>1775.319946</td>\n      <td>4.505103</td>\n      <td>3768.25</td>\n      <td>1.122575</td>\n      <td>2.591603</td>\n      <td>37704.000092</td>\n      <td>16976.356044</td>\n      <td>20727.644048</td>\n      <td>29706.000092</td>\n      <td>8978.356044</td>\n      <td>273.160004</td>\n      <td>2673.610107</td>\n      <td>-0.079807</td>\n      <td>0.409424</td>\n    </tr>\n    <tr>\n      <th>7</th>\n      <td>7</td>\n      <td>TWTR</td>\n      <td>2015-01-05</td>\n      <td>225.0</td>\n      <td>36.38</td>\n      <td>8185.50</td>\n      <td>2017-12-29</td>\n      <td>2021-01-15</td>\n      <td>45.180000</td>\n      <td>0.241891</td>\n      <td>2020.579956</td>\n      <td>4.051065</td>\n      <td>3768.25</td>\n      <td>0.864935</td>\n      <td>-0.623044</td>\n      <td>10165.500069</td>\n      <td>15265.424307</td>\n      <td>-5099.924238</td>\n      <td>1980.000069</td>\n      <td>7079.924307</td>\n      <td>54.150002</td>\n      <td>2673.610107</td>\n      <td>-0.165651</td>\n      <td>0.409424</td>\n    </tr>\n  </tbody>\n</table>\n</div>"
     },
     "metadata": {},
     "execution_count": 185
    }
   ],
   "source": [
    "merged_portfolio_sp_latest_YTD_sp"
   ]
  },
  {
   "cell_type": "code",
   "execution_count": 186,
   "metadata": {},
   "outputs": [],
   "source": [
    "#Investment ROI \n",
    "\n",
    "merged_portfolio_sp_latest_YTD_sp = merged_portfolio_sp_latest_YTD_sp.sort_values(by='Ticker', ascending=True)"
   ]
  },
  {
   "cell_type": "code",
   "execution_count": 187,
   "metadata": {},
   "outputs": [],
   "source": [
    "# Cumulative sum of original investment\n",
    "merged_portfolio_sp_latest_YTD_sp['Cum Invst'] = merged_portfolio_sp_latest_YTD_sp['Cost Basis'].cumsum()"
   ]
  },
  {
   "cell_type": "code",
   "execution_count": 188,
   "metadata": {},
   "outputs": [],
   "source": [
    "# Cumulative sum of Ticker Share Value (latest FMV based on initial quantity purchased).\n",
    "merged_portfolio_sp_latest_YTD_sp['Cum Ticker Returns'] = merged_portfolio_sp_latest_YTD_sp['Ticker Share Value'].cumsum()\n"
   ]
  },
  {
   "cell_type": "code",
   "execution_count": 189,
   "metadata": {},
   "outputs": [],
   "source": [
    "# Cumulative sum of SP Share Value (latest FMV driven off of initial SP equiv purchase).\n",
    "merged_portfolio_sp_latest_YTD_sp['Cum SP Returns'] = merged_portfolio_sp_latest_YTD_sp['SP 500 Value'].cumsum()\n"
   ]
  },
  {
   "cell_type": "code",
   "execution_count": 190,
   "metadata": {},
   "outputs": [],
   "source": [
    "# Cumulative CoC multiple return for stock investments\n",
    "merged_portfolio_sp_latest_YTD_sp['Cum Ticker ROI Mult'] = merged_portfolio_sp_latest_YTD_sp['Cum Ticker Returns'] / merged_portfolio_sp_latest_YTD_sp['Cum Invst']"
   ]
  },
  {
   "cell_type": "code",
   "execution_count": 191,
   "metadata": {},
   "outputs": [
    {
     "output_type": "execute_result",
     "data": {
      "text/plain": [
       "   index Ticker Acquisition Date  Quantity  Unit Cost  Cost Basis  \\\n",
       "0      0   AAPL       2013-02-07     125.0      65.40     8175.00   \n",
       "6      6     FB       2013-12-13     150.0      53.32     7998.00   \n",
       "1      1    JNJ       2014-02-27     100.0      81.90     8190.00   \n",
       "2      2    MCD       2013-06-04     100.0      84.99     8499.00   \n",
       "3      3   MTCH       2015-12-14     600.0      13.63     8178.00   \n",
       "4      4   NFLX       2016-01-14      75.0     108.71     8153.25   \n",
       "7      7   TWTR       2015-01-05     225.0      36.38     8185.50   \n",
       "5      5    WMT       2013-08-14     125.0      68.30     8537.50   \n",
       "\n",
       "  Start of Year Latest Date  Ticker Adj Close  ticker return  \\\n",
       "0    2017-12-29  2021-01-15        127.139999       0.944037   \n",
       "6    2017-12-29  2021-01-15        251.360001       3.714179   \n",
       "1    2017-12-29  2021-01-15        160.300003       0.957265   \n",
       "2    2017-12-29  2021-01-15        209.910004       1.469820   \n",
       "3    2017-12-29  2021-01-15        150.850006      10.067499   \n",
       "4    2017-12-29  2021-01-15        497.980011       3.580811   \n",
       "7    2017-12-29  2021-01-15         45.180000       0.241891   \n",
       "5    2017-12-29  2021-01-15        144.639999       1.117716   \n",
       "\n",
       "   SP 500 Initial Close  Equiv SP Shares  SP 500 Latest Close  SP Return  \\\n",
       "0           1509.390015         5.416095              3768.25   1.496538   \n",
       "6           1775.319946         4.505103              3768.25   1.122575   \n",
       "1           1854.290039         4.416785              3768.25   1.032179   \n",
       "2           1631.380005         5.209700              3768.25   1.309854   \n",
       "3           2021.939941         4.044631              3768.25   0.863680   \n",
       "4           1921.839966         4.242419              3768.25   0.960751   \n",
       "7           2020.579956         4.051065              3768.25   0.864935   \n",
       "5           1685.390015         5.065593              3768.25   1.235833   \n",
       "\n",
       "   Abs. Return Compare  Ticker Share Value  SP 500 Value  Abs Value Compare  \\\n",
       "0            -0.552502        15892.499924  20409.200704       -4516.700781   \n",
       "6             2.591603        37704.000092  16976.356044       20727.644048   \n",
       "1            -0.074914        16030.000305  16643.549202        -613.548897   \n",
       "2             0.159966        20991.000366  19631.451075        1359.549292   \n",
       "3             9.203818        90510.003662  15241.178963       75268.824699   \n",
       "4             2.620060        37348.500824  15986.494640       21362.006184   \n",
       "7            -0.623044        10165.500069  15265.424307       -5099.924238   \n",
       "5            -0.118117        18079.999924  19088.421134       -1008.421211   \n",
       "\n",
       "   Stock Gain / (Loss)  SP 500 Gain / (Loss)  Ticker Start Year Close  \\\n",
       "0          7717.499924          12234.200704               132.690002   \n",
       "6         29706.000092           8978.356044               273.160004   \n",
       "1          7840.000305           8453.549202               157.380005   \n",
       "2         12492.000366          11132.451075               214.580002   \n",
       "3         82332.003662           7063.178963               151.190002   \n",
       "4         29195.250824           7833.244640               540.729980   \n",
       "7          1980.000069           7079.924307                54.150002   \n",
       "5          9542.499924          10550.921134               144.149994   \n",
       "\n",
       "   SP Start Year Close  Share YTD  SP 500 YTD  Cum Invst  Cum Ticker Returns  \\\n",
       "0          2673.610107  -0.041827    0.409424    8175.00        15892.499924   \n",
       "6          2673.610107  -0.079807    0.409424   16173.00        53596.500015   \n",
       "1          2673.610107   0.018554    0.409424   24363.00        69626.500320   \n",
       "2          2673.610107  -0.021763    0.409424   32862.00        90617.500687   \n",
       "3          2673.610107  -0.002249    0.409424   41040.00       181127.504349   \n",
       "4          2673.610107  -0.079060    0.409424   49193.25       218476.005173   \n",
       "7          2673.610107  -0.165651    0.409424   57378.75       228641.505241   \n",
       "5          2673.610107   0.003399    0.409424   65916.25       246721.505165   \n",
       "\n",
       "   Cum SP Returns  Cum Ticker ROI Mult  \n",
       "0    20409.200704             1.944037  \n",
       "6    37385.556748             3.313949  \n",
       "1    54029.105950             2.857879  \n",
       "2    73660.557025             2.757516  \n",
       "3    88901.735988             4.413438  \n",
       "4   104888.230628             4.441179  \n",
       "7   120153.654935             3.984777  \n",
       "5   139242.076069             3.742954  "
      ],
      "text/html": "<div>\n<style scoped>\n    .dataframe tbody tr th:only-of-type {\n        vertical-align: middle;\n    }\n\n    .dataframe tbody tr th {\n        vertical-align: top;\n    }\n\n    .dataframe thead th {\n        text-align: right;\n    }\n</style>\n<table border=\"1\" class=\"dataframe\">\n  <thead>\n    <tr style=\"text-align: right;\">\n      <th></th>\n      <th>index</th>\n      <th>Ticker</th>\n      <th>Acquisition Date</th>\n      <th>Quantity</th>\n      <th>Unit Cost</th>\n      <th>Cost Basis</th>\n      <th>Start of Year</th>\n      <th>Latest Date</th>\n      <th>Ticker Adj Close</th>\n      <th>ticker return</th>\n      <th>SP 500 Initial Close</th>\n      <th>Equiv SP Shares</th>\n      <th>SP 500 Latest Close</th>\n      <th>SP Return</th>\n      <th>Abs. Return Compare</th>\n      <th>Ticker Share Value</th>\n      <th>SP 500 Value</th>\n      <th>Abs Value Compare</th>\n      <th>Stock Gain / (Loss)</th>\n      <th>SP 500 Gain / (Loss)</th>\n      <th>Ticker Start Year Close</th>\n      <th>SP Start Year Close</th>\n      <th>Share YTD</th>\n      <th>SP 500 YTD</th>\n      <th>Cum Invst</th>\n      <th>Cum Ticker Returns</th>\n      <th>Cum SP Returns</th>\n      <th>Cum Ticker ROI Mult</th>\n    </tr>\n  </thead>\n  <tbody>\n    <tr>\n      <th>0</th>\n      <td>0</td>\n      <td>AAPL</td>\n      <td>2013-02-07</td>\n      <td>125.0</td>\n      <td>65.40</td>\n      <td>8175.00</td>\n      <td>2017-12-29</td>\n      <td>2021-01-15</td>\n      <td>127.139999</td>\n      <td>0.944037</td>\n      <td>1509.390015</td>\n      <td>5.416095</td>\n      <td>3768.25</td>\n      <td>1.496538</td>\n      <td>-0.552502</td>\n      <td>15892.499924</td>\n      <td>20409.200704</td>\n      <td>-4516.700781</td>\n      <td>7717.499924</td>\n      <td>12234.200704</td>\n      <td>132.690002</td>\n      <td>2673.610107</td>\n      <td>-0.041827</td>\n      <td>0.409424</td>\n      <td>8175.00</td>\n      <td>15892.499924</td>\n      <td>20409.200704</td>\n      <td>1.944037</td>\n    </tr>\n    <tr>\n      <th>6</th>\n      <td>6</td>\n      <td>FB</td>\n      <td>2013-12-13</td>\n      <td>150.0</td>\n      <td>53.32</td>\n      <td>7998.00</td>\n      <td>2017-12-29</td>\n      <td>2021-01-15</td>\n      <td>251.360001</td>\n      <td>3.714179</td>\n      <td>1775.319946</td>\n      <td>4.505103</td>\n      <td>3768.25</td>\n      <td>1.122575</td>\n      <td>2.591603</td>\n      <td>37704.000092</td>\n      <td>16976.356044</td>\n      <td>20727.644048</td>\n      <td>29706.000092</td>\n      <td>8978.356044</td>\n      <td>273.160004</td>\n      <td>2673.610107</td>\n      <td>-0.079807</td>\n      <td>0.409424</td>\n      <td>16173.00</td>\n      <td>53596.500015</td>\n      <td>37385.556748</td>\n      <td>3.313949</td>\n    </tr>\n    <tr>\n      <th>1</th>\n      <td>1</td>\n      <td>JNJ</td>\n      <td>2014-02-27</td>\n      <td>100.0</td>\n      <td>81.90</td>\n      <td>8190.00</td>\n      <td>2017-12-29</td>\n      <td>2021-01-15</td>\n      <td>160.300003</td>\n      <td>0.957265</td>\n      <td>1854.290039</td>\n      <td>4.416785</td>\n      <td>3768.25</td>\n      <td>1.032179</td>\n      <td>-0.074914</td>\n      <td>16030.000305</td>\n      <td>16643.549202</td>\n      <td>-613.548897</td>\n      <td>7840.000305</td>\n      <td>8453.549202</td>\n      <td>157.380005</td>\n      <td>2673.610107</td>\n      <td>0.018554</td>\n      <td>0.409424</td>\n      <td>24363.00</td>\n      <td>69626.500320</td>\n      <td>54029.105950</td>\n      <td>2.857879</td>\n    </tr>\n    <tr>\n      <th>2</th>\n      <td>2</td>\n      <td>MCD</td>\n      <td>2013-06-04</td>\n      <td>100.0</td>\n      <td>84.99</td>\n      <td>8499.00</td>\n      <td>2017-12-29</td>\n      <td>2021-01-15</td>\n      <td>209.910004</td>\n      <td>1.469820</td>\n      <td>1631.380005</td>\n      <td>5.209700</td>\n      <td>3768.25</td>\n      <td>1.309854</td>\n      <td>0.159966</td>\n      <td>20991.000366</td>\n      <td>19631.451075</td>\n      <td>1359.549292</td>\n      <td>12492.000366</td>\n      <td>11132.451075</td>\n      <td>214.580002</td>\n      <td>2673.610107</td>\n      <td>-0.021763</td>\n      <td>0.409424</td>\n      <td>32862.00</td>\n      <td>90617.500687</td>\n      <td>73660.557025</td>\n      <td>2.757516</td>\n    </tr>\n    <tr>\n      <th>3</th>\n      <td>3</td>\n      <td>MTCH</td>\n      <td>2015-12-14</td>\n      <td>600.0</td>\n      <td>13.63</td>\n      <td>8178.00</td>\n      <td>2017-12-29</td>\n      <td>2021-01-15</td>\n      <td>150.850006</td>\n      <td>10.067499</td>\n      <td>2021.939941</td>\n      <td>4.044631</td>\n      <td>3768.25</td>\n      <td>0.863680</td>\n      <td>9.203818</td>\n      <td>90510.003662</td>\n      <td>15241.178963</td>\n      <td>75268.824699</td>\n      <td>82332.003662</td>\n      <td>7063.178963</td>\n      <td>151.190002</td>\n      <td>2673.610107</td>\n      <td>-0.002249</td>\n      <td>0.409424</td>\n      <td>41040.00</td>\n      <td>181127.504349</td>\n      <td>88901.735988</td>\n      <td>4.413438</td>\n    </tr>\n    <tr>\n      <th>4</th>\n      <td>4</td>\n      <td>NFLX</td>\n      <td>2016-01-14</td>\n      <td>75.0</td>\n      <td>108.71</td>\n      <td>8153.25</td>\n      <td>2017-12-29</td>\n      <td>2021-01-15</td>\n      <td>497.980011</td>\n      <td>3.580811</td>\n      <td>1921.839966</td>\n      <td>4.242419</td>\n      <td>3768.25</td>\n      <td>0.960751</td>\n      <td>2.620060</td>\n      <td>37348.500824</td>\n      <td>15986.494640</td>\n      <td>21362.006184</td>\n      <td>29195.250824</td>\n      <td>7833.244640</td>\n      <td>540.729980</td>\n      <td>2673.610107</td>\n      <td>-0.079060</td>\n      <td>0.409424</td>\n      <td>49193.25</td>\n      <td>218476.005173</td>\n      <td>104888.230628</td>\n      <td>4.441179</td>\n    </tr>\n    <tr>\n      <th>7</th>\n      <td>7</td>\n      <td>TWTR</td>\n      <td>2015-01-05</td>\n      <td>225.0</td>\n      <td>36.38</td>\n      <td>8185.50</td>\n      <td>2017-12-29</td>\n      <td>2021-01-15</td>\n      <td>45.180000</td>\n      <td>0.241891</td>\n      <td>2020.579956</td>\n      <td>4.051065</td>\n      <td>3768.25</td>\n      <td>0.864935</td>\n      <td>-0.623044</td>\n      <td>10165.500069</td>\n      <td>15265.424307</td>\n      <td>-5099.924238</td>\n      <td>1980.000069</td>\n      <td>7079.924307</td>\n      <td>54.150002</td>\n      <td>2673.610107</td>\n      <td>-0.165651</td>\n      <td>0.409424</td>\n      <td>57378.75</td>\n      <td>228641.505241</td>\n      <td>120153.654935</td>\n      <td>3.984777</td>\n    </tr>\n    <tr>\n      <th>5</th>\n      <td>5</td>\n      <td>WMT</td>\n      <td>2013-08-14</td>\n      <td>125.0</td>\n      <td>68.30</td>\n      <td>8537.50</td>\n      <td>2017-12-29</td>\n      <td>2021-01-15</td>\n      <td>144.639999</td>\n      <td>1.117716</td>\n      <td>1685.390015</td>\n      <td>5.065593</td>\n      <td>3768.25</td>\n      <td>1.235833</td>\n      <td>-0.118117</td>\n      <td>18079.999924</td>\n      <td>19088.421134</td>\n      <td>-1008.421211</td>\n      <td>9542.499924</td>\n      <td>10550.921134</td>\n      <td>144.149994</td>\n      <td>2673.610107</td>\n      <td>0.003399</td>\n      <td>0.409424</td>\n      <td>65916.25</td>\n      <td>246721.505165</td>\n      <td>139242.076069</td>\n      <td>3.742954</td>\n    </tr>\n  </tbody>\n</table>\n</div>"
     },
     "metadata": {},
     "execution_count": 191
    }
   ],
   "source": [
    "merged_portfolio_sp_latest_YTD_sp"
   ]
  },
  {
   "cell_type": "code",
   "execution_count": 196,
   "metadata": {},
   "outputs": [],
   "source": [
    "# Need to factor in that some positions were purchased much more recently than others.\n",
    "# Join adj_close dataframe with portfolio in order to have acquisition date.\n",
    "portfolio_df.reset_index(inplace=True)\n",
    "adj_close_acq_date = pd.merge(adj_close, portfolio_df, on='Ticker')\n"
   ]
  },
  {
   "cell_type": "code",
   "execution_count": 197,
   "metadata": {},
   "outputs": [],
   "source": [
    "# delete_columns = ['Quantity', 'Unit Cost', 'Cost Basis', 'Start Of Year']\n",
    "del adj_close_acq_date['Quantity']\n",
    "del adj_close_acq_date['Unit Cost']\n",
    "del adj_close_acq_date['Cost Basis']\n",
    "del adj_close_acq_date['Start of Year']"
   ]
  },
  {
   "cell_type": "code",
   "execution_count": 198,
   "metadata": {},
   "outputs": [
    {
     "output_type": "execute_result",
     "data": {
      "text/plain": [
       "      Ticker       Date  Adj Close  index Acquisition Date\n",
       "0       AAPL 2009-12-31   6.492369      0       2013-02-07\n",
       "1       AAPL 2010-01-04   6.593423      0       2013-02-07\n",
       "2       AAPL 2010-01-05   6.604822      0       2013-02-07\n",
       "3       AAPL 2010-01-06   6.499765      0       2013-02-07\n",
       "4       AAPL 2010-01-07   6.487749      0       2013-02-07\n",
       "...      ...        ...        ...    ...              ...\n",
       "20665   TWTR 2021-01-11  48.180000      7       2015-01-05\n",
       "20666   TWTR 2021-01-12  47.040001      7       2015-01-05\n",
       "20667   TWTR 2021-01-13  47.220001      7       2015-01-05\n",
       "20668   TWTR 2021-01-14  45.790001      7       2015-01-05\n",
       "20669   TWTR 2021-01-15  45.180000      7       2015-01-05\n",
       "\n",
       "[20670 rows x 5 columns]"
      ],
      "text/html": "<div>\n<style scoped>\n    .dataframe tbody tr th:only-of-type {\n        vertical-align: middle;\n    }\n\n    .dataframe tbody tr th {\n        vertical-align: top;\n    }\n\n    .dataframe thead th {\n        text-align: right;\n    }\n</style>\n<table border=\"1\" class=\"dataframe\">\n  <thead>\n    <tr style=\"text-align: right;\">\n      <th></th>\n      <th>Ticker</th>\n      <th>Date</th>\n      <th>Adj Close</th>\n      <th>index</th>\n      <th>Acquisition Date</th>\n    </tr>\n  </thead>\n  <tbody>\n    <tr>\n      <th>0</th>\n      <td>AAPL</td>\n      <td>2009-12-31</td>\n      <td>6.492369</td>\n      <td>0</td>\n      <td>2013-02-07</td>\n    </tr>\n    <tr>\n      <th>1</th>\n      <td>AAPL</td>\n      <td>2010-01-04</td>\n      <td>6.593423</td>\n      <td>0</td>\n      <td>2013-02-07</td>\n    </tr>\n    <tr>\n      <th>2</th>\n      <td>AAPL</td>\n      <td>2010-01-05</td>\n      <td>6.604822</td>\n      <td>0</td>\n      <td>2013-02-07</td>\n    </tr>\n    <tr>\n      <th>3</th>\n      <td>AAPL</td>\n      <td>2010-01-06</td>\n      <td>6.499765</td>\n      <td>0</td>\n      <td>2013-02-07</td>\n    </tr>\n    <tr>\n      <th>4</th>\n      <td>AAPL</td>\n      <td>2010-01-07</td>\n      <td>6.487749</td>\n      <td>0</td>\n      <td>2013-02-07</td>\n    </tr>\n    <tr>\n      <th>...</th>\n      <td>...</td>\n      <td>...</td>\n      <td>...</td>\n      <td>...</td>\n      <td>...</td>\n    </tr>\n    <tr>\n      <th>20665</th>\n      <td>TWTR</td>\n      <td>2021-01-11</td>\n      <td>48.180000</td>\n      <td>7</td>\n      <td>2015-01-05</td>\n    </tr>\n    <tr>\n      <th>20666</th>\n      <td>TWTR</td>\n      <td>2021-01-12</td>\n      <td>47.040001</td>\n      <td>7</td>\n      <td>2015-01-05</td>\n    </tr>\n    <tr>\n      <th>20667</th>\n      <td>TWTR</td>\n      <td>2021-01-13</td>\n      <td>47.220001</td>\n      <td>7</td>\n      <td>2015-01-05</td>\n    </tr>\n    <tr>\n      <th>20668</th>\n      <td>TWTR</td>\n      <td>2021-01-14</td>\n      <td>45.790001</td>\n      <td>7</td>\n      <td>2015-01-05</td>\n    </tr>\n    <tr>\n      <th>20669</th>\n      <td>TWTR</td>\n      <td>2021-01-15</td>\n      <td>45.180000</td>\n      <td>7</td>\n      <td>2015-01-05</td>\n    </tr>\n  </tbody>\n</table>\n<p>20670 rows × 5 columns</p>\n</div>"
     },
     "metadata": {},
     "execution_count": 198
    }
   ],
   "source": [
    "adj_close_acq_date"
   ]
  },
  {
   "cell_type": "code",
   "execution_count": 199,
   "metadata": {},
   "outputs": [],
   "source": [
    "# Sort by these columns in this order in order to make it clearer where compare for each position should begin.\n",
    "adj_close_acq_date.sort_values(by=['Ticker', 'Acquisition Date', 'Date'], ascending=[True, True, True], inplace=True)\n"
   ]
  },
  {
   "cell_type": "code",
   "execution_count": 200,
   "metadata": {},
   "outputs": [],
   "source": [
    "# Anything less than 0 means that the stock close was prior to acquisition.\n",
    "adj_close_acq_date['Date Delta'] = adj_close_acq_date['Date'] - adj_close_acq_date['Acquisition Date']\n",
    "adj_close_acq_date['Date Delta'] = adj_close_acq_date[['Date Delta']].apply(pd.to_numeric)"
   ]
  },
  {
   "cell_type": "code",
   "execution_count": 201,
   "metadata": {},
   "outputs": [],
   "source": [
    "# Modified the dataframe being evaluated to look at highest close which occurred after Acquisition Date (aka, not prior to purchase).\n",
    "adj_close_acq_date_modified = adj_close_acq_date[adj_close_acq_date['Date Delta']>=0]"
   ]
  },
  {
   "cell_type": "code",
   "execution_count": 202,
   "metadata": {},
   "outputs": [],
   "source": [
    "# This pivot table will index on the Ticker and Acquisition Date, and find the max adjusted close.\n",
    "adj_close_pivot = adj_close_acq_date_modified.pivot_table(index=['Ticker', 'Acquisition Date'], values='Adj Close', aggfunc=np.max)\n",
    "adj_close_pivot.reset_index(inplace=True)"
   ]
  },
  {
   "cell_type": "code",
   "execution_count": 203,
   "metadata": {},
   "outputs": [],
   "source": [
    "# Merge the adj close pivot table with the adj_close table in order to grab the date of the Adj Close High (good to know).\n",
    "adj_close_pivot_merged = pd.merge(adj_close_pivot, adj_close\n",
    "                                             , on=['Ticker', 'Adj Close'])\n"
   ]
  },
  {
   "cell_type": "code",
   "execution_count": 204,
   "metadata": {},
   "outputs": [],
   "source": [
    "# Merge the Adj Close pivot table with the master dataframe to have the closing high since you have owned the stock.\n",
    "merged_portfolio_sp_latest_YTD_sp_closing_high = pd.merge(merged_portfolio_sp_latest_YTD_sp, adj_close_pivot_merged\n",
    "                                             , on=['Ticker', 'Acquisition Date'])\n"
   ]
  },
  {
   "cell_type": "code",
   "execution_count": 205,
   "metadata": {},
   "outputs": [],
   "source": [
    "# Renaming so that it's clear that the new columns are closing high and closing high date.\n",
    "merged_portfolio_sp_latest_YTD_sp_closing_high.rename(columns={'Adj Close': 'Closing High Adj Close', 'Date': 'Closing High Adj Close Date'}, inplace=True)\n",
    "merged_portfolio_sp_latest_YTD_sp_closing_high['Pct off High'] = merged_portfolio_sp_latest_YTD_sp_closing_high['Ticker Adj Close'] / merged_portfolio_sp_latest_YTD_sp_closing_high['Closing High Adj Close'] - 1 "
   ]
  },
  {
   "cell_type": "code",
   "execution_count": 206,
   "metadata": {},
   "outputs": [
    {
     "output_type": "execute_result",
     "data": {
      "text/plain": [
       "   index Ticker Acquisition Date  Quantity  Unit Cost  Cost Basis  \\\n",
       "0      0   AAPL       2013-02-07     125.0      65.40     8175.00   \n",
       "1      6     FB       2013-12-13     150.0      53.32     7998.00   \n",
       "2      1    JNJ       2014-02-27     100.0      81.90     8190.00   \n",
       "3      2    MCD       2013-06-04     100.0      84.99     8499.00   \n",
       "4      3   MTCH       2015-12-14     600.0      13.63     8178.00   \n",
       "5      4   NFLX       2016-01-14      75.0     108.71     8153.25   \n",
       "6      7   TWTR       2015-01-05     225.0      36.38     8185.50   \n",
       "7      7   TWTR       2015-01-05     225.0      36.38     8185.50   \n",
       "8      5    WMT       2013-08-14     125.0      68.30     8537.50   \n",
       "\n",
       "  Start of Year Latest Date  Ticker Adj Close  ticker return  \\\n",
       "0    2017-12-29  2021-01-15        127.139999       0.944037   \n",
       "1    2017-12-29  2021-01-15        251.360001       3.714179   \n",
       "2    2017-12-29  2021-01-15        160.300003       0.957265   \n",
       "3    2017-12-29  2021-01-15        209.910004       1.469820   \n",
       "4    2017-12-29  2021-01-15        150.850006      10.067499   \n",
       "5    2017-12-29  2021-01-15        497.980011       3.580811   \n",
       "6    2017-12-29  2021-01-15         45.180000       0.241891   \n",
       "7    2017-12-29  2021-01-15         45.180000       0.241891   \n",
       "8    2017-12-29  2021-01-15        144.639999       1.117716   \n",
       "\n",
       "   SP 500 Initial Close  Equiv SP Shares  SP 500 Latest Close  SP Return  \\\n",
       "0           1509.390015         5.416095              3768.25   1.496538   \n",
       "1           1775.319946         4.505103              3768.25   1.122575   \n",
       "2           1854.290039         4.416785              3768.25   1.032179   \n",
       "3           1631.380005         5.209700              3768.25   1.309854   \n",
       "4           2021.939941         4.044631              3768.25   0.863680   \n",
       "5           1921.839966         4.242419              3768.25   0.960751   \n",
       "6           2020.579956         4.051065              3768.25   0.864935   \n",
       "7           2020.579956         4.051065              3768.25   0.864935   \n",
       "8           1685.390015         5.065593              3768.25   1.235833   \n",
       "\n",
       "   Abs. Return Compare  Ticker Share Value  SP 500 Value  Abs Value Compare  \\\n",
       "0            -0.552502        15892.499924  20409.200704       -4516.700781   \n",
       "1             2.591603        37704.000092  16976.356044       20727.644048   \n",
       "2            -0.074914        16030.000305  16643.549202        -613.548897   \n",
       "3             0.159966        20991.000366  19631.451075        1359.549292   \n",
       "4             9.203818        90510.003662  15241.178963       75268.824699   \n",
       "5             2.620060        37348.500824  15986.494640       21362.006184   \n",
       "6            -0.623044        10165.500069  15265.424307       -5099.924238   \n",
       "7            -0.623044        10165.500069  15265.424307       -5099.924238   \n",
       "8            -0.118117        18079.999924  19088.421134       -1008.421211   \n",
       "\n",
       "   Stock Gain / (Loss)  SP 500 Gain / (Loss)  Ticker Start Year Close  \\\n",
       "0          7717.499924          12234.200704               132.690002   \n",
       "1         29706.000092           8978.356044               273.160004   \n",
       "2          7840.000305           8453.549202               157.380005   \n",
       "3         12492.000366          11132.451075               214.580002   \n",
       "4         82332.003662           7063.178963               151.190002   \n",
       "5         29195.250824           7833.244640               540.729980   \n",
       "6          1980.000069           7079.924307                54.150002   \n",
       "7          1980.000069           7079.924307                54.150002   \n",
       "8          9542.499924          10550.921134               144.149994   \n",
       "\n",
       "   SP Start Year Close  Share YTD  SP 500 YTD  Cum Invst  Cum Ticker Returns  \\\n",
       "0          2673.610107  -0.041827    0.409424    8175.00        15892.499924   \n",
       "1          2673.610107  -0.079807    0.409424   16173.00        53596.500015   \n",
       "2          2673.610107   0.018554    0.409424   24363.00        69626.500320   \n",
       "3          2673.610107  -0.021763    0.409424   32862.00        90617.500687   \n",
       "4          2673.610107  -0.002249    0.409424   41040.00       181127.504349   \n",
       "5          2673.610107  -0.079060    0.409424   49193.25       218476.005173   \n",
       "6          2673.610107  -0.165651    0.409424   57378.75       228641.505241   \n",
       "7          2673.610107  -0.165651    0.409424   57378.75       228641.505241   \n",
       "8          2673.610107   0.003399    0.409424   65916.25       246721.505165   \n",
       "\n",
       "   Cum SP Returns  Cum Ticker ROI Mult  Closing High Adj Close  \\\n",
       "0    20409.200704             1.944037              136.690002   \n",
       "1    37385.556748             3.313949              303.910004   \n",
       "2    54029.105950             2.857879              160.649994   \n",
       "3    73660.557025             2.757516              228.283173   \n",
       "4    88901.735988             4.413438              156.119995   \n",
       "5   104888.230628             4.441179              556.549988   \n",
       "6   120153.654935             3.984777               55.869999   \n",
       "7   120153.654935             3.984777               55.869999   \n",
       "8   139242.076069             3.742954              152.233536   \n",
       "\n",
       "  Closing High Adj Close Date  Pct off High  \n",
       "0                  2020-12-28     -0.069866  \n",
       "1                  2020-08-26     -0.172913  \n",
       "2                  2021-01-14     -0.002179  \n",
       "3                  2020-10-15     -0.080484  \n",
       "4                  2020-12-22     -0.033756  \n",
       "5                  2020-09-01     -0.105238  \n",
       "6                  2014-02-26     -0.191337  \n",
       "7                  2020-12-18     -0.191337  \n",
       "8                  2020-11-30     -0.049881  "
      ],
      "text/html": "<div>\n<style scoped>\n    .dataframe tbody tr th:only-of-type {\n        vertical-align: middle;\n    }\n\n    .dataframe tbody tr th {\n        vertical-align: top;\n    }\n\n    .dataframe thead th {\n        text-align: right;\n    }\n</style>\n<table border=\"1\" class=\"dataframe\">\n  <thead>\n    <tr style=\"text-align: right;\">\n      <th></th>\n      <th>index</th>\n      <th>Ticker</th>\n      <th>Acquisition Date</th>\n      <th>Quantity</th>\n      <th>Unit Cost</th>\n      <th>Cost Basis</th>\n      <th>Start of Year</th>\n      <th>Latest Date</th>\n      <th>Ticker Adj Close</th>\n      <th>ticker return</th>\n      <th>SP 500 Initial Close</th>\n      <th>Equiv SP Shares</th>\n      <th>SP 500 Latest Close</th>\n      <th>SP Return</th>\n      <th>Abs. Return Compare</th>\n      <th>Ticker Share Value</th>\n      <th>SP 500 Value</th>\n      <th>Abs Value Compare</th>\n      <th>Stock Gain / (Loss)</th>\n      <th>SP 500 Gain / (Loss)</th>\n      <th>Ticker Start Year Close</th>\n      <th>SP Start Year Close</th>\n      <th>Share YTD</th>\n      <th>SP 500 YTD</th>\n      <th>Cum Invst</th>\n      <th>Cum Ticker Returns</th>\n      <th>Cum SP Returns</th>\n      <th>Cum Ticker ROI Mult</th>\n      <th>Closing High Adj Close</th>\n      <th>Closing High Adj Close Date</th>\n      <th>Pct off High</th>\n    </tr>\n  </thead>\n  <tbody>\n    <tr>\n      <th>0</th>\n      <td>0</td>\n      <td>AAPL</td>\n      <td>2013-02-07</td>\n      <td>125.0</td>\n      <td>65.40</td>\n      <td>8175.00</td>\n      <td>2017-12-29</td>\n      <td>2021-01-15</td>\n      <td>127.139999</td>\n      <td>0.944037</td>\n      <td>1509.390015</td>\n      <td>5.416095</td>\n      <td>3768.25</td>\n      <td>1.496538</td>\n      <td>-0.552502</td>\n      <td>15892.499924</td>\n      <td>20409.200704</td>\n      <td>-4516.700781</td>\n      <td>7717.499924</td>\n      <td>12234.200704</td>\n      <td>132.690002</td>\n      <td>2673.610107</td>\n      <td>-0.041827</td>\n      <td>0.409424</td>\n      <td>8175.00</td>\n      <td>15892.499924</td>\n      <td>20409.200704</td>\n      <td>1.944037</td>\n      <td>136.690002</td>\n      <td>2020-12-28</td>\n      <td>-0.069866</td>\n    </tr>\n    <tr>\n      <th>1</th>\n      <td>6</td>\n      <td>FB</td>\n      <td>2013-12-13</td>\n      <td>150.0</td>\n      <td>53.32</td>\n      <td>7998.00</td>\n      <td>2017-12-29</td>\n      <td>2021-01-15</td>\n      <td>251.360001</td>\n      <td>3.714179</td>\n      <td>1775.319946</td>\n      <td>4.505103</td>\n      <td>3768.25</td>\n      <td>1.122575</td>\n      <td>2.591603</td>\n      <td>37704.000092</td>\n      <td>16976.356044</td>\n      <td>20727.644048</td>\n      <td>29706.000092</td>\n      <td>8978.356044</td>\n      <td>273.160004</td>\n      <td>2673.610107</td>\n      <td>-0.079807</td>\n      <td>0.409424</td>\n      <td>16173.00</td>\n      <td>53596.500015</td>\n      <td>37385.556748</td>\n      <td>3.313949</td>\n      <td>303.910004</td>\n      <td>2020-08-26</td>\n      <td>-0.172913</td>\n    </tr>\n    <tr>\n      <th>2</th>\n      <td>1</td>\n      <td>JNJ</td>\n      <td>2014-02-27</td>\n      <td>100.0</td>\n      <td>81.90</td>\n      <td>8190.00</td>\n      <td>2017-12-29</td>\n      <td>2021-01-15</td>\n      <td>160.300003</td>\n      <td>0.957265</td>\n      <td>1854.290039</td>\n      <td>4.416785</td>\n      <td>3768.25</td>\n      <td>1.032179</td>\n      <td>-0.074914</td>\n      <td>16030.000305</td>\n      <td>16643.549202</td>\n      <td>-613.548897</td>\n      <td>7840.000305</td>\n      <td>8453.549202</td>\n      <td>157.380005</td>\n      <td>2673.610107</td>\n      <td>0.018554</td>\n      <td>0.409424</td>\n      <td>24363.00</td>\n      <td>69626.500320</td>\n      <td>54029.105950</td>\n      <td>2.857879</td>\n      <td>160.649994</td>\n      <td>2021-01-14</td>\n      <td>-0.002179</td>\n    </tr>\n    <tr>\n      <th>3</th>\n      <td>2</td>\n      <td>MCD</td>\n      <td>2013-06-04</td>\n      <td>100.0</td>\n      <td>84.99</td>\n      <td>8499.00</td>\n      <td>2017-12-29</td>\n      <td>2021-01-15</td>\n      <td>209.910004</td>\n      <td>1.469820</td>\n      <td>1631.380005</td>\n      <td>5.209700</td>\n      <td>3768.25</td>\n      <td>1.309854</td>\n      <td>0.159966</td>\n      <td>20991.000366</td>\n      <td>19631.451075</td>\n      <td>1359.549292</td>\n      <td>12492.000366</td>\n      <td>11132.451075</td>\n      <td>214.580002</td>\n      <td>2673.610107</td>\n      <td>-0.021763</td>\n      <td>0.409424</td>\n      <td>32862.00</td>\n      <td>90617.500687</td>\n      <td>73660.557025</td>\n      <td>2.757516</td>\n      <td>228.283173</td>\n      <td>2020-10-15</td>\n      <td>-0.080484</td>\n    </tr>\n    <tr>\n      <th>4</th>\n      <td>3</td>\n      <td>MTCH</td>\n      <td>2015-12-14</td>\n      <td>600.0</td>\n      <td>13.63</td>\n      <td>8178.00</td>\n      <td>2017-12-29</td>\n      <td>2021-01-15</td>\n      <td>150.850006</td>\n      <td>10.067499</td>\n      <td>2021.939941</td>\n      <td>4.044631</td>\n      <td>3768.25</td>\n      <td>0.863680</td>\n      <td>9.203818</td>\n      <td>90510.003662</td>\n      <td>15241.178963</td>\n      <td>75268.824699</td>\n      <td>82332.003662</td>\n      <td>7063.178963</td>\n      <td>151.190002</td>\n      <td>2673.610107</td>\n      <td>-0.002249</td>\n      <td>0.409424</td>\n      <td>41040.00</td>\n      <td>181127.504349</td>\n      <td>88901.735988</td>\n      <td>4.413438</td>\n      <td>156.119995</td>\n      <td>2020-12-22</td>\n      <td>-0.033756</td>\n    </tr>\n    <tr>\n      <th>5</th>\n      <td>4</td>\n      <td>NFLX</td>\n      <td>2016-01-14</td>\n      <td>75.0</td>\n      <td>108.71</td>\n      <td>8153.25</td>\n      <td>2017-12-29</td>\n      <td>2021-01-15</td>\n      <td>497.980011</td>\n      <td>3.580811</td>\n      <td>1921.839966</td>\n      <td>4.242419</td>\n      <td>3768.25</td>\n      <td>0.960751</td>\n      <td>2.620060</td>\n      <td>37348.500824</td>\n      <td>15986.494640</td>\n      <td>21362.006184</td>\n      <td>29195.250824</td>\n      <td>7833.244640</td>\n      <td>540.729980</td>\n      <td>2673.610107</td>\n      <td>-0.079060</td>\n      <td>0.409424</td>\n      <td>49193.25</td>\n      <td>218476.005173</td>\n      <td>104888.230628</td>\n      <td>4.441179</td>\n      <td>556.549988</td>\n      <td>2020-09-01</td>\n      <td>-0.105238</td>\n    </tr>\n    <tr>\n      <th>6</th>\n      <td>7</td>\n      <td>TWTR</td>\n      <td>2015-01-05</td>\n      <td>225.0</td>\n      <td>36.38</td>\n      <td>8185.50</td>\n      <td>2017-12-29</td>\n      <td>2021-01-15</td>\n      <td>45.180000</td>\n      <td>0.241891</td>\n      <td>2020.579956</td>\n      <td>4.051065</td>\n      <td>3768.25</td>\n      <td>0.864935</td>\n      <td>-0.623044</td>\n      <td>10165.500069</td>\n      <td>15265.424307</td>\n      <td>-5099.924238</td>\n      <td>1980.000069</td>\n      <td>7079.924307</td>\n      <td>54.150002</td>\n      <td>2673.610107</td>\n      <td>-0.165651</td>\n      <td>0.409424</td>\n      <td>57378.75</td>\n      <td>228641.505241</td>\n      <td>120153.654935</td>\n      <td>3.984777</td>\n      <td>55.869999</td>\n      <td>2014-02-26</td>\n      <td>-0.191337</td>\n    </tr>\n    <tr>\n      <th>7</th>\n      <td>7</td>\n      <td>TWTR</td>\n      <td>2015-01-05</td>\n      <td>225.0</td>\n      <td>36.38</td>\n      <td>8185.50</td>\n      <td>2017-12-29</td>\n      <td>2021-01-15</td>\n      <td>45.180000</td>\n      <td>0.241891</td>\n      <td>2020.579956</td>\n      <td>4.051065</td>\n      <td>3768.25</td>\n      <td>0.864935</td>\n      <td>-0.623044</td>\n      <td>10165.500069</td>\n      <td>15265.424307</td>\n      <td>-5099.924238</td>\n      <td>1980.000069</td>\n      <td>7079.924307</td>\n      <td>54.150002</td>\n      <td>2673.610107</td>\n      <td>-0.165651</td>\n      <td>0.409424</td>\n      <td>57378.75</td>\n      <td>228641.505241</td>\n      <td>120153.654935</td>\n      <td>3.984777</td>\n      <td>55.869999</td>\n      <td>2020-12-18</td>\n      <td>-0.191337</td>\n    </tr>\n    <tr>\n      <th>8</th>\n      <td>5</td>\n      <td>WMT</td>\n      <td>2013-08-14</td>\n      <td>125.0</td>\n      <td>68.30</td>\n      <td>8537.50</td>\n      <td>2017-12-29</td>\n      <td>2021-01-15</td>\n      <td>144.639999</td>\n      <td>1.117716</td>\n      <td>1685.390015</td>\n      <td>5.065593</td>\n      <td>3768.25</td>\n      <td>1.235833</td>\n      <td>-0.118117</td>\n      <td>18079.999924</td>\n      <td>19088.421134</td>\n      <td>-1008.421211</td>\n      <td>9542.499924</td>\n      <td>10550.921134</td>\n      <td>144.149994</td>\n      <td>2673.610107</td>\n      <td>0.003399</td>\n      <td>0.409424</td>\n      <td>65916.25</td>\n      <td>246721.505165</td>\n      <td>139242.076069</td>\n      <td>3.742954</td>\n      <td>152.233536</td>\n      <td>2020-11-30</td>\n      <td>-0.049881</td>\n    </tr>\n  </tbody>\n</table>\n</div>"
     },
     "metadata": {},
     "execution_count": 206
    }
   ],
   "source": [
    "merged_portfolio_sp_latest_YTD_sp_closing_high"
   ]
  },
  {
   "cell_type": "code",
   "execution_count": 215,
   "metadata": {},
   "outputs": [
    {
     "output_type": "display_data",
     "data": {
      "application/vnd.plotly.v1+json": {
       "config": {
        "linkText": "Export to plot.ly",
        "plotlyServerURL": "https://plot.ly",
        "showLink": false
       },
       "data": [
        {
         "name": "Ticker Total Return",
         "type": "bar",
         "x": [
          "AAPL",
          "FB",
          "JNJ",
          "MCD",
          "MTCH",
          "NFLX",
          "TWTR",
          "TWTR",
          "WMT"
         ],
         "y": [
          0.9440366879151136,
          3.7141785560831124,
          0.9572649945269573,
          1.4698200219097468,
          10.06749861361083,
          3.5808114339649357,
          0.24189115737151679,
          0.24189115737151679,
          1.1177159500680593
         ]
        },
        {
         "name": "SP500 Total Return",
         "type": "scatter",
         "x": [
          "AAPL",
          "FB",
          "JNJ",
          "MCD",
          "MTCH",
          "NFLX",
          "TWTR",
          "TWTR",
          "WMT"
         ],
         "y": [
          1.4965383124504696,
          1.1225751492719631,
          1.0321793897491722,
          1.3098542269253115,
          0.8636804797372959,
          0.9607511900147061,
          0.8649348612552561,
          0.8649348612552561,
          1.2358326365105676
         ]
        }
       ],
       "layout": {
        "barmode": "group",
        "legend": {
         "x": 0.8,
         "y": 1
        },
        "template": {
         "data": {
          "bar": [
           {
            "error_x": {
             "color": "#2a3f5f"
            },
            "error_y": {
             "color": "#2a3f5f"
            },
            "marker": {
             "line": {
              "color": "#E5ECF6",
              "width": 0.5
             }
            },
            "type": "bar"
           }
          ],
          "barpolar": [
           {
            "marker": {
             "line": {
              "color": "#E5ECF6",
              "width": 0.5
             }
            },
            "type": "barpolar"
           }
          ],
          "carpet": [
           {
            "aaxis": {
             "endlinecolor": "#2a3f5f",
             "gridcolor": "white",
             "linecolor": "white",
             "minorgridcolor": "white",
             "startlinecolor": "#2a3f5f"
            },
            "baxis": {
             "endlinecolor": "#2a3f5f",
             "gridcolor": "white",
             "linecolor": "white",
             "minorgridcolor": "white",
             "startlinecolor": "#2a3f5f"
            },
            "type": "carpet"
           }
          ],
          "choropleth": [
           {
            "colorbar": {
             "outlinewidth": 0,
             "ticks": ""
            },
            "type": "choropleth"
           }
          ],
          "contour": [
           {
            "colorbar": {
             "outlinewidth": 0,
             "ticks": ""
            },
            "colorscale": [
             [
              0,
              "#0d0887"
             ],
             [
              0.1111111111111111,
              "#46039f"
             ],
             [
              0.2222222222222222,
              "#7201a8"
             ],
             [
              0.3333333333333333,
              "#9c179e"
             ],
             [
              0.4444444444444444,
              "#bd3786"
             ],
             [
              0.5555555555555556,
              "#d8576b"
             ],
             [
              0.6666666666666666,
              "#ed7953"
             ],
             [
              0.7777777777777778,
              "#fb9f3a"
             ],
             [
              0.8888888888888888,
              "#fdca26"
             ],
             [
              1,
              "#f0f921"
             ]
            ],
            "type": "contour"
           }
          ],
          "contourcarpet": [
           {
            "colorbar": {
             "outlinewidth": 0,
             "ticks": ""
            },
            "type": "contourcarpet"
           }
          ],
          "heatmap": [
           {
            "colorbar": {
             "outlinewidth": 0,
             "ticks": ""
            },
            "colorscale": [
             [
              0,
              "#0d0887"
             ],
             [
              0.1111111111111111,
              "#46039f"
             ],
             [
              0.2222222222222222,
              "#7201a8"
             ],
             [
              0.3333333333333333,
              "#9c179e"
             ],
             [
              0.4444444444444444,
              "#bd3786"
             ],
             [
              0.5555555555555556,
              "#d8576b"
             ],
             [
              0.6666666666666666,
              "#ed7953"
             ],
             [
              0.7777777777777778,
              "#fb9f3a"
             ],
             [
              0.8888888888888888,
              "#fdca26"
             ],
             [
              1,
              "#f0f921"
             ]
            ],
            "type": "heatmap"
           }
          ],
          "heatmapgl": [
           {
            "colorbar": {
             "outlinewidth": 0,
             "ticks": ""
            },
            "colorscale": [
             [
              0,
              "#0d0887"
             ],
             [
              0.1111111111111111,
              "#46039f"
             ],
             [
              0.2222222222222222,
              "#7201a8"
             ],
             [
              0.3333333333333333,
              "#9c179e"
             ],
             [
              0.4444444444444444,
              "#bd3786"
             ],
             [
              0.5555555555555556,
              "#d8576b"
             ],
             [
              0.6666666666666666,
              "#ed7953"
             ],
             [
              0.7777777777777778,
              "#fb9f3a"
             ],
             [
              0.8888888888888888,
              "#fdca26"
             ],
             [
              1,
              "#f0f921"
             ]
            ],
            "type": "heatmapgl"
           }
          ],
          "histogram": [
           {
            "marker": {
             "colorbar": {
              "outlinewidth": 0,
              "ticks": ""
             }
            },
            "type": "histogram"
           }
          ],
          "histogram2d": [
           {
            "colorbar": {
             "outlinewidth": 0,
             "ticks": ""
            },
            "colorscale": [
             [
              0,
              "#0d0887"
             ],
             [
              0.1111111111111111,
              "#46039f"
             ],
             [
              0.2222222222222222,
              "#7201a8"
             ],
             [
              0.3333333333333333,
              "#9c179e"
             ],
             [
              0.4444444444444444,
              "#bd3786"
             ],
             [
              0.5555555555555556,
              "#d8576b"
             ],
             [
              0.6666666666666666,
              "#ed7953"
             ],
             [
              0.7777777777777778,
              "#fb9f3a"
             ],
             [
              0.8888888888888888,
              "#fdca26"
             ],
             [
              1,
              "#f0f921"
             ]
            ],
            "type": "histogram2d"
           }
          ],
          "histogram2dcontour": [
           {
            "colorbar": {
             "outlinewidth": 0,
             "ticks": ""
            },
            "colorscale": [
             [
              0,
              "#0d0887"
             ],
             [
              0.1111111111111111,
              "#46039f"
             ],
             [
              0.2222222222222222,
              "#7201a8"
             ],
             [
              0.3333333333333333,
              "#9c179e"
             ],
             [
              0.4444444444444444,
              "#bd3786"
             ],
             [
              0.5555555555555556,
              "#d8576b"
             ],
             [
              0.6666666666666666,
              "#ed7953"
             ],
             [
              0.7777777777777778,
              "#fb9f3a"
             ],
             [
              0.8888888888888888,
              "#fdca26"
             ],
             [
              1,
              "#f0f921"
             ]
            ],
            "type": "histogram2dcontour"
           }
          ],
          "mesh3d": [
           {
            "colorbar": {
             "outlinewidth": 0,
             "ticks": ""
            },
            "type": "mesh3d"
           }
          ],
          "parcoords": [
           {
            "line": {
             "colorbar": {
              "outlinewidth": 0,
              "ticks": ""
             }
            },
            "type": "parcoords"
           }
          ],
          "pie": [
           {
            "automargin": true,
            "type": "pie"
           }
          ],
          "scatter": [
           {
            "marker": {
             "colorbar": {
              "outlinewidth": 0,
              "ticks": ""
             }
            },
            "type": "scatter"
           }
          ],
          "scatter3d": [
           {
            "line": {
             "colorbar": {
              "outlinewidth": 0,
              "ticks": ""
             }
            },
            "marker": {
             "colorbar": {
              "outlinewidth": 0,
              "ticks": ""
             }
            },
            "type": "scatter3d"
           }
          ],
          "scattercarpet": [
           {
            "marker": {
             "colorbar": {
              "outlinewidth": 0,
              "ticks": ""
             }
            },
            "type": "scattercarpet"
           }
          ],
          "scattergeo": [
           {
            "marker": {
             "colorbar": {
              "outlinewidth": 0,
              "ticks": ""
             }
            },
            "type": "scattergeo"
           }
          ],
          "scattergl": [
           {
            "marker": {
             "colorbar": {
              "outlinewidth": 0,
              "ticks": ""
             }
            },
            "type": "scattergl"
           }
          ],
          "scattermapbox": [
           {
            "marker": {
             "colorbar": {
              "outlinewidth": 0,
              "ticks": ""
             }
            },
            "type": "scattermapbox"
           }
          ],
          "scatterpolar": [
           {
            "marker": {
             "colorbar": {
              "outlinewidth": 0,
              "ticks": ""
             }
            },
            "type": "scatterpolar"
           }
          ],
          "scatterpolargl": [
           {
            "marker": {
             "colorbar": {
              "outlinewidth": 0,
              "ticks": ""
             }
            },
            "type": "scatterpolargl"
           }
          ],
          "scatterternary": [
           {
            "marker": {
             "colorbar": {
              "outlinewidth": 0,
              "ticks": ""
             }
            },
            "type": "scatterternary"
           }
          ],
          "surface": [
           {
            "colorbar": {
             "outlinewidth": 0,
             "ticks": ""
            },
            "colorscale": [
             [
              0,
              "#0d0887"
             ],
             [
              0.1111111111111111,
              "#46039f"
             ],
             [
              0.2222222222222222,
              "#7201a8"
             ],
             [
              0.3333333333333333,
              "#9c179e"
             ],
             [
              0.4444444444444444,
              "#bd3786"
             ],
             [
              0.5555555555555556,
              "#d8576b"
             ],
             [
              0.6666666666666666,
              "#ed7953"
             ],
             [
              0.7777777777777778,
              "#fb9f3a"
             ],
             [
              0.8888888888888888,
              "#fdca26"
             ],
             [
              1,
              "#f0f921"
             ]
            ],
            "type": "surface"
           }
          ],
          "table": [
           {
            "cells": {
             "fill": {
              "color": "#EBF0F8"
             },
             "line": {
              "color": "white"
             }
            },
            "header": {
             "fill": {
              "color": "#C8D4E3"
             },
             "line": {
              "color": "white"
             }
            },
            "type": "table"
           }
          ]
         },
         "layout": {
          "annotationdefaults": {
           "arrowcolor": "#2a3f5f",
           "arrowhead": 0,
           "arrowwidth": 1
          },
          "autotypenumbers": "strict",
          "coloraxis": {
           "colorbar": {
            "outlinewidth": 0,
            "ticks": ""
           }
          },
          "colorscale": {
           "diverging": [
            [
             0,
             "#8e0152"
            ],
            [
             0.1,
             "#c51b7d"
            ],
            [
             0.2,
             "#de77ae"
            ],
            [
             0.3,
             "#f1b6da"
            ],
            [
             0.4,
             "#fde0ef"
            ],
            [
             0.5,
             "#f7f7f7"
            ],
            [
             0.6,
             "#e6f5d0"
            ],
            [
             0.7,
             "#b8e186"
            ],
            [
             0.8,
             "#7fbc41"
            ],
            [
             0.9,
             "#4d9221"
            ],
            [
             1,
             "#276419"
            ]
           ],
           "sequential": [
            [
             0,
             "#0d0887"
            ],
            [
             0.1111111111111111,
             "#46039f"
            ],
            [
             0.2222222222222222,
             "#7201a8"
            ],
            [
             0.3333333333333333,
             "#9c179e"
            ],
            [
             0.4444444444444444,
             "#bd3786"
            ],
            [
             0.5555555555555556,
             "#d8576b"
            ],
            [
             0.6666666666666666,
             "#ed7953"
            ],
            [
             0.7777777777777778,
             "#fb9f3a"
            ],
            [
             0.8888888888888888,
             "#fdca26"
            ],
            [
             1,
             "#f0f921"
            ]
           ],
           "sequentialminus": [
            [
             0,
             "#0d0887"
            ],
            [
             0.1111111111111111,
             "#46039f"
            ],
            [
             0.2222222222222222,
             "#7201a8"
            ],
            [
             0.3333333333333333,
             "#9c179e"
            ],
            [
             0.4444444444444444,
             "#bd3786"
            ],
            [
             0.5555555555555556,
             "#d8576b"
            ],
            [
             0.6666666666666666,
             "#ed7953"
            ],
            [
             0.7777777777777778,
             "#fb9f3a"
            ],
            [
             0.8888888888888888,
             "#fdca26"
            ],
            [
             1,
             "#f0f921"
            ]
           ]
          },
          "colorway": [
           "#636efa",
           "#EF553B",
           "#00cc96",
           "#ab63fa",
           "#FFA15A",
           "#19d3f3",
           "#FF6692",
           "#B6E880",
           "#FF97FF",
           "#FECB52"
          ],
          "font": {
           "color": "#2a3f5f"
          },
          "geo": {
           "bgcolor": "white",
           "lakecolor": "white",
           "landcolor": "#E5ECF6",
           "showlakes": true,
           "showland": true,
           "subunitcolor": "white"
          },
          "hoverlabel": {
           "align": "left"
          },
          "hovermode": "closest",
          "mapbox": {
           "style": "light"
          },
          "paper_bgcolor": "white",
          "plot_bgcolor": "#E5ECF6",
          "polar": {
           "angularaxis": {
            "gridcolor": "white",
            "linecolor": "white",
            "ticks": ""
           },
           "bgcolor": "#E5ECF6",
           "radialaxis": {
            "gridcolor": "white",
            "linecolor": "white",
            "ticks": ""
           }
          },
          "scene": {
           "xaxis": {
            "backgroundcolor": "#E5ECF6",
            "gridcolor": "white",
            "gridwidth": 2,
            "linecolor": "white",
            "showbackground": true,
            "ticks": "",
            "zerolinecolor": "white"
           },
           "yaxis": {
            "backgroundcolor": "#E5ECF6",
            "gridcolor": "white",
            "gridwidth": 2,
            "linecolor": "white",
            "showbackground": true,
            "ticks": "",
            "zerolinecolor": "white"
           },
           "zaxis": {
            "backgroundcolor": "#E5ECF6",
            "gridcolor": "white",
            "gridwidth": 2,
            "linecolor": "white",
            "showbackground": true,
            "ticks": "",
            "zerolinecolor": "white"
           }
          },
          "shapedefaults": {
           "line": {
            "color": "#2a3f5f"
           }
          },
          "ternary": {
           "aaxis": {
            "gridcolor": "white",
            "linecolor": "white",
            "ticks": ""
           },
           "baxis": {
            "gridcolor": "white",
            "linecolor": "white",
            "ticks": ""
           },
           "bgcolor": "#E5ECF6",
           "caxis": {
            "gridcolor": "white",
            "linecolor": "white",
            "ticks": ""
           }
          },
          "title": {
           "x": 0.05
          },
          "xaxis": {
           "automargin": true,
           "gridcolor": "white",
           "linecolor": "white",
           "ticks": "",
           "title": {
            "standoff": 15
           },
           "zerolinecolor": "white",
           "zerolinewidth": 2
          },
          "yaxis": {
           "automargin": true,
           "gridcolor": "white",
           "linecolor": "white",
           "ticks": "",
           "title": {
            "standoff": 15
           },
           "zerolinecolor": "white",
           "zerolinewidth": 2
          }
         }
        },
        "title": {
         "text": "Total Return vs S&P 500"
        },
        "xaxis": {
         "title": {
          "text": "Ticker"
         }
        },
        "yaxis": {
         "tickformat": ".2%",
         "title": {
          "text": "Returns"
         }
        }
       }
      }
     },
     "metadata": {}
    }
   ],
   "source": [
    "trace1 = go.Bar(\n",
    "    x = merged_portfolio_sp_latest_YTD_sp_closing_high['Ticker'][0:10],\n",
    "    y = merged_portfolio_sp_latest_YTD_sp_closing_high['ticker return'][0:10],\n",
    "    name = 'Ticker Total Return')\n",
    "trace2 = go.Scatter(\n",
    "    x = merged_portfolio_sp_latest_YTD_sp_closing_high['Ticker'][0:10],\n",
    "    y = merged_portfolio_sp_latest_YTD_sp_closing_high['SP Return'][0:10],\n",
    "    name = 'SP500 Total Return')\n",
    "    \n",
    "data = [trace1, trace2]\n",
    "layout = go.Layout(title = 'Total Return vs S&P 500'\n",
    "    , barmode = 'group'\n",
    "    , yaxis=dict(title='Returns', tickformat=\".2%\")\n",
    "    , xaxis=dict(title='Ticker')\n",
    "    , legend=dict(x=.8,y=1)\n",
    "    )\n",
    "fig = go.Figure(data=data, layout=layout)\n",
    "iplot(fig)"
   ]
  },
  {
   "cell_type": "code",
   "execution_count": 210,
   "metadata": {},
   "outputs": [
    {
     "output_type": "execute_result",
     "data": {
      "text/plain": [
       "   index Ticker Acquisition Date  Quantity  Unit Cost  Cost Basis  \\\n",
       "0      0   AAPL       2013-02-07     125.0      65.40     8175.00   \n",
       "1      6     FB       2013-12-13     150.0      53.32     7998.00   \n",
       "2      1    JNJ       2014-02-27     100.0      81.90     8190.00   \n",
       "3      2    MCD       2013-06-04     100.0      84.99     8499.00   \n",
       "4      3   MTCH       2015-12-14     600.0      13.63     8178.00   \n",
       "5      4   NFLX       2016-01-14      75.0     108.71     8153.25   \n",
       "6      7   TWTR       2015-01-05     225.0      36.38     8185.50   \n",
       "7      7   TWTR       2015-01-05     225.0      36.38     8185.50   \n",
       "8      5    WMT       2013-08-14     125.0      68.30     8537.50   \n",
       "\n",
       "  Start of Year Latest Date  Ticker Adj Close  ticker return  \\\n",
       "0    2017-12-29  2021-01-15        127.139999       0.944037   \n",
       "1    2017-12-29  2021-01-15        251.360001       3.714179   \n",
       "2    2017-12-29  2021-01-15        160.300003       0.957265   \n",
       "3    2017-12-29  2021-01-15        209.910004       1.469820   \n",
       "4    2017-12-29  2021-01-15        150.850006      10.067499   \n",
       "5    2017-12-29  2021-01-15        497.980011       3.580811   \n",
       "6    2017-12-29  2021-01-15         45.180000       0.241891   \n",
       "7    2017-12-29  2021-01-15         45.180000       0.241891   \n",
       "8    2017-12-29  2021-01-15        144.639999       1.117716   \n",
       "\n",
       "   SP 500 Initial Close  Equiv SP Shares  SP 500 Latest Close  SP Return  \\\n",
       "0           1509.390015         5.416095              3768.25   1.496538   \n",
       "1           1775.319946         4.505103              3768.25   1.122575   \n",
       "2           1854.290039         4.416785              3768.25   1.032179   \n",
       "3           1631.380005         5.209700              3768.25   1.309854   \n",
       "4           2021.939941         4.044631              3768.25   0.863680   \n",
       "5           1921.839966         4.242419              3768.25   0.960751   \n",
       "6           2020.579956         4.051065              3768.25   0.864935   \n",
       "7           2020.579956         4.051065              3768.25   0.864935   \n",
       "8           1685.390015         5.065593              3768.25   1.235833   \n",
       "\n",
       "   Abs. Return Compare  Ticker Share Value  SP 500 Value  Abs Value Compare  \\\n",
       "0            -0.552502        15892.499924  20409.200704       -4516.700781   \n",
       "1             2.591603        37704.000092  16976.356044       20727.644048   \n",
       "2            -0.074914        16030.000305  16643.549202        -613.548897   \n",
       "3             0.159966        20991.000366  19631.451075        1359.549292   \n",
       "4             9.203818        90510.003662  15241.178963       75268.824699   \n",
       "5             2.620060        37348.500824  15986.494640       21362.006184   \n",
       "6            -0.623044        10165.500069  15265.424307       -5099.924238   \n",
       "7            -0.623044        10165.500069  15265.424307       -5099.924238   \n",
       "8            -0.118117        18079.999924  19088.421134       -1008.421211   \n",
       "\n",
       "   Stock Gain / (Loss)  SP 500 Gain / (Loss)  Ticker Start Year Close  \\\n",
       "0          7717.499924          12234.200704               132.690002   \n",
       "1         29706.000092           8978.356044               273.160004   \n",
       "2          7840.000305           8453.549202               157.380005   \n",
       "3         12492.000366          11132.451075               214.580002   \n",
       "4         82332.003662           7063.178963               151.190002   \n",
       "5         29195.250824           7833.244640               540.729980   \n",
       "6          1980.000069           7079.924307                54.150002   \n",
       "7          1980.000069           7079.924307                54.150002   \n",
       "8          9542.499924          10550.921134               144.149994   \n",
       "\n",
       "   SP Start Year Close  Share YTD  SP 500 YTD  Cum Invst  Cum Ticker Returns  \\\n",
       "0          2673.610107  -0.041827    0.409424    8175.00        15892.499924   \n",
       "1          2673.610107  -0.079807    0.409424   16173.00        53596.500015   \n",
       "2          2673.610107   0.018554    0.409424   24363.00        69626.500320   \n",
       "3          2673.610107  -0.021763    0.409424   32862.00        90617.500687   \n",
       "4          2673.610107  -0.002249    0.409424   41040.00       181127.504349   \n",
       "5          2673.610107  -0.079060    0.409424   49193.25       218476.005173   \n",
       "6          2673.610107  -0.165651    0.409424   57378.75       228641.505241   \n",
       "7          2673.610107  -0.165651    0.409424   57378.75       228641.505241   \n",
       "8          2673.610107   0.003399    0.409424   65916.25       246721.505165   \n",
       "\n",
       "   Cum SP Returns  Cum Ticker ROI Mult  Closing High Adj Close  \\\n",
       "0    20409.200704             1.944037              136.690002   \n",
       "1    37385.556748             3.313949              303.910004   \n",
       "2    54029.105950             2.857879              160.649994   \n",
       "3    73660.557025             2.757516              228.283173   \n",
       "4    88901.735988             4.413438              156.119995   \n",
       "5   104888.230628             4.441179              556.549988   \n",
       "6   120153.654935             3.984777               55.869999   \n",
       "7   120153.654935             3.984777               55.869999   \n",
       "8   139242.076069             3.742954              152.233536   \n",
       "\n",
       "  Closing High Adj Close Date  Pct off High  \n",
       "0                  2020-12-28     -0.069866  \n",
       "1                  2020-08-26     -0.172913  \n",
       "2                  2021-01-14     -0.002179  \n",
       "3                  2020-10-15     -0.080484  \n",
       "4                  2020-12-22     -0.033756  \n",
       "5                  2020-09-01     -0.105238  \n",
       "6                  2014-02-26     -0.191337  \n",
       "7                  2020-12-18     -0.191337  \n",
       "8                  2020-11-30     -0.049881  "
      ],
      "text/html": "<div>\n<style scoped>\n    .dataframe tbody tr th:only-of-type {\n        vertical-align: middle;\n    }\n\n    .dataframe tbody tr th {\n        vertical-align: top;\n    }\n\n    .dataframe thead th {\n        text-align: right;\n    }\n</style>\n<table border=\"1\" class=\"dataframe\">\n  <thead>\n    <tr style=\"text-align: right;\">\n      <th></th>\n      <th>index</th>\n      <th>Ticker</th>\n      <th>Acquisition Date</th>\n      <th>Quantity</th>\n      <th>Unit Cost</th>\n      <th>Cost Basis</th>\n      <th>Start of Year</th>\n      <th>Latest Date</th>\n      <th>Ticker Adj Close</th>\n      <th>ticker return</th>\n      <th>SP 500 Initial Close</th>\n      <th>Equiv SP Shares</th>\n      <th>SP 500 Latest Close</th>\n      <th>SP Return</th>\n      <th>Abs. Return Compare</th>\n      <th>Ticker Share Value</th>\n      <th>SP 500 Value</th>\n      <th>Abs Value Compare</th>\n      <th>Stock Gain / (Loss)</th>\n      <th>SP 500 Gain / (Loss)</th>\n      <th>Ticker Start Year Close</th>\n      <th>SP Start Year Close</th>\n      <th>Share YTD</th>\n      <th>SP 500 YTD</th>\n      <th>Cum Invst</th>\n      <th>Cum Ticker Returns</th>\n      <th>Cum SP Returns</th>\n      <th>Cum Ticker ROI Mult</th>\n      <th>Closing High Adj Close</th>\n      <th>Closing High Adj Close Date</th>\n      <th>Pct off High</th>\n    </tr>\n  </thead>\n  <tbody>\n    <tr>\n      <th>0</th>\n      <td>0</td>\n      <td>AAPL</td>\n      <td>2013-02-07</td>\n      <td>125.0</td>\n      <td>65.40</td>\n      <td>8175.00</td>\n      <td>2017-12-29</td>\n      <td>2021-01-15</td>\n      <td>127.139999</td>\n      <td>0.944037</td>\n      <td>1509.390015</td>\n      <td>5.416095</td>\n      <td>3768.25</td>\n      <td>1.496538</td>\n      <td>-0.552502</td>\n      <td>15892.499924</td>\n      <td>20409.200704</td>\n      <td>-4516.700781</td>\n      <td>7717.499924</td>\n      <td>12234.200704</td>\n      <td>132.690002</td>\n      <td>2673.610107</td>\n      <td>-0.041827</td>\n      <td>0.409424</td>\n      <td>8175.00</td>\n      <td>15892.499924</td>\n      <td>20409.200704</td>\n      <td>1.944037</td>\n      <td>136.690002</td>\n      <td>2020-12-28</td>\n      <td>-0.069866</td>\n    </tr>\n    <tr>\n      <th>1</th>\n      <td>6</td>\n      <td>FB</td>\n      <td>2013-12-13</td>\n      <td>150.0</td>\n      <td>53.32</td>\n      <td>7998.00</td>\n      <td>2017-12-29</td>\n      <td>2021-01-15</td>\n      <td>251.360001</td>\n      <td>3.714179</td>\n      <td>1775.319946</td>\n      <td>4.505103</td>\n      <td>3768.25</td>\n      <td>1.122575</td>\n      <td>2.591603</td>\n      <td>37704.000092</td>\n      <td>16976.356044</td>\n      <td>20727.644048</td>\n      <td>29706.000092</td>\n      <td>8978.356044</td>\n      <td>273.160004</td>\n      <td>2673.610107</td>\n      <td>-0.079807</td>\n      <td>0.409424</td>\n      <td>16173.00</td>\n      <td>53596.500015</td>\n      <td>37385.556748</td>\n      <td>3.313949</td>\n      <td>303.910004</td>\n      <td>2020-08-26</td>\n      <td>-0.172913</td>\n    </tr>\n    <tr>\n      <th>2</th>\n      <td>1</td>\n      <td>JNJ</td>\n      <td>2014-02-27</td>\n      <td>100.0</td>\n      <td>81.90</td>\n      <td>8190.00</td>\n      <td>2017-12-29</td>\n      <td>2021-01-15</td>\n      <td>160.300003</td>\n      <td>0.957265</td>\n      <td>1854.290039</td>\n      <td>4.416785</td>\n      <td>3768.25</td>\n      <td>1.032179</td>\n      <td>-0.074914</td>\n      <td>16030.000305</td>\n      <td>16643.549202</td>\n      <td>-613.548897</td>\n      <td>7840.000305</td>\n      <td>8453.549202</td>\n      <td>157.380005</td>\n      <td>2673.610107</td>\n      <td>0.018554</td>\n      <td>0.409424</td>\n      <td>24363.00</td>\n      <td>69626.500320</td>\n      <td>54029.105950</td>\n      <td>2.857879</td>\n      <td>160.649994</td>\n      <td>2021-01-14</td>\n      <td>-0.002179</td>\n    </tr>\n    <tr>\n      <th>3</th>\n      <td>2</td>\n      <td>MCD</td>\n      <td>2013-06-04</td>\n      <td>100.0</td>\n      <td>84.99</td>\n      <td>8499.00</td>\n      <td>2017-12-29</td>\n      <td>2021-01-15</td>\n      <td>209.910004</td>\n      <td>1.469820</td>\n      <td>1631.380005</td>\n      <td>5.209700</td>\n      <td>3768.25</td>\n      <td>1.309854</td>\n      <td>0.159966</td>\n      <td>20991.000366</td>\n      <td>19631.451075</td>\n      <td>1359.549292</td>\n      <td>12492.000366</td>\n      <td>11132.451075</td>\n      <td>214.580002</td>\n      <td>2673.610107</td>\n      <td>-0.021763</td>\n      <td>0.409424</td>\n      <td>32862.00</td>\n      <td>90617.500687</td>\n      <td>73660.557025</td>\n      <td>2.757516</td>\n      <td>228.283173</td>\n      <td>2020-10-15</td>\n      <td>-0.080484</td>\n    </tr>\n    <tr>\n      <th>4</th>\n      <td>3</td>\n      <td>MTCH</td>\n      <td>2015-12-14</td>\n      <td>600.0</td>\n      <td>13.63</td>\n      <td>8178.00</td>\n      <td>2017-12-29</td>\n      <td>2021-01-15</td>\n      <td>150.850006</td>\n      <td>10.067499</td>\n      <td>2021.939941</td>\n      <td>4.044631</td>\n      <td>3768.25</td>\n      <td>0.863680</td>\n      <td>9.203818</td>\n      <td>90510.003662</td>\n      <td>15241.178963</td>\n      <td>75268.824699</td>\n      <td>82332.003662</td>\n      <td>7063.178963</td>\n      <td>151.190002</td>\n      <td>2673.610107</td>\n      <td>-0.002249</td>\n      <td>0.409424</td>\n      <td>41040.00</td>\n      <td>181127.504349</td>\n      <td>88901.735988</td>\n      <td>4.413438</td>\n      <td>156.119995</td>\n      <td>2020-12-22</td>\n      <td>-0.033756</td>\n    </tr>\n    <tr>\n      <th>5</th>\n      <td>4</td>\n      <td>NFLX</td>\n      <td>2016-01-14</td>\n      <td>75.0</td>\n      <td>108.71</td>\n      <td>8153.25</td>\n      <td>2017-12-29</td>\n      <td>2021-01-15</td>\n      <td>497.980011</td>\n      <td>3.580811</td>\n      <td>1921.839966</td>\n      <td>4.242419</td>\n      <td>3768.25</td>\n      <td>0.960751</td>\n      <td>2.620060</td>\n      <td>37348.500824</td>\n      <td>15986.494640</td>\n      <td>21362.006184</td>\n      <td>29195.250824</td>\n      <td>7833.244640</td>\n      <td>540.729980</td>\n      <td>2673.610107</td>\n      <td>-0.079060</td>\n      <td>0.409424</td>\n      <td>49193.25</td>\n      <td>218476.005173</td>\n      <td>104888.230628</td>\n      <td>4.441179</td>\n      <td>556.549988</td>\n      <td>2020-09-01</td>\n      <td>-0.105238</td>\n    </tr>\n    <tr>\n      <th>6</th>\n      <td>7</td>\n      <td>TWTR</td>\n      <td>2015-01-05</td>\n      <td>225.0</td>\n      <td>36.38</td>\n      <td>8185.50</td>\n      <td>2017-12-29</td>\n      <td>2021-01-15</td>\n      <td>45.180000</td>\n      <td>0.241891</td>\n      <td>2020.579956</td>\n      <td>4.051065</td>\n      <td>3768.25</td>\n      <td>0.864935</td>\n      <td>-0.623044</td>\n      <td>10165.500069</td>\n      <td>15265.424307</td>\n      <td>-5099.924238</td>\n      <td>1980.000069</td>\n      <td>7079.924307</td>\n      <td>54.150002</td>\n      <td>2673.610107</td>\n      <td>-0.165651</td>\n      <td>0.409424</td>\n      <td>57378.75</td>\n      <td>228641.505241</td>\n      <td>120153.654935</td>\n      <td>3.984777</td>\n      <td>55.869999</td>\n      <td>2014-02-26</td>\n      <td>-0.191337</td>\n    </tr>\n    <tr>\n      <th>7</th>\n      <td>7</td>\n      <td>TWTR</td>\n      <td>2015-01-05</td>\n      <td>225.0</td>\n      <td>36.38</td>\n      <td>8185.50</td>\n      <td>2017-12-29</td>\n      <td>2021-01-15</td>\n      <td>45.180000</td>\n      <td>0.241891</td>\n      <td>2020.579956</td>\n      <td>4.051065</td>\n      <td>3768.25</td>\n      <td>0.864935</td>\n      <td>-0.623044</td>\n      <td>10165.500069</td>\n      <td>15265.424307</td>\n      <td>-5099.924238</td>\n      <td>1980.000069</td>\n      <td>7079.924307</td>\n      <td>54.150002</td>\n      <td>2673.610107</td>\n      <td>-0.165651</td>\n      <td>0.409424</td>\n      <td>57378.75</td>\n      <td>228641.505241</td>\n      <td>120153.654935</td>\n      <td>3.984777</td>\n      <td>55.869999</td>\n      <td>2020-12-18</td>\n      <td>-0.191337</td>\n    </tr>\n    <tr>\n      <th>8</th>\n      <td>5</td>\n      <td>WMT</td>\n      <td>2013-08-14</td>\n      <td>125.0</td>\n      <td>68.30</td>\n      <td>8537.50</td>\n      <td>2017-12-29</td>\n      <td>2021-01-15</td>\n      <td>144.639999</td>\n      <td>1.117716</td>\n      <td>1685.390015</td>\n      <td>5.065593</td>\n      <td>3768.25</td>\n      <td>1.235833</td>\n      <td>-0.118117</td>\n      <td>18079.999924</td>\n      <td>19088.421134</td>\n      <td>-1008.421211</td>\n      <td>9542.499924</td>\n      <td>10550.921134</td>\n      <td>144.149994</td>\n      <td>2673.610107</td>\n      <td>0.003399</td>\n      <td>0.409424</td>\n      <td>65916.25</td>\n      <td>246721.505165</td>\n      <td>139242.076069</td>\n      <td>3.742954</td>\n      <td>152.233536</td>\n      <td>2020-11-30</td>\n      <td>-0.049881</td>\n    </tr>\n  </tbody>\n</table>\n</div>"
     },
     "metadata": {},
     "execution_count": 210
    }
   ],
   "source": [
    "pd.set_option('display.max_columns', None)\n",
    "merged_portfolio_sp_latest_YTD_sp_closing_high"
   ]
  },
  {
   "cell_type": "code",
   "execution_count": 214,
   "metadata": {},
   "outputs": [
    {
     "output_type": "display_data",
     "data": {
      "application/vnd.plotly.v1+json": {
       "config": {
        "linkText": "Export to plot.ly",
        "plotlyServerURL": "https://plot.ly",
        "showLink": false
       },
       "data": [
        {
         "name": "Ticker Total Return",
         "type": "bar",
         "x": [
          "AAPL",
          "FB",
          "JNJ",
          "MCD",
          "MTCH",
          "NFLX",
          "TWTR",
          "TWTR",
          "WMT"
         ],
         "y": [
          7717.499923706054,
          29706.000091552734,
          7840.00030517578,
          12492.000366210938,
          82332.00366210938,
          29195.25082397461,
          1980.0000686645499,
          1980.0000686645499,
          9542.499923706055
         ]
        },
        {
         "name": "SP500 Total Return",
         "type": "bar",
         "x": [
          "AAPL",
          "FB",
          "JNJ",
          "MCD",
          "MTCH",
          "NFLX",
          "TWTR",
          "TWTR",
          "WMT"
         ],
         "y": [
          12234.200704282594,
          8978.35604387716,
          8453.54920204572,
          11132.451074638226,
          7063.178963291605,
          7833.244639987402,
          7079.924306804899,
          7079.924306804899,
          10550.92113420897
         ]
        },
        {
         "name": "Ticker Total Return",
         "type": "scatter",
         "x": [
          "AAPL",
          "FB",
          "JNJ",
          "MCD",
          "MTCH",
          "NFLX",
          "TWTR",
          "TWTR",
          "WMT"
         ],
         "y": [
          7717.499923706054,
          29706.000091552734,
          7840.00030517578,
          12492.000366210938,
          82332.00366210938,
          29195.25082397461,
          1980.0000686645499,
          1980.0000686645499,
          9542.499923706055
         ]
        }
       ],
       "layout": {
        "barmode": "group",
        "legend": {
         "x": 0.8,
         "y": 1
        },
        "template": {
         "data": {
          "bar": [
           {
            "error_x": {
             "color": "#2a3f5f"
            },
            "error_y": {
             "color": "#2a3f5f"
            },
            "marker": {
             "line": {
              "color": "#E5ECF6",
              "width": 0.5
             }
            },
            "type": "bar"
           }
          ],
          "barpolar": [
           {
            "marker": {
             "line": {
              "color": "#E5ECF6",
              "width": 0.5
             }
            },
            "type": "barpolar"
           }
          ],
          "carpet": [
           {
            "aaxis": {
             "endlinecolor": "#2a3f5f",
             "gridcolor": "white",
             "linecolor": "white",
             "minorgridcolor": "white",
             "startlinecolor": "#2a3f5f"
            },
            "baxis": {
             "endlinecolor": "#2a3f5f",
             "gridcolor": "white",
             "linecolor": "white",
             "minorgridcolor": "white",
             "startlinecolor": "#2a3f5f"
            },
            "type": "carpet"
           }
          ],
          "choropleth": [
           {
            "colorbar": {
             "outlinewidth": 0,
             "ticks": ""
            },
            "type": "choropleth"
           }
          ],
          "contour": [
           {
            "colorbar": {
             "outlinewidth": 0,
             "ticks": ""
            },
            "colorscale": [
             [
              0,
              "#0d0887"
             ],
             [
              0.1111111111111111,
              "#46039f"
             ],
             [
              0.2222222222222222,
              "#7201a8"
             ],
             [
              0.3333333333333333,
              "#9c179e"
             ],
             [
              0.4444444444444444,
              "#bd3786"
             ],
             [
              0.5555555555555556,
              "#d8576b"
             ],
             [
              0.6666666666666666,
              "#ed7953"
             ],
             [
              0.7777777777777778,
              "#fb9f3a"
             ],
             [
              0.8888888888888888,
              "#fdca26"
             ],
             [
              1,
              "#f0f921"
             ]
            ],
            "type": "contour"
           }
          ],
          "contourcarpet": [
           {
            "colorbar": {
             "outlinewidth": 0,
             "ticks": ""
            },
            "type": "contourcarpet"
           }
          ],
          "heatmap": [
           {
            "colorbar": {
             "outlinewidth": 0,
             "ticks": ""
            },
            "colorscale": [
             [
              0,
              "#0d0887"
             ],
             [
              0.1111111111111111,
              "#46039f"
             ],
             [
              0.2222222222222222,
              "#7201a8"
             ],
             [
              0.3333333333333333,
              "#9c179e"
             ],
             [
              0.4444444444444444,
              "#bd3786"
             ],
             [
              0.5555555555555556,
              "#d8576b"
             ],
             [
              0.6666666666666666,
              "#ed7953"
             ],
             [
              0.7777777777777778,
              "#fb9f3a"
             ],
             [
              0.8888888888888888,
              "#fdca26"
             ],
             [
              1,
              "#f0f921"
             ]
            ],
            "type": "heatmap"
           }
          ],
          "heatmapgl": [
           {
            "colorbar": {
             "outlinewidth": 0,
             "ticks": ""
            },
            "colorscale": [
             [
              0,
              "#0d0887"
             ],
             [
              0.1111111111111111,
              "#46039f"
             ],
             [
              0.2222222222222222,
              "#7201a8"
             ],
             [
              0.3333333333333333,
              "#9c179e"
             ],
             [
              0.4444444444444444,
              "#bd3786"
             ],
             [
              0.5555555555555556,
              "#d8576b"
             ],
             [
              0.6666666666666666,
              "#ed7953"
             ],
             [
              0.7777777777777778,
              "#fb9f3a"
             ],
             [
              0.8888888888888888,
              "#fdca26"
             ],
             [
              1,
              "#f0f921"
             ]
            ],
            "type": "heatmapgl"
           }
          ],
          "histogram": [
           {
            "marker": {
             "colorbar": {
              "outlinewidth": 0,
              "ticks": ""
             }
            },
            "type": "histogram"
           }
          ],
          "histogram2d": [
           {
            "colorbar": {
             "outlinewidth": 0,
             "ticks": ""
            },
            "colorscale": [
             [
              0,
              "#0d0887"
             ],
             [
              0.1111111111111111,
              "#46039f"
             ],
             [
              0.2222222222222222,
              "#7201a8"
             ],
             [
              0.3333333333333333,
              "#9c179e"
             ],
             [
              0.4444444444444444,
              "#bd3786"
             ],
             [
              0.5555555555555556,
              "#d8576b"
             ],
             [
              0.6666666666666666,
              "#ed7953"
             ],
             [
              0.7777777777777778,
              "#fb9f3a"
             ],
             [
              0.8888888888888888,
              "#fdca26"
             ],
             [
              1,
              "#f0f921"
             ]
            ],
            "type": "histogram2d"
           }
          ],
          "histogram2dcontour": [
           {
            "colorbar": {
             "outlinewidth": 0,
             "ticks": ""
            },
            "colorscale": [
             [
              0,
              "#0d0887"
             ],
             [
              0.1111111111111111,
              "#46039f"
             ],
             [
              0.2222222222222222,
              "#7201a8"
             ],
             [
              0.3333333333333333,
              "#9c179e"
             ],
             [
              0.4444444444444444,
              "#bd3786"
             ],
             [
              0.5555555555555556,
              "#d8576b"
             ],
             [
              0.6666666666666666,
              "#ed7953"
             ],
             [
              0.7777777777777778,
              "#fb9f3a"
             ],
             [
              0.8888888888888888,
              "#fdca26"
             ],
             [
              1,
              "#f0f921"
             ]
            ],
            "type": "histogram2dcontour"
           }
          ],
          "mesh3d": [
           {
            "colorbar": {
             "outlinewidth": 0,
             "ticks": ""
            },
            "type": "mesh3d"
           }
          ],
          "parcoords": [
           {
            "line": {
             "colorbar": {
              "outlinewidth": 0,
              "ticks": ""
             }
            },
            "type": "parcoords"
           }
          ],
          "pie": [
           {
            "automargin": true,
            "type": "pie"
           }
          ],
          "scatter": [
           {
            "marker": {
             "colorbar": {
              "outlinewidth": 0,
              "ticks": ""
             }
            },
            "type": "scatter"
           }
          ],
          "scatter3d": [
           {
            "line": {
             "colorbar": {
              "outlinewidth": 0,
              "ticks": ""
             }
            },
            "marker": {
             "colorbar": {
              "outlinewidth": 0,
              "ticks": ""
             }
            },
            "type": "scatter3d"
           }
          ],
          "scattercarpet": [
           {
            "marker": {
             "colorbar": {
              "outlinewidth": 0,
              "ticks": ""
             }
            },
            "type": "scattercarpet"
           }
          ],
          "scattergeo": [
           {
            "marker": {
             "colorbar": {
              "outlinewidth": 0,
              "ticks": ""
             }
            },
            "type": "scattergeo"
           }
          ],
          "scattergl": [
           {
            "marker": {
             "colorbar": {
              "outlinewidth": 0,
              "ticks": ""
             }
            },
            "type": "scattergl"
           }
          ],
          "scattermapbox": [
           {
            "marker": {
             "colorbar": {
              "outlinewidth": 0,
              "ticks": ""
             }
            },
            "type": "scattermapbox"
           }
          ],
          "scatterpolar": [
           {
            "marker": {
             "colorbar": {
              "outlinewidth": 0,
              "ticks": ""
             }
            },
            "type": "scatterpolar"
           }
          ],
          "scatterpolargl": [
           {
            "marker": {
             "colorbar": {
              "outlinewidth": 0,
              "ticks": ""
             }
            },
            "type": "scatterpolargl"
           }
          ],
          "scatterternary": [
           {
            "marker": {
             "colorbar": {
              "outlinewidth": 0,
              "ticks": ""
             }
            },
            "type": "scatterternary"
           }
          ],
          "surface": [
           {
            "colorbar": {
             "outlinewidth": 0,
             "ticks": ""
            },
            "colorscale": [
             [
              0,
              "#0d0887"
             ],
             [
              0.1111111111111111,
              "#46039f"
             ],
             [
              0.2222222222222222,
              "#7201a8"
             ],
             [
              0.3333333333333333,
              "#9c179e"
             ],
             [
              0.4444444444444444,
              "#bd3786"
             ],
             [
              0.5555555555555556,
              "#d8576b"
             ],
             [
              0.6666666666666666,
              "#ed7953"
             ],
             [
              0.7777777777777778,
              "#fb9f3a"
             ],
             [
              0.8888888888888888,
              "#fdca26"
             ],
             [
              1,
              "#f0f921"
             ]
            ],
            "type": "surface"
           }
          ],
          "table": [
           {
            "cells": {
             "fill": {
              "color": "#EBF0F8"
             },
             "line": {
              "color": "white"
             }
            },
            "header": {
             "fill": {
              "color": "#C8D4E3"
             },
             "line": {
              "color": "white"
             }
            },
            "type": "table"
           }
          ]
         },
         "layout": {
          "annotationdefaults": {
           "arrowcolor": "#2a3f5f",
           "arrowhead": 0,
           "arrowwidth": 1
          },
          "autotypenumbers": "strict",
          "coloraxis": {
           "colorbar": {
            "outlinewidth": 0,
            "ticks": ""
           }
          },
          "colorscale": {
           "diverging": [
            [
             0,
             "#8e0152"
            ],
            [
             0.1,
             "#c51b7d"
            ],
            [
             0.2,
             "#de77ae"
            ],
            [
             0.3,
             "#f1b6da"
            ],
            [
             0.4,
             "#fde0ef"
            ],
            [
             0.5,
             "#f7f7f7"
            ],
            [
             0.6,
             "#e6f5d0"
            ],
            [
             0.7,
             "#b8e186"
            ],
            [
             0.8,
             "#7fbc41"
            ],
            [
             0.9,
             "#4d9221"
            ],
            [
             1,
             "#276419"
            ]
           ],
           "sequential": [
            [
             0,
             "#0d0887"
            ],
            [
             0.1111111111111111,
             "#46039f"
            ],
            [
             0.2222222222222222,
             "#7201a8"
            ],
            [
             0.3333333333333333,
             "#9c179e"
            ],
            [
             0.4444444444444444,
             "#bd3786"
            ],
            [
             0.5555555555555556,
             "#d8576b"
            ],
            [
             0.6666666666666666,
             "#ed7953"
            ],
            [
             0.7777777777777778,
             "#fb9f3a"
            ],
            [
             0.8888888888888888,
             "#fdca26"
            ],
            [
             1,
             "#f0f921"
            ]
           ],
           "sequentialminus": [
            [
             0,
             "#0d0887"
            ],
            [
             0.1111111111111111,
             "#46039f"
            ],
            [
             0.2222222222222222,
             "#7201a8"
            ],
            [
             0.3333333333333333,
             "#9c179e"
            ],
            [
             0.4444444444444444,
             "#bd3786"
            ],
            [
             0.5555555555555556,
             "#d8576b"
            ],
            [
             0.6666666666666666,
             "#ed7953"
            ],
            [
             0.7777777777777778,
             "#fb9f3a"
            ],
            [
             0.8888888888888888,
             "#fdca26"
            ],
            [
             1,
             "#f0f921"
            ]
           ]
          },
          "colorway": [
           "#636efa",
           "#EF553B",
           "#00cc96",
           "#ab63fa",
           "#FFA15A",
           "#19d3f3",
           "#FF6692",
           "#B6E880",
           "#FF97FF",
           "#FECB52"
          ],
          "font": {
           "color": "#2a3f5f"
          },
          "geo": {
           "bgcolor": "white",
           "lakecolor": "white",
           "landcolor": "#E5ECF6",
           "showlakes": true,
           "showland": true,
           "subunitcolor": "white"
          },
          "hoverlabel": {
           "align": "left"
          },
          "hovermode": "closest",
          "mapbox": {
           "style": "light"
          },
          "paper_bgcolor": "white",
          "plot_bgcolor": "#E5ECF6",
          "polar": {
           "angularaxis": {
            "gridcolor": "white",
            "linecolor": "white",
            "ticks": ""
           },
           "bgcolor": "#E5ECF6",
           "radialaxis": {
            "gridcolor": "white",
            "linecolor": "white",
            "ticks": ""
           }
          },
          "scene": {
           "xaxis": {
            "backgroundcolor": "#E5ECF6",
            "gridcolor": "white",
            "gridwidth": 2,
            "linecolor": "white",
            "showbackground": true,
            "ticks": "",
            "zerolinecolor": "white"
           },
           "yaxis": {
            "backgroundcolor": "#E5ECF6",
            "gridcolor": "white",
            "gridwidth": 2,
            "linecolor": "white",
            "showbackground": true,
            "ticks": "",
            "zerolinecolor": "white"
           },
           "zaxis": {
            "backgroundcolor": "#E5ECF6",
            "gridcolor": "white",
            "gridwidth": 2,
            "linecolor": "white",
            "showbackground": true,
            "ticks": "",
            "zerolinecolor": "white"
           }
          },
          "shapedefaults": {
           "line": {
            "color": "#2a3f5f"
           }
          },
          "ternary": {
           "aaxis": {
            "gridcolor": "white",
            "linecolor": "white",
            "ticks": ""
           },
           "baxis": {
            "gridcolor": "white",
            "linecolor": "white",
            "ticks": ""
           },
           "bgcolor": "#E5ECF6",
           "caxis": {
            "gridcolor": "white",
            "linecolor": "white",
            "ticks": ""
           }
          },
          "title": {
           "x": 0.05
          },
          "xaxis": {
           "automargin": true,
           "gridcolor": "white",
           "linecolor": "white",
           "ticks": "",
           "title": {
            "standoff": 15
           },
           "zerolinecolor": "white",
           "zerolinewidth": 2
          },
          "yaxis": {
           "automargin": true,
           "gridcolor": "white",
           "linecolor": "white",
           "ticks": "",
           "title": {
            "standoff": 15
           },
           "zerolinecolor": "white",
           "zerolinewidth": 2
          }
         }
        },
        "title": {
         "text": "Total Return vs S&P 500"
        },
        "xaxis": {
         "title": {
          "text": "Ticker"
         }
        },
        "yaxis": {
         "tickformat": ".2%",
         "title": {
          "text": "Returns"
         }
        }
       }
      }
     },
     "metadata": {}
    }
   ],
   "source": [
    "trace1 = go.Bar(\n",
    "    x = merged_portfolio_sp_latest_YTD_sp_closing_high['Ticker'][0:10],\n",
    "    y = merged_portfolio_sp_latest_YTD_sp_closing_high['Stock Gain / (Loss)'][0:10],\n",
    "    name = 'Ticker Total Return')\n",
    "trace2 = go.Bar(\n",
    "    x = merged_portfolio_sp_latest_YTD_sp_closing_high['Ticker'][0:10],\n",
    "    y = merged_portfolio_sp_latest_YTD_sp_closing_high['SP 500 Gain / (Loss)'][0:10],\n",
    "    name = 'SP500 Total Return')\n",
    "trace3 = go.Scatter(\n",
    "    x = merged_portfolio_sp_latest_YTD_sp_closing_high['Ticker'][0:10],\n",
    "    y = merged_portfolio_sp_latest_YTD_sp_closing_high['Stock Gain / (Loss)'][0:10],\n",
    "    name = 'Ticker Total Return')\n",
    "    \n",
    "data = [trace1, trace2, trace3]\n",
    "layout = go.Layout(title = 'Total Return vs S&P 500'\n",
    "    , barmode = 'group'\n",
    "    , yaxis=dict(title='Returns', tickformat=\".2%\")\n",
    "    , xaxis=dict(title='Ticker')\n",
    "    , legend=dict(x=.8,y=1)\n",
    "    )\n",
    "fig = go.Figure(data=data, layout=layout)\n",
    "iplot(fig)"
   ]
  },
  {
   "cell_type": "code",
   "execution_count": 223,
   "metadata": {},
   "outputs": [
    {
     "output_type": "execute_result",
     "data": {
      "text/plain": [
       "   index Ticker Acquisition Date  Quantity  Unit Cost  Cost Basis  \\\n",
       "0      0   AAPL       2013-02-07     125.0      65.40     8175.00   \n",
       "1      6     FB       2013-12-13     150.0      53.32     7998.00   \n",
       "2      1    JNJ       2014-02-27     100.0      81.90     8190.00   \n",
       "3      2    MCD       2013-06-04     100.0      84.99     8499.00   \n",
       "4      3   MTCH       2015-12-14     600.0      13.63     8178.00   \n",
       "5      4   NFLX       2016-01-14      75.0     108.71     8153.25   \n",
       "6      7   TWTR       2015-01-05     225.0      36.38     8185.50   \n",
       "7      7   TWTR       2015-01-05     225.0      36.38     8185.50   \n",
       "8      5    WMT       2013-08-14     125.0      68.30     8537.50   \n",
       "\n",
       "  Start of Year Latest Date  Ticker Adj Close  ticker return  \\\n",
       "0    2017-12-29  2021-01-15        127.139999       0.944037   \n",
       "1    2017-12-29  2021-01-15        251.360001       3.714179   \n",
       "2    2017-12-29  2021-01-15        160.300003       0.957265   \n",
       "3    2017-12-29  2021-01-15        209.910004       1.469820   \n",
       "4    2017-12-29  2021-01-15        150.850006      10.067499   \n",
       "5    2017-12-29  2021-01-15        497.980011       3.580811   \n",
       "6    2017-12-29  2021-01-15         45.180000       0.241891   \n",
       "7    2017-12-29  2021-01-15         45.180000       0.241891   \n",
       "8    2017-12-29  2021-01-15        144.639999       1.117716   \n",
       "\n",
       "   SP 500 Initial Close  Equiv SP Shares  SP 500 Latest Close  SP Return  \\\n",
       "0           1509.390015         5.416095              3768.25   1.496538   \n",
       "1           1775.319946         4.505103              3768.25   1.122575   \n",
       "2           1854.290039         4.416785              3768.25   1.032179   \n",
       "3           1631.380005         5.209700              3768.25   1.309854   \n",
       "4           2021.939941         4.044631              3768.25   0.863680   \n",
       "5           1921.839966         4.242419              3768.25   0.960751   \n",
       "6           2020.579956         4.051065              3768.25   0.864935   \n",
       "7           2020.579956         4.051065              3768.25   0.864935   \n",
       "8           1685.390015         5.065593              3768.25   1.235833   \n",
       "\n",
       "   Abs. Return Compare  Ticker Share Value  SP 500 Value  Abs Value Compare  \\\n",
       "0            -0.552502        15892.499924  20409.200704       -4516.700781   \n",
       "1             2.591603        37704.000092  16976.356044       20727.644048   \n",
       "2            -0.074914        16030.000305  16643.549202        -613.548897   \n",
       "3             0.159966        20991.000366  19631.451075        1359.549292   \n",
       "4             9.203818        90510.003662  15241.178963       75268.824699   \n",
       "5             2.620060        37348.500824  15986.494640       21362.006184   \n",
       "6            -0.623044        10165.500069  15265.424307       -5099.924238   \n",
       "7            -0.623044        10165.500069  15265.424307       -5099.924238   \n",
       "8            -0.118117        18079.999924  19088.421134       -1008.421211   \n",
       "\n",
       "   Stock Gain / (Loss)  SP 500 Gain / (Loss)  Ticker Start Year Close  \\\n",
       "0          7717.499924          12234.200704               132.690002   \n",
       "1         29706.000092           8978.356044               273.160004   \n",
       "2          7840.000305           8453.549202               157.380005   \n",
       "3         12492.000366          11132.451075               214.580002   \n",
       "4         82332.003662           7063.178963               151.190002   \n",
       "5         29195.250824           7833.244640               540.729980   \n",
       "6          1980.000069           7079.924307                54.150002   \n",
       "7          1980.000069           7079.924307                54.150002   \n",
       "8          9542.499924          10550.921134               144.149994   \n",
       "\n",
       "   SP Start Year Close  Share YTD  SP 500 YTD  Cum Invst  Cum Ticker Returns  \\\n",
       "0          2673.610107  -0.041827    0.409424    8175.00        15892.499924   \n",
       "1          2673.610107  -0.079807    0.409424   16173.00        53596.500015   \n",
       "2          2673.610107   0.018554    0.409424   24363.00        69626.500320   \n",
       "3          2673.610107  -0.021763    0.409424   32862.00        90617.500687   \n",
       "4          2673.610107  -0.002249    0.409424   41040.00       181127.504349   \n",
       "5          2673.610107  -0.079060    0.409424   49193.25       218476.005173   \n",
       "6          2673.610107  -0.165651    0.409424   57378.75       228641.505241   \n",
       "7          2673.610107  -0.165651    0.409424   57378.75       228641.505241   \n",
       "8          2673.610107   0.003399    0.409424   65916.25       246721.505165   \n",
       "\n",
       "   Cum SP Returns  Cum Ticker ROI Mult  Closing High Adj Close  \\\n",
       "0    20409.200704             1.944037              136.690002   \n",
       "1    37385.556748             3.313949              303.910004   \n",
       "2    54029.105950             2.857879              160.649994   \n",
       "3    73660.557025             2.757516              228.283173   \n",
       "4    88901.735988             4.413438              156.119995   \n",
       "5   104888.230628             4.441179              556.549988   \n",
       "6   120153.654935             3.984777               55.869999   \n",
       "7   120153.654935             3.984777               55.869999   \n",
       "8   139242.076069             3.742954              152.233536   \n",
       "\n",
       "  Closing High Adj Close Date  Pct off High  \n",
       "0                  2020-12-28     -0.069866  \n",
       "1                  2020-08-26     -0.172913  \n",
       "2                  2021-01-14     -0.002179  \n",
       "3                  2020-10-15     -0.080484  \n",
       "4                  2020-12-22     -0.033756  \n",
       "5                  2020-09-01     -0.105238  \n",
       "6                  2014-02-26     -0.191337  \n",
       "7                  2020-12-18     -0.191337  \n",
       "8                  2020-11-30     -0.049881  "
      ],
      "text/html": "<div>\n<style scoped>\n    .dataframe tbody tr th:only-of-type {\n        vertical-align: middle;\n    }\n\n    .dataframe tbody tr th {\n        vertical-align: top;\n    }\n\n    .dataframe thead th {\n        text-align: right;\n    }\n</style>\n<table border=\"1\" class=\"dataframe\">\n  <thead>\n    <tr style=\"text-align: right;\">\n      <th></th>\n      <th>index</th>\n      <th>Ticker</th>\n      <th>Acquisition Date</th>\n      <th>Quantity</th>\n      <th>Unit Cost</th>\n      <th>Cost Basis</th>\n      <th>Start of Year</th>\n      <th>Latest Date</th>\n      <th>Ticker Adj Close</th>\n      <th>ticker return</th>\n      <th>SP 500 Initial Close</th>\n      <th>Equiv SP Shares</th>\n      <th>SP 500 Latest Close</th>\n      <th>SP Return</th>\n      <th>Abs. Return Compare</th>\n      <th>Ticker Share Value</th>\n      <th>SP 500 Value</th>\n      <th>Abs Value Compare</th>\n      <th>Stock Gain / (Loss)</th>\n      <th>SP 500 Gain / (Loss)</th>\n      <th>Ticker Start Year Close</th>\n      <th>SP Start Year Close</th>\n      <th>Share YTD</th>\n      <th>SP 500 YTD</th>\n      <th>Cum Invst</th>\n      <th>Cum Ticker Returns</th>\n      <th>Cum SP Returns</th>\n      <th>Cum Ticker ROI Mult</th>\n      <th>Closing High Adj Close</th>\n      <th>Closing High Adj Close Date</th>\n      <th>Pct off High</th>\n    </tr>\n  </thead>\n  <tbody>\n    <tr>\n      <th>0</th>\n      <td>0</td>\n      <td>AAPL</td>\n      <td>2013-02-07</td>\n      <td>125.0</td>\n      <td>65.40</td>\n      <td>8175.00</td>\n      <td>2017-12-29</td>\n      <td>2021-01-15</td>\n      <td>127.139999</td>\n      <td>0.944037</td>\n      <td>1509.390015</td>\n      <td>5.416095</td>\n      <td>3768.25</td>\n      <td>1.496538</td>\n      <td>-0.552502</td>\n      <td>15892.499924</td>\n      <td>20409.200704</td>\n      <td>-4516.700781</td>\n      <td>7717.499924</td>\n      <td>12234.200704</td>\n      <td>132.690002</td>\n      <td>2673.610107</td>\n      <td>-0.041827</td>\n      <td>0.409424</td>\n      <td>8175.00</td>\n      <td>15892.499924</td>\n      <td>20409.200704</td>\n      <td>1.944037</td>\n      <td>136.690002</td>\n      <td>2020-12-28</td>\n      <td>-0.069866</td>\n    </tr>\n    <tr>\n      <th>1</th>\n      <td>6</td>\n      <td>FB</td>\n      <td>2013-12-13</td>\n      <td>150.0</td>\n      <td>53.32</td>\n      <td>7998.00</td>\n      <td>2017-12-29</td>\n      <td>2021-01-15</td>\n      <td>251.360001</td>\n      <td>3.714179</td>\n      <td>1775.319946</td>\n      <td>4.505103</td>\n      <td>3768.25</td>\n      <td>1.122575</td>\n      <td>2.591603</td>\n      <td>37704.000092</td>\n      <td>16976.356044</td>\n      <td>20727.644048</td>\n      <td>29706.000092</td>\n      <td>8978.356044</td>\n      <td>273.160004</td>\n      <td>2673.610107</td>\n      <td>-0.079807</td>\n      <td>0.409424</td>\n      <td>16173.00</td>\n      <td>53596.500015</td>\n      <td>37385.556748</td>\n      <td>3.313949</td>\n      <td>303.910004</td>\n      <td>2020-08-26</td>\n      <td>-0.172913</td>\n    </tr>\n    <tr>\n      <th>2</th>\n      <td>1</td>\n      <td>JNJ</td>\n      <td>2014-02-27</td>\n      <td>100.0</td>\n      <td>81.90</td>\n      <td>8190.00</td>\n      <td>2017-12-29</td>\n      <td>2021-01-15</td>\n      <td>160.300003</td>\n      <td>0.957265</td>\n      <td>1854.290039</td>\n      <td>4.416785</td>\n      <td>3768.25</td>\n      <td>1.032179</td>\n      <td>-0.074914</td>\n      <td>16030.000305</td>\n      <td>16643.549202</td>\n      <td>-613.548897</td>\n      <td>7840.000305</td>\n      <td>8453.549202</td>\n      <td>157.380005</td>\n      <td>2673.610107</td>\n      <td>0.018554</td>\n      <td>0.409424</td>\n      <td>24363.00</td>\n      <td>69626.500320</td>\n      <td>54029.105950</td>\n      <td>2.857879</td>\n      <td>160.649994</td>\n      <td>2021-01-14</td>\n      <td>-0.002179</td>\n    </tr>\n    <tr>\n      <th>3</th>\n      <td>2</td>\n      <td>MCD</td>\n      <td>2013-06-04</td>\n      <td>100.0</td>\n      <td>84.99</td>\n      <td>8499.00</td>\n      <td>2017-12-29</td>\n      <td>2021-01-15</td>\n      <td>209.910004</td>\n      <td>1.469820</td>\n      <td>1631.380005</td>\n      <td>5.209700</td>\n      <td>3768.25</td>\n      <td>1.309854</td>\n      <td>0.159966</td>\n      <td>20991.000366</td>\n      <td>19631.451075</td>\n      <td>1359.549292</td>\n      <td>12492.000366</td>\n      <td>11132.451075</td>\n      <td>214.580002</td>\n      <td>2673.610107</td>\n      <td>-0.021763</td>\n      <td>0.409424</td>\n      <td>32862.00</td>\n      <td>90617.500687</td>\n      <td>73660.557025</td>\n      <td>2.757516</td>\n      <td>228.283173</td>\n      <td>2020-10-15</td>\n      <td>-0.080484</td>\n    </tr>\n    <tr>\n      <th>4</th>\n      <td>3</td>\n      <td>MTCH</td>\n      <td>2015-12-14</td>\n      <td>600.0</td>\n      <td>13.63</td>\n      <td>8178.00</td>\n      <td>2017-12-29</td>\n      <td>2021-01-15</td>\n      <td>150.850006</td>\n      <td>10.067499</td>\n      <td>2021.939941</td>\n      <td>4.044631</td>\n      <td>3768.25</td>\n      <td>0.863680</td>\n      <td>9.203818</td>\n      <td>90510.003662</td>\n      <td>15241.178963</td>\n      <td>75268.824699</td>\n      <td>82332.003662</td>\n      <td>7063.178963</td>\n      <td>151.190002</td>\n      <td>2673.610107</td>\n      <td>-0.002249</td>\n      <td>0.409424</td>\n      <td>41040.00</td>\n      <td>181127.504349</td>\n      <td>88901.735988</td>\n      <td>4.413438</td>\n      <td>156.119995</td>\n      <td>2020-12-22</td>\n      <td>-0.033756</td>\n    </tr>\n    <tr>\n      <th>5</th>\n      <td>4</td>\n      <td>NFLX</td>\n      <td>2016-01-14</td>\n      <td>75.0</td>\n      <td>108.71</td>\n      <td>8153.25</td>\n      <td>2017-12-29</td>\n      <td>2021-01-15</td>\n      <td>497.980011</td>\n      <td>3.580811</td>\n      <td>1921.839966</td>\n      <td>4.242419</td>\n      <td>3768.25</td>\n      <td>0.960751</td>\n      <td>2.620060</td>\n      <td>37348.500824</td>\n      <td>15986.494640</td>\n      <td>21362.006184</td>\n      <td>29195.250824</td>\n      <td>7833.244640</td>\n      <td>540.729980</td>\n      <td>2673.610107</td>\n      <td>-0.079060</td>\n      <td>0.409424</td>\n      <td>49193.25</td>\n      <td>218476.005173</td>\n      <td>104888.230628</td>\n      <td>4.441179</td>\n      <td>556.549988</td>\n      <td>2020-09-01</td>\n      <td>-0.105238</td>\n    </tr>\n    <tr>\n      <th>6</th>\n      <td>7</td>\n      <td>TWTR</td>\n      <td>2015-01-05</td>\n      <td>225.0</td>\n      <td>36.38</td>\n      <td>8185.50</td>\n      <td>2017-12-29</td>\n      <td>2021-01-15</td>\n      <td>45.180000</td>\n      <td>0.241891</td>\n      <td>2020.579956</td>\n      <td>4.051065</td>\n      <td>3768.25</td>\n      <td>0.864935</td>\n      <td>-0.623044</td>\n      <td>10165.500069</td>\n      <td>15265.424307</td>\n      <td>-5099.924238</td>\n      <td>1980.000069</td>\n      <td>7079.924307</td>\n      <td>54.150002</td>\n      <td>2673.610107</td>\n      <td>-0.165651</td>\n      <td>0.409424</td>\n      <td>57378.75</td>\n      <td>228641.505241</td>\n      <td>120153.654935</td>\n      <td>3.984777</td>\n      <td>55.869999</td>\n      <td>2014-02-26</td>\n      <td>-0.191337</td>\n    </tr>\n    <tr>\n      <th>7</th>\n      <td>7</td>\n      <td>TWTR</td>\n      <td>2015-01-05</td>\n      <td>225.0</td>\n      <td>36.38</td>\n      <td>8185.50</td>\n      <td>2017-12-29</td>\n      <td>2021-01-15</td>\n      <td>45.180000</td>\n      <td>0.241891</td>\n      <td>2020.579956</td>\n      <td>4.051065</td>\n      <td>3768.25</td>\n      <td>0.864935</td>\n      <td>-0.623044</td>\n      <td>10165.500069</td>\n      <td>15265.424307</td>\n      <td>-5099.924238</td>\n      <td>1980.000069</td>\n      <td>7079.924307</td>\n      <td>54.150002</td>\n      <td>2673.610107</td>\n      <td>-0.165651</td>\n      <td>0.409424</td>\n      <td>57378.75</td>\n      <td>228641.505241</td>\n      <td>120153.654935</td>\n      <td>3.984777</td>\n      <td>55.869999</td>\n      <td>2020-12-18</td>\n      <td>-0.191337</td>\n    </tr>\n    <tr>\n      <th>8</th>\n      <td>5</td>\n      <td>WMT</td>\n      <td>2013-08-14</td>\n      <td>125.0</td>\n      <td>68.30</td>\n      <td>8537.50</td>\n      <td>2017-12-29</td>\n      <td>2021-01-15</td>\n      <td>144.639999</td>\n      <td>1.117716</td>\n      <td>1685.390015</td>\n      <td>5.065593</td>\n      <td>3768.25</td>\n      <td>1.235833</td>\n      <td>-0.118117</td>\n      <td>18079.999924</td>\n      <td>19088.421134</td>\n      <td>-1008.421211</td>\n      <td>9542.499924</td>\n      <td>10550.921134</td>\n      <td>144.149994</td>\n      <td>2673.610107</td>\n      <td>0.003399</td>\n      <td>0.409424</td>\n      <td>65916.25</td>\n      <td>246721.505165</td>\n      <td>139242.076069</td>\n      <td>3.742954</td>\n      <td>152.233536</td>\n      <td>2020-11-30</td>\n      <td>-0.049881</td>\n    </tr>\n  </tbody>\n</table>\n</div>"
     },
     "metadata": {},
     "execution_count": 223
    }
   ],
   "source": [
    "pd.set_option('display.max_columns', None)\n",
    "merged_portfolio_sp_latest_YTD_sp_closing_high\n",
    "\n"
   ]
  },
  {
   "cell_type": "code",
   "execution_count": 224,
   "metadata": {},
   "outputs": [
    {
     "output_type": "display_data",
     "data": {
      "application/vnd.plotly.v1+json": {
       "config": {
        "linkText": "Export to plot.ly",
        "plotlyServerURL": "https://plot.ly",
        "showLink": false
       },
       "data": [
        {
         "name": "Cum Invst",
         "type": "bar",
         "x": [
          "AAPL",
          "FB",
          "JNJ",
          "MCD",
          "MTCH",
          "NFLX",
          "TWTR",
          "TWTR",
          "WMT"
         ],
         "y": [
          8175.000000000001,
          16173,
          24363,
          32862,
          41040,
          49193.25,
          57378.75,
          57378.75,
          65916.25
         ]
        },
        {
         "name": "Cum Ticker Returns",
         "type": "bar",
         "x": [
          "AAPL",
          "FB",
          "JNJ",
          "MCD",
          "MTCH",
          "NFLX",
          "TWTR",
          "TWTR",
          "WMT"
         ],
         "y": [
          15892.499923706055,
          53596.50001525879,
          69626.50032043457,
          90617.50068664551,
          181127.50434875488,
          218476.0051727295,
          228641.50524139404,
          228641.50524139404,
          246721.5051651001
         ]
        },
        {
         "name": "Cum SP Returns",
         "type": "bar",
         "x": [
          "AAPL",
          "FB",
          "JNJ",
          "MCD",
          "MTCH",
          "NFLX",
          "TWTR",
          "TWTR",
          "WMT"
         ],
         "y": [
          20409.200704282594,
          37385.55674815975,
          54029.10595020547,
          73660.5570248437,
          88901.7359881353,
          104888.2306281227,
          120153.6549349276,
          120153.6549349276,
          139242.07606913656
         ]
        },
        {
         "name": "Cum Invst",
         "type": "scatter",
         "x": [
          "AAPL",
          "FB",
          "JNJ",
          "MCD",
          "MTCH",
          "NFLX",
          "TWTR",
          "TWTR",
          "WMT"
         ],
         "y": [
          8175.000000000001,
          16173,
          24363,
          32862,
          41040,
          49193.25,
          57378.75,
          57378.75,
          65916.25
         ]
        }
       ],
       "layout": {
        "barmode": "group",
        "legend": {
         "x": 0.8,
         "y": 1
        },
        "template": {
         "data": {
          "bar": [
           {
            "error_x": {
             "color": "#2a3f5f"
            },
            "error_y": {
             "color": "#2a3f5f"
            },
            "marker": {
             "line": {
              "color": "#E5ECF6",
              "width": 0.5
             }
            },
            "type": "bar"
           }
          ],
          "barpolar": [
           {
            "marker": {
             "line": {
              "color": "#E5ECF6",
              "width": 0.5
             }
            },
            "type": "barpolar"
           }
          ],
          "carpet": [
           {
            "aaxis": {
             "endlinecolor": "#2a3f5f",
             "gridcolor": "white",
             "linecolor": "white",
             "minorgridcolor": "white",
             "startlinecolor": "#2a3f5f"
            },
            "baxis": {
             "endlinecolor": "#2a3f5f",
             "gridcolor": "white",
             "linecolor": "white",
             "minorgridcolor": "white",
             "startlinecolor": "#2a3f5f"
            },
            "type": "carpet"
           }
          ],
          "choropleth": [
           {
            "colorbar": {
             "outlinewidth": 0,
             "ticks": ""
            },
            "type": "choropleth"
           }
          ],
          "contour": [
           {
            "colorbar": {
             "outlinewidth": 0,
             "ticks": ""
            },
            "colorscale": [
             [
              0,
              "#0d0887"
             ],
             [
              0.1111111111111111,
              "#46039f"
             ],
             [
              0.2222222222222222,
              "#7201a8"
             ],
             [
              0.3333333333333333,
              "#9c179e"
             ],
             [
              0.4444444444444444,
              "#bd3786"
             ],
             [
              0.5555555555555556,
              "#d8576b"
             ],
             [
              0.6666666666666666,
              "#ed7953"
             ],
             [
              0.7777777777777778,
              "#fb9f3a"
             ],
             [
              0.8888888888888888,
              "#fdca26"
             ],
             [
              1,
              "#f0f921"
             ]
            ],
            "type": "contour"
           }
          ],
          "contourcarpet": [
           {
            "colorbar": {
             "outlinewidth": 0,
             "ticks": ""
            },
            "type": "contourcarpet"
           }
          ],
          "heatmap": [
           {
            "colorbar": {
             "outlinewidth": 0,
             "ticks": ""
            },
            "colorscale": [
             [
              0,
              "#0d0887"
             ],
             [
              0.1111111111111111,
              "#46039f"
             ],
             [
              0.2222222222222222,
              "#7201a8"
             ],
             [
              0.3333333333333333,
              "#9c179e"
             ],
             [
              0.4444444444444444,
              "#bd3786"
             ],
             [
              0.5555555555555556,
              "#d8576b"
             ],
             [
              0.6666666666666666,
              "#ed7953"
             ],
             [
              0.7777777777777778,
              "#fb9f3a"
             ],
             [
              0.8888888888888888,
              "#fdca26"
             ],
             [
              1,
              "#f0f921"
             ]
            ],
            "type": "heatmap"
           }
          ],
          "heatmapgl": [
           {
            "colorbar": {
             "outlinewidth": 0,
             "ticks": ""
            },
            "colorscale": [
             [
              0,
              "#0d0887"
             ],
             [
              0.1111111111111111,
              "#46039f"
             ],
             [
              0.2222222222222222,
              "#7201a8"
             ],
             [
              0.3333333333333333,
              "#9c179e"
             ],
             [
              0.4444444444444444,
              "#bd3786"
             ],
             [
              0.5555555555555556,
              "#d8576b"
             ],
             [
              0.6666666666666666,
              "#ed7953"
             ],
             [
              0.7777777777777778,
              "#fb9f3a"
             ],
             [
              0.8888888888888888,
              "#fdca26"
             ],
             [
              1,
              "#f0f921"
             ]
            ],
            "type": "heatmapgl"
           }
          ],
          "histogram": [
           {
            "marker": {
             "colorbar": {
              "outlinewidth": 0,
              "ticks": ""
             }
            },
            "type": "histogram"
           }
          ],
          "histogram2d": [
           {
            "colorbar": {
             "outlinewidth": 0,
             "ticks": ""
            },
            "colorscale": [
             [
              0,
              "#0d0887"
             ],
             [
              0.1111111111111111,
              "#46039f"
             ],
             [
              0.2222222222222222,
              "#7201a8"
             ],
             [
              0.3333333333333333,
              "#9c179e"
             ],
             [
              0.4444444444444444,
              "#bd3786"
             ],
             [
              0.5555555555555556,
              "#d8576b"
             ],
             [
              0.6666666666666666,
              "#ed7953"
             ],
             [
              0.7777777777777778,
              "#fb9f3a"
             ],
             [
              0.8888888888888888,
              "#fdca26"
             ],
             [
              1,
              "#f0f921"
             ]
            ],
            "type": "histogram2d"
           }
          ],
          "histogram2dcontour": [
           {
            "colorbar": {
             "outlinewidth": 0,
             "ticks": ""
            },
            "colorscale": [
             [
              0,
              "#0d0887"
             ],
             [
              0.1111111111111111,
              "#46039f"
             ],
             [
              0.2222222222222222,
              "#7201a8"
             ],
             [
              0.3333333333333333,
              "#9c179e"
             ],
             [
              0.4444444444444444,
              "#bd3786"
             ],
             [
              0.5555555555555556,
              "#d8576b"
             ],
             [
              0.6666666666666666,
              "#ed7953"
             ],
             [
              0.7777777777777778,
              "#fb9f3a"
             ],
             [
              0.8888888888888888,
              "#fdca26"
             ],
             [
              1,
              "#f0f921"
             ]
            ],
            "type": "histogram2dcontour"
           }
          ],
          "mesh3d": [
           {
            "colorbar": {
             "outlinewidth": 0,
             "ticks": ""
            },
            "type": "mesh3d"
           }
          ],
          "parcoords": [
           {
            "line": {
             "colorbar": {
              "outlinewidth": 0,
              "ticks": ""
             }
            },
            "type": "parcoords"
           }
          ],
          "pie": [
           {
            "automargin": true,
            "type": "pie"
           }
          ],
          "scatter": [
           {
            "marker": {
             "colorbar": {
              "outlinewidth": 0,
              "ticks": ""
             }
            },
            "type": "scatter"
           }
          ],
          "scatter3d": [
           {
            "line": {
             "colorbar": {
              "outlinewidth": 0,
              "ticks": ""
             }
            },
            "marker": {
             "colorbar": {
              "outlinewidth": 0,
              "ticks": ""
             }
            },
            "type": "scatter3d"
           }
          ],
          "scattercarpet": [
           {
            "marker": {
             "colorbar": {
              "outlinewidth": 0,
              "ticks": ""
             }
            },
            "type": "scattercarpet"
           }
          ],
          "scattergeo": [
           {
            "marker": {
             "colorbar": {
              "outlinewidth": 0,
              "ticks": ""
             }
            },
            "type": "scattergeo"
           }
          ],
          "scattergl": [
           {
            "marker": {
             "colorbar": {
              "outlinewidth": 0,
              "ticks": ""
             }
            },
            "type": "scattergl"
           }
          ],
          "scattermapbox": [
           {
            "marker": {
             "colorbar": {
              "outlinewidth": 0,
              "ticks": ""
             }
            },
            "type": "scattermapbox"
           }
          ],
          "scatterpolar": [
           {
            "marker": {
             "colorbar": {
              "outlinewidth": 0,
              "ticks": ""
             }
            },
            "type": "scatterpolar"
           }
          ],
          "scatterpolargl": [
           {
            "marker": {
             "colorbar": {
              "outlinewidth": 0,
              "ticks": ""
             }
            },
            "type": "scatterpolargl"
           }
          ],
          "scatterternary": [
           {
            "marker": {
             "colorbar": {
              "outlinewidth": 0,
              "ticks": ""
             }
            },
            "type": "scatterternary"
           }
          ],
          "surface": [
           {
            "colorbar": {
             "outlinewidth": 0,
             "ticks": ""
            },
            "colorscale": [
             [
              0,
              "#0d0887"
             ],
             [
              0.1111111111111111,
              "#46039f"
             ],
             [
              0.2222222222222222,
              "#7201a8"
             ],
             [
              0.3333333333333333,
              "#9c179e"
             ],
             [
              0.4444444444444444,
              "#bd3786"
             ],
             [
              0.5555555555555556,
              "#d8576b"
             ],
             [
              0.6666666666666666,
              "#ed7953"
             ],
             [
              0.7777777777777778,
              "#fb9f3a"
             ],
             [
              0.8888888888888888,
              "#fdca26"
             ],
             [
              1,
              "#f0f921"
             ]
            ],
            "type": "surface"
           }
          ],
          "table": [
           {
            "cells": {
             "fill": {
              "color": "#EBF0F8"
             },
             "line": {
              "color": "white"
             }
            },
            "header": {
             "fill": {
              "color": "#C8D4E3"
             },
             "line": {
              "color": "white"
             }
            },
            "type": "table"
           }
          ]
         },
         "layout": {
          "annotationdefaults": {
           "arrowcolor": "#2a3f5f",
           "arrowhead": 0,
           "arrowwidth": 1
          },
          "autotypenumbers": "strict",
          "coloraxis": {
           "colorbar": {
            "outlinewidth": 0,
            "ticks": ""
           }
          },
          "colorscale": {
           "diverging": [
            [
             0,
             "#8e0152"
            ],
            [
             0.1,
             "#c51b7d"
            ],
            [
             0.2,
             "#de77ae"
            ],
            [
             0.3,
             "#f1b6da"
            ],
            [
             0.4,
             "#fde0ef"
            ],
            [
             0.5,
             "#f7f7f7"
            ],
            [
             0.6,
             "#e6f5d0"
            ],
            [
             0.7,
             "#b8e186"
            ],
            [
             0.8,
             "#7fbc41"
            ],
            [
             0.9,
             "#4d9221"
            ],
            [
             1,
             "#276419"
            ]
           ],
           "sequential": [
            [
             0,
             "#0d0887"
            ],
            [
             0.1111111111111111,
             "#46039f"
            ],
            [
             0.2222222222222222,
             "#7201a8"
            ],
            [
             0.3333333333333333,
             "#9c179e"
            ],
            [
             0.4444444444444444,
             "#bd3786"
            ],
            [
             0.5555555555555556,
             "#d8576b"
            ],
            [
             0.6666666666666666,
             "#ed7953"
            ],
            [
             0.7777777777777778,
             "#fb9f3a"
            ],
            [
             0.8888888888888888,
             "#fdca26"
            ],
            [
             1,
             "#f0f921"
            ]
           ],
           "sequentialminus": [
            [
             0,
             "#0d0887"
            ],
            [
             0.1111111111111111,
             "#46039f"
            ],
            [
             0.2222222222222222,
             "#7201a8"
            ],
            [
             0.3333333333333333,
             "#9c179e"
            ],
            [
             0.4444444444444444,
             "#bd3786"
            ],
            [
             0.5555555555555556,
             "#d8576b"
            ],
            [
             0.6666666666666666,
             "#ed7953"
            ],
            [
             0.7777777777777778,
             "#fb9f3a"
            ],
            [
             0.8888888888888888,
             "#fdca26"
            ],
            [
             1,
             "#f0f921"
            ]
           ]
          },
          "colorway": [
           "#636efa",
           "#EF553B",
           "#00cc96",
           "#ab63fa",
           "#FFA15A",
           "#19d3f3",
           "#FF6692",
           "#B6E880",
           "#FF97FF",
           "#FECB52"
          ],
          "font": {
           "color": "#2a3f5f"
          },
          "geo": {
           "bgcolor": "white",
           "lakecolor": "white",
           "landcolor": "#E5ECF6",
           "showlakes": true,
           "showland": true,
           "subunitcolor": "white"
          },
          "hoverlabel": {
           "align": "left"
          },
          "hovermode": "closest",
          "mapbox": {
           "style": "light"
          },
          "paper_bgcolor": "white",
          "plot_bgcolor": "#E5ECF6",
          "polar": {
           "angularaxis": {
            "gridcolor": "white",
            "linecolor": "white",
            "ticks": ""
           },
           "bgcolor": "#E5ECF6",
           "radialaxis": {
            "gridcolor": "white",
            "linecolor": "white",
            "ticks": ""
           }
          },
          "scene": {
           "xaxis": {
            "backgroundcolor": "#E5ECF6",
            "gridcolor": "white",
            "gridwidth": 2,
            "linecolor": "white",
            "showbackground": true,
            "ticks": "",
            "zerolinecolor": "white"
           },
           "yaxis": {
            "backgroundcolor": "#E5ECF6",
            "gridcolor": "white",
            "gridwidth": 2,
            "linecolor": "white",
            "showbackground": true,
            "ticks": "",
            "zerolinecolor": "white"
           },
           "zaxis": {
            "backgroundcolor": "#E5ECF6",
            "gridcolor": "white",
            "gridwidth": 2,
            "linecolor": "white",
            "showbackground": true,
            "ticks": "",
            "zerolinecolor": "white"
           }
          },
          "shapedefaults": {
           "line": {
            "color": "#2a3f5f"
           }
          },
          "ternary": {
           "aaxis": {
            "gridcolor": "white",
            "linecolor": "white",
            "ticks": ""
           },
           "baxis": {
            "gridcolor": "white",
            "linecolor": "white",
            "ticks": ""
           },
           "bgcolor": "#E5ECF6",
           "caxis": {
            "gridcolor": "white",
            "linecolor": "white",
            "ticks": ""
           }
          },
          "title": {
           "x": 0.05
          },
          "xaxis": {
           "automargin": true,
           "gridcolor": "white",
           "linecolor": "white",
           "ticks": "",
           "title": {
            "standoff": 15
           },
           "zerolinecolor": "white",
           "zerolinewidth": 2
          },
          "yaxis": {
           "automargin": true,
           "gridcolor": "white",
           "linecolor": "white",
           "ticks": "",
           "title": {
            "standoff": 15
           },
           "zerolinecolor": "white",
           "zerolinewidth": 2
          }
         }
        },
        "title": {
         "text": "Total Cumulative Investments Over Time"
        },
        "xaxis": {
         "title": {
          "text": "Ticker"
         }
        },
        "yaxis": {
         "tickformat": ".2%",
         "title": {
          "text": "Returns"
         }
        }
       }
      }
     },
     "metadata": {}
    }
   ],
   "source": [
    "trace1 = go.Bar(\n",
    "    x = merged_portfolio_sp_latest_YTD_sp_closing_high['Ticker'][0:10],\n",
    "    y = merged_portfolio_sp_latest_YTD_sp_closing_high['Cum Invst'][0:10],\n",
    "    name = 'Cum Invst')\n",
    "trace2 = go.Bar(\n",
    "    x = merged_portfolio_sp_latest_YTD_sp_closing_high['Ticker'][0:10],\n",
    "    y = merged_portfolio_sp_latest_YTD_sp_closing_high['Cum Ticker Returns'][0:10],\n",
    "    name = 'Cum Ticker Returns')\n",
    "trace3 = go.Bar(\n",
    "    x = merged_portfolio_sp_latest_YTD_sp_closing_high['Ticker'][0:10],\n",
    "    y = merged_portfolio_sp_latest_YTD_sp_closing_high['Cum SP Returns'][0:10],\n",
    "    name = 'Cum SP Returns')\n",
    "\n",
    "trace4 = go.Scatter(\n",
    "    x = merged_portfolio_sp_latest_YTD_sp_closing_high['Ticker'][0:10],\n",
    "    y = merged_portfolio_sp_latest_YTD_sp_closing_high['Cum Ticker ROI Mult'][0:10],\n",
    "    name = 'Cum Ticker ROI Mult'\n",
    ")\n",
    "    \n",
    "data = [trace1, trace2, trace3, trace4]\n",
    "layout = go.Layout(title = 'Total Cumulative Investments Over Time'\n",
    "    , barmode = 'group'\n",
    "    , yaxis=dict(title='Returns', tickformat=\".2%\")\n",
    "    , xaxis=dict(title='Ticker')\n",
    "    , legend=dict(x=.8,y=1)\n",
    "    )\n",
    "fig = go.Figure(data=data, layout=layout)\n",
    "iplot(fig)"
   ]
  },
  {
   "cell_type": "code",
   "execution_count": 227,
   "metadata": {},
   "outputs": [
    {
     "output_type": "display_data",
     "data": {
      "application/vnd.plotly.v1+json": {
       "config": {
        "linkText": "Export to plot.ly",
        "plotlyServerURL": "https://plot.ly",
        "showLink": false
       },
       "data": [
        {
         "name": "Pct off High",
         "type": "bar",
         "x": [
          "AAPL",
          "FB",
          "JNJ",
          "MCD",
          "MTCH",
          "NFLX",
          "TWTR",
          "TWTR",
          "WMT"
         ],
         "y": [
          -0.06986614149671655,
          -0.17291304142190567,
          -0.0021785923313017985,
          -0.0804841142492303,
          -0.03375601574747744,
          -0.10523758528663929,
          -0.1913370114744758,
          -0.1913370114744758,
          -0.0498808382707161
         ]
        }
       ],
       "layout": {
        "barmode": "group",
        "legend": {
         "x": 0.8,
         "y": 1
        },
        "template": {
         "data": {
          "bar": [
           {
            "error_x": {
             "color": "#2a3f5f"
            },
            "error_y": {
             "color": "#2a3f5f"
            },
            "marker": {
             "line": {
              "color": "#E5ECF6",
              "width": 0.5
             }
            },
            "type": "bar"
           }
          ],
          "barpolar": [
           {
            "marker": {
             "line": {
              "color": "#E5ECF6",
              "width": 0.5
             }
            },
            "type": "barpolar"
           }
          ],
          "carpet": [
           {
            "aaxis": {
             "endlinecolor": "#2a3f5f",
             "gridcolor": "white",
             "linecolor": "white",
             "minorgridcolor": "white",
             "startlinecolor": "#2a3f5f"
            },
            "baxis": {
             "endlinecolor": "#2a3f5f",
             "gridcolor": "white",
             "linecolor": "white",
             "minorgridcolor": "white",
             "startlinecolor": "#2a3f5f"
            },
            "type": "carpet"
           }
          ],
          "choropleth": [
           {
            "colorbar": {
             "outlinewidth": 0,
             "ticks": ""
            },
            "type": "choropleth"
           }
          ],
          "contour": [
           {
            "colorbar": {
             "outlinewidth": 0,
             "ticks": ""
            },
            "colorscale": [
             [
              0,
              "#0d0887"
             ],
             [
              0.1111111111111111,
              "#46039f"
             ],
             [
              0.2222222222222222,
              "#7201a8"
             ],
             [
              0.3333333333333333,
              "#9c179e"
             ],
             [
              0.4444444444444444,
              "#bd3786"
             ],
             [
              0.5555555555555556,
              "#d8576b"
             ],
             [
              0.6666666666666666,
              "#ed7953"
             ],
             [
              0.7777777777777778,
              "#fb9f3a"
             ],
             [
              0.8888888888888888,
              "#fdca26"
             ],
             [
              1,
              "#f0f921"
             ]
            ],
            "type": "contour"
           }
          ],
          "contourcarpet": [
           {
            "colorbar": {
             "outlinewidth": 0,
             "ticks": ""
            },
            "type": "contourcarpet"
           }
          ],
          "heatmap": [
           {
            "colorbar": {
             "outlinewidth": 0,
             "ticks": ""
            },
            "colorscale": [
             [
              0,
              "#0d0887"
             ],
             [
              0.1111111111111111,
              "#46039f"
             ],
             [
              0.2222222222222222,
              "#7201a8"
             ],
             [
              0.3333333333333333,
              "#9c179e"
             ],
             [
              0.4444444444444444,
              "#bd3786"
             ],
             [
              0.5555555555555556,
              "#d8576b"
             ],
             [
              0.6666666666666666,
              "#ed7953"
             ],
             [
              0.7777777777777778,
              "#fb9f3a"
             ],
             [
              0.8888888888888888,
              "#fdca26"
             ],
             [
              1,
              "#f0f921"
             ]
            ],
            "type": "heatmap"
           }
          ],
          "heatmapgl": [
           {
            "colorbar": {
             "outlinewidth": 0,
             "ticks": ""
            },
            "colorscale": [
             [
              0,
              "#0d0887"
             ],
             [
              0.1111111111111111,
              "#46039f"
             ],
             [
              0.2222222222222222,
              "#7201a8"
             ],
             [
              0.3333333333333333,
              "#9c179e"
             ],
             [
              0.4444444444444444,
              "#bd3786"
             ],
             [
              0.5555555555555556,
              "#d8576b"
             ],
             [
              0.6666666666666666,
              "#ed7953"
             ],
             [
              0.7777777777777778,
              "#fb9f3a"
             ],
             [
              0.8888888888888888,
              "#fdca26"
             ],
             [
              1,
              "#f0f921"
             ]
            ],
            "type": "heatmapgl"
           }
          ],
          "histogram": [
           {
            "marker": {
             "colorbar": {
              "outlinewidth": 0,
              "ticks": ""
             }
            },
            "type": "histogram"
           }
          ],
          "histogram2d": [
           {
            "colorbar": {
             "outlinewidth": 0,
             "ticks": ""
            },
            "colorscale": [
             [
              0,
              "#0d0887"
             ],
             [
              0.1111111111111111,
              "#46039f"
             ],
             [
              0.2222222222222222,
              "#7201a8"
             ],
             [
              0.3333333333333333,
              "#9c179e"
             ],
             [
              0.4444444444444444,
              "#bd3786"
             ],
             [
              0.5555555555555556,
              "#d8576b"
             ],
             [
              0.6666666666666666,
              "#ed7953"
             ],
             [
              0.7777777777777778,
              "#fb9f3a"
             ],
             [
              0.8888888888888888,
              "#fdca26"
             ],
             [
              1,
              "#f0f921"
             ]
            ],
            "type": "histogram2d"
           }
          ],
          "histogram2dcontour": [
           {
            "colorbar": {
             "outlinewidth": 0,
             "ticks": ""
            },
            "colorscale": [
             [
              0,
              "#0d0887"
             ],
             [
              0.1111111111111111,
              "#46039f"
             ],
             [
              0.2222222222222222,
              "#7201a8"
             ],
             [
              0.3333333333333333,
              "#9c179e"
             ],
             [
              0.4444444444444444,
              "#bd3786"
             ],
             [
              0.5555555555555556,
              "#d8576b"
             ],
             [
              0.6666666666666666,
              "#ed7953"
             ],
             [
              0.7777777777777778,
              "#fb9f3a"
             ],
             [
              0.8888888888888888,
              "#fdca26"
             ],
             [
              1,
              "#f0f921"
             ]
            ],
            "type": "histogram2dcontour"
           }
          ],
          "mesh3d": [
           {
            "colorbar": {
             "outlinewidth": 0,
             "ticks": ""
            },
            "type": "mesh3d"
           }
          ],
          "parcoords": [
           {
            "line": {
             "colorbar": {
              "outlinewidth": 0,
              "ticks": ""
             }
            },
            "type": "parcoords"
           }
          ],
          "pie": [
           {
            "automargin": true,
            "type": "pie"
           }
          ],
          "scatter": [
           {
            "marker": {
             "colorbar": {
              "outlinewidth": 0,
              "ticks": ""
             }
            },
            "type": "scatter"
           }
          ],
          "scatter3d": [
           {
            "line": {
             "colorbar": {
              "outlinewidth": 0,
              "ticks": ""
             }
            },
            "marker": {
             "colorbar": {
              "outlinewidth": 0,
              "ticks": ""
             }
            },
            "type": "scatter3d"
           }
          ],
          "scattercarpet": [
           {
            "marker": {
             "colorbar": {
              "outlinewidth": 0,
              "ticks": ""
             }
            },
            "type": "scattercarpet"
           }
          ],
          "scattergeo": [
           {
            "marker": {
             "colorbar": {
              "outlinewidth": 0,
              "ticks": ""
             }
            },
            "type": "scattergeo"
           }
          ],
          "scattergl": [
           {
            "marker": {
             "colorbar": {
              "outlinewidth": 0,
              "ticks": ""
             }
            },
            "type": "scattergl"
           }
          ],
          "scattermapbox": [
           {
            "marker": {
             "colorbar": {
              "outlinewidth": 0,
              "ticks": ""
             }
            },
            "type": "scattermapbox"
           }
          ],
          "scatterpolar": [
           {
            "marker": {
             "colorbar": {
              "outlinewidth": 0,
              "ticks": ""
             }
            },
            "type": "scatterpolar"
           }
          ],
          "scatterpolargl": [
           {
            "marker": {
             "colorbar": {
              "outlinewidth": 0,
              "ticks": ""
             }
            },
            "type": "scatterpolargl"
           }
          ],
          "scatterternary": [
           {
            "marker": {
             "colorbar": {
              "outlinewidth": 0,
              "ticks": ""
             }
            },
            "type": "scatterternary"
           }
          ],
          "surface": [
           {
            "colorbar": {
             "outlinewidth": 0,
             "ticks": ""
            },
            "colorscale": [
             [
              0,
              "#0d0887"
             ],
             [
              0.1111111111111111,
              "#46039f"
             ],
             [
              0.2222222222222222,
              "#7201a8"
             ],
             [
              0.3333333333333333,
              "#9c179e"
             ],
             [
              0.4444444444444444,
              "#bd3786"
             ],
             [
              0.5555555555555556,
              "#d8576b"
             ],
             [
              0.6666666666666666,
              "#ed7953"
             ],
             [
              0.7777777777777778,
              "#fb9f3a"
             ],
             [
              0.8888888888888888,
              "#fdca26"
             ],
             [
              1,
              "#f0f921"
             ]
            ],
            "type": "surface"
           }
          ],
          "table": [
           {
            "cells": {
             "fill": {
              "color": "#EBF0F8"
             },
             "line": {
              "color": "white"
             }
            },
            "header": {
             "fill": {
              "color": "#C8D4E3"
             },
             "line": {
              "color": "white"
             }
            },
            "type": "table"
           }
          ]
         },
         "layout": {
          "annotationdefaults": {
           "arrowcolor": "#2a3f5f",
           "arrowhead": 0,
           "arrowwidth": 1
          },
          "autotypenumbers": "strict",
          "coloraxis": {
           "colorbar": {
            "outlinewidth": 0,
            "ticks": ""
           }
          },
          "colorscale": {
           "diverging": [
            [
             0,
             "#8e0152"
            ],
            [
             0.1,
             "#c51b7d"
            ],
            [
             0.2,
             "#de77ae"
            ],
            [
             0.3,
             "#f1b6da"
            ],
            [
             0.4,
             "#fde0ef"
            ],
            [
             0.5,
             "#f7f7f7"
            ],
            [
             0.6,
             "#e6f5d0"
            ],
            [
             0.7,
             "#b8e186"
            ],
            [
             0.8,
             "#7fbc41"
            ],
            [
             0.9,
             "#4d9221"
            ],
            [
             1,
             "#276419"
            ]
           ],
           "sequential": [
            [
             0,
             "#0d0887"
            ],
            [
             0.1111111111111111,
             "#46039f"
            ],
            [
             0.2222222222222222,
             "#7201a8"
            ],
            [
             0.3333333333333333,
             "#9c179e"
            ],
            [
             0.4444444444444444,
             "#bd3786"
            ],
            [
             0.5555555555555556,
             "#d8576b"
            ],
            [
             0.6666666666666666,
             "#ed7953"
            ],
            [
             0.7777777777777778,
             "#fb9f3a"
            ],
            [
             0.8888888888888888,
             "#fdca26"
            ],
            [
             1,
             "#f0f921"
            ]
           ],
           "sequentialminus": [
            [
             0,
             "#0d0887"
            ],
            [
             0.1111111111111111,
             "#46039f"
            ],
            [
             0.2222222222222222,
             "#7201a8"
            ],
            [
             0.3333333333333333,
             "#9c179e"
            ],
            [
             0.4444444444444444,
             "#bd3786"
            ],
            [
             0.5555555555555556,
             "#d8576b"
            ],
            [
             0.6666666666666666,
             "#ed7953"
            ],
            [
             0.7777777777777778,
             "#fb9f3a"
            ],
            [
             0.8888888888888888,
             "#fdca26"
            ],
            [
             1,
             "#f0f921"
            ]
           ]
          },
          "colorway": [
           "#636efa",
           "#EF553B",
           "#00cc96",
           "#ab63fa",
           "#FFA15A",
           "#19d3f3",
           "#FF6692",
           "#B6E880",
           "#FF97FF",
           "#FECB52"
          ],
          "font": {
           "color": "#2a3f5f"
          },
          "geo": {
           "bgcolor": "white",
           "lakecolor": "white",
           "landcolor": "#E5ECF6",
           "showlakes": true,
           "showland": true,
           "subunitcolor": "white"
          },
          "hoverlabel": {
           "align": "left"
          },
          "hovermode": "closest",
          "mapbox": {
           "style": "light"
          },
          "paper_bgcolor": "white",
          "plot_bgcolor": "#E5ECF6",
          "polar": {
           "angularaxis": {
            "gridcolor": "white",
            "linecolor": "white",
            "ticks": ""
           },
           "bgcolor": "#E5ECF6",
           "radialaxis": {
            "gridcolor": "white",
            "linecolor": "white",
            "ticks": ""
           }
          },
          "scene": {
           "xaxis": {
            "backgroundcolor": "#E5ECF6",
            "gridcolor": "white",
            "gridwidth": 2,
            "linecolor": "white",
            "showbackground": true,
            "ticks": "",
            "zerolinecolor": "white"
           },
           "yaxis": {
            "backgroundcolor": "#E5ECF6",
            "gridcolor": "white",
            "gridwidth": 2,
            "linecolor": "white",
            "showbackground": true,
            "ticks": "",
            "zerolinecolor": "white"
           },
           "zaxis": {
            "backgroundcolor": "#E5ECF6",
            "gridcolor": "white",
            "gridwidth": 2,
            "linecolor": "white",
            "showbackground": true,
            "ticks": "",
            "zerolinecolor": "white"
           }
          },
          "shapedefaults": {
           "line": {
            "color": "#2a3f5f"
           }
          },
          "ternary": {
           "aaxis": {
            "gridcolor": "white",
            "linecolor": "white",
            "ticks": ""
           },
           "baxis": {
            "gridcolor": "white",
            "linecolor": "white",
            "ticks": ""
           },
           "bgcolor": "#E5ECF6",
           "caxis": {
            "gridcolor": "white",
            "linecolor": "white",
            "ticks": ""
           }
          },
          "title": {
           "x": 0.05
          },
          "xaxis": {
           "automargin": true,
           "gridcolor": "white",
           "linecolor": "white",
           "ticks": "",
           "title": {
            "standoff": 15
           },
           "zerolinecolor": "white",
           "zerolinewidth": 2
          },
          "yaxis": {
           "automargin": true,
           "gridcolor": "white",
           "linecolor": "white",
           "ticks": "",
           "title": {
            "standoff": 15
           },
           "zerolinecolor": "white",
           "zerolinewidth": 2
          }
         }
        },
        "title": {
         "text": "Adj Close % off of High "
        },
        "xaxis": {
         "title": {
          "text": "Ticker"
         }
        },
        "yaxis": {
         "tickformat": ".2%",
         "title": {
          "text": "Adj Close % off of High"
         }
        }
       }
      }
     },
     "metadata": {}
    }
   ],
   "source": [
    "trace1 = go.Bar(\n",
    "    x = merged_portfolio_sp_latest_YTD_sp_closing_high['Ticker'][0:10],\n",
    "    y = merged_portfolio_sp_latest_YTD_sp_closing_high['Pct off High'][0:10],\n",
    "    name = 'Pct off High')\n",
    "    \n",
    "data = [trace1]\n",
    "layout = go.Layout(title = 'Adj Close % off of High '\n",
    "    , barmode = 'group'\n",
    "    , yaxis=dict(title='Adj Close % off of High', tickformat=\".2%\")\n",
    "    , xaxis=dict(title='Ticker')\n",
    "    , legend=dict(x=.8,y=1)\n",
    "    )\n",
    "fig = go.Figure(data=data, layout=layout)\n",
    "iplot(fig)"
   ]
  },
  {
   "cell_type": "code",
   "execution_count": null,
   "metadata": {},
   "outputs": [],
   "source": []
  }
 ]
}