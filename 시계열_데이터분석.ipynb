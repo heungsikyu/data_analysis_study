{
  "nbformat": 4,
  "nbformat_minor": 0,
  "metadata": {
    "colab": {
      "name": "시계열 데이터분석.ipynb",
      "provenance": [],
      "collapsed_sections": [],
      "toc_visible": true,
      "mount_file_id": "17zeXIpeLVcop7DwVEYSLHp9nX7iA5rKl",
      "authorship_tag": "ABX9TyM20sI4IE8Ft4maXNvKLdZY",
      "include_colab_link": true
    },
    "kernelspec": {
      "name": "python3",
      "display_name": "Python 3"
    }
  },
  "cells": [
    {
      "cell_type": "markdown",
      "metadata": {
        "id": "view-in-github",
        "colab_type": "text"
      },
      "source": [
        "<a href=\"https://colab.research.google.com/github/heungsikyu/data_analysis_study/blob/master/%EC%8B%9C%EA%B3%84%EC%97%B4_%EB%8D%B0%EC%9D%B4%ED%84%B0%EB%B6%84%EC%84%9D.ipynb\" target=\"_parent\"><img src=\"https://colab.research.google.com/assets/colab-badge.svg\" alt=\"Open In Colab\"/></a>"
      ]
    },
    {
      "cell_type": "markdown",
      "metadata": {
        "id": "d1Z7q1M0wz_O"
      },
      "source": [
        "# 시계열 데이터 분석"
      ]
    },
    {
      "cell_type": "markdown",
      "metadata": {
        "id": "l6OtCesQBlvI"
      },
      "source": [
        "## 1. Time Series width Pandas\n",
        "\n",
        "*   DateTime Index \n",
        "     - time 또는 date 정보는 별개의 칼럼이기 보다 인덱스인 경우가 많다.\n",
        "     - Panda에 내장된 기능들로 DateTime 인덱스를 생성하고 활용하는 방법을 안다. \n",
        "*   Time Resampling \n",
        "     - 시계열 데이터의 인덱스는 시(hours), 분(minutes)등 작은 단위 DateTime 인덳로 이뤄진 경우가 많다. \n",
        "     - 더 넓은 주기로 데이터를 집계 해야 하는 경우 Time Resampling이 vlfdy\n",
        "     - groupby 를 사용함으로써 Time Resampling을 수행할 수는 있지만, 비즈니스 도메인에서 분기나 회계년도를 편리하게 처리할 방법은 안됨\n",
        "     - Pandas 는 이런 경우에 활용 할 수 있는 frequency sampling 도구를 지원 \n",
        "* Time Shifiting\n",
        "     - 시계열 분석 알고리즘을 사용하기 위해 데이터를 임의 시간만큼 앞 또는 뒤로 이동시켜야 할 때 사용\n",
        "     - Pandas는 이런 경우에도 매우 쉬운 방법 제공\n",
        "* Rolling and Expanding\n",
        "     - 매일 수집되는 데이터들에는 노이즈가 포함되기도 한다.\n",
        "     - 이럴 경우 데이터의 일반적인 트렌드를 구하기 위해 rolling mean(또는 moving average)을 사용하기도 한다. \n",
        "     - Pandas에 내장된 rolling 함수를 이용하면 주어진 시한 내 평균(rolling mean)등을 구할 수 있다. \n",
        "     - 임의 시간 간격에 window를 만들고 그 안에서 mean같은 통계적 aggregation을 실행 하면된다.\n",
        "\n"
      ]
    },
    {
      "cell_type": "markdown",
      "metadata": {
        "id": "8TG3ZV4CFt3U"
      },
      "source": [
        "### 볼린저 밴드(Bollinger Band)"
      ]
    },
    {
      "cell_type": "code",
      "metadata": {
        "id": "PYQgdBGCIgJJ"
      },
      "source": [
        ""
      ],
      "execution_count": null,
      "outputs": []
    },
    {
      "cell_type": "markdown",
      "metadata": {
        "id": "2gBaG2wlIdsi"
      },
      "source": [
        "### Datetime Index 만들기"
      ]
    },
    {
      "cell_type": "code",
      "metadata": {
        "id": "auwjbpwjCLFd"
      },
      "source": [
        "import pandas as pd\n",
        "import numpy as np\n",
        "import matplotlib.pyplot as plt\n",
        "%matplotlib inline"
      ],
      "execution_count": 80,
      "outputs": []
    },
    {
      "cell_type": "code",
      "metadata": {
        "colab": {
          "base_uri": "https://localhost:8080/"
        },
        "id": "2883PDW_GGbP",
        "outputId": "b8f626a8-f920-49cc-a469-5a225b37abc9"
      },
      "source": [
        "from datetime import datetime\n",
        "\n",
        "today = datetime(2021, 1, 16, 10, 20)\n",
        "today"
      ],
      "execution_count": 83,
      "outputs": [
        {
          "output_type": "execute_result",
          "data": {
            "text/plain": [
              "datetime.datetime(2021, 1, 16, 10, 20)"
            ]
          },
          "metadata": {
            "tags": []
          },
          "execution_count": 83
        }
      ]
    },
    {
      "cell_type": "code",
      "metadata": {
        "colab": {
          "base_uri": "https://localhost:8080/"
        },
        "id": "Od3XiixQGTzf",
        "outputId": "3667510e-4ccd-459a-da2c-c5b4bca5b01c"
      },
      "source": [
        "today.day"
      ],
      "execution_count": 85,
      "outputs": [
        {
          "output_type": "execute_result",
          "data": {
            "text/plain": [
              "16"
            ]
          },
          "metadata": {
            "tags": []
          },
          "execution_count": 85
        }
      ]
    },
    {
      "cell_type": "code",
      "metadata": {
        "colab": {
          "base_uri": "https://localhost:8080/"
        },
        "id": "Z2SS95AIGf_O",
        "outputId": "a749c2c0-bb1d-4e31-daab-ac9bcee85339"
      },
      "source": [
        "today.year"
      ],
      "execution_count": 86,
      "outputs": [
        {
          "output_type": "execute_result",
          "data": {
            "text/plain": [
              "2021"
            ]
          },
          "metadata": {
            "tags": []
          },
          "execution_count": 86
        }
      ]
    },
    {
      "cell_type": "code",
      "metadata": {
        "colab": {
          "base_uri": "https://localhost:8080/"
        },
        "id": "so9rOhK-GiM5",
        "outputId": "d0ffaaa7-a287-428c-9de6-f8698179d10d"
      },
      "source": [
        "dates = [datetime(2020,1,15), datetime(2020,1,16)]\n",
        "dt_index = pd.DatetimeIndex(dates)\n",
        "dt_index"
      ],
      "execution_count": 97,
      "outputs": [
        {
          "output_type": "execute_result",
          "data": {
            "text/plain": [
              "DatetimeIndex(['2020-01-15', '2020-01-16'], dtype='datetime64[ns]', freq=None)"
            ]
          },
          "metadata": {
            "tags": []
          },
          "execution_count": 97
        }
      ]
    },
    {
      "cell_type": "code",
      "metadata": {
        "id": "rIJh0EYZHCu3"
      },
      "source": [
        "data = np.random.randn(2,2)\n",
        "cols = ['A','B']"
      ],
      "execution_count": 98,
      "outputs": []
    },
    {
      "cell_type": "code",
      "metadata": {
        "colab": {
          "base_uri": "https://localhost:8080/",
          "height": 111
        },
        "id": "17ZB4CCnG9KX",
        "outputId": "9f4bc3dc-575a-4225-e5d1-7a8fdc75790f"
      },
      "source": [
        "df = pd.DataFrame(data=data, index=dt_index, columns=cols)\n",
        "df"
      ],
      "execution_count": 99,
      "outputs": [
        {
          "output_type": "execute_result",
          "data": {
            "text/html": [
              "<div>\n",
              "<style scoped>\n",
              "    .dataframe tbody tr th:only-of-type {\n",
              "        vertical-align: middle;\n",
              "    }\n",
              "\n",
              "    .dataframe tbody tr th {\n",
              "        vertical-align: top;\n",
              "    }\n",
              "\n",
              "    .dataframe thead th {\n",
              "        text-align: right;\n",
              "    }\n",
              "</style>\n",
              "<table border=\"1\" class=\"dataframe\">\n",
              "  <thead>\n",
              "    <tr style=\"text-align: right;\">\n",
              "      <th></th>\n",
              "      <th>A</th>\n",
              "      <th>B</th>\n",
              "    </tr>\n",
              "  </thead>\n",
              "  <tbody>\n",
              "    <tr>\n",
              "      <th>2020-01-15</th>\n",
              "      <td>2.792558</td>\n",
              "      <td>1.010789</td>\n",
              "    </tr>\n",
              "    <tr>\n",
              "      <th>2020-01-16</th>\n",
              "      <td>-1.236437</td>\n",
              "      <td>2.167115</td>\n",
              "    </tr>\n",
              "  </tbody>\n",
              "</table>\n",
              "</div>"
            ],
            "text/plain": [
              "                   A         B\n",
              "2020-01-15  2.792558  1.010789\n",
              "2020-01-16 -1.236437  2.167115"
            ]
          },
          "metadata": {
            "tags": []
          },
          "execution_count": 99
        }
      ]
    },
    {
      "cell_type": "code",
      "metadata": {
        "colab": {
          "base_uri": "https://localhost:8080/"
        },
        "id": "_60v4PpAHrco",
        "outputId": "b575a305-c1f8-4847-956b-82b51ee51e95"
      },
      "source": [
        "df.index\n"
      ],
      "execution_count": 100,
      "outputs": [
        {
          "output_type": "execute_result",
          "data": {
            "text/plain": [
              "DatetimeIndex(['2020-01-15', '2020-01-16'], dtype='datetime64[ns]', freq=None)"
            ]
          },
          "metadata": {
            "tags": []
          },
          "execution_count": 100
        }
      ]
    },
    {
      "cell_type": "code",
      "metadata": {
        "colab": {
          "base_uri": "https://localhost:8080/"
        },
        "id": "3Q6QUE_HHyhn",
        "outputId": "1c565a7a-af71-4b54-8e95-9d539664aaab"
      },
      "source": [
        "df.index.max()"
      ],
      "execution_count": 103,
      "outputs": [
        {
          "output_type": "execute_result",
          "data": {
            "text/plain": [
              "Timestamp('2020-01-16 00:00:00')"
            ]
          },
          "metadata": {
            "tags": []
          },
          "execution_count": 103
        }
      ]
    },
    {
      "cell_type": "code",
      "metadata": {
        "colab": {
          "base_uri": "https://localhost:8080/"
        },
        "id": "1b-cnEVlH8jS",
        "outputId": "6c09d2a4-eb2f-4912-e2fe-8bdb9e762d4d"
      },
      "source": [
        "df.index.min()"
      ],
      "execution_count": 104,
      "outputs": [
        {
          "output_type": "execute_result",
          "data": {
            "text/plain": [
              "Timestamp('2020-01-15 00:00:00')"
            ]
          },
          "metadata": {
            "tags": []
          },
          "execution_count": 104
        }
      ]
    },
    {
      "cell_type": "code",
      "metadata": {
        "colab": {
          "base_uri": "https://localhost:8080/"
        },
        "id": "LaR2L1hOIGVU",
        "outputId": "acba3989-5f2c-4bea-bf4a-fa3600be337d"
      },
      "source": [
        "df.index.argmax()"
      ],
      "execution_count": 105,
      "outputs": [
        {
          "output_type": "execute_result",
          "data": {
            "text/plain": [
              "1"
            ]
          },
          "metadata": {
            "tags": []
          },
          "execution_count": 105
        }
      ]
    },
    {
      "cell_type": "code",
      "metadata": {
        "colab": {
          "base_uri": "https://localhost:8080/"
        },
        "id": "2ju0MENTIOpY",
        "outputId": "f7ad08aa-f1dd-476d-9aec-836977c73767"
      },
      "source": [
        "df.index.argmin()"
      ],
      "execution_count": 106,
      "outputs": [
        {
          "output_type": "execute_result",
          "data": {
            "text/plain": [
              "0"
            ]
          },
          "metadata": {
            "tags": []
          },
          "execution_count": 106
        }
      ]
    },
    {
      "cell_type": "markdown",
      "metadata": {
        "id": "Uotz5cCSIUru"
      },
      "source": [
        "### RESAMPLING"
      ]
    },
    {
      "cell_type": "code",
      "metadata": {
        "colab": {
          "base_uri": "https://localhost:8080/"
        },
        "id": "0hSW0SMzITec",
        "outputId": "06fcdf86-c14c-49b6-cfe2-a764b0ba994d"
      },
      "source": [
        "df = pd.read_csv('/content/drive/MyDrive/Colab Notebooks/apple_stock_data.csv')\n",
        "df.info()\n"
      ],
      "execution_count": 139,
      "outputs": [
        {
          "output_type": "stream",
          "text": [
            "<class 'pandas.core.frame.DataFrame'>\n",
            "RangeIndex: 6953 entries, 0 to 6952\n",
            "Data columns (total 7 columns):\n",
            " #   Column     Non-Null Count  Dtype  \n",
            "---  ------     --------------  -----  \n",
            " 0   Date       6953 non-null   object \n",
            " 1   Open       6953 non-null   float64\n",
            " 2   High       6953 non-null   float64\n",
            " 3   Low        6953 non-null   float64\n",
            " 4   Close      6953 non-null   float64\n",
            " 5   Volume     6953 non-null   int64  \n",
            " 6   Adj Close  6953 non-null   float64\n",
            "dtypes: float64(5), int64(1), object(1)\n",
            "memory usage: 380.4+ KB\n"
          ],
          "name": "stdout"
        }
      ]
    },
    {
      "cell_type": "code",
      "metadata": {
        "id": "-IgG7lIfKAWl"
      },
      "source": [
        "df['Date']= df['Date'].apply(pd.to_datetime)"
      ],
      "execution_count": 140,
      "outputs": []
    },
    {
      "cell_type": "code",
      "metadata": {
        "colab": {
          "base_uri": "https://localhost:8080/",
          "height": 419
        },
        "id": "tlHzsSfTKMU_",
        "outputId": "d4dcdb9b-4bbd-46fe-96d8-d65ebe812bd9"
      },
      "source": [
        "df\n"
      ],
      "execution_count": 133,
      "outputs": [
        {
          "output_type": "execute_result",
          "data": {
            "text/html": [
              "<div>\n",
              "<style scoped>\n",
              "    .dataframe tbody tr th:only-of-type {\n",
              "        vertical-align: middle;\n",
              "    }\n",
              "\n",
              "    .dataframe tbody tr th {\n",
              "        vertical-align: top;\n",
              "    }\n",
              "\n",
              "    .dataframe thead th {\n",
              "        text-align: right;\n",
              "    }\n",
              "</style>\n",
              "<table border=\"1\" class=\"dataframe\">\n",
              "  <thead>\n",
              "    <tr style=\"text-align: right;\">\n",
              "      <th></th>\n",
              "      <th>Date</th>\n",
              "      <th>Open</th>\n",
              "      <th>High</th>\n",
              "      <th>Low</th>\n",
              "      <th>Close</th>\n",
              "      <th>Volume</th>\n",
              "      <th>Adj Close</th>\n",
              "    </tr>\n",
              "  </thead>\n",
              "  <tbody>\n",
              "    <tr>\n",
              "      <th>0</th>\n",
              "      <td>2012-03-30</td>\n",
              "      <td>608.77</td>\n",
              "      <td>610.56</td>\n",
              "      <td>597.94</td>\n",
              "      <td>599.55</td>\n",
              "      <td>26050900</td>\n",
              "      <td>599.55</td>\n",
              "    </tr>\n",
              "    <tr>\n",
              "      <th>1</th>\n",
              "      <td>2012-03-29</td>\n",
              "      <td>612.78</td>\n",
              "      <td>616.56</td>\n",
              "      <td>607.23</td>\n",
              "      <td>609.86</td>\n",
              "      <td>21668300</td>\n",
              "      <td>609.86</td>\n",
              "    </tr>\n",
              "    <tr>\n",
              "      <th>2</th>\n",
              "      <td>2012-03-28</td>\n",
              "      <td>618.38</td>\n",
              "      <td>621.45</td>\n",
              "      <td>610.31</td>\n",
              "      <td>617.62</td>\n",
              "      <td>23385200</td>\n",
              "      <td>617.62</td>\n",
              "    </tr>\n",
              "    <tr>\n",
              "      <th>3</th>\n",
              "      <td>2012-03-27</td>\n",
              "      <td>606.18</td>\n",
              "      <td>616.28</td>\n",
              "      <td>606.06</td>\n",
              "      <td>614.48</td>\n",
              "      <td>21628200</td>\n",
              "      <td>614.48</td>\n",
              "    </tr>\n",
              "    <tr>\n",
              "      <th>4</th>\n",
              "      <td>2012-03-26</td>\n",
              "      <td>599.79</td>\n",
              "      <td>607.15</td>\n",
              "      <td>595.26</td>\n",
              "      <td>606.98</td>\n",
              "      <td>21259900</td>\n",
              "      <td>606.98</td>\n",
              "    </tr>\n",
              "    <tr>\n",
              "      <th>...</th>\n",
              "      <td>...</td>\n",
              "      <td>...</td>\n",
              "      <td>...</td>\n",
              "      <td>...</td>\n",
              "      <td>...</td>\n",
              "      <td>...</td>\n",
              "      <td>...</td>\n",
              "    </tr>\n",
              "    <tr>\n",
              "      <th>6948</th>\n",
              "      <td>1984-09-13</td>\n",
              "      <td>27.50</td>\n",
              "      <td>27.62</td>\n",
              "      <td>27.50</td>\n",
              "      <td>27.50</td>\n",
              "      <td>7429600</td>\n",
              "      <td>3.14</td>\n",
              "    </tr>\n",
              "    <tr>\n",
              "      <th>6949</th>\n",
              "      <td>1984-09-12</td>\n",
              "      <td>26.87</td>\n",
              "      <td>27.00</td>\n",
              "      <td>26.12</td>\n",
              "      <td>26.12</td>\n",
              "      <td>4773600</td>\n",
              "      <td>2.98</td>\n",
              "    </tr>\n",
              "    <tr>\n",
              "      <th>6950</th>\n",
              "      <td>1984-09-11</td>\n",
              "      <td>26.62</td>\n",
              "      <td>27.37</td>\n",
              "      <td>26.62</td>\n",
              "      <td>26.87</td>\n",
              "      <td>5444000</td>\n",
              "      <td>3.07</td>\n",
              "    </tr>\n",
              "    <tr>\n",
              "      <th>6951</th>\n",
              "      <td>1984-09-10</td>\n",
              "      <td>26.50</td>\n",
              "      <td>26.62</td>\n",
              "      <td>25.87</td>\n",
              "      <td>26.37</td>\n",
              "      <td>2346400</td>\n",
              "      <td>3.01</td>\n",
              "    </tr>\n",
              "    <tr>\n",
              "      <th>6952</th>\n",
              "      <td>1984-09-07</td>\n",
              "      <td>26.50</td>\n",
              "      <td>26.87</td>\n",
              "      <td>26.25</td>\n",
              "      <td>26.50</td>\n",
              "      <td>2981600</td>\n",
              "      <td>3.02</td>\n",
              "    </tr>\n",
              "  </tbody>\n",
              "</table>\n",
              "<p>6953 rows × 7 columns</p>\n",
              "</div>"
            ],
            "text/plain": [
              "           Date    Open    High     Low   Close    Volume  Adj Close\n",
              "0    2012-03-30  608.77  610.56  597.94  599.55  26050900     599.55\n",
              "1    2012-03-29  612.78  616.56  607.23  609.86  21668300     609.86\n",
              "2    2012-03-28  618.38  621.45  610.31  617.62  23385200     617.62\n",
              "3    2012-03-27  606.18  616.28  606.06  614.48  21628200     614.48\n",
              "4    2012-03-26  599.79  607.15  595.26  606.98  21259900     606.98\n",
              "...         ...     ...     ...     ...     ...       ...        ...\n",
              "6948 1984-09-13   27.50   27.62   27.50   27.50   7429600       3.14\n",
              "6949 1984-09-12   26.87   27.00   26.12   26.12   4773600       2.98\n",
              "6950 1984-09-11   26.62   27.37   26.62   26.87   5444000       3.07\n",
              "6951 1984-09-10   26.50   26.62   25.87   26.37   2346400       3.01\n",
              "6952 1984-09-07   26.50   26.87   26.25   26.50   2981600       3.02\n",
              "\n",
              "[6953 rows x 7 columns]"
            ]
          },
          "metadata": {
            "tags": []
          },
          "execution_count": 133
        }
      ]
    },
    {
      "cell_type": "code",
      "metadata": {
        "colab": {
          "base_uri": "https://localhost:8080/"
        },
        "id": "tp7uxB32KWMD",
        "outputId": "c1664b0a-f05b-42bb-8c56-083dd96bf8e6"
      },
      "source": [
        "\n",
        "df.info()"
      ],
      "execution_count": 141,
      "outputs": [
        {
          "output_type": "stream",
          "text": [
            "<class 'pandas.core.frame.DataFrame'>\n",
            "RangeIndex: 6953 entries, 0 to 6952\n",
            "Data columns (total 7 columns):\n",
            " #   Column     Non-Null Count  Dtype         \n",
            "---  ------     --------------  -----         \n",
            " 0   Date       6953 non-null   datetime64[ns]\n",
            " 1   Open       6953 non-null   float64       \n",
            " 2   High       6953 non-null   float64       \n",
            " 3   Low        6953 non-null   float64       \n",
            " 4   Close      6953 non-null   float64       \n",
            " 5   Volume     6953 non-null   int64         \n",
            " 6   Adj Close  6953 non-null   float64       \n",
            "dtypes: datetime64[ns](1), float64(5), int64(1)\n",
            "memory usage: 380.4 KB\n"
          ],
          "name": "stdout"
        }
      ]
    },
    {
      "cell_type": "code",
      "metadata": {
        "id": "EhLNtwlLLf51"
      },
      "source": [
        "df.set_index('Date', inplace=True)"
      ],
      "execution_count": 142,
      "outputs": []
    },
    {
      "cell_type": "code",
      "metadata": {
        "colab": {
          "base_uri": "https://localhost:8080/",
          "height": 450
        },
        "id": "3rkCldeeL6Y5",
        "outputId": "922d003b-d3e7-4d20-dd85-2703a4f9085f"
      },
      "source": [
        "df"
      ],
      "execution_count": 143,
      "outputs": [
        {
          "output_type": "execute_result",
          "data": {
            "text/html": [
              "<div>\n",
              "<style scoped>\n",
              "    .dataframe tbody tr th:only-of-type {\n",
              "        vertical-align: middle;\n",
              "    }\n",
              "\n",
              "    .dataframe tbody tr th {\n",
              "        vertical-align: top;\n",
              "    }\n",
              "\n",
              "    .dataframe thead th {\n",
              "        text-align: right;\n",
              "    }\n",
              "</style>\n",
              "<table border=\"1\" class=\"dataframe\">\n",
              "  <thead>\n",
              "    <tr style=\"text-align: right;\">\n",
              "      <th></th>\n",
              "      <th>Open</th>\n",
              "      <th>High</th>\n",
              "      <th>Low</th>\n",
              "      <th>Close</th>\n",
              "      <th>Volume</th>\n",
              "      <th>Adj Close</th>\n",
              "    </tr>\n",
              "    <tr>\n",
              "      <th>Date</th>\n",
              "      <th></th>\n",
              "      <th></th>\n",
              "      <th></th>\n",
              "      <th></th>\n",
              "      <th></th>\n",
              "      <th></th>\n",
              "    </tr>\n",
              "  </thead>\n",
              "  <tbody>\n",
              "    <tr>\n",
              "      <th>2012-03-30</th>\n",
              "      <td>608.77</td>\n",
              "      <td>610.56</td>\n",
              "      <td>597.94</td>\n",
              "      <td>599.55</td>\n",
              "      <td>26050900</td>\n",
              "      <td>599.55</td>\n",
              "    </tr>\n",
              "    <tr>\n",
              "      <th>2012-03-29</th>\n",
              "      <td>612.78</td>\n",
              "      <td>616.56</td>\n",
              "      <td>607.23</td>\n",
              "      <td>609.86</td>\n",
              "      <td>21668300</td>\n",
              "      <td>609.86</td>\n",
              "    </tr>\n",
              "    <tr>\n",
              "      <th>2012-03-28</th>\n",
              "      <td>618.38</td>\n",
              "      <td>621.45</td>\n",
              "      <td>610.31</td>\n",
              "      <td>617.62</td>\n",
              "      <td>23385200</td>\n",
              "      <td>617.62</td>\n",
              "    </tr>\n",
              "    <tr>\n",
              "      <th>2012-03-27</th>\n",
              "      <td>606.18</td>\n",
              "      <td>616.28</td>\n",
              "      <td>606.06</td>\n",
              "      <td>614.48</td>\n",
              "      <td>21628200</td>\n",
              "      <td>614.48</td>\n",
              "    </tr>\n",
              "    <tr>\n",
              "      <th>2012-03-26</th>\n",
              "      <td>599.79</td>\n",
              "      <td>607.15</td>\n",
              "      <td>595.26</td>\n",
              "      <td>606.98</td>\n",
              "      <td>21259900</td>\n",
              "      <td>606.98</td>\n",
              "    </tr>\n",
              "    <tr>\n",
              "      <th>...</th>\n",
              "      <td>...</td>\n",
              "      <td>...</td>\n",
              "      <td>...</td>\n",
              "      <td>...</td>\n",
              "      <td>...</td>\n",
              "      <td>...</td>\n",
              "    </tr>\n",
              "    <tr>\n",
              "      <th>1984-09-13</th>\n",
              "      <td>27.50</td>\n",
              "      <td>27.62</td>\n",
              "      <td>27.50</td>\n",
              "      <td>27.50</td>\n",
              "      <td>7429600</td>\n",
              "      <td>3.14</td>\n",
              "    </tr>\n",
              "    <tr>\n",
              "      <th>1984-09-12</th>\n",
              "      <td>26.87</td>\n",
              "      <td>27.00</td>\n",
              "      <td>26.12</td>\n",
              "      <td>26.12</td>\n",
              "      <td>4773600</td>\n",
              "      <td>2.98</td>\n",
              "    </tr>\n",
              "    <tr>\n",
              "      <th>1984-09-11</th>\n",
              "      <td>26.62</td>\n",
              "      <td>27.37</td>\n",
              "      <td>26.62</td>\n",
              "      <td>26.87</td>\n",
              "      <td>5444000</td>\n",
              "      <td>3.07</td>\n",
              "    </tr>\n",
              "    <tr>\n",
              "      <th>1984-09-10</th>\n",
              "      <td>26.50</td>\n",
              "      <td>26.62</td>\n",
              "      <td>25.87</td>\n",
              "      <td>26.37</td>\n",
              "      <td>2346400</td>\n",
              "      <td>3.01</td>\n",
              "    </tr>\n",
              "    <tr>\n",
              "      <th>1984-09-07</th>\n",
              "      <td>26.50</td>\n",
              "      <td>26.87</td>\n",
              "      <td>26.25</td>\n",
              "      <td>26.50</td>\n",
              "      <td>2981600</td>\n",
              "      <td>3.02</td>\n",
              "    </tr>\n",
              "  </tbody>\n",
              "</table>\n",
              "<p>6953 rows × 6 columns</p>\n",
              "</div>"
            ],
            "text/plain": [
              "              Open    High     Low   Close    Volume  Adj Close\n",
              "Date                                                           \n",
              "2012-03-30  608.77  610.56  597.94  599.55  26050900     599.55\n",
              "2012-03-29  612.78  616.56  607.23  609.86  21668300     609.86\n",
              "2012-03-28  618.38  621.45  610.31  617.62  23385200     617.62\n",
              "2012-03-27  606.18  616.28  606.06  614.48  21628200     614.48\n",
              "2012-03-26  599.79  607.15  595.26  606.98  21259900     606.98\n",
              "...            ...     ...     ...     ...       ...        ...\n",
              "1984-09-13   27.50   27.62   27.50   27.50   7429600       3.14\n",
              "1984-09-12   26.87   27.00   26.12   26.12   4773600       2.98\n",
              "1984-09-11   26.62   27.37   26.62   26.87   5444000       3.07\n",
              "1984-09-10   26.50   26.62   25.87   26.37   2346400       3.01\n",
              "1984-09-07   26.50   26.87   26.25   26.50   2981600       3.02\n",
              "\n",
              "[6953 rows x 6 columns]"
            ]
          },
          "metadata": {
            "tags": []
          },
          "execution_count": 143
        }
      ]
    },
    {
      "cell_type": "code",
      "metadata": {
        "id": "2Tb7cMgcME0V"
      },
      "source": [
        "df['month'] = df.index.month"
      ],
      "execution_count": 145,
      "outputs": []
    },
    {
      "cell_type": "code",
      "metadata": {
        "colab": {
          "base_uri": "https://localhost:8080/",
          "height": 450
        },
        "id": "pDqjLTzcMSg0",
        "outputId": "28e5ffe4-6a46-4618-af56-e27fe2f1e300"
      },
      "source": [
        "df"
      ],
      "execution_count": 146,
      "outputs": [
        {
          "output_type": "execute_result",
          "data": {
            "text/html": [
              "<div>\n",
              "<style scoped>\n",
              "    .dataframe tbody tr th:only-of-type {\n",
              "        vertical-align: middle;\n",
              "    }\n",
              "\n",
              "    .dataframe tbody tr th {\n",
              "        vertical-align: top;\n",
              "    }\n",
              "\n",
              "    .dataframe thead th {\n",
              "        text-align: right;\n",
              "    }\n",
              "</style>\n",
              "<table border=\"1\" class=\"dataframe\">\n",
              "  <thead>\n",
              "    <tr style=\"text-align: right;\">\n",
              "      <th></th>\n",
              "      <th>Open</th>\n",
              "      <th>High</th>\n",
              "      <th>Low</th>\n",
              "      <th>Close</th>\n",
              "      <th>Volume</th>\n",
              "      <th>Adj Close</th>\n",
              "      <th>month</th>\n",
              "    </tr>\n",
              "    <tr>\n",
              "      <th>Date</th>\n",
              "      <th></th>\n",
              "      <th></th>\n",
              "      <th></th>\n",
              "      <th></th>\n",
              "      <th></th>\n",
              "      <th></th>\n",
              "      <th></th>\n",
              "    </tr>\n",
              "  </thead>\n",
              "  <tbody>\n",
              "    <tr>\n",
              "      <th>2012-03-30</th>\n",
              "      <td>608.77</td>\n",
              "      <td>610.56</td>\n",
              "      <td>597.94</td>\n",
              "      <td>599.55</td>\n",
              "      <td>26050900</td>\n",
              "      <td>599.55</td>\n",
              "      <td>3</td>\n",
              "    </tr>\n",
              "    <tr>\n",
              "      <th>2012-03-29</th>\n",
              "      <td>612.78</td>\n",
              "      <td>616.56</td>\n",
              "      <td>607.23</td>\n",
              "      <td>609.86</td>\n",
              "      <td>21668300</td>\n",
              "      <td>609.86</td>\n",
              "      <td>3</td>\n",
              "    </tr>\n",
              "    <tr>\n",
              "      <th>2012-03-28</th>\n",
              "      <td>618.38</td>\n",
              "      <td>621.45</td>\n",
              "      <td>610.31</td>\n",
              "      <td>617.62</td>\n",
              "      <td>23385200</td>\n",
              "      <td>617.62</td>\n",
              "      <td>3</td>\n",
              "    </tr>\n",
              "    <tr>\n",
              "      <th>2012-03-27</th>\n",
              "      <td>606.18</td>\n",
              "      <td>616.28</td>\n",
              "      <td>606.06</td>\n",
              "      <td>614.48</td>\n",
              "      <td>21628200</td>\n",
              "      <td>614.48</td>\n",
              "      <td>3</td>\n",
              "    </tr>\n",
              "    <tr>\n",
              "      <th>2012-03-26</th>\n",
              "      <td>599.79</td>\n",
              "      <td>607.15</td>\n",
              "      <td>595.26</td>\n",
              "      <td>606.98</td>\n",
              "      <td>21259900</td>\n",
              "      <td>606.98</td>\n",
              "      <td>3</td>\n",
              "    </tr>\n",
              "    <tr>\n",
              "      <th>...</th>\n",
              "      <td>...</td>\n",
              "      <td>...</td>\n",
              "      <td>...</td>\n",
              "      <td>...</td>\n",
              "      <td>...</td>\n",
              "      <td>...</td>\n",
              "      <td>...</td>\n",
              "    </tr>\n",
              "    <tr>\n",
              "      <th>1984-09-13</th>\n",
              "      <td>27.50</td>\n",
              "      <td>27.62</td>\n",
              "      <td>27.50</td>\n",
              "      <td>27.50</td>\n",
              "      <td>7429600</td>\n",
              "      <td>3.14</td>\n",
              "      <td>9</td>\n",
              "    </tr>\n",
              "    <tr>\n",
              "      <th>1984-09-12</th>\n",
              "      <td>26.87</td>\n",
              "      <td>27.00</td>\n",
              "      <td>26.12</td>\n",
              "      <td>26.12</td>\n",
              "      <td>4773600</td>\n",
              "      <td>2.98</td>\n",
              "      <td>9</td>\n",
              "    </tr>\n",
              "    <tr>\n",
              "      <th>1984-09-11</th>\n",
              "      <td>26.62</td>\n",
              "      <td>27.37</td>\n",
              "      <td>26.62</td>\n",
              "      <td>26.87</td>\n",
              "      <td>5444000</td>\n",
              "      <td>3.07</td>\n",
              "      <td>9</td>\n",
              "    </tr>\n",
              "    <tr>\n",
              "      <th>1984-09-10</th>\n",
              "      <td>26.50</td>\n",
              "      <td>26.62</td>\n",
              "      <td>25.87</td>\n",
              "      <td>26.37</td>\n",
              "      <td>2346400</td>\n",
              "      <td>3.01</td>\n",
              "      <td>9</td>\n",
              "    </tr>\n",
              "    <tr>\n",
              "      <th>1984-09-07</th>\n",
              "      <td>26.50</td>\n",
              "      <td>26.87</td>\n",
              "      <td>26.25</td>\n",
              "      <td>26.50</td>\n",
              "      <td>2981600</td>\n",
              "      <td>3.02</td>\n",
              "      <td>9</td>\n",
              "    </tr>\n",
              "  </tbody>\n",
              "</table>\n",
              "<p>6953 rows × 7 columns</p>\n",
              "</div>"
            ],
            "text/plain": [
              "              Open    High     Low   Close    Volume  Adj Close  month\n",
              "Date                                                                  \n",
              "2012-03-30  608.77  610.56  597.94  599.55  26050900     599.55      3\n",
              "2012-03-29  612.78  616.56  607.23  609.86  21668300     609.86      3\n",
              "2012-03-28  618.38  621.45  610.31  617.62  23385200     617.62      3\n",
              "2012-03-27  606.18  616.28  606.06  614.48  21628200     614.48      3\n",
              "2012-03-26  599.79  607.15  595.26  606.98  21259900     606.98      3\n",
              "...            ...     ...     ...     ...       ...        ...    ...\n",
              "1984-09-13   27.50   27.62   27.50   27.50   7429600       3.14      9\n",
              "1984-09-12   26.87   27.00   26.12   26.12   4773600       2.98      9\n",
              "1984-09-11   26.62   27.37   26.62   26.87   5444000       3.07      9\n",
              "1984-09-10   26.50   26.62   25.87   26.37   2346400       3.01      9\n",
              "1984-09-07   26.50   26.87   26.25   26.50   2981600       3.02      9\n",
              "\n",
              "[6953 rows x 7 columns]"
            ]
          },
          "metadata": {
            "tags": []
          },
          "execution_count": 146
        }
      ]
    },
    {
      "cell_type": "code",
      "metadata": {
        "colab": {
          "base_uri": "https://localhost:8080/",
          "height": 452
        },
        "id": "lAhtDjCvMVmV",
        "outputId": "62f5529d-e385-4528-cf3a-17f65be26812"
      },
      "source": [
        "df.groupby('month').agg(sum)"
      ],
      "execution_count": 147,
      "outputs": [
        {
          "output_type": "execute_result",
          "data": {
            "text/html": [
              "<div>\n",
              "<style scoped>\n",
              "    .dataframe tbody tr th:only-of-type {\n",
              "        vertical-align: middle;\n",
              "    }\n",
              "\n",
              "    .dataframe tbody tr th {\n",
              "        vertical-align: top;\n",
              "    }\n",
              "\n",
              "    .dataframe thead th {\n",
              "        text-align: right;\n",
              "    }\n",
              "</style>\n",
              "<table border=\"1\" class=\"dataframe\">\n",
              "  <thead>\n",
              "    <tr style=\"text-align: right;\">\n",
              "      <th></th>\n",
              "      <th>Open</th>\n",
              "      <th>High</th>\n",
              "      <th>Low</th>\n",
              "      <th>Close</th>\n",
              "      <th>Volume</th>\n",
              "      <th>Adj Close</th>\n",
              "    </tr>\n",
              "    <tr>\n",
              "      <th>month</th>\n",
              "      <th></th>\n",
              "      <th></th>\n",
              "      <th></th>\n",
              "      <th></th>\n",
              "      <th></th>\n",
              "      <th></th>\n",
              "    </tr>\n",
              "  </thead>\n",
              "  <tbody>\n",
              "    <tr>\n",
              "      <th>1</th>\n",
              "      <td>45028.13</td>\n",
              "      <td>45721.95</td>\n",
              "      <td>44236.53</td>\n",
              "      <td>44979.38</td>\n",
              "      <td>11625740200</td>\n",
              "      <td>32429.23</td>\n",
              "    </tr>\n",
              "    <tr>\n",
              "      <th>2</th>\n",
              "      <td>44070.74</td>\n",
              "      <td>44728.94</td>\n",
              "      <td>43483.81</td>\n",
              "      <td>44151.65</td>\n",
              "      <td>8140532000</td>\n",
              "      <td>32186.27</td>\n",
              "    </tr>\n",
              "    <tr>\n",
              "      <th>3</th>\n",
              "      <td>52676.21</td>\n",
              "      <td>53434.18</td>\n",
              "      <td>51937.94</td>\n",
              "      <td>52734.59</td>\n",
              "      <td>9015289300</td>\n",
              "      <td>39455.93</td>\n",
              "    </tr>\n",
              "    <tr>\n",
              "      <th>4</th>\n",
              "      <td>38514.35</td>\n",
              "      <td>39117.21</td>\n",
              "      <td>37879.05</td>\n",
              "      <td>38521.84</td>\n",
              "      <td>8312347600</td>\n",
              "      <td>26187.40</td>\n",
              "    </tr>\n",
              "    <tr>\n",
              "      <th>5</th>\n",
              "      <td>40330.27</td>\n",
              "      <td>40895.85</td>\n",
              "      <td>39637.45</td>\n",
              "      <td>40295.10</td>\n",
              "      <td>7465312700</td>\n",
              "      <td>27576.86</td>\n",
              "    </tr>\n",
              "    <tr>\n",
              "      <th>6</th>\n",
              "      <td>40436.32</td>\n",
              "      <td>40981.86</td>\n",
              "      <td>39761.35</td>\n",
              "      <td>40345.96</td>\n",
              "      <td>7828327800</td>\n",
              "      <td>28695.85</td>\n",
              "    </tr>\n",
              "    <tr>\n",
              "      <th>7</th>\n",
              "      <td>39040.28</td>\n",
              "      <td>39649.98</td>\n",
              "      <td>38402.61</td>\n",
              "      <td>39059.42</td>\n",
              "      <td>8093649500</td>\n",
              "      <td>28717.50</td>\n",
              "    </tr>\n",
              "    <tr>\n",
              "      <th>8</th>\n",
              "      <td>42418.29</td>\n",
              "      <td>43042.79</td>\n",
              "      <td>41794.72</td>\n",
              "      <td>42443.26</td>\n",
              "      <td>7444389000</td>\n",
              "      <td>31261.13</td>\n",
              "    </tr>\n",
              "    <tr>\n",
              "      <th>9</th>\n",
              "      <td>41066.13</td>\n",
              "      <td>41694.95</td>\n",
              "      <td>40416.83</td>\n",
              "      <td>41042.82</td>\n",
              "      <td>7813408300</td>\n",
              "      <td>30146.65</td>\n",
              "    </tr>\n",
              "    <tr>\n",
              "      <th>10</th>\n",
              "      <td>43591.34</td>\n",
              "      <td>44317.27</td>\n",
              "      <td>42786.14</td>\n",
              "      <td>43581.79</td>\n",
              "      <td>10426093800</td>\n",
              "      <td>32197.69</td>\n",
              "    </tr>\n",
              "    <tr>\n",
              "      <th>11</th>\n",
              "      <td>42750.58</td>\n",
              "      <td>43344.91</td>\n",
              "      <td>42073.03</td>\n",
              "      <td>42706.44</td>\n",
              "      <td>7693286400</td>\n",
              "      <td>31470.75</td>\n",
              "    </tr>\n",
              "    <tr>\n",
              "      <th>12</th>\n",
              "      <td>45272.00</td>\n",
              "      <td>45825.15</td>\n",
              "      <td>44666.17</td>\n",
              "      <td>45247.51</td>\n",
              "      <td>7604858600</td>\n",
              "      <td>33286.78</td>\n",
              "    </tr>\n",
              "  </tbody>\n",
              "</table>\n",
              "</div>"
            ],
            "text/plain": [
              "           Open      High       Low     Close       Volume  Adj Close\n",
              "month                                                                \n",
              "1      45028.13  45721.95  44236.53  44979.38  11625740200   32429.23\n",
              "2      44070.74  44728.94  43483.81  44151.65   8140532000   32186.27\n",
              "3      52676.21  53434.18  51937.94  52734.59   9015289300   39455.93\n",
              "4      38514.35  39117.21  37879.05  38521.84   8312347600   26187.40\n",
              "5      40330.27  40895.85  39637.45  40295.10   7465312700   27576.86\n",
              "6      40436.32  40981.86  39761.35  40345.96   7828327800   28695.85\n",
              "7      39040.28  39649.98  38402.61  39059.42   8093649500   28717.50\n",
              "8      42418.29  43042.79  41794.72  42443.26   7444389000   31261.13\n",
              "9      41066.13  41694.95  40416.83  41042.82   7813408300   30146.65\n",
              "10     43591.34  44317.27  42786.14  43581.79  10426093800   32197.69\n",
              "11     42750.58  43344.91  42073.03  42706.44   7693286400   31470.75\n",
              "12     45272.00  45825.15  44666.17  45247.51   7604858600   33286.78"
            ]
          },
          "metadata": {
            "tags": []
          },
          "execution_count": 147
        }
      ]
    },
    {
      "cell_type": "code",
      "metadata": {
        "colab": {
          "base_uri": "https://localhost:8080/",
          "height": 979
        },
        "id": "zR3Zb4uUMuzU",
        "outputId": "388a6b9a-5929-4da7-a936-90ebacf4b53c"
      },
      "source": [
        "df.groupby(df.index.year).sum()"
      ],
      "execution_count": 149,
      "outputs": [
        {
          "output_type": "execute_result",
          "data": {
            "text/html": [
              "<div>\n",
              "<style scoped>\n",
              "    .dataframe tbody tr th:only-of-type {\n",
              "        vertical-align: middle;\n",
              "    }\n",
              "\n",
              "    .dataframe tbody tr th {\n",
              "        vertical-align: top;\n",
              "    }\n",
              "\n",
              "    .dataframe thead th {\n",
              "        text-align: right;\n",
              "    }\n",
              "</style>\n",
              "<table border=\"1\" class=\"dataframe\">\n",
              "  <thead>\n",
              "    <tr style=\"text-align: right;\">\n",
              "      <th></th>\n",
              "      <th>Open</th>\n",
              "      <th>High</th>\n",
              "      <th>Low</th>\n",
              "      <th>Close</th>\n",
              "      <th>Volume</th>\n",
              "      <th>Adj Close</th>\n",
              "      <th>month</th>\n",
              "    </tr>\n",
              "    <tr>\n",
              "      <th>Date</th>\n",
              "      <th></th>\n",
              "      <th></th>\n",
              "      <th></th>\n",
              "      <th></th>\n",
              "      <th></th>\n",
              "      <th></th>\n",
              "      <th></th>\n",
              "    </tr>\n",
              "  </thead>\n",
              "  <tbody>\n",
              "    <tr>\n",
              "      <th>1984</th>\n",
              "      <td>2064.17</td>\n",
              "      <td>2087.55</td>\n",
              "      <td>2040.42</td>\n",
              "      <td>2046.29</td>\n",
              "      <td>449431200</td>\n",
              "      <td>233.49</td>\n",
              "      <td>845</td>\n",
              "    </tr>\n",
              "    <tr>\n",
              "      <th>1985</th>\n",
              "      <td>5155.49</td>\n",
              "      <td>5210.10</td>\n",
              "      <td>5092.26</td>\n",
              "      <td>5109.00</td>\n",
              "      <td>1630563200</td>\n",
              "      <td>582.95</td>\n",
              "      <td>1649</td>\n",
              "    </tr>\n",
              "    <tr>\n",
              "      <th>1986</th>\n",
              "      <td>8194.16</td>\n",
              "      <td>8333.74</td>\n",
              "      <td>8059.23</td>\n",
              "      <td>8212.64</td>\n",
              "      <td>1909169600</td>\n",
              "      <td>937.09</td>\n",
              "      <td>1653</td>\n",
              "    </tr>\n",
              "    <tr>\n",
              "      <th>1987</th>\n",
              "      <td>13617.18</td>\n",
              "      <td>13924.31</td>\n",
              "      <td>13331.88</td>\n",
              "      <td>13634.09</td>\n",
              "      <td>2135843600</td>\n",
              "      <td>2253.24</td>\n",
              "      <td>1656</td>\n",
              "    </tr>\n",
              "    <tr>\n",
              "      <th>1988</th>\n",
              "      <td>10513.68</td>\n",
              "      <td>10673.25</td>\n",
              "      <td>10345.36</td>\n",
              "      <td>10509.64</td>\n",
              "      <td>1476341200</td>\n",
              "      <td>2419.87</td>\n",
              "      <td>1652</td>\n",
              "    </tr>\n",
              "    <tr>\n",
              "      <th>1989</th>\n",
              "      <td>10487.02</td>\n",
              "      <td>10659.72</td>\n",
              "      <td>10326.70</td>\n",
              "      <td>10498.26</td>\n",
              "      <td>1820737200</td>\n",
              "      <td>2440.51</td>\n",
              "      <td>1642</td>\n",
              "    </tr>\n",
              "    <tr>\n",
              "      <th>1990</th>\n",
              "      <td>9488.06</td>\n",
              "      <td>9669.57</td>\n",
              "      <td>9314.80</td>\n",
              "      <td>9503.36</td>\n",
              "      <td>1588632400</td>\n",
              "      <td>2233.01</td>\n",
              "      <td>1645</td>\n",
              "    </tr>\n",
              "    <tr>\n",
              "      <th>1991</th>\n",
              "      <td>13270.28</td>\n",
              "      <td>13516.68</td>\n",
              "      <td>13031.29</td>\n",
              "      <td>13281.37</td>\n",
              "      <td>2051108400</td>\n",
              "      <td>3154.70</td>\n",
              "      <td>1650</td>\n",
              "    </tr>\n",
              "    <tr>\n",
              "      <th>1992</th>\n",
              "      <td>13920.14</td>\n",
              "      <td>14122.93</td>\n",
              "      <td>13707.16</td>\n",
              "      <td>13920.06</td>\n",
              "      <td>1471985600</td>\n",
              "      <td>3335.19</td>\n",
              "      <td>1657</td>\n",
              "    </tr>\n",
              "    <tr>\n",
              "      <th>1993</th>\n",
              "      <td>10389.01</td>\n",
              "      <td>10569.92</td>\n",
              "      <td>10192.03</td>\n",
              "      <td>10379.76</td>\n",
              "      <td>2018974800</td>\n",
              "      <td>2509.86</td>\n",
              "      <td>1660</td>\n",
              "    </tr>\n",
              "    <tr>\n",
              "      <th>1994</th>\n",
              "      <td>8581.40</td>\n",
              "      <td>8747.48</td>\n",
              "      <td>8420.25</td>\n",
              "      <td>8588.50</td>\n",
              "      <td>2044027600</td>\n",
              "      <td>2109.21</td>\n",
              "      <td>1647</td>\n",
              "    </tr>\n",
              "    <tr>\n",
              "      <th>1995</th>\n",
              "      <td>10237.60</td>\n",
              "      <td>10399.89</td>\n",
              "      <td>10057.43</td>\n",
              "      <td>10216.61</td>\n",
              "      <td>2655202000</td>\n",
              "      <td>2538.95</td>\n",
              "      <td>1641</td>\n",
              "    </tr>\n",
              "    <tr>\n",
              "      <th>1996</th>\n",
              "      <td>6361.50</td>\n",
              "      <td>6456.51</td>\n",
              "      <td>6223.57</td>\n",
              "      <td>6329.06</td>\n",
              "      <td>1902511600</td>\n",
              "      <td>1582.39</td>\n",
              "      <td>1651</td>\n",
              "    </tr>\n",
              "    <tr>\n",
              "      <th>1997</th>\n",
              "      <td>4561.87</td>\n",
              "      <td>4644.80</td>\n",
              "      <td>4459.98</td>\n",
              "      <td>4545.36</td>\n",
              "      <td>2572956000</td>\n",
              "      <td>1136.43</td>\n",
              "      <td>1653</td>\n",
              "    </tr>\n",
              "    <tr>\n",
              "      <th>1998</th>\n",
              "      <td>7689.03</td>\n",
              "      <td>7879.02</td>\n",
              "      <td>7503.63</td>\n",
              "      <td>7702.41</td>\n",
              "      <td>4116894800</td>\n",
              "      <td>1925.70</td>\n",
              "      <td>1655</td>\n",
              "    </tr>\n",
              "    <tr>\n",
              "      <th>1999</th>\n",
              "      <td>14530.29</td>\n",
              "      <td>14893.25</td>\n",
              "      <td>14188.00</td>\n",
              "      <td>14558.22</td>\n",
              "      <td>4899343200</td>\n",
              "      <td>3639.69</td>\n",
              "      <td>1659</td>\n",
              "    </tr>\n",
              "    <tr>\n",
              "      <th>2000</th>\n",
              "      <td>18109.62</td>\n",
              "      <td>18696.19</td>\n",
              "      <td>17541.56</td>\n",
              "      <td>18080.73</td>\n",
              "      <td>4298582600</td>\n",
              "      <td>5759.77</td>\n",
              "      <td>1642</td>\n",
              "    </tr>\n",
              "    <tr>\n",
              "      <th>2001</th>\n",
              "      <td>5000.94</td>\n",
              "      <td>5149.99</td>\n",
              "      <td>4866.33</td>\n",
              "      <td>5014.34</td>\n",
              "      <td>3380921000</td>\n",
              "      <td>2507.22</td>\n",
              "      <td>1608</td>\n",
              "    </tr>\n",
              "    <tr>\n",
              "      <th>2002</th>\n",
              "      <td>4820.27</td>\n",
              "      <td>4919.56</td>\n",
              "      <td>4716.50</td>\n",
              "      <td>4823.14</td>\n",
              "      <td>2750497400</td>\n",
              "      <td>2411.62</td>\n",
              "      <td>1649</td>\n",
              "    </tr>\n",
              "    <tr>\n",
              "      <th>2003</th>\n",
              "      <td>4667.49</td>\n",
              "      <td>4748.56</td>\n",
              "      <td>4588.16</td>\n",
              "      <td>4673.28</td>\n",
              "      <td>2543937600</td>\n",
              "      <td>2336.70</td>\n",
              "      <td>1651</td>\n",
              "    </tr>\n",
              "    <tr>\n",
              "      <th>2004</th>\n",
              "      <td>8926.21</td>\n",
              "      <td>9079.42</td>\n",
              "      <td>8801.01</td>\n",
              "      <td>8952.79</td>\n",
              "      <td>4350059600</td>\n",
              "      <td>4476.50</td>\n",
              "      <td>1654</td>\n",
              "    </tr>\n",
              "    <tr>\n",
              "      <th>2005</th>\n",
              "      <td>13192.12</td>\n",
              "      <td>13384.03</td>\n",
              "      <td>13000.23</td>\n",
              "      <td>13205.24</td>\n",
              "      <td>6514321000</td>\n",
              "      <td>11762.34</td>\n",
              "      <td>1651</td>\n",
              "    </tr>\n",
              "    <tr>\n",
              "      <th>2006</th>\n",
              "      <td>17820.37</td>\n",
              "      <td>18056.72</td>\n",
              "      <td>17522.40</td>\n",
              "      <td>17773.47</td>\n",
              "      <td>7703477400</td>\n",
              "      <td>17773.47</td>\n",
              "      <td>1640</td>\n",
              "    </tr>\n",
              "    <tr>\n",
              "      <th>2007</th>\n",
              "      <td>32225.66</td>\n",
              "      <td>32647.69</td>\n",
              "      <td>31672.31</td>\n",
              "      <td>32196.75</td>\n",
              "      <td>8820760200</td>\n",
              "      <td>32196.75</td>\n",
              "      <td>1643</td>\n",
              "    </tr>\n",
              "    <tr>\n",
              "      <th>2008</th>\n",
              "      <td>36005.38</td>\n",
              "      <td>36713.00</td>\n",
              "      <td>35131.00</td>\n",
              "      <td>35920.69</td>\n",
              "      <td>10213471500</td>\n",
              "      <td>35920.69</td>\n",
              "      <td>1654</td>\n",
              "    </tr>\n",
              "    <tr>\n",
              "      <th>2009</th>\n",
              "      <td>36948.01</td>\n",
              "      <td>37420.91</td>\n",
              "      <td>36531.15</td>\n",
              "      <td>36997.16</td>\n",
              "      <td>5116040000</td>\n",
              "      <td>36997.16</td>\n",
              "      <td>1655</td>\n",
              "    </tr>\n",
              "    <tr>\n",
              "      <th>2010</th>\n",
              "      <td>65509.32</td>\n",
              "      <td>66116.94</td>\n",
              "      <td>64725.60</td>\n",
              "      <td>65480.30</td>\n",
              "      <td>5393747400</td>\n",
              "      <td>65480.30</td>\n",
              "      <td>1659</td>\n",
              "    </tr>\n",
              "    <tr>\n",
              "      <th>2011</th>\n",
              "      <td>91746.23</td>\n",
              "      <td>92590.74</td>\n",
              "      <td>90795.02</td>\n",
              "      <td>91729.09</td>\n",
              "      <td>4427807900</td>\n",
              "      <td>91729.09</td>\n",
              "      <td>1650</td>\n",
              "    </tr>\n",
              "    <tr>\n",
              "      <th>2012</th>\n",
              "      <td>31162.14</td>\n",
              "      <td>31442.57</td>\n",
              "      <td>30890.37</td>\n",
              "      <td>31228.15</td>\n",
              "      <td>1205889200</td>\n",
              "      <td>31228.15</td>\n",
              "      <td>126</td>\n",
              "    </tr>\n",
              "  </tbody>\n",
              "</table>\n",
              "</div>"
            ],
            "text/plain": [
              "          Open      High       Low     Close       Volume  Adj Close  month\n",
              "Date                                                                       \n",
              "1984   2064.17   2087.55   2040.42   2046.29    449431200     233.49    845\n",
              "1985   5155.49   5210.10   5092.26   5109.00   1630563200     582.95   1649\n",
              "1986   8194.16   8333.74   8059.23   8212.64   1909169600     937.09   1653\n",
              "1987  13617.18  13924.31  13331.88  13634.09   2135843600    2253.24   1656\n",
              "1988  10513.68  10673.25  10345.36  10509.64   1476341200    2419.87   1652\n",
              "1989  10487.02  10659.72  10326.70  10498.26   1820737200    2440.51   1642\n",
              "1990   9488.06   9669.57   9314.80   9503.36   1588632400    2233.01   1645\n",
              "1991  13270.28  13516.68  13031.29  13281.37   2051108400    3154.70   1650\n",
              "1992  13920.14  14122.93  13707.16  13920.06   1471985600    3335.19   1657\n",
              "1993  10389.01  10569.92  10192.03  10379.76   2018974800    2509.86   1660\n",
              "1994   8581.40   8747.48   8420.25   8588.50   2044027600    2109.21   1647\n",
              "1995  10237.60  10399.89  10057.43  10216.61   2655202000    2538.95   1641\n",
              "1996   6361.50   6456.51   6223.57   6329.06   1902511600    1582.39   1651\n",
              "1997   4561.87   4644.80   4459.98   4545.36   2572956000    1136.43   1653\n",
              "1998   7689.03   7879.02   7503.63   7702.41   4116894800    1925.70   1655\n",
              "1999  14530.29  14893.25  14188.00  14558.22   4899343200    3639.69   1659\n",
              "2000  18109.62  18696.19  17541.56  18080.73   4298582600    5759.77   1642\n",
              "2001   5000.94   5149.99   4866.33   5014.34   3380921000    2507.22   1608\n",
              "2002   4820.27   4919.56   4716.50   4823.14   2750497400    2411.62   1649\n",
              "2003   4667.49   4748.56   4588.16   4673.28   2543937600    2336.70   1651\n",
              "2004   8926.21   9079.42   8801.01   8952.79   4350059600    4476.50   1654\n",
              "2005  13192.12  13384.03  13000.23  13205.24   6514321000   11762.34   1651\n",
              "2006  17820.37  18056.72  17522.40  17773.47   7703477400   17773.47   1640\n",
              "2007  32225.66  32647.69  31672.31  32196.75   8820760200   32196.75   1643\n",
              "2008  36005.38  36713.00  35131.00  35920.69  10213471500   35920.69   1654\n",
              "2009  36948.01  37420.91  36531.15  36997.16   5116040000   36997.16   1655\n",
              "2010  65509.32  66116.94  64725.60  65480.30   5393747400   65480.30   1659\n",
              "2011  91746.23  92590.74  90795.02  91729.09   4427807900   91729.09   1650\n",
              "2012  31162.14  31442.57  30890.37  31228.15   1205889200   31228.15    126"
            ]
          },
          "metadata": {
            "tags": []
          },
          "execution_count": 149
        }
      ]
    },
    {
      "cell_type": "code",
      "metadata": {
        "colab": {
          "base_uri": "https://localhost:8080/",
          "height": 450
        },
        "id": "Ck6F6UhONgJZ",
        "outputId": "eccf7a10-9b75-4421-d806-63adce1a2b41"
      },
      "source": [
        "df.groupby([df.index.year, df.index.month]).sum()"
      ],
      "execution_count": 150,
      "outputs": [
        {
          "output_type": "execute_result",
          "data": {
            "text/html": [
              "<div>\n",
              "<style scoped>\n",
              "    .dataframe tbody tr th:only-of-type {\n",
              "        vertical-align: middle;\n",
              "    }\n",
              "\n",
              "    .dataframe tbody tr th {\n",
              "        vertical-align: top;\n",
              "    }\n",
              "\n",
              "    .dataframe thead th {\n",
              "        text-align: right;\n",
              "    }\n",
              "</style>\n",
              "<table border=\"1\" class=\"dataframe\">\n",
              "  <thead>\n",
              "    <tr style=\"text-align: right;\">\n",
              "      <th></th>\n",
              "      <th></th>\n",
              "      <th>Open</th>\n",
              "      <th>High</th>\n",
              "      <th>Low</th>\n",
              "      <th>Close</th>\n",
              "      <th>Volume</th>\n",
              "      <th>Adj Close</th>\n",
              "      <th>month</th>\n",
              "    </tr>\n",
              "    <tr>\n",
              "      <th>Date</th>\n",
              "      <th>Date</th>\n",
              "      <th></th>\n",
              "      <th></th>\n",
              "      <th></th>\n",
              "      <th></th>\n",
              "      <th></th>\n",
              "      <th></th>\n",
              "      <th></th>\n",
              "    </tr>\n",
              "  </thead>\n",
              "  <tbody>\n",
              "    <tr>\n",
              "      <th rowspan=\"4\" valign=\"top\">1984</th>\n",
              "      <th>9</th>\n",
              "      <td>431.70</td>\n",
              "      <td>437.33</td>\n",
              "      <td>425.70</td>\n",
              "      <td>427.82</td>\n",
              "      <td>76916800</td>\n",
              "      <td>48.83</td>\n",
              "      <td>144</td>\n",
              "    </tr>\n",
              "    <tr>\n",
              "      <th>10</th>\n",
              "      <td>575.82</td>\n",
              "      <td>582.21</td>\n",
              "      <td>569.95</td>\n",
              "      <td>570.56</td>\n",
              "      <td>127866400</td>\n",
              "      <td>65.10</td>\n",
              "      <td>230</td>\n",
              "    </tr>\n",
              "    <tr>\n",
              "      <th>11</th>\n",
              "      <td>515.45</td>\n",
              "      <td>520.44</td>\n",
              "      <td>507.95</td>\n",
              "      <td>508.96</td>\n",
              "      <td>120740800</td>\n",
              "      <td>58.06</td>\n",
              "      <td>231</td>\n",
              "    </tr>\n",
              "    <tr>\n",
              "      <th>12</th>\n",
              "      <td>541.20</td>\n",
              "      <td>547.57</td>\n",
              "      <td>536.82</td>\n",
              "      <td>538.95</td>\n",
              "      <td>123907200</td>\n",
              "      <td>61.50</td>\n",
              "      <td>240</td>\n",
              "    </tr>\n",
              "    <tr>\n",
              "      <th>1985</th>\n",
              "      <th>1</th>\n",
              "      <td>649.44</td>\n",
              "      <td>656.83</td>\n",
              "      <td>641.08</td>\n",
              "      <td>643.57</td>\n",
              "      <td>227784000</td>\n",
              "      <td>73.43</td>\n",
              "      <td>22</td>\n",
              "    </tr>\n",
              "    <tr>\n",
              "      <th>...</th>\n",
              "      <th>...</th>\n",
              "      <td>...</td>\n",
              "      <td>...</td>\n",
              "      <td>...</td>\n",
              "      <td>...</td>\n",
              "      <td>...</td>\n",
              "      <td>...</td>\n",
              "      <td>...</td>\n",
              "    </tr>\n",
              "    <tr>\n",
              "      <th rowspan=\"2\" valign=\"top\">2011</th>\n",
              "      <th>11</th>\n",
              "      <td>8111.63</td>\n",
              "      <td>8166.47</td>\n",
              "      <td>8015.41</td>\n",
              "      <td>8081.12</td>\n",
              "      <td>319998300</td>\n",
              "      <td>8081.12</td>\n",
              "      <td>231</td>\n",
              "    </tr>\n",
              "    <tr>\n",
              "      <th>12</th>\n",
              "      <td>8248.18</td>\n",
              "      <td>8308.96</td>\n",
              "      <td>8192.93</td>\n",
              "      <td>8251.54</td>\n",
              "      <td>224979000</td>\n",
              "      <td>8251.54</td>\n",
              "      <td>252</td>\n",
              "    </tr>\n",
              "    <tr>\n",
              "      <th rowspan=\"3\" valign=\"top\">2012</th>\n",
              "      <th>1</th>\n",
              "      <td>8575.20</td>\n",
              "      <td>8620.17</td>\n",
              "      <td>8516.21</td>\n",
              "      <td>8571.56</td>\n",
              "      <td>244496500</td>\n",
              "      <td>8571.56</td>\n",
              "      <td>20</td>\n",
              "    </tr>\n",
              "    <tr>\n",
              "      <th>2</th>\n",
              "      <td>9896.06</td>\n",
              "      <td>10016.98</td>\n",
              "      <td>9828.75</td>\n",
              "      <td>9951.42</td>\n",
              "      <td>405542900</td>\n",
              "      <td>9951.42</td>\n",
              "      <td>40</td>\n",
              "    </tr>\n",
              "    <tr>\n",
              "      <th>3</th>\n",
              "      <td>12690.88</td>\n",
              "      <td>12805.42</td>\n",
              "      <td>12545.41</td>\n",
              "      <td>12705.17</td>\n",
              "      <td>555849800</td>\n",
              "      <td>12705.17</td>\n",
              "      <td>66</td>\n",
              "    </tr>\n",
              "  </tbody>\n",
              "</table>\n",
              "<p>331 rows × 7 columns</p>\n",
              "</div>"
            ],
            "text/plain": [
              "               Open      High       Low     Close     Volume  Adj Close  month\n",
              "Date Date                                                                     \n",
              "1984 9       431.70    437.33    425.70    427.82   76916800      48.83    144\n",
              "     10      575.82    582.21    569.95    570.56  127866400      65.10    230\n",
              "     11      515.45    520.44    507.95    508.96  120740800      58.06    231\n",
              "     12      541.20    547.57    536.82    538.95  123907200      61.50    240\n",
              "1985 1       649.44    656.83    641.08    643.57  227784000      73.43     22\n",
              "...             ...       ...       ...       ...        ...        ...    ...\n",
              "2011 11     8111.63   8166.47   8015.41   8081.12  319998300    8081.12    231\n",
              "     12     8248.18   8308.96   8192.93   8251.54  224979000    8251.54    252\n",
              "2012 1      8575.20   8620.17   8516.21   8571.56  244496500    8571.56     20\n",
              "     2      9896.06  10016.98   9828.75   9951.42  405542900    9951.42     40\n",
              "     3     12690.88  12805.42  12545.41  12705.17  555849800   12705.17     66\n",
              "\n",
              "[331 rows x 7 columns]"
            ]
          },
          "metadata": {
            "tags": []
          },
          "execution_count": 150
        }
      ]
    },
    {
      "cell_type": "markdown",
      "metadata": {
        "id": "cM-w6t_sNyk4"
      },
      "source": [
        "#### RESAMPLING\n",
        "**Timeseries Offset aliases 알것**\n",
        "https://pandas.pydata.org/pandas-docs/stable/user_guide/timeseries.html"
      ]
    },
    {
      "cell_type": "code",
      "metadata": {
        "colab": {
          "base_uri": "https://localhost:8080/",
          "height": 297
        },
        "id": "yVO5PTm6Nx1l",
        "outputId": "a1ed8143-db94-43e6-8344-d707cb867134"
      },
      "source": [
        "df.plot()"
      ],
      "execution_count": 151,
      "outputs": [
        {
          "output_type": "execute_result",
          "data": {
            "text/plain": [
              "<matplotlib.axes._subplots.AxesSubplot at 0x7f8829947b70>"
            ]
          },
          "metadata": {
            "tags": []
          },
          "execution_count": 151
        },
        {
          "output_type": "display_data",
          "data": {
            "image/png": "[encoded data removed]",
            "text/plain": [
              "<Figure size 432x288 with 1 Axes>"
            ]
          },
          "metadata": {
            "tags": [],
            "needs_background": "light"
          }
        }
      ]
    },
    {
      "cell_type": "markdown",
      "metadata": {
        "id": "n_mAmAXdBmu7"
      },
      "source": [
        "## 2.시계열 데이터 특성 "
      ]
    },
    {
      "cell_type": "markdown",
      "metadata": {
        "id": "QsDmY2mTzMDy"
      },
      "source": [
        "## 3. ETS 모델 \n",
        " Error, Trend, Seanonality 요소들을 활용하는데 각각을 더하거나 곱하여 Smoothing한다\n",
        " 이것들을 가지고 시계열 데이터 모델링을 할수 있다. \n",
        "\n",
        " \n",
        "\n",
        "*   ETS Decompostition - Airline Passengers\n",
        "\n",
        "\n"
      ]
    },
    {
      "cell_type": "code",
      "metadata": {
        "colab": {
          "base_uri": "https://localhost:8080/",
          "height": 358
        },
        "id": "ESqVEix923Cu",
        "outputId": "210dcd03-b19a-458c-8ded-c424bdfbc296"
      },
      "source": [
        "pip install statsmodels --upgrade"
      ],
      "execution_count": 12,
      "outputs": [
        {
          "output_type": "stream",
          "text": [
            "Collecting statsmodels\n",
            "\u001b[?25l  Downloading https://files.pythonhosted.org/packages/be/4c/9e2435ca6645d6bafa2b51bb11f0a365b28934a2ffe9d6e339d67130926d/statsmodels-0.12.1-cp36-cp36m-manylinux1_x86_64.whl (9.5MB)\n",
            "\u001b[K     |████████████████████████████████| 9.5MB 6.3MB/s \n",
            "\u001b[?25hRequirement already satisfied, skipping upgrade: pandas>=0.21 in /usr/local/lib/python3.6/dist-packages (from statsmodels) (1.1.5)\n",
            "Requirement already satisfied, skipping upgrade: scipy>=1.1 in /usr/local/lib/python3.6/dist-packages (from statsmodels) (1.4.1)\n",
            "Requirement already satisfied, skipping upgrade: patsy>=0.5 in /usr/local/lib/python3.6/dist-packages (from statsmodels) (0.5.1)\n",
            "Requirement already satisfied, skipping upgrade: numpy>=1.15 in /usr/local/lib/python3.6/dist-packages (from statsmodels) (1.19.5)\n",
            "Requirement already satisfied, skipping upgrade: python-dateutil>=2.7.3 in /usr/local/lib/python3.6/dist-packages (from pandas>=0.21->statsmodels) (2.8.1)\n",
            "Requirement already satisfied, skipping upgrade: pytz>=2017.2 in /usr/local/lib/python3.6/dist-packages (from pandas>=0.21->statsmodels) (2018.9)\n",
            "Requirement already satisfied, skipping upgrade: six in /usr/local/lib/python3.6/dist-packages (from patsy>=0.5->statsmodels) (1.15.0)\n",
            "Installing collected packages: statsmodels\n",
            "  Found existing installation: statsmodels 0.10.2\n",
            "    Uninstalling statsmodels-0.10.2:\n",
            "      Successfully uninstalled statsmodels-0.10.2\n",
            "Successfully installed statsmodels-0.12.1\n"
          ],
          "name": "stdout"
        },
        {
          "output_type": "display_data",
          "data": {
            "application/vnd.colab-display-data+json": {
              "pip_warning": {
                "packages": [
                  "statsmodels"
                ]
              }
            }
          },
          "metadata": {
            "tags": []
          }
        }
      ]
    },
    {
      "cell_type": "code",
      "metadata": {
        "id": "4slIQakMGFAW"
      },
      "source": [
        ""
      ],
      "execution_count": null,
      "outputs": []
    },
    {
      "cell_type": "code",
      "metadata": {
        "id": "8crCFfRC0Yt6"
      },
      "source": [
        "from statsmodels.tsa.seasonal import seasonal_decompose"
      ],
      "execution_count": 13,
      "outputs": []
    },
    {
      "cell_type": "code",
      "metadata": {
        "id": "wVeB9lsT3Sbl"
      },
      "source": [
        "data = [i+np.random.randint(10 ) for i in range(1, 100)]"
      ],
      "execution_count": 28,
      "outputs": []
    },
    {
      "cell_type": "code",
      "metadata": {
        "colab": {
          "base_uri": "https://localhost:8080/",
          "height": 282
        },
        "id": "RKi4MRVm43_h",
        "outputId": "ebd50488-baa2-4ce5-cb29-37687b4f3fd9"
      },
      "source": [
        "series = pd.Series(data)\n",
        "series.plot()"
      ],
      "execution_count": 58,
      "outputs": [
        {
          "output_type": "execute_result",
          "data": {
            "text/plain": [
              "<matplotlib.axes._subplots.AxesSubplot at 0x7f8829c5f080>"
            ]
          },
          "metadata": {
            "tags": []
          },
          "execution_count": 58
        },
        {
          "output_type": "display_data",
          "data": {
            "image/png": "[encoded data removed]",
            "text/plain": [
              "<Figure size 432x288 with 1 Axes>"
            ]
          },
          "metadata": {
            "tags": [],
            "needs_background": "light"
          }
        }
      ]
    },
    {
      "cell_type": "markdown",
      "metadata": {
        "id": "rIuHZ7Vt9IVP"
      },
      "source": [
        "## Additive Model"
      ]
    },
    {
      "cell_type": "code",
      "metadata": {
        "colab": {
          "base_uri": "https://localhost:8080/",
          "height": 297
        },
        "id": "c_EysHCU5GUB",
        "outputId": "cba55b96-8e81-44a4-ad09-12d049f2c3da"
      },
      "source": [
        "result = seasonal_decompose(series, model='additive', freq=1)\n",
        "result.plot();"
      ],
      "execution_count": 59,
      "outputs": [
        {
          "output_type": "display_data",
          "data": {
            "image/png": "[encoded data removed]",
            "text/plain": [
              "<Figure size 432x288 with 4 Axes>"
            ]
          },
          "metadata": {
            "tags": [],
            "needs_background": "light"
          }
        }
      ]
    },
    {
      "cell_type": "code",
      "metadata": {
        "id": "sdCRrkBX5amZ"
      },
      "source": [
        "def plot_decompose(decomposeresult):\n",
        "  fig, (ax1, ax2, ax3, ax4) = plt.subplots(4,1, figsize=(15,8))\n",
        "  decomposeresult.observed.plot(legend=False, ax=ax1)\n",
        "  ax1.set_ylabel('Observerd')\n",
        "  decomposeresult.trend.plot(legend=False, ax=ax2)\n",
        "  ax2.set_ylabel('Trend')\n",
        "  decomposeresult.seasonal.plot(legend=False, ax=ax3)\n",
        "  ax3.set_ylabel('Seansonal')\n",
        "  decomposeresult.resid.plot(legend=False, ax=ax4)\n",
        "  ax4.set_ylabel('Resid')"
      ],
      "execution_count": 62,
      "outputs": []
    },
    {
      "cell_type": "code",
      "metadata": {
        "colab": {
          "base_uri": "https://localhost:8080/",
          "height": 484
        },
        "id": "X-S4xuba6DvO",
        "outputId": "d889676c-49f6-452f-a8f2-71d25bbf2b2c"
      },
      "source": [
        "plot_decompose(result)"
      ],
      "execution_count": 67,
      "outputs": [
        {
          "output_type": "display_data",
          "data": {
            "image/png": "[encoded data removed]",
            "text/plain": [
              "<Figure size 1080x576 with 4 Axes>"
            ]
          },
          "metadata": {
            "tags": [],
            "needs_background": "light"
          }
        }
      ]
    },
    {
      "cell_type": "markdown",
      "metadata": {
        "id": "lIgpIfWm7X-C"
      },
      "source": [
        " ## multiplicative Model\n",
        "  y_t = Level * Error *  Trend * Seasonality\n",
        "  \n",
        "  log(y_t) = Level + Error + Trend +Seansonality"
      ]
    },
    {
      "cell_type": "code",
      "metadata": {
        "colab": {
          "base_uri": "https://localhost:8080/",
          "height": 501
        },
        "id": "I9DZPzrk7wDP",
        "outputId": "7dfb3949-fd69-4090-9f79-89a3b96f470c"
      },
      "source": [
        "data = [i**2 for i in range(1,100)]\n",
        "series1 = pd.Series(data)\n",
        "\n",
        "result1 = seasonal_decompose(series1, model='muliplicative', freq=1)\n",
        "\n",
        "plot_decompose(result1)\n",
        "\n",
        "series.plot()"
      ],
      "execution_count": 76,
      "outputs": [
        {
          "output_type": "execute_result",
          "data": {
            "text/plain": [
              "<matplotlib.axes._subplots.AxesSubplot at 0x7f88279065f8>"
            ]
          },
          "metadata": {
            "tags": []
          },
          "execution_count": 76
        },
        {
          "output_type": "display_data",
          "data": {
            "image/png": "[encoded data removed]",
            "text/plain": [
              "<Figure size 1080x576 with 4 Axes>"
            ]
          },
          "metadata": {
            "tags": [],
            "needs_background": "light"
          }
        }
      ]
    },
    {
      "cell_type": "code",
      "metadata": {
        "colab": {
          "base_uri": "https://localhost:8080/",
          "height": 296
        },
        "id": "UAL3hfJi91NZ",
        "outputId": "8d628008-5840-4cb1-82df-7b783c218a49"
      },
      "source": [
        "airline = pd.read_csv('/content/drive/MyDrive/Colab Notebooks/AirPassengers.csv', index_col='Month' )\n",
        "airline.plot()"
      ],
      "execution_count": 77,
      "outputs": [
        {
          "output_type": "execute_result",
          "data": {
            "text/plain": [
              "<matplotlib.axes._subplots.AxesSubplot at 0x7f8827840630>"
            ]
          },
          "metadata": {
            "tags": []
          },
          "execution_count": 77
        },
        {
          "output_type": "display_data",
          "data": {
            "image/png": "[encoded data removed]",
            "text/plain": [
              "<Figure size 432x288 with 1 Axes>"
            ]
          },
          "metadata": {
            "tags": [],
            "needs_background": "light"
          }
        }
      ]
    },
    {
      "cell_type": "code",
      "metadata": {
        "colab": {
          "base_uri": "https://localhost:8080/",
          "height": 235
        },
        "id": "AmNcTCioAGQj",
        "outputId": "a69ecab5-1f2e-481a-ac9f-55ed0684fc09"
      },
      "source": [
        "airline.index = pd.to_datetime(airline.index)\n",
        "airline.head()"
      ],
      "execution_count": 78,
      "outputs": [
        {
          "output_type": "execute_result",
          "data": {
            "text/html": [
              "<div>\n",
              "<style scoped>\n",
              "    .dataframe tbody tr th:only-of-type {\n",
              "        vertical-align: middle;\n",
              "    }\n",
              "\n",
              "    .dataframe tbody tr th {\n",
              "        vertical-align: top;\n",
              "    }\n",
              "\n",
              "    .dataframe thead th {\n",
              "        text-align: right;\n",
              "    }\n",
              "</style>\n",
              "<table border=\"1\" class=\"dataframe\">\n",
              "  <thead>\n",
              "    <tr style=\"text-align: right;\">\n",
              "      <th></th>\n",
              "      <th>#Passengers</th>\n",
              "    </tr>\n",
              "    <tr>\n",
              "      <th>Month</th>\n",
              "      <th></th>\n",
              "    </tr>\n",
              "  </thead>\n",
              "  <tbody>\n",
              "    <tr>\n",
              "      <th>1949-01-01</th>\n",
              "      <td>112</td>\n",
              "    </tr>\n",
              "    <tr>\n",
              "      <th>1949-02-01</th>\n",
              "      <td>118</td>\n",
              "    </tr>\n",
              "    <tr>\n",
              "      <th>1949-03-01</th>\n",
              "      <td>132</td>\n",
              "    </tr>\n",
              "    <tr>\n",
              "      <th>1949-04-01</th>\n",
              "      <td>129</td>\n",
              "    </tr>\n",
              "    <tr>\n",
              "      <th>1949-05-01</th>\n",
              "      <td>121</td>\n",
              "    </tr>\n",
              "  </tbody>\n",
              "</table>\n",
              "</div>"
            ],
            "text/plain": [
              "            #Passengers\n",
              "Month                  \n",
              "1949-01-01          112\n",
              "1949-02-01          118\n",
              "1949-03-01          132\n",
              "1949-04-01          129\n",
              "1949-05-01          121"
            ]
          },
          "metadata": {
            "tags": []
          },
          "execution_count": 78
        }
      ]
    },
    {
      "cell_type": "code",
      "metadata": {
        "colab": {
          "base_uri": "https://localhost:8080/",
          "height": 497
        },
        "id": "THm__S0nAfRW",
        "outputId": "11c6b1f7-0115-4354-e219-42f9eca38b9a"
      },
      "source": [
        "result = seasonal_decompose(airline['#Passengers'], model='multiplicative')\n",
        "plot_decompose(result)"
      ],
      "execution_count": 79,
      "outputs": [
        {
          "output_type": "display_data",
          "data": {
            "image/png": "[encoded data removed]",
            "text/plain": [
              "<Figure size 1080x576 with 4 Axes>"
            ]
          },
          "metadata": {
            "tags": [],
            "needs_background": "light"
          }
        }
      ]
    }
  ]
}