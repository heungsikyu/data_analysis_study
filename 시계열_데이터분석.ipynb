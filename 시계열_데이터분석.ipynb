{
  "nbformat": 4,
  "nbformat_minor": 0,
  "metadata": {
    "colab": {
      "name": "시계열 데이터분석.ipynb",
      "provenance": [],
      "collapsed_sections": [
        "PqAn88J3XdQr"
      ],
      "mount_file_id": "17zeXIpeLVcop7DwVEYSLHp9nX7iA5rKl",
      "authorship_tag": "ABX9TyMMf1xe7Jqsxe44HWd0fJr1",
      "include_colab_link": true
    },
    "kernelspec": {
      "name": "python3",
      "display_name": "Python 3"
    }
  },
  "cells": [
    {
      "cell_type": "markdown",
      "metadata": {
        "id": "view-in-github",
        "colab_type": "text"
      },
      "source": [
        "<a href=\"https://colab.research.google.com/github/heungsikyu/data_analysis_study/blob/master/%EC%8B%9C%EA%B3%84%EC%97%B4_%EB%8D%B0%EC%9D%B4%ED%84%B0%EB%B6%84%EC%84%9D.ipynb\" target=\"_parent\"><img src=\"https://colab.research.google.com/assets/colab-badge.svg\" alt=\"Open In Colab\"/></a>"
      ]
    },
    {
      "cell_type": "markdown",
      "metadata": {
        "id": "d1Z7q1M0wz_O"
      },
      "source": [
        "# 시계열 데이터 분석 "
      ]
    },
    {
      "cell_type": "markdown",
      "metadata": {
        "id": "l6OtCesQBlvI"
      },
      "source": [
        "## 1.Time Series width Pandas\n",
        "\n",
        "*   DateTime Index \n",
        "     - time 또는 date 정보는 별개의 칼럼이기 보다 인덱스인 경우가 많다.\n",
        "     - Panda에 내장된 기능들로 DateTime 인덱스를 생성하고 활용하는 방법을 안다. \n",
        "*   Time Resampling \n",
        "     - 시계열 데이터의 인덱스는 시(hours), 분(minutes)등 작은 단위 DateTime 인덳로 이뤄진 경우가 많다. \n",
        "     - 더 넓은 주기로 데이터를 집계 해야 하는 경우 Time Resampling이 vlfdy\n",
        "     - groupby 를 사용함으로써 Time Resampling을 수행할 수는 있지만, 비즈니스 도메인에서 분기나 회계년도를 편리하게 처리할 방법은 안됨\n",
        "     - Pandas 는 이런 경우에 활용 할 수 있는 frequency sampling 도구를 지원 \n",
        "* Time Shifiting\n",
        "     - 시계열 분석 알고리즘을 사용하기 위해 데이터를 임의 시간만큼 앞 또는 뒤로 이동시켜야 할 때 사용\n",
        "     - Pandas는 이런 경우에도 매우 쉬운 방법 제공\n",
        "* Rolling and Expanding\n",
        "     - 매일 수집되는 데이터들에는 노이즈가 포함되기도 한다.\n",
        "     - 이럴 경우 데이터의 일반적인 트렌드를 구하기 위해 rolling mean(또는 moving average)을 사용하기도 한다. \n",
        "     - Pandas에 내장된 rolling 함수를 이용하면 주어진 시한 내 평균(rolling mean)등을 구할 수 있다. \n",
        "     - 임의 시간 간격에 window를 만들고 그 안에서 mean같은 통계적 aggregation을 실행 하면된다.\n",
        "\n"
      ]
    },
    {
      "cell_type": "markdown",
      "metadata": {
        "id": "8TG3ZV4CFt3U"
      },
      "source": [
        "### 볼린저 밴드(Bollinger Band)"
      ]
    },
    {
      "cell_type": "code",
      "metadata": {
        "id": "PYQgdBGCIgJJ"
      },
      "source": [
        ""
      ],
      "execution_count": null,
      "outputs": []
    },
    {
      "cell_type": "markdown",
      "metadata": {
        "id": "2gBaG2wlIdsi"
      },
      "source": [
        "### Datetime Index 만들기"
      ]
    },
    {
      "cell_type": "code",
      "metadata": {
        "id": "auwjbpwjCLFd"
      },
      "source": [
        "import pandas as pd\n",
        "import numpy as np\n",
        "import matplotlib.pyplot as plt\n",
        "%matplotlib inline"
      ],
      "execution_count": 45,
      "outputs": []
    },
    {
      "cell_type": "code",
      "metadata": {
        "colab": {
          "base_uri": "https://localhost:8080/"
        },
        "id": "2883PDW_GGbP",
        "outputId": "cccc9af4-3d58-4624-90ed-787040730855"
      },
      "source": [
        "from datetime import datetime\n",
        "\n",
        "today = datetime(2021, 1, 16, 10, 20)\n",
        "today"
      ],
      "execution_count": 46,
      "outputs": [
        {
          "output_type": "execute_result",
          "data": {
            "text/plain": [
              "datetime.datetime(2021, 1, 16, 10, 20)"
            ]
          },
          "metadata": {
            "tags": []
          },
          "execution_count": 46
        }
      ]
    },
    {
      "cell_type": "code",
      "metadata": {
        "colab": {
          "base_uri": "https://localhost:8080/"
        },
        "id": "Od3XiixQGTzf",
        "outputId": "02e7e91c-af43-41fe-bfab-d68574434f36"
      },
      "source": [
        "today.day"
      ],
      "execution_count": 47,
      "outputs": [
        {
          "output_type": "execute_result",
          "data": {
            "text/plain": [
              "16"
            ]
          },
          "metadata": {
            "tags": []
          },
          "execution_count": 47
        }
      ]
    },
    {
      "cell_type": "code",
      "metadata": {
        "colab": {
          "base_uri": "https://localhost:8080/"
        },
        "id": "Z2SS95AIGf_O",
        "outputId": "17e654c0-681e-4b62-f69c-60d632b50054"
      },
      "source": [
        "today.year"
      ],
      "execution_count": 48,
      "outputs": [
        {
          "output_type": "execute_result",
          "data": {
            "text/plain": [
              "2021"
            ]
          },
          "metadata": {
            "tags": []
          },
          "execution_count": 48
        }
      ]
    },
    {
      "cell_type": "code",
      "metadata": {
        "colab": {
          "base_uri": "https://localhost:8080/"
        },
        "id": "so9rOhK-GiM5",
        "outputId": "815cb41e-4afd-4d0d-8105-76b1f5b75cc8"
      },
      "source": [
        "dates = [datetime(2020,1,15), datetime(2020,1,16)]\n",
        "dt_index = pd.DatetimeIndex(dates)\n",
        "dt_index"
      ],
      "execution_count": 49,
      "outputs": [
        {
          "output_type": "execute_result",
          "data": {
            "text/plain": [
              "DatetimeIndex(['2020-01-15', '2020-01-16'], dtype='datetime64[ns]', freq=None)"
            ]
          },
          "metadata": {
            "tags": []
          },
          "execution_count": 49
        }
      ]
    },
    {
      "cell_type": "code",
      "metadata": {
        "id": "rIJh0EYZHCu3"
      },
      "source": [
        "data = np.random.randn(2,2)\n",
        "cols = ['A','B']"
      ],
      "execution_count": 50,
      "outputs": []
    },
    {
      "cell_type": "code",
      "metadata": {
        "colab": {
          "base_uri": "https://localhost:8080/",
          "height": 111
        },
        "id": "17ZB4CCnG9KX",
        "outputId": "8cfd9694-f9cd-4f51-ebf8-702f0ef83d7d"
      },
      "source": [
        "df = pd.DataFrame(data=data, index=dt_index, columns=cols)\n",
        "df"
      ],
      "execution_count": 51,
      "outputs": [
        {
          "output_type": "execute_result",
          "data": {
            "text/html": [
              "<div>\n",
              "<style scoped>\n",
              "    .dataframe tbody tr th:only-of-type {\n",
              "        vertical-align: middle;\n",
              "    }\n",
              "\n",
              "    .dataframe tbody tr th {\n",
              "        vertical-align: top;\n",
              "    }\n",
              "\n",
              "    .dataframe thead th {\n",
              "        text-align: right;\n",
              "    }\n",
              "</style>\n",
              "<table border=\"1\" class=\"dataframe\">\n",
              "  <thead>\n",
              "    <tr style=\"text-align: right;\">\n",
              "      <th></th>\n",
              "      <th>A</th>\n",
              "      <th>B</th>\n",
              "    </tr>\n",
              "  </thead>\n",
              "  <tbody>\n",
              "    <tr>\n",
              "      <th>2020-01-15</th>\n",
              "      <td>-0.969709</td>\n",
              "      <td>-0.594641</td>\n",
              "    </tr>\n",
              "    <tr>\n",
              "      <th>2020-01-16</th>\n",
              "      <td>-0.172742</td>\n",
              "      <td>-0.602479</td>\n",
              "    </tr>\n",
              "  </tbody>\n",
              "</table>\n",
              "</div>"
            ],
            "text/plain": [
              "                   A         B\n",
              "2020-01-15 -0.969709 -0.594641\n",
              "2020-01-16 -0.172742 -0.602479"
            ]
          },
          "metadata": {
            "tags": []
          },
          "execution_count": 51
        }
      ]
    },
    {
      "cell_type": "code",
      "metadata": {
        "colab": {
          "base_uri": "https://localhost:8080/"
        },
        "id": "_60v4PpAHrco",
        "outputId": "188f8bc0-42d9-41a8-8a82-2148cc47d6c0"
      },
      "source": [
        "df.index\n"
      ],
      "execution_count": 52,
      "outputs": [
        {
          "output_type": "execute_result",
          "data": {
            "text/plain": [
              "DatetimeIndex(['2020-01-15', '2020-01-16'], dtype='datetime64[ns]', freq=None)"
            ]
          },
          "metadata": {
            "tags": []
          },
          "execution_count": 52
        }
      ]
    },
    {
      "cell_type": "code",
      "metadata": {
        "colab": {
          "base_uri": "https://localhost:8080/"
        },
        "id": "3Q6QUE_HHyhn",
        "outputId": "675fca94-a50e-4e8a-bad1-c212c2b7145b"
      },
      "source": [
        "df.index.max()"
      ],
      "execution_count": 53,
      "outputs": [
        {
          "output_type": "execute_result",
          "data": {
            "text/plain": [
              "Timestamp('2020-01-16 00:00:00')"
            ]
          },
          "metadata": {
            "tags": []
          },
          "execution_count": 53
        }
      ]
    },
    {
      "cell_type": "code",
      "metadata": {
        "colab": {
          "base_uri": "https://localhost:8080/"
        },
        "id": "1b-cnEVlH8jS",
        "outputId": "66c02c80-657e-4c43-a572-fb909c54f54b"
      },
      "source": [
        "df.index.min()"
      ],
      "execution_count": 54,
      "outputs": [
        {
          "output_type": "execute_result",
          "data": {
            "text/plain": [
              "Timestamp('2020-01-15 00:00:00')"
            ]
          },
          "metadata": {
            "tags": []
          },
          "execution_count": 54
        }
      ]
    },
    {
      "cell_type": "code",
      "metadata": {
        "colab": {
          "base_uri": "https://localhost:8080/"
        },
        "id": "LaR2L1hOIGVU",
        "outputId": "0f31a0d9-3338-4ab8-c137-ec88353478b8"
      },
      "source": [
        "df.index.argmax()"
      ],
      "execution_count": 55,
      "outputs": [
        {
          "output_type": "execute_result",
          "data": {
            "text/plain": [
              "1"
            ]
          },
          "metadata": {
            "tags": []
          },
          "execution_count": 55
        }
      ]
    },
    {
      "cell_type": "code",
      "metadata": {
        "colab": {
          "base_uri": "https://localhost:8080/"
        },
        "id": "2ju0MENTIOpY",
        "outputId": "4191f74a-9b22-4280-df99-958e17bac065"
      },
      "source": [
        "df.index.argmin()"
      ],
      "execution_count": 56,
      "outputs": [
        {
          "output_type": "execute_result",
          "data": {
            "text/plain": [
              "0"
            ]
          },
          "metadata": {
            "tags": []
          },
          "execution_count": 56
        }
      ]
    },
    {
      "cell_type": "markdown",
      "metadata": {
        "id": "Uotz5cCSIUru"
      },
      "source": [
        "### Resampling"
      ]
    },
    {
      "cell_type": "code",
      "metadata": {
        "colab": {
          "base_uri": "https://localhost:8080/"
        },
        "id": "0hSW0SMzITec",
        "outputId": "f4df36f5-1a43-4f3f-991a-4db93dd010c6"
      },
      "source": [
        "df = pd.read_csv('/content/drive/MyDrive/Colab Notebooks/Korea_Stocks_Full/005930.csv')\n",
        "df.info()\n"
      ],
      "execution_count": 138,
      "outputs": [
        {
          "output_type": "stream",
          "text": [
            "<class 'pandas.core.frame.DataFrame'>\n",
            "RangeIndex: 5287 entries, 0 to 5286\n",
            "Data columns (total 7 columns):\n",
            " #   Column     Non-Null Count  Dtype \n",
            "---  ------     --------------  ----- \n",
            " 0   Date       5287 non-null   object\n",
            " 1   Open       5287 non-null   int64 \n",
            " 2   High       5287 non-null   int64 \n",
            " 3   Low        5287 non-null   int64 \n",
            " 4   Close      5287 non-null   int64 \n",
            " 5   Volume     5287 non-null   int64 \n",
            " 6   Adj_Close  5287 non-null   int64 \n",
            "dtypes: int64(6), object(1)\n",
            "memory usage: 289.3+ KB\n"
          ],
          "name": "stdout"
        }
      ]
    },
    {
      "cell_type": "code",
      "metadata": {
        "id": "-IgG7lIfKAWl"
      },
      "source": [
        "# Date 칼럼을 인덱스로 바꾸는 방법 1\n",
        "df['Date']= df['Date'].apply(pd.to_datetime)"
      ],
      "execution_count": 141,
      "outputs": []
    },
    {
      "cell_type": "code",
      "metadata": {
        "colab": {
          "base_uri": "https://localhost:8080/",
          "height": 419
        },
        "id": "tlHzsSfTKMU_",
        "outputId": "bd1145ba-6d7e-49fc-debb-33f3204c24c4"
      },
      "source": [
        "df"
      ],
      "execution_count": 142,
      "outputs": [
        {
          "output_type": "execute_result",
          "data": {
            "text/html": [
              "<div>\n",
              "<style scoped>\n",
              "    .dataframe tbody tr th:only-of-type {\n",
              "        vertical-align: middle;\n",
              "    }\n",
              "\n",
              "    .dataframe tbody tr th {\n",
              "        vertical-align: top;\n",
              "    }\n",
              "\n",
              "    .dataframe thead th {\n",
              "        text-align: right;\n",
              "    }\n",
              "</style>\n",
              "<table border=\"1\" class=\"dataframe\">\n",
              "  <thead>\n",
              "    <tr style=\"text-align: right;\">\n",
              "      <th></th>\n",
              "      <th>Date</th>\n",
              "      <th>Open</th>\n",
              "      <th>High</th>\n",
              "      <th>Low</th>\n",
              "      <th>Close</th>\n",
              "      <th>Volume</th>\n",
              "      <th>Adj_Close</th>\n",
              "    </tr>\n",
              "  </thead>\n",
              "  <tbody>\n",
              "    <tr>\n",
              "      <th>0</th>\n",
              "      <td>2000-01-04</td>\n",
              "      <td>300000</td>\n",
              "      <td>305500</td>\n",
              "      <td>283000</td>\n",
              "      <td>305500</td>\n",
              "      <td>1483900</td>\n",
              "      <td>268763</td>\n",
              "    </tr>\n",
              "    <tr>\n",
              "      <th>1</th>\n",
              "      <td>2000-01-05</td>\n",
              "      <td>290000</td>\n",
              "      <td>303000</td>\n",
              "      <td>276000</td>\n",
              "      <td>279000</td>\n",
              "      <td>1493600</td>\n",
              "      <td>245450</td>\n",
              "    </tr>\n",
              "    <tr>\n",
              "      <th>2</th>\n",
              "      <td>2000-01-06</td>\n",
              "      <td>287500</td>\n",
              "      <td>289000</td>\n",
              "      <td>279000</td>\n",
              "      <td>281000</td>\n",
              "      <td>1087800</td>\n",
              "      <td>247210</td>\n",
              "    </tr>\n",
              "    <tr>\n",
              "      <th>3</th>\n",
              "      <td>2000-01-07</td>\n",
              "      <td>278000</td>\n",
              "      <td>283500</td>\n",
              "      <td>268000</td>\n",
              "      <td>277000</td>\n",
              "      <td>806100</td>\n",
              "      <td>243691</td>\n",
              "    </tr>\n",
              "    <tr>\n",
              "      <th>4</th>\n",
              "      <td>2000-01-10</td>\n",
              "      <td>280000</td>\n",
              "      <td>288500</td>\n",
              "      <td>279000</td>\n",
              "      <td>288500</td>\n",
              "      <td>937600</td>\n",
              "      <td>253808</td>\n",
              "    </tr>\n",
              "    <tr>\n",
              "      <th>...</th>\n",
              "      <td>...</td>\n",
              "      <td>...</td>\n",
              "      <td>...</td>\n",
              "      <td>...</td>\n",
              "      <td>...</td>\n",
              "      <td>...</td>\n",
              "      <td>...</td>\n",
              "    </tr>\n",
              "    <tr>\n",
              "      <th>5282</th>\n",
              "      <td>2021-01-11</td>\n",
              "      <td>90000</td>\n",
              "      <td>96800</td>\n",
              "      <td>89500</td>\n",
              "      <td>91000</td>\n",
              "      <td>90306177</td>\n",
              "      <td>91000</td>\n",
              "    </tr>\n",
              "    <tr>\n",
              "      <th>5283</th>\n",
              "      <td>2021-01-12</td>\n",
              "      <td>90300</td>\n",
              "      <td>91400</td>\n",
              "      <td>87800</td>\n",
              "      <td>90600</td>\n",
              "      <td>48682416</td>\n",
              "      <td>90600</td>\n",
              "    </tr>\n",
              "    <tr>\n",
              "      <th>5284</th>\n",
              "      <td>2021-01-13</td>\n",
              "      <td>89800</td>\n",
              "      <td>91200</td>\n",
              "      <td>89100</td>\n",
              "      <td>89700</td>\n",
              "      <td>36068848</td>\n",
              "      <td>89700</td>\n",
              "    </tr>\n",
              "    <tr>\n",
              "      <th>5285</th>\n",
              "      <td>2021-01-14</td>\n",
              "      <td>88700</td>\n",
              "      <td>90000</td>\n",
              "      <td>88700</td>\n",
              "      <td>89700</td>\n",
              "      <td>26393970</td>\n",
              "      <td>89700</td>\n",
              "    </tr>\n",
              "    <tr>\n",
              "      <th>5286</th>\n",
              "      <td>2021-01-15</td>\n",
              "      <td>89800</td>\n",
              "      <td>91800</td>\n",
              "      <td>88000</td>\n",
              "      <td>88000</td>\n",
              "      <td>32997656</td>\n",
              "      <td>88000</td>\n",
              "    </tr>\n",
              "  </tbody>\n",
              "</table>\n",
              "<p>5287 rows × 7 columns</p>\n",
              "</div>"
            ],
            "text/plain": [
              "           Date    Open    High     Low   Close    Volume  Adj_Close\n",
              "0    2000-01-04  300000  305500  283000  305500   1483900     268763\n",
              "1    2000-01-05  290000  303000  276000  279000   1493600     245450\n",
              "2    2000-01-06  287500  289000  279000  281000   1087800     247210\n",
              "3    2000-01-07  278000  283500  268000  277000    806100     243691\n",
              "4    2000-01-10  280000  288500  279000  288500    937600     253808\n",
              "...         ...     ...     ...     ...     ...       ...        ...\n",
              "5282 2021-01-11   90000   96800   89500   91000  90306177      91000\n",
              "5283 2021-01-12   90300   91400   87800   90600  48682416      90600\n",
              "5284 2021-01-13   89800   91200   89100   89700  36068848      89700\n",
              "5285 2021-01-14   88700   90000   88700   89700  26393970      89700\n",
              "5286 2021-01-15   89800   91800   88000   88000  32997656      88000\n",
              "\n",
              "[5287 rows x 7 columns]"
            ]
          },
          "metadata": {
            "tags": []
          },
          "execution_count": 142
        }
      ]
    },
    {
      "cell_type": "code",
      "metadata": {
        "colab": {
          "base_uri": "https://localhost:8080/"
        },
        "id": "tp7uxB32KWMD",
        "outputId": "092bde8d-def6-40d6-cff4-2efb3779543c"
      },
      "source": [
        "df.info()"
      ],
      "execution_count": 143,
      "outputs": [
        {
          "output_type": "stream",
          "text": [
            "<class 'pandas.core.frame.DataFrame'>\n",
            "RangeIndex: 5287 entries, 0 to 5286\n",
            "Data columns (total 7 columns):\n",
            " #   Column     Non-Null Count  Dtype         \n",
            "---  ------     --------------  -----         \n",
            " 0   Date       5287 non-null   datetime64[ns]\n",
            " 1   Open       5287 non-null   int64         \n",
            " 2   High       5287 non-null   int64         \n",
            " 3   Low        5287 non-null   int64         \n",
            " 4   Close      5287 non-null   int64         \n",
            " 5   Volume     5287 non-null   int64         \n",
            " 6   Adj_Close  5287 non-null   int64         \n",
            "dtypes: datetime64[ns](1), int64(6)\n",
            "memory usage: 289.3 KB\n"
          ],
          "name": "stdout"
        }
      ]
    },
    {
      "cell_type": "code",
      "metadata": {
        "id": "EhLNtwlLLf51"
      },
      "source": [
        "df.set_index('Date', inplace=True)"
      ],
      "execution_count": 74,
      "outputs": []
    },
    {
      "cell_type": "code",
      "metadata": {
        "colab": {
          "base_uri": "https://localhost:8080/",
          "height": 450
        },
        "id": "3rkCldeeL6Y5",
        "outputId": "9b995634-4db3-4d3b-bd4c-82e0e4bb4229"
      },
      "source": [
        "df"
      ],
      "execution_count": 92,
      "outputs": [
        {
          "output_type": "execute_result",
          "data": {
            "text/html": [
              "<div>\n",
              "<style scoped>\n",
              "    .dataframe tbody tr th:only-of-type {\n",
              "        vertical-align: middle;\n",
              "    }\n",
              "\n",
              "    .dataframe tbody tr th {\n",
              "        vertical-align: top;\n",
              "    }\n",
              "\n",
              "    .dataframe thead th {\n",
              "        text-align: right;\n",
              "    }\n",
              "</style>\n",
              "<table border=\"1\" class=\"dataframe\">\n",
              "  <thead>\n",
              "    <tr style=\"text-align: right;\">\n",
              "      <th></th>\n",
              "      <th>Open</th>\n",
              "      <th>High</th>\n",
              "      <th>Low</th>\n",
              "      <th>Close</th>\n",
              "      <th>Volume</th>\n",
              "      <th>Adj_Close</th>\n",
              "      <th>month</th>\n",
              "    </tr>\n",
              "    <tr>\n",
              "      <th>Date</th>\n",
              "      <th></th>\n",
              "      <th></th>\n",
              "      <th></th>\n",
              "      <th></th>\n",
              "      <th></th>\n",
              "      <th></th>\n",
              "      <th></th>\n",
              "    </tr>\n",
              "  </thead>\n",
              "  <tbody>\n",
              "    <tr>\n",
              "      <th>2000-01-04</th>\n",
              "      <td>300000</td>\n",
              "      <td>305500</td>\n",
              "      <td>283000</td>\n",
              "      <td>305500</td>\n",
              "      <td>1483900</td>\n",
              "      <td>268763</td>\n",
              "      <td>1</td>\n",
              "    </tr>\n",
              "    <tr>\n",
              "      <th>2000-01-05</th>\n",
              "      <td>290000</td>\n",
              "      <td>303000</td>\n",
              "      <td>276000</td>\n",
              "      <td>279000</td>\n",
              "      <td>1493600</td>\n",
              "      <td>245450</td>\n",
              "      <td>1</td>\n",
              "    </tr>\n",
              "    <tr>\n",
              "      <th>2000-01-06</th>\n",
              "      <td>287500</td>\n",
              "      <td>289000</td>\n",
              "      <td>279000</td>\n",
              "      <td>281000</td>\n",
              "      <td>1087800</td>\n",
              "      <td>247210</td>\n",
              "      <td>1</td>\n",
              "    </tr>\n",
              "    <tr>\n",
              "      <th>2000-01-07</th>\n",
              "      <td>278000</td>\n",
              "      <td>283500</td>\n",
              "      <td>268000</td>\n",
              "      <td>277000</td>\n",
              "      <td>806100</td>\n",
              "      <td>243691</td>\n",
              "      <td>1</td>\n",
              "    </tr>\n",
              "    <tr>\n",
              "      <th>2000-01-10</th>\n",
              "      <td>280000</td>\n",
              "      <td>288500</td>\n",
              "      <td>279000</td>\n",
              "      <td>288500</td>\n",
              "      <td>937600</td>\n",
              "      <td>253808</td>\n",
              "      <td>1</td>\n",
              "    </tr>\n",
              "    <tr>\n",
              "      <th>...</th>\n",
              "      <td>...</td>\n",
              "      <td>...</td>\n",
              "      <td>...</td>\n",
              "      <td>...</td>\n",
              "      <td>...</td>\n",
              "      <td>...</td>\n",
              "      <td>...</td>\n",
              "    </tr>\n",
              "    <tr>\n",
              "      <th>2021-01-11</th>\n",
              "      <td>90000</td>\n",
              "      <td>96800</td>\n",
              "      <td>89500</td>\n",
              "      <td>91000</td>\n",
              "      <td>90306177</td>\n",
              "      <td>91000</td>\n",
              "      <td>1</td>\n",
              "    </tr>\n",
              "    <tr>\n",
              "      <th>2021-01-12</th>\n",
              "      <td>90300</td>\n",
              "      <td>91400</td>\n",
              "      <td>87800</td>\n",
              "      <td>90600</td>\n",
              "      <td>48682416</td>\n",
              "      <td>90600</td>\n",
              "      <td>1</td>\n",
              "    </tr>\n",
              "    <tr>\n",
              "      <th>2021-01-13</th>\n",
              "      <td>89800</td>\n",
              "      <td>91200</td>\n",
              "      <td>89100</td>\n",
              "      <td>89700</td>\n",
              "      <td>36068848</td>\n",
              "      <td>89700</td>\n",
              "      <td>1</td>\n",
              "    </tr>\n",
              "    <tr>\n",
              "      <th>2021-01-14</th>\n",
              "      <td>88700</td>\n",
              "      <td>90000</td>\n",
              "      <td>88700</td>\n",
              "      <td>89700</td>\n",
              "      <td>26393970</td>\n",
              "      <td>89700</td>\n",
              "      <td>1</td>\n",
              "    </tr>\n",
              "    <tr>\n",
              "      <th>2021-01-15</th>\n",
              "      <td>89800</td>\n",
              "      <td>91800</td>\n",
              "      <td>88000</td>\n",
              "      <td>88000</td>\n",
              "      <td>32997656</td>\n",
              "      <td>88000</td>\n",
              "      <td>1</td>\n",
              "    </tr>\n",
              "  </tbody>\n",
              "</table>\n",
              "<p>5287 rows × 7 columns</p>\n",
              "</div>"
            ],
            "text/plain": [
              "              Open    High     Low   Close    Volume  Adj_Close  month\n",
              "Date                                                                  \n",
              "2000-01-04  300000  305500  283000  305500   1483900     268763      1\n",
              "2000-01-05  290000  303000  276000  279000   1493600     245450      1\n",
              "2000-01-06  287500  289000  279000  281000   1087800     247210      1\n",
              "2000-01-07  278000  283500  268000  277000    806100     243691      1\n",
              "2000-01-10  280000  288500  279000  288500    937600     253808      1\n",
              "...            ...     ...     ...     ...       ...        ...    ...\n",
              "2021-01-11   90000   96800   89500   91000  90306177      91000      1\n",
              "2021-01-12   90300   91400   87800   90600  48682416      90600      1\n",
              "2021-01-13   89800   91200   89100   89700  36068848      89700      1\n",
              "2021-01-14   88700   90000   88700   89700  26393970      89700      1\n",
              "2021-01-15   89800   91800   88000   88000  32997656      88000      1\n",
              "\n",
              "[5287 rows x 7 columns]"
            ]
          },
          "metadata": {
            "tags": []
          },
          "execution_count": 92
        }
      ]
    },
    {
      "cell_type": "code",
      "metadata": {
        "id": "2Tb7cMgcME0V"
      },
      "source": [
        "df['month'] = df.index.month"
      ],
      "execution_count": 76,
      "outputs": []
    },
    {
      "cell_type": "code",
      "metadata": {
        "colab": {
          "base_uri": "https://localhost:8080/",
          "height": 450
        },
        "id": "pDqjLTzcMSg0",
        "outputId": "de1db92e-c032-4a41-b9f8-791b59140605"
      },
      "source": [
        "df"
      ],
      "execution_count": 77,
      "outputs": [
        {
          "output_type": "execute_result",
          "data": {
            "text/html": [
              "<div>\n",
              "<style scoped>\n",
              "    .dataframe tbody tr th:only-of-type {\n",
              "        vertical-align: middle;\n",
              "    }\n",
              "\n",
              "    .dataframe tbody tr th {\n",
              "        vertical-align: top;\n",
              "    }\n",
              "\n",
              "    .dataframe thead th {\n",
              "        text-align: right;\n",
              "    }\n",
              "</style>\n",
              "<table border=\"1\" class=\"dataframe\">\n",
              "  <thead>\n",
              "    <tr style=\"text-align: right;\">\n",
              "      <th></th>\n",
              "      <th>Open</th>\n",
              "      <th>High</th>\n",
              "      <th>Low</th>\n",
              "      <th>Close</th>\n",
              "      <th>Volume</th>\n",
              "      <th>Adj_Close</th>\n",
              "      <th>month</th>\n",
              "    </tr>\n",
              "    <tr>\n",
              "      <th>Date</th>\n",
              "      <th></th>\n",
              "      <th></th>\n",
              "      <th></th>\n",
              "      <th></th>\n",
              "      <th></th>\n",
              "      <th></th>\n",
              "      <th></th>\n",
              "    </tr>\n",
              "  </thead>\n",
              "  <tbody>\n",
              "    <tr>\n",
              "      <th>2000-01-04</th>\n",
              "      <td>300000</td>\n",
              "      <td>305500</td>\n",
              "      <td>283000</td>\n",
              "      <td>305500</td>\n",
              "      <td>1483900</td>\n",
              "      <td>268763</td>\n",
              "      <td>1</td>\n",
              "    </tr>\n",
              "    <tr>\n",
              "      <th>2000-01-05</th>\n",
              "      <td>290000</td>\n",
              "      <td>303000</td>\n",
              "      <td>276000</td>\n",
              "      <td>279000</td>\n",
              "      <td>1493600</td>\n",
              "      <td>245450</td>\n",
              "      <td>1</td>\n",
              "    </tr>\n",
              "    <tr>\n",
              "      <th>2000-01-06</th>\n",
              "      <td>287500</td>\n",
              "      <td>289000</td>\n",
              "      <td>279000</td>\n",
              "      <td>281000</td>\n",
              "      <td>1087800</td>\n",
              "      <td>247210</td>\n",
              "      <td>1</td>\n",
              "    </tr>\n",
              "    <tr>\n",
              "      <th>2000-01-07</th>\n",
              "      <td>278000</td>\n",
              "      <td>283500</td>\n",
              "      <td>268000</td>\n",
              "      <td>277000</td>\n",
              "      <td>806100</td>\n",
              "      <td>243691</td>\n",
              "      <td>1</td>\n",
              "    </tr>\n",
              "    <tr>\n",
              "      <th>2000-01-10</th>\n",
              "      <td>280000</td>\n",
              "      <td>288500</td>\n",
              "      <td>279000</td>\n",
              "      <td>288500</td>\n",
              "      <td>937600</td>\n",
              "      <td>253808</td>\n",
              "      <td>1</td>\n",
              "    </tr>\n",
              "    <tr>\n",
              "      <th>...</th>\n",
              "      <td>...</td>\n",
              "      <td>...</td>\n",
              "      <td>...</td>\n",
              "      <td>...</td>\n",
              "      <td>...</td>\n",
              "      <td>...</td>\n",
              "      <td>...</td>\n",
              "    </tr>\n",
              "    <tr>\n",
              "      <th>2021-01-11</th>\n",
              "      <td>90000</td>\n",
              "      <td>96800</td>\n",
              "      <td>89500</td>\n",
              "      <td>91000</td>\n",
              "      <td>90306177</td>\n",
              "      <td>91000</td>\n",
              "      <td>1</td>\n",
              "    </tr>\n",
              "    <tr>\n",
              "      <th>2021-01-12</th>\n",
              "      <td>90300</td>\n",
              "      <td>91400</td>\n",
              "      <td>87800</td>\n",
              "      <td>90600</td>\n",
              "      <td>48682416</td>\n",
              "      <td>90600</td>\n",
              "      <td>1</td>\n",
              "    </tr>\n",
              "    <tr>\n",
              "      <th>2021-01-13</th>\n",
              "      <td>89800</td>\n",
              "      <td>91200</td>\n",
              "      <td>89100</td>\n",
              "      <td>89700</td>\n",
              "      <td>36068848</td>\n",
              "      <td>89700</td>\n",
              "      <td>1</td>\n",
              "    </tr>\n",
              "    <tr>\n",
              "      <th>2021-01-14</th>\n",
              "      <td>88700</td>\n",
              "      <td>90000</td>\n",
              "      <td>88700</td>\n",
              "      <td>89700</td>\n",
              "      <td>26393970</td>\n",
              "      <td>89700</td>\n",
              "      <td>1</td>\n",
              "    </tr>\n",
              "    <tr>\n",
              "      <th>2021-01-15</th>\n",
              "      <td>89800</td>\n",
              "      <td>91800</td>\n",
              "      <td>88000</td>\n",
              "      <td>88000</td>\n",
              "      <td>32997656</td>\n",
              "      <td>88000</td>\n",
              "      <td>1</td>\n",
              "    </tr>\n",
              "  </tbody>\n",
              "</table>\n",
              "<p>5287 rows × 7 columns</p>\n",
              "</div>"
            ],
            "text/plain": [
              "              Open    High     Low   Close    Volume  Adj_Close  month\n",
              "Date                                                                  \n",
              "2000-01-04  300000  305500  283000  305500   1483900     268763      1\n",
              "2000-01-05  290000  303000  276000  279000   1493600     245450      1\n",
              "2000-01-06  287500  289000  279000  281000   1087800     247210      1\n",
              "2000-01-07  278000  283500  268000  277000    806100     243691      1\n",
              "2000-01-10  280000  288500  279000  288500    937600     253808      1\n",
              "...            ...     ...     ...     ...       ...        ...    ...\n",
              "2021-01-11   90000   96800   89500   91000  90306177      91000      1\n",
              "2021-01-12   90300   91400   87800   90600  48682416      90600      1\n",
              "2021-01-13   89800   91200   89100   89700  36068848      89700      1\n",
              "2021-01-14   88700   90000   88700   89700  26393970      89700      1\n",
              "2021-01-15   89800   91800   88000   88000  32997656      88000      1\n",
              "\n",
              "[5287 rows x 7 columns]"
            ]
          },
          "metadata": {
            "tags": []
          },
          "execution_count": 77
        }
      ]
    },
    {
      "cell_type": "code",
      "metadata": {
        "colab": {
          "base_uri": "https://localhost:8080/",
          "height": 452
        },
        "id": "lAhtDjCvMVmV",
        "outputId": "1f1c499a-9906-47c5-8243-3b649363eb69"
      },
      "source": [
        "df.groupby('month').agg(sum)"
      ],
      "execution_count": 93,
      "outputs": [
        {
          "output_type": "execute_result",
          "data": {
            "text/html": [
              "<div>\n",
              "<style scoped>\n",
              "    .dataframe tbody tr th:only-of-type {\n",
              "        vertical-align: middle;\n",
              "    }\n",
              "\n",
              "    .dataframe tbody tr th {\n",
              "        vertical-align: top;\n",
              "    }\n",
              "\n",
              "    .dataframe thead th {\n",
              "        text-align: right;\n",
              "    }\n",
              "</style>\n",
              "<table border=\"1\" class=\"dataframe\">\n",
              "  <thead>\n",
              "    <tr style=\"text-align: right;\">\n",
              "      <th></th>\n",
              "      <th>Open</th>\n",
              "      <th>High</th>\n",
              "      <th>Low</th>\n",
              "      <th>Close</th>\n",
              "      <th>Volume</th>\n",
              "      <th>Adj_Close</th>\n",
              "    </tr>\n",
              "    <tr>\n",
              "      <th>month</th>\n",
              "      <th></th>\n",
              "      <th></th>\n",
              "      <th></th>\n",
              "      <th></th>\n",
              "      <th></th>\n",
              "      <th></th>\n",
              "    </tr>\n",
              "  </thead>\n",
              "  <tbody>\n",
              "    <tr>\n",
              "      <th>1</th>\n",
              "      <td>359745650</td>\n",
              "      <td>364008050</td>\n",
              "      <td>355399450</td>\n",
              "      <td>359743800</td>\n",
              "      <td>1259085977</td>\n",
              "      <td>340201186</td>\n",
              "    </tr>\n",
              "    <tr>\n",
              "      <th>2</th>\n",
              "      <td>329262100</td>\n",
              "      <td>332699750</td>\n",
              "      <td>325622250</td>\n",
              "      <td>328938450</td>\n",
              "      <td>717101193</td>\n",
              "      <td>310806538</td>\n",
              "    </tr>\n",
              "    <tr>\n",
              "      <th>3</th>\n",
              "      <td>377486750</td>\n",
              "      <td>381764400</td>\n",
              "      <td>373735100</td>\n",
              "      <td>378082000</td>\n",
              "      <td>1178636460</td>\n",
              "      <td>357545061</td>\n",
              "    </tr>\n",
              "    <tr>\n",
              "      <th>4</th>\n",
              "      <td>343139260</td>\n",
              "      <td>346593860</td>\n",
              "      <td>339165480</td>\n",
              "      <td>342950920</td>\n",
              "      <td>1007525346</td>\n",
              "      <td>321927159</td>\n",
              "    </tr>\n",
              "    <tr>\n",
              "      <th>5</th>\n",
              "      <td>314975050</td>\n",
              "      <td>318052700</td>\n",
              "      <td>311425000</td>\n",
              "      <td>314502050</td>\n",
              "      <td>1110118027</td>\n",
              "      <td>294409881</td>\n",
              "    </tr>\n",
              "    <tr>\n",
              "      <th>6</th>\n",
              "      <td>319075500</td>\n",
              "      <td>322459200</td>\n",
              "      <td>315518350</td>\n",
              "      <td>318764200</td>\n",
              "      <td>1140759554</td>\n",
              "      <td>299211796</td>\n",
              "    </tr>\n",
              "    <tr>\n",
              "      <th>7</th>\n",
              "      <td>339866499</td>\n",
              "      <td>343773822</td>\n",
              "      <td>336340969</td>\n",
              "      <td>340143000</td>\n",
              "      <td>1011375552</td>\n",
              "      <td>319446278</td>\n",
              "    </tr>\n",
              "    <tr>\n",
              "      <th>8</th>\n",
              "      <td>332071347</td>\n",
              "      <td>335336092</td>\n",
              "      <td>328277431</td>\n",
              "      <td>331459600</td>\n",
              "      <td>956800195</td>\n",
              "      <td>311122830</td>\n",
              "    </tr>\n",
              "    <tr>\n",
              "      <th>9</th>\n",
              "      <td>308762565</td>\n",
              "      <td>312266673</td>\n",
              "      <td>305721345</td>\n",
              "      <td>309206900</td>\n",
              "      <td>981756111</td>\n",
              "      <td>290205760</td>\n",
              "    </tr>\n",
              "    <tr>\n",
              "      <th>10</th>\n",
              "      <td>317712900</td>\n",
              "      <td>321773550</td>\n",
              "      <td>314002650</td>\n",
              "      <td>318091600</td>\n",
              "      <td>966230047</td>\n",
              "      <td>298523690</td>\n",
              "    </tr>\n",
              "    <tr>\n",
              "      <th>11</th>\n",
              "      <td>350950950</td>\n",
              "      <td>354531600</td>\n",
              "      <td>347009500</td>\n",
              "      <td>350773450</td>\n",
              "      <td>1102671075</td>\n",
              "      <td>330312533</td>\n",
              "    </tr>\n",
              "    <tr>\n",
              "      <th>12</th>\n",
              "      <td>336875750</td>\n",
              "      <td>340483500</td>\n",
              "      <td>333701450</td>\n",
              "      <td>337200350</td>\n",
              "      <td>1205640363</td>\n",
              "      <td>316952302</td>\n",
              "    </tr>\n",
              "  </tbody>\n",
              "</table>\n",
              "</div>"
            ],
            "text/plain": [
              "            Open       High        Low      Close      Volume  Adj_Close\n",
              "month                                                                   \n",
              "1      359745650  364008050  355399450  359743800  1259085977  340201186\n",
              "2      329262100  332699750  325622250  328938450   717101193  310806538\n",
              "3      377486750  381764400  373735100  378082000  1178636460  357545061\n",
              "4      343139260  346593860  339165480  342950920  1007525346  321927159\n",
              "5      314975050  318052700  311425000  314502050  1110118027  294409881\n",
              "6      319075500  322459200  315518350  318764200  1140759554  299211796\n",
              "7      339866499  343773822  336340969  340143000  1011375552  319446278\n",
              "8      332071347  335336092  328277431  331459600   956800195  311122830\n",
              "9      308762565  312266673  305721345  309206900   981756111  290205760\n",
              "10     317712900  321773550  314002650  318091600   966230047  298523690\n",
              "11     350950950  354531600  347009500  350773450  1102671075  330312533\n",
              "12     336875750  340483500  333701450  337200350  1205640363  316952302"
            ]
          },
          "metadata": {
            "tags": []
          },
          "execution_count": 93
        }
      ]
    },
    {
      "cell_type": "code",
      "metadata": {
        "colab": {
          "base_uri": "https://localhost:8080/",
          "height": 762
        },
        "id": "zR3Zb4uUMuzU",
        "outputId": "0235a2be-577b-47f3-ecf4-51dc503f8ce8"
      },
      "source": [
        "df.groupby(df.index.year).sum()"
      ],
      "execution_count": 94,
      "outputs": [
        {
          "output_type": "execute_result",
          "data": {
            "text/html": [
              "<div>\n",
              "<style scoped>\n",
              "    .dataframe tbody tr th:only-of-type {\n",
              "        vertical-align: middle;\n",
              "    }\n",
              "\n",
              "    .dataframe tbody tr th {\n",
              "        vertical-align: top;\n",
              "    }\n",
              "\n",
              "    .dataframe thead th {\n",
              "        text-align: right;\n",
              "    }\n",
              "</style>\n",
              "<table border=\"1\" class=\"dataframe\">\n",
              "  <thead>\n",
              "    <tr style=\"text-align: right;\">\n",
              "      <th></th>\n",
              "      <th>Open</th>\n",
              "      <th>High</th>\n",
              "      <th>Low</th>\n",
              "      <th>Close</th>\n",
              "      <th>Volume</th>\n",
              "      <th>Adj_Close</th>\n",
              "      <th>month</th>\n",
              "    </tr>\n",
              "    <tr>\n",
              "      <th>Date</th>\n",
              "      <th></th>\n",
              "      <th></th>\n",
              "      <th></th>\n",
              "      <th></th>\n",
              "      <th></th>\n",
              "      <th></th>\n",
              "      <th></th>\n",
              "    </tr>\n",
              "  </thead>\n",
              "  <tbody>\n",
              "    <tr>\n",
              "      <th>2000</th>\n",
              "      <td>69386000</td>\n",
              "      <td>70984000</td>\n",
              "      <td>67806000</td>\n",
              "      <td>69275500</td>\n",
              "      <td>263057000</td>\n",
              "      <td>60945077</td>\n",
              "      <td>1680</td>\n",
              "    </tr>\n",
              "    <tr>\n",
              "      <th>2001</th>\n",
              "      <td>51195000</td>\n",
              "      <td>52139000</td>\n",
              "      <td>50400500</td>\n",
              "      <td>51319000</td>\n",
              "      <td>175466100</td>\n",
              "      <td>45147817</td>\n",
              "      <td>1690</td>\n",
              "    </tr>\n",
              "    <tr>\n",
              "      <th>2002</th>\n",
              "      <td>89397000</td>\n",
              "      <td>90765000</td>\n",
              "      <td>88116000</td>\n",
              "      <td>89482500</td>\n",
              "      <td>204959000</td>\n",
              "      <td>78722203</td>\n",
              "      <td>1700</td>\n",
              "    </tr>\n",
              "    <tr>\n",
              "      <th>2003</th>\n",
              "      <td>97362000</td>\n",
              "      <td>98580000</td>\n",
              "      <td>96199500</td>\n",
              "      <td>97460500</td>\n",
              "      <td>152857900</td>\n",
              "      <td>85740870</td>\n",
              "      <td>1703</td>\n",
              "    </tr>\n",
              "    <tr>\n",
              "      <th>2004</th>\n",
              "      <td>126742500</td>\n",
              "      <td>128213000</td>\n",
              "      <td>125196000</td>\n",
              "      <td>126738500</td>\n",
              "      <td>142460200</td>\n",
              "      <td>111498219</td>\n",
              "      <td>1712</td>\n",
              "    </tr>\n",
              "    <tr>\n",
              "      <th>2005</th>\n",
              "      <td>138862000</td>\n",
              "      <td>140188500</td>\n",
              "      <td>137682000</td>\n",
              "      <td>138997000</td>\n",
              "      <td>106593979</td>\n",
              "      <td>122282654</td>\n",
              "      <td>1689</td>\n",
              "    </tr>\n",
              "    <tr>\n",
              "      <th>2006</th>\n",
              "      <td>158311000</td>\n",
              "      <td>159884000</td>\n",
              "      <td>156681000</td>\n",
              "      <td>158254000</td>\n",
              "      <td>96004090</td>\n",
              "      <td>139292651</td>\n",
              "      <td>1603</td>\n",
              "    </tr>\n",
              "    <tr>\n",
              "      <th>2007</th>\n",
              "      <td>142211000</td>\n",
              "      <td>143749000</td>\n",
              "      <td>140433000</td>\n",
              "      <td>142021000</td>\n",
              "      <td>137981462</td>\n",
              "      <td>126157071</td>\n",
              "      <td>1586</td>\n",
              "    </tr>\n",
              "    <tr>\n",
              "      <th>2008</th>\n",
              "      <td>147637000</td>\n",
              "      <td>149994000</td>\n",
              "      <td>145394500</td>\n",
              "      <td>147703500</td>\n",
              "      <td>143025192</td>\n",
              "      <td>133040006</td>\n",
              "      <td>1694</td>\n",
              "    </tr>\n",
              "    <tr>\n",
              "      <th>2009</th>\n",
              "      <td>162346000</td>\n",
              "      <td>164500500</td>\n",
              "      <td>160193000</td>\n",
              "      <td>162430500</td>\n",
              "      <td>121719434</td>\n",
              "      <td>148058203</td>\n",
              "      <td>1660</td>\n",
              "    </tr>\n",
              "    <tr>\n",
              "      <th>2010</th>\n",
              "      <td>201816000</td>\n",
              "      <td>203608000</td>\n",
              "      <td>199703000</td>\n",
              "      <td>201691000</td>\n",
              "      <td>87207701</td>\n",
              "      <td>186183470</td>\n",
              "      <td>1650</td>\n",
              "    </tr>\n",
              "    <tr>\n",
              "      <th>2011</th>\n",
              "      <td>222352000</td>\n",
              "      <td>225033000</td>\n",
              "      <td>219536000</td>\n",
              "      <td>222285000</td>\n",
              "      <td>97997065</td>\n",
              "      <td>206884572</td>\n",
              "      <td>1628</td>\n",
              "    </tr>\n",
              "    <tr>\n",
              "      <th>2012</th>\n",
              "      <td>312238000</td>\n",
              "      <td>315643000</td>\n",
              "      <td>309049000</td>\n",
              "      <td>312661000</td>\n",
              "      <td>80220246</td>\n",
              "      <td>292515956</td>\n",
              "      <td>1608</td>\n",
              "    </tr>\n",
              "    <tr>\n",
              "      <th>2013</th>\n",
              "      <td>353449000</td>\n",
              "      <td>356309000</td>\n",
              "      <td>349750000</td>\n",
              "      <td>352945000</td>\n",
              "      <td>63643894</td>\n",
              "      <td>332038342</td>\n",
              "      <td>1599</td>\n",
              "    </tr>\n",
              "    <tr>\n",
              "      <th>2014</th>\n",
              "      <td>316943000</td>\n",
              "      <td>319541000</td>\n",
              "      <td>313764000</td>\n",
              "      <td>316490000</td>\n",
              "      <td>61188531</td>\n",
              "      <td>300820245</td>\n",
              "      <td>1594</td>\n",
              "    </tr>\n",
              "    <tr>\n",
              "      <th>2015</th>\n",
              "      <td>323535000</td>\n",
              "      <td>326778000</td>\n",
              "      <td>320098000</td>\n",
              "      <td>323344000</td>\n",
              "      <td>59618169</td>\n",
              "      <td>312012085</td>\n",
              "      <td>1633</td>\n",
              "    </tr>\n",
              "    <tr>\n",
              "      <th>2016</th>\n",
              "      <td>353392000</td>\n",
              "      <td>357393000</td>\n",
              "      <td>350361000</td>\n",
              "      <td>354241000</td>\n",
              "      <td>59444145</td>\n",
              "      <td>347606755</td>\n",
              "      <td>1616</td>\n",
              "    </tr>\n",
              "    <tr>\n",
              "      <th>2017</th>\n",
              "      <td>558833061</td>\n",
              "      <td>564253337</td>\n",
              "      <td>554121445</td>\n",
              "      <td>558845000</td>\n",
              "      <td>55464008</td>\n",
              "      <td>558050023</td>\n",
              "      <td>1548</td>\n",
              "    </tr>\n",
              "    <tr>\n",
              "      <th>2018</th>\n",
              "      <td>177517210</td>\n",
              "      <td>179486810</td>\n",
              "      <td>175310830</td>\n",
              "      <td>177252020</td>\n",
              "      <td>2063733586</td>\n",
              "      <td>177248495</td>\n",
              "      <td>1587</td>\n",
              "    </tr>\n",
              "    <tr>\n",
              "      <th>2019</th>\n",
              "      <td>11367050</td>\n",
              "      <td>11471450</td>\n",
              "      <td>11259850</td>\n",
              "      <td>11372900</td>\n",
              "      <td>2641597712</td>\n",
              "      <td>11372900</td>\n",
              "      <td>1600</td>\n",
              "    </tr>\n",
              "    <tr>\n",
              "      <th>2020</th>\n",
              "      <td>14171900</td>\n",
              "      <td>14341400</td>\n",
              "      <td>14011650</td>\n",
              "      <td>14177600</td>\n",
              "      <td>5381273512</td>\n",
              "      <td>14177600</td>\n",
              "      <td>1616</td>\n",
              "    </tr>\n",
              "    <tr>\n",
              "      <th>2021</th>\n",
              "      <td>860600</td>\n",
              "      <td>888200</td>\n",
              "      <td>852700</td>\n",
              "      <td>869800</td>\n",
              "      <td>442186974</td>\n",
              "      <td>869800</td>\n",
              "      <td>10</td>\n",
              "    </tr>\n",
              "  </tbody>\n",
              "</table>\n",
              "</div>"
            ],
            "text/plain": [
              "           Open       High        Low      Close      Volume  Adj_Close  month\n",
              "Date                                                                          \n",
              "2000   69386000   70984000   67806000   69275500   263057000   60945077   1680\n",
              "2001   51195000   52139000   50400500   51319000   175466100   45147817   1690\n",
              "2002   89397000   90765000   88116000   89482500   204959000   78722203   1700\n",
              "2003   97362000   98580000   96199500   97460500   152857900   85740870   1703\n",
              "2004  126742500  128213000  125196000  126738500   142460200  111498219   1712\n",
              "2005  138862000  140188500  137682000  138997000   106593979  122282654   1689\n",
              "2006  158311000  159884000  156681000  158254000    96004090  139292651   1603\n",
              "2007  142211000  143749000  140433000  142021000   137981462  126157071   1586\n",
              "2008  147637000  149994000  145394500  147703500   143025192  133040006   1694\n",
              "2009  162346000  164500500  160193000  162430500   121719434  148058203   1660\n",
              "2010  201816000  203608000  199703000  201691000    87207701  186183470   1650\n",
              "2011  222352000  225033000  219536000  222285000    97997065  206884572   1628\n",
              "2012  312238000  315643000  309049000  312661000    80220246  292515956   1608\n",
              "2013  353449000  356309000  349750000  352945000    63643894  332038342   1599\n",
              "2014  316943000  319541000  313764000  316490000    61188531  300820245   1594\n",
              "2015  323535000  326778000  320098000  323344000    59618169  312012085   1633\n",
              "2016  353392000  357393000  350361000  354241000    59444145  347606755   1616\n",
              "2017  558833061  564253337  554121445  558845000    55464008  558050023   1548\n",
              "2018  177517210  179486810  175310830  177252020  2063733586  177248495   1587\n",
              "2019   11367050   11471450   11259850   11372900  2641597712   11372900   1600\n",
              "2020   14171900   14341400   14011650   14177600  5381273512   14177600   1616\n",
              "2021     860600     888200     852700     869800   442186974     869800     10"
            ]
          },
          "metadata": {
            "tags": []
          },
          "execution_count": 94
        }
      ]
    },
    {
      "cell_type": "code",
      "metadata": {
        "colab": {
          "base_uri": "https://localhost:8080/",
          "height": 450
        },
        "id": "Ck6F6UhONgJZ",
        "outputId": "80ff1c3d-7bf7-4a99-b098-8fd7c7a04ee0"
      },
      "source": [
        "df.groupby([df.index.year, df.index.month]).sum()"
      ],
      "execution_count": 95,
      "outputs": [
        {
          "output_type": "execute_result",
          "data": {
            "text/html": [
              "<div>\n",
              "<style scoped>\n",
              "    .dataframe tbody tr th:only-of-type {\n",
              "        vertical-align: middle;\n",
              "    }\n",
              "\n",
              "    .dataframe tbody tr th {\n",
              "        vertical-align: top;\n",
              "    }\n",
              "\n",
              "    .dataframe thead th {\n",
              "        text-align: right;\n",
              "    }\n",
              "</style>\n",
              "<table border=\"1\" class=\"dataframe\">\n",
              "  <thead>\n",
              "    <tr style=\"text-align: right;\">\n",
              "      <th></th>\n",
              "      <th></th>\n",
              "      <th>Open</th>\n",
              "      <th>High</th>\n",
              "      <th>Low</th>\n",
              "      <th>Close</th>\n",
              "      <th>Volume</th>\n",
              "      <th>Adj_Close</th>\n",
              "      <th>month</th>\n",
              "    </tr>\n",
              "    <tr>\n",
              "      <th>Date</th>\n",
              "      <th>Date</th>\n",
              "      <th></th>\n",
              "      <th></th>\n",
              "      <th></th>\n",
              "      <th></th>\n",
              "      <th></th>\n",
              "      <th></th>\n",
              "      <th></th>\n",
              "    </tr>\n",
              "  </thead>\n",
              "  <tbody>\n",
              "    <tr>\n",
              "      <th rowspan=\"5\" valign=\"top\">2000</th>\n",
              "      <th>1</th>\n",
              "      <td>5750500</td>\n",
              "      <td>5877000</td>\n",
              "      <td>5647500</td>\n",
              "      <td>5763500</td>\n",
              "      <td>18050700</td>\n",
              "      <td>5070436</td>\n",
              "      <td>20</td>\n",
              "    </tr>\n",
              "    <tr>\n",
              "      <th>2</th>\n",
              "      <td>5542500</td>\n",
              "      <td>5668000</td>\n",
              "      <td>5386000</td>\n",
              "      <td>5504000</td>\n",
              "      <td>21845900</td>\n",
              "      <td>4842141</td>\n",
              "      <td>42</td>\n",
              "    </tr>\n",
              "    <tr>\n",
              "      <th>3</th>\n",
              "      <td>6911000</td>\n",
              "      <td>7116500</td>\n",
              "      <td>6702000</td>\n",
              "      <td>6899500</td>\n",
              "      <td>25567800</td>\n",
              "      <td>6069831</td>\n",
              "      <td>69</td>\n",
              "    </tr>\n",
              "    <tr>\n",
              "      <th>4</th>\n",
              "      <td>6399000</td>\n",
              "      <td>6559500</td>\n",
              "      <td>6232500</td>\n",
              "      <td>6356500</td>\n",
              "      <td>17502500</td>\n",
              "      <td>5592129</td>\n",
              "      <td>80</td>\n",
              "    </tr>\n",
              "    <tr>\n",
              "      <th>5</th>\n",
              "      <td>7225000</td>\n",
              "      <td>7402000</td>\n",
              "      <td>7109000</td>\n",
              "      <td>7229500</td>\n",
              "      <td>18949300</td>\n",
              "      <td>6360152</td>\n",
              "      <td>115</td>\n",
              "    </tr>\n",
              "    <tr>\n",
              "      <th>...</th>\n",
              "      <th>...</th>\n",
              "      <td>...</td>\n",
              "      <td>...</td>\n",
              "      <td>...</td>\n",
              "      <td>...</td>\n",
              "      <td>...</td>\n",
              "      <td>...</td>\n",
              "      <td>...</td>\n",
              "    </tr>\n",
              "    <tr>\n",
              "      <th rowspan=\"4\" valign=\"top\">2020</th>\n",
              "      <th>9</th>\n",
              "      <td>1221700</td>\n",
              "      <td>1234000</td>\n",
              "      <td>1211900</td>\n",
              "      <td>1221700</td>\n",
              "      <td>426302298</td>\n",
              "      <td>1221700</td>\n",
              "      <td>189</td>\n",
              "    </tr>\n",
              "    <tr>\n",
              "      <th>10</th>\n",
              "      <td>1136900</td>\n",
              "      <td>1144600</td>\n",
              "      <td>1126000</td>\n",
              "      <td>1135000</td>\n",
              "      <td>327557687</td>\n",
              "      <td>1135000</td>\n",
              "      <td>190</td>\n",
              "    </tr>\n",
              "    <tr>\n",
              "      <th>11</th>\n",
              "      <td>1324900</td>\n",
              "      <td>1344400</td>\n",
              "      <td>1312000</td>\n",
              "      <td>1331800</td>\n",
              "      <td>496431342</td>\n",
              "      <td>1331800</td>\n",
              "      <td>231</td>\n",
              "    </tr>\n",
              "    <tr>\n",
              "      <th>12</th>\n",
              "      <td>1534400</td>\n",
              "      <td>1558900</td>\n",
              "      <td>1524600</td>\n",
              "      <td>1546000</td>\n",
              "      <td>529998852</td>\n",
              "      <td>1546000</td>\n",
              "      <td>252</td>\n",
              "    </tr>\n",
              "    <tr>\n",
              "      <th>2021</th>\n",
              "      <th>1</th>\n",
              "      <td>860600</td>\n",
              "      <td>888200</td>\n",
              "      <td>852700</td>\n",
              "      <td>869800</td>\n",
              "      <td>442186974</td>\n",
              "      <td>869800</td>\n",
              "      <td>10</td>\n",
              "    </tr>\n",
              "  </tbody>\n",
              "</table>\n",
              "<p>253 rows × 7 columns</p>\n",
              "</div>"
            ],
            "text/plain": [
              "              Open     High      Low    Close     Volume  Adj_Close  month\n",
              "Date Date                                                                 \n",
              "2000 1     5750500  5877000  5647500  5763500   18050700    5070436     20\n",
              "     2     5542500  5668000  5386000  5504000   21845900    4842141     42\n",
              "     3     6911000  7116500  6702000  6899500   25567800    6069831     69\n",
              "     4     6399000  6559500  6232500  6356500   17502500    5592129     80\n",
              "     5     7225000  7402000  7109000  7229500   18949300    6360152    115\n",
              "...            ...      ...      ...      ...        ...        ...    ...\n",
              "2020 9     1221700  1234000  1211900  1221700  426302298    1221700    189\n",
              "     10    1136900  1144600  1126000  1135000  327557687    1135000    190\n",
              "     11    1324900  1344400  1312000  1331800  496431342    1331800    231\n",
              "     12    1534400  1558900  1524600  1546000  529998852    1546000    252\n",
              "2021 1      860600   888200   852700   869800  442186974     869800     10\n",
              "\n",
              "[253 rows x 7 columns]"
            ]
          },
          "metadata": {
            "tags": []
          },
          "execution_count": 95
        }
      ]
    },
    {
      "cell_type": "code",
      "metadata": {
        "colab": {
          "base_uri": "https://localhost:8080/",
          "height": 297
        },
        "id": "c55fb-bE4I0o",
        "outputId": "7559ac6f-33c4-4fda-a475-cc68efc3855e"
      },
      "source": [
        "df['Open'].plot()"
      ],
      "execution_count": 96,
      "outputs": [
        {
          "output_type": "execute_result",
          "data": {
            "text/plain": [
              "<matplotlib.axes._subplots.AxesSubplot at 0x7ff0f18c4e10>"
            ]
          },
          "metadata": {
            "tags": []
          },
          "execution_count": 96
        },
        {
          "output_type": "display_data",
          "data": {
            "image/png": "[encoded data removed]",
            "text/plain": [
              "<Figure size 432x288 with 1 Axes>"
            ]
          },
          "metadata": {
            "tags": [],
            "needs_background": "light"
          }
        }
      ]
    },
    {
      "cell_type": "markdown",
      "metadata": {
        "id": "cM-w6t_sNyk4"
      },
      "source": [
        "#### Resampling **Timeseries Offset aliases**\n",
        "https://pandas.pydata.org/pandas-docs/stable/user_guide/timeseries.html"
      ]
    },
    {
      "cell_type": "code",
      "metadata": {
        "colab": {
          "base_uri": "https://localhost:8080/",
          "height": 762
        },
        "id": "yVO5PTm6Nx1l",
        "outputId": "9029056a-c201-4fbf-91d6-16d333e3fb11"
      },
      "source": [
        "df.resample(rule='A').mean()"
      ],
      "execution_count": 97,
      "outputs": [
        {
          "output_type": "execute_result",
          "data": {
            "text/html": [
              "<div>\n",
              "<style scoped>\n",
              "    .dataframe tbody tr th:only-of-type {\n",
              "        vertical-align: middle;\n",
              "    }\n",
              "\n",
              "    .dataframe tbody tr th {\n",
              "        vertical-align: top;\n",
              "    }\n",
              "\n",
              "    .dataframe thead th {\n",
              "        text-align: right;\n",
              "    }\n",
              "</style>\n",
              "<table border=\"1\" class=\"dataframe\">\n",
              "  <thead>\n",
              "    <tr style=\"text-align: right;\">\n",
              "      <th></th>\n",
              "      <th>Open</th>\n",
              "      <th>High</th>\n",
              "      <th>Low</th>\n",
              "      <th>Close</th>\n",
              "      <th>Volume</th>\n",
              "      <th>Adj_Close</th>\n",
              "      <th>month</th>\n",
              "    </tr>\n",
              "    <tr>\n",
              "      <th>Date</th>\n",
              "      <th></th>\n",
              "      <th></th>\n",
              "      <th></th>\n",
              "      <th></th>\n",
              "      <th></th>\n",
              "      <th></th>\n",
              "      <th></th>\n",
              "    </tr>\n",
              "  </thead>\n",
              "  <tbody>\n",
              "    <tr>\n",
              "      <th>2000-12-31</th>\n",
              "      <td>2.689380e+05</td>\n",
              "      <td>2.751318e+05</td>\n",
              "      <td>2.628140e+05</td>\n",
              "      <td>2.685097e+05</td>\n",
              "      <td>1.019601e+06</td>\n",
              "      <td>2.362212e+05</td>\n",
              "      <td>6.511628</td>\n",
              "    </tr>\n",
              "    <tr>\n",
              "      <th>2001-12-31</th>\n",
              "      <td>1.992023e+05</td>\n",
              "      <td>2.028755e+05</td>\n",
              "      <td>1.961109e+05</td>\n",
              "      <td>1.996848e+05</td>\n",
              "      <td>6.827475e+05</td>\n",
              "      <td>1.756724e+05</td>\n",
              "      <td>6.575875</td>\n",
              "    </tr>\n",
              "    <tr>\n",
              "      <th>2002-12-31</th>\n",
              "      <td>3.425172e+05</td>\n",
              "      <td>3.477586e+05</td>\n",
              "      <td>3.376092e+05</td>\n",
              "      <td>3.428448e+05</td>\n",
              "      <td>7.852835e+05</td>\n",
              "      <td>3.016176e+05</td>\n",
              "      <td>6.513410</td>\n",
              "    </tr>\n",
              "    <tr>\n",
              "      <th>2003-12-31</th>\n",
              "      <td>3.730345e+05</td>\n",
              "      <td>3.777011e+05</td>\n",
              "      <td>3.685805e+05</td>\n",
              "      <td>3.734119e+05</td>\n",
              "      <td>5.856625e+05</td>\n",
              "      <td>3.285091e+05</td>\n",
              "      <td>6.524904</td>\n",
              "    </tr>\n",
              "    <tr>\n",
              "      <th>2004-12-31</th>\n",
              "      <td>4.837500e+05</td>\n",
              "      <td>4.893626e+05</td>\n",
              "      <td>4.778473e+05</td>\n",
              "      <td>4.837347e+05</td>\n",
              "      <td>5.437412e+05</td>\n",
              "      <td>4.255657e+05</td>\n",
              "      <td>6.534351</td>\n",
              "    </tr>\n",
              "    <tr>\n",
              "      <th>2005-12-31</th>\n",
              "      <td>5.361467e+05</td>\n",
              "      <td>5.412683e+05</td>\n",
              "      <td>5.315907e+05</td>\n",
              "      <td>5.366680e+05</td>\n",
              "      <td>4.115598e+05</td>\n",
              "      <td>4.721338e+05</td>\n",
              "      <td>6.521236</td>\n",
              "    </tr>\n",
              "    <tr>\n",
              "      <th>2006-12-31</th>\n",
              "      <td>6.383508e+05</td>\n",
              "      <td>6.446935e+05</td>\n",
              "      <td>6.317782e+05</td>\n",
              "      <td>6.381210e+05</td>\n",
              "      <td>3.871133e+05</td>\n",
              "      <td>5.616639e+05</td>\n",
              "      <td>6.463710</td>\n",
              "    </tr>\n",
              "    <tr>\n",
              "      <th>2007-12-31</th>\n",
              "      <td>5.780935e+05</td>\n",
              "      <td>5.843455e+05</td>\n",
              "      <td>5.708659e+05</td>\n",
              "      <td>5.773211e+05</td>\n",
              "      <td>5.609003e+05</td>\n",
              "      <td>5.128336e+05</td>\n",
              "      <td>6.447154</td>\n",
              "    </tr>\n",
              "    <tr>\n",
              "      <th>2008-12-31</th>\n",
              "      <td>5.744630e+05</td>\n",
              "      <td>5.836342e+05</td>\n",
              "      <td>5.657374e+05</td>\n",
              "      <td>5.747218e+05</td>\n",
              "      <td>5.565183e+05</td>\n",
              "      <td>5.176654e+05</td>\n",
              "      <td>6.591440</td>\n",
              "    </tr>\n",
              "    <tr>\n",
              "      <th>2009-12-31</th>\n",
              "      <td>6.416838e+05</td>\n",
              "      <td>6.501996e+05</td>\n",
              "      <td>6.331739e+05</td>\n",
              "      <td>6.420178e+05</td>\n",
              "      <td>4.811045e+05</td>\n",
              "      <td>5.852103e+05</td>\n",
              "      <td>6.561265</td>\n",
              "    </tr>\n",
              "    <tr>\n",
              "      <th>2010-12-31</th>\n",
              "      <td>8.040478e+05</td>\n",
              "      <td>8.111873e+05</td>\n",
              "      <td>7.956295e+05</td>\n",
              "      <td>8.035498e+05</td>\n",
              "      <td>3.474410e+05</td>\n",
              "      <td>7.417668e+05</td>\n",
              "      <td>6.573705</td>\n",
              "    </tr>\n",
              "    <tr>\n",
              "      <th>2011-12-31</th>\n",
              "      <td>8.965806e+05</td>\n",
              "      <td>9.073911e+05</td>\n",
              "      <td>8.852258e+05</td>\n",
              "      <td>8.963105e+05</td>\n",
              "      <td>3.951495e+05</td>\n",
              "      <td>8.342120e+05</td>\n",
              "      <td>6.564516</td>\n",
              "    </tr>\n",
              "    <tr>\n",
              "      <th>2012-12-31</th>\n",
              "      <td>1.259024e+06</td>\n",
              "      <td>1.272754e+06</td>\n",
              "      <td>1.246165e+06</td>\n",
              "      <td>1.260730e+06</td>\n",
              "      <td>3.234687e+05</td>\n",
              "      <td>1.179500e+06</td>\n",
              "      <td>6.483871</td>\n",
              "    </tr>\n",
              "    <tr>\n",
              "      <th>2013-12-31</th>\n",
              "      <td>1.430968e+06</td>\n",
              "      <td>1.442547e+06</td>\n",
              "      <td>1.415992e+06</td>\n",
              "      <td>1.428927e+06</td>\n",
              "      <td>2.576676e+05</td>\n",
              "      <td>1.344285e+06</td>\n",
              "      <td>6.473684</td>\n",
              "    </tr>\n",
              "    <tr>\n",
              "      <th>2014-12-31</th>\n",
              "      <td>1.293645e+06</td>\n",
              "      <td>1.304249e+06</td>\n",
              "      <td>1.280669e+06</td>\n",
              "      <td>1.291796e+06</td>\n",
              "      <td>2.497491e+05</td>\n",
              "      <td>1.227838e+06</td>\n",
              "      <td>6.506122</td>\n",
              "    </tr>\n",
              "    <tr>\n",
              "      <th>2015-12-31</th>\n",
              "      <td>1.299337e+06</td>\n",
              "      <td>1.312361e+06</td>\n",
              "      <td>1.285534e+06</td>\n",
              "      <td>1.298570e+06</td>\n",
              "      <td>2.394304e+05</td>\n",
              "      <td>1.253061e+06</td>\n",
              "      <td>6.558233</td>\n",
              "    </tr>\n",
              "    <tr>\n",
              "      <th>2016-12-31</th>\n",
              "      <td>1.436553e+06</td>\n",
              "      <td>1.452817e+06</td>\n",
              "      <td>1.424232e+06</td>\n",
              "      <td>1.440004e+06</td>\n",
              "      <td>2.416429e+05</td>\n",
              "      <td>1.413036e+06</td>\n",
              "      <td>6.569106</td>\n",
              "    </tr>\n",
              "    <tr>\n",
              "      <th>2017-12-31</th>\n",
              "      <td>2.318809e+06</td>\n",
              "      <td>2.341300e+06</td>\n",
              "      <td>2.299259e+06</td>\n",
              "      <td>2.318859e+06</td>\n",
              "      <td>2.301411e+05</td>\n",
              "      <td>2.315560e+06</td>\n",
              "      <td>6.423237</td>\n",
              "    </tr>\n",
              "    <tr>\n",
              "      <th>2018-12-31</th>\n",
              "      <td>7.186932e+05</td>\n",
              "      <td>7.266672e+05</td>\n",
              "      <td>7.097604e+05</td>\n",
              "      <td>7.176195e+05</td>\n",
              "      <td>8.355197e+06</td>\n",
              "      <td>7.176052e+05</td>\n",
              "      <td>6.425101</td>\n",
              "    </tr>\n",
              "    <tr>\n",
              "      <th>2019-12-31</th>\n",
              "      <td>4.639612e+04</td>\n",
              "      <td>4.682224e+04</td>\n",
              "      <td>4.595857e+04</td>\n",
              "      <td>4.642000e+04</td>\n",
              "      <td>1.078203e+07</td>\n",
              "      <td>4.642000e+04</td>\n",
              "      <td>6.530612</td>\n",
              "    </tr>\n",
              "    <tr>\n",
              "      <th>2020-12-31</th>\n",
              "      <td>5.714476e+04</td>\n",
              "      <td>5.782823e+04</td>\n",
              "      <td>5.649859e+04</td>\n",
              "      <td>5.716774e+04</td>\n",
              "      <td>2.169868e+07</td>\n",
              "      <td>5.716774e+04</td>\n",
              "      <td>6.516129</td>\n",
              "    </tr>\n",
              "    <tr>\n",
              "      <th>2021-12-31</th>\n",
              "      <td>8.606000e+04</td>\n",
              "      <td>8.882000e+04</td>\n",
              "      <td>8.527000e+04</td>\n",
              "      <td>8.698000e+04</td>\n",
              "      <td>4.421870e+07</td>\n",
              "      <td>8.698000e+04</td>\n",
              "      <td>1.000000</td>\n",
              "    </tr>\n",
              "  </tbody>\n",
              "</table>\n",
              "</div>"
            ],
            "text/plain": [
              "                    Open          High  ...     Adj_Close     month\n",
              "Date                                    ...                        \n",
              "2000-12-31  2.689380e+05  2.751318e+05  ...  2.362212e+05  6.511628\n",
              "2001-12-31  1.992023e+05  2.028755e+05  ...  1.756724e+05  6.575875\n",
              "2002-12-31  3.425172e+05  3.477586e+05  ...  3.016176e+05  6.513410\n",
              "2003-12-31  3.730345e+05  3.777011e+05  ...  3.285091e+05  6.524904\n",
              "2004-12-31  4.837500e+05  4.893626e+05  ...  4.255657e+05  6.534351\n",
              "2005-12-31  5.361467e+05  5.412683e+05  ...  4.721338e+05  6.521236\n",
              "2006-12-31  6.383508e+05  6.446935e+05  ...  5.616639e+05  6.463710\n",
              "2007-12-31  5.780935e+05  5.843455e+05  ...  5.128336e+05  6.447154\n",
              "2008-12-31  5.744630e+05  5.836342e+05  ...  5.176654e+05  6.591440\n",
              "2009-12-31  6.416838e+05  6.501996e+05  ...  5.852103e+05  6.561265\n",
              "2010-12-31  8.040478e+05  8.111873e+05  ...  7.417668e+05  6.573705\n",
              "2011-12-31  8.965806e+05  9.073911e+05  ...  8.342120e+05  6.564516\n",
              "2012-12-31  1.259024e+06  1.272754e+06  ...  1.179500e+06  6.483871\n",
              "2013-12-31  1.430968e+06  1.442547e+06  ...  1.344285e+06  6.473684\n",
              "2014-12-31  1.293645e+06  1.304249e+06  ...  1.227838e+06  6.506122\n",
              "2015-12-31  1.299337e+06  1.312361e+06  ...  1.253061e+06  6.558233\n",
              "2016-12-31  1.436553e+06  1.452817e+06  ...  1.413036e+06  6.569106\n",
              "2017-12-31  2.318809e+06  2.341300e+06  ...  2.315560e+06  6.423237\n",
              "2018-12-31  7.186932e+05  7.266672e+05  ...  7.176052e+05  6.425101\n",
              "2019-12-31  4.639612e+04  4.682224e+04  ...  4.642000e+04  6.530612\n",
              "2020-12-31  5.714476e+04  5.782823e+04  ...  5.716774e+04  6.516129\n",
              "2021-12-31  8.606000e+04  8.882000e+04  ...  8.698000e+04  1.000000\n",
              "\n",
              "[22 rows x 7 columns]"
            ]
          },
          "metadata": {
            "tags": []
          },
          "execution_count": 97
        }
      ]
    },
    {
      "cell_type": "code",
      "metadata": {
        "colab": {
          "base_uri": "https://localhost:8080/",
          "height": 297
        },
        "id": "EXQQeRK55FyS",
        "outputId": "5868fc1e-c42a-4483-f3e0-9d326f8b9cb5"
      },
      "source": [
        "df['Close'].plot()"
      ],
      "execution_count": 98,
      "outputs": [
        {
          "output_type": "execute_result",
          "data": {
            "text/plain": [
              "<matplotlib.axes._subplots.AxesSubplot at 0x7ff0f1a0fb70>"
            ]
          },
          "metadata": {
            "tags": []
          },
          "execution_count": 98
        },
        {
          "output_type": "display_data",
          "data": {
            "image/png": "[encoded data removed]",
            "text/plain": [
              "<Figure size 432x288 with 1 Axes>"
            ]
          },
          "metadata": {
            "tags": [],
            "needs_background": "light"
          }
        }
      ]
    },
    {
      "cell_type": "code",
      "metadata": {
        "id": "plC2zPBhQkb5"
      },
      "source": [
        "def first_day(sample):\n",
        "  return sample(0)"
      ],
      "execution_count": 84,
      "outputs": []
    },
    {
      "cell_type": "code",
      "metadata": {
        "colab": {
          "base_uri": "https://localhost:8080/",
          "height": 181
        },
        "id": "yKLr7jY1QRSJ",
        "outputId": "9d4ae8bd-d5fd-4818-edc7-b59920e4129c"
      },
      "source": [
        "df.resample(rule='A').apply()\n",
        "df"
      ],
      "execution_count": 86,
      "outputs": [
        {
          "output_type": "error",
          "ename": "TypeError",
          "evalue": "ignored",
          "traceback": [
            "\u001b[0;31m---------------------------------------------------------------------------\u001b[0m",
            "\u001b[0;31mTypeError\u001b[0m                                 Traceback (most recent call last)",
            "\u001b[0;32m<ipython-input-86-a74774c14dda>\u001b[0m in \u001b[0;36m<module>\u001b[0;34m()\u001b[0m\n\u001b[0;32m----> 1\u001b[0;31m \u001b[0mdf\u001b[0m\u001b[0;34m.\u001b[0m\u001b[0mresample\u001b[0m\u001b[0;34m(\u001b[0m\u001b[0mrule\u001b[0m\u001b[0;34m=\u001b[0m\u001b[0;34m'A'\u001b[0m\u001b[0;34m)\u001b[0m\u001b[0;34m.\u001b[0m\u001b[0mapply\u001b[0m\u001b[0;34m(\u001b[0m\u001b[0;34m)\u001b[0m\u001b[0;34m\u001b[0m\u001b[0;34m\u001b[0m\u001b[0m\n\u001b[0m\u001b[1;32m      2\u001b[0m \u001b[0mdf\u001b[0m\u001b[0;34m\u001b[0m\u001b[0;34m\u001b[0m\u001b[0m\n",
            "\u001b[0;31mTypeError\u001b[0m: aggregate() missing 1 required positional argument: 'func'"
          ]
        }
      ]
    },
    {
      "cell_type": "code",
      "metadata": {
        "colab": {
          "base_uri": "https://localhost:8080/",
          "height": 402
        },
        "id": "QVgLBXIURvcN",
        "outputId": "74f3770f-0c7f-4c11-a4a3-389c37ce4fc3"
      },
      "source": [
        "df['Close'].resample(rule='A').mean().plot(kind='bar')"
      ],
      "execution_count": 99,
      "outputs": [
        {
          "output_type": "execute_result",
          "data": {
            "text/plain": [
              "<matplotlib.axes._subplots.AxesSubplot at 0x7ff0f1775ef0>"
            ]
          },
          "metadata": {
            "tags": []
          },
          "execution_count": 99
        },
        {
          "output_type": "display_data",
          "data": {
            "image/png": "[encoded data removed]",
            "text/plain": [
              "<Figure size 432x288 with 1 Axes>"
            ]
          },
          "metadata": {
            "tags": [],
            "needs_background": "light"
          }
        }
      ]
    },
    {
      "cell_type": "code",
      "metadata": {
        "colab": {
          "base_uri": "https://localhost:8080/",
          "height": 525
        },
        "id": "OqefH0j_SGsd",
        "outputId": "a4f33f5e-2911-4e35-f8cf-b2729e068639"
      },
      "source": [
        "# 오픈 가격의 월별 최대값을 bar차트로 그려라\n",
        "df['Open']['2019-2' : '2021-1'].resample(rule='M').max().plot(figsize=(15,8))"
      ],
      "execution_count": 103,
      "outputs": [
        {
          "output_type": "execute_result",
          "data": {
            "text/plain": [
              "<matplotlib.axes._subplots.AxesSubplot at 0x7ff0f12c74e0>"
            ]
          },
          "metadata": {
            "tags": []
          },
          "execution_count": 103
        },
        {
          "output_type": "display_data",
          "data": {
            "image/png": "[encoded data removed]",
            "text/plain": [
              "<Figure size 1080x576 with 1 Axes>"
            ]
          },
          "metadata": {
            "tags": [],
            "needs_background": "light"
          }
        }
      ]
    },
    {
      "cell_type": "code",
      "metadata": {
        "colab": {
          "base_uri": "https://localhost:8080/"
        },
        "id": "E1UeMautT1Y4",
        "outputId": "559a7d45-9a1a-40d0-d4e6-8c0727da0edb"
      },
      "source": [
        "# 적용된 기간의 비즈니스일 뽑아내기 \n",
        "daily_daterange = pd.date_range(start=datetime(2020,9,1), end=datetime(2021,1,15), freq='B')\n",
        "\n",
        "daily_daterange\n"
      ],
      "execution_count": 108,
      "outputs": [
        {
          "output_type": "execute_result",
          "data": {
            "text/plain": [
              "DatetimeIndex(['2020-09-01', '2020-09-02', '2020-09-03', '2020-09-04',\n",
              "               '2020-09-07', '2020-09-08', '2020-09-09', '2020-09-10',\n",
              "               '2020-09-11', '2020-09-14', '2020-09-15', '2020-09-16',\n",
              "               '2020-09-17', '2020-09-18', '2020-09-21', '2020-09-22',\n",
              "               '2020-09-23', '2020-09-24', '2020-09-25', '2020-09-28',\n",
              "               '2020-09-29', '2020-09-30', '2020-10-01', '2020-10-02',\n",
              "               '2020-10-05', '2020-10-06', '2020-10-07', '2020-10-08',\n",
              "               '2020-10-09', '2020-10-12', '2020-10-13', '2020-10-14',\n",
              "               '2020-10-15', '2020-10-16', '2020-10-19', '2020-10-20',\n",
              "               '2020-10-21', '2020-10-22', '2020-10-23', '2020-10-26',\n",
              "               '2020-10-27', '2020-10-28', '2020-10-29', '2020-10-30',\n",
              "               '2020-11-02', '2020-11-03', '2020-11-04', '2020-11-05',\n",
              "               '2020-11-06', '2020-11-09', '2020-11-10', '2020-11-11',\n",
              "               '2020-11-12', '2020-11-13', '2020-11-16', '2020-11-17',\n",
              "               '2020-11-18', '2020-11-19', '2020-11-20', '2020-11-23',\n",
              "               '2020-11-24', '2020-11-25', '2020-11-26', '2020-11-27',\n",
              "               '2020-11-30', '2020-12-01', '2020-12-02', '2020-12-03',\n",
              "               '2020-12-04', '2020-12-07', '2020-12-08', '2020-12-09',\n",
              "               '2020-12-10', '2020-12-11', '2020-12-14', '2020-12-15',\n",
              "               '2020-12-16', '2020-12-17', '2020-12-18', '2020-12-21',\n",
              "               '2020-12-22', '2020-12-23', '2020-12-24', '2020-12-25',\n",
              "               '2020-12-28', '2020-12-29', '2020-12-30', '2020-12-31',\n",
              "               '2021-01-01', '2021-01-04', '2021-01-05', '2021-01-06',\n",
              "               '2021-01-07', '2021-01-08', '2021-01-11', '2021-01-12',\n",
              "               '2021-01-13', '2021-01-14', '2021-01-15'],\n",
              "              dtype='datetime64[ns]', freq='B')"
            ]
          },
          "metadata": {
            "tags": []
          },
          "execution_count": 108
        }
      ]
    },
    {
      "cell_type": "code",
      "metadata": {
        "colab": {
          "base_uri": "https://localhost:8080/",
          "height": 419
        },
        "id": "05JQNrDWb1Ia",
        "outputId": "3c22eaa8-404d-41c9-8c03-a44dce6d3feb"
      },
      "source": [
        "# 적용된 비즈니스일에 대한 랜덤 데이터 만들기 \n",
        "daily_dataset = pd.DataFrame(data={'value': np.random.rand(len(daily_daterange))}, index=daily_daterange)\n",
        "daily_dataset"
      ],
      "execution_count": 111,
      "outputs": [
        {
          "output_type": "execute_result",
          "data": {
            "text/html": [
              "<div>\n",
              "<style scoped>\n",
              "    .dataframe tbody tr th:only-of-type {\n",
              "        vertical-align: middle;\n",
              "    }\n",
              "\n",
              "    .dataframe tbody tr th {\n",
              "        vertical-align: top;\n",
              "    }\n",
              "\n",
              "    .dataframe thead th {\n",
              "        text-align: right;\n",
              "    }\n",
              "</style>\n",
              "<table border=\"1\" class=\"dataframe\">\n",
              "  <thead>\n",
              "    <tr style=\"text-align: right;\">\n",
              "      <th></th>\n",
              "      <th>value</th>\n",
              "    </tr>\n",
              "  </thead>\n",
              "  <tbody>\n",
              "    <tr>\n",
              "      <th>2020-09-01</th>\n",
              "      <td>0.379234</td>\n",
              "    </tr>\n",
              "    <tr>\n",
              "      <th>2020-09-02</th>\n",
              "      <td>0.636163</td>\n",
              "    </tr>\n",
              "    <tr>\n",
              "      <th>2020-09-03</th>\n",
              "      <td>0.457636</td>\n",
              "    </tr>\n",
              "    <tr>\n",
              "      <th>2020-09-04</th>\n",
              "      <td>0.577140</td>\n",
              "    </tr>\n",
              "    <tr>\n",
              "      <th>2020-09-07</th>\n",
              "      <td>0.578652</td>\n",
              "    </tr>\n",
              "    <tr>\n",
              "      <th>...</th>\n",
              "      <td>...</td>\n",
              "    </tr>\n",
              "    <tr>\n",
              "      <th>2021-01-11</th>\n",
              "      <td>0.590981</td>\n",
              "    </tr>\n",
              "    <tr>\n",
              "      <th>2021-01-12</th>\n",
              "      <td>0.717533</td>\n",
              "    </tr>\n",
              "    <tr>\n",
              "      <th>2021-01-13</th>\n",
              "      <td>0.455869</td>\n",
              "    </tr>\n",
              "    <tr>\n",
              "      <th>2021-01-14</th>\n",
              "      <td>0.006866</td>\n",
              "    </tr>\n",
              "    <tr>\n",
              "      <th>2021-01-15</th>\n",
              "      <td>0.423232</td>\n",
              "    </tr>\n",
              "  </tbody>\n",
              "</table>\n",
              "<p>99 rows × 1 columns</p>\n",
              "</div>"
            ],
            "text/plain": [
              "               value\n",
              "2020-09-01  0.379234\n",
              "2020-09-02  0.636163\n",
              "2020-09-03  0.457636\n",
              "2020-09-04  0.577140\n",
              "2020-09-07  0.578652\n",
              "...              ...\n",
              "2021-01-11  0.590981\n",
              "2021-01-12  0.717533\n",
              "2021-01-13  0.455869\n",
              "2021-01-14  0.006866\n",
              "2021-01-15  0.423232\n",
              "\n",
              "[99 rows x 1 columns]"
            ]
          },
          "metadata": {
            "tags": []
          },
          "execution_count": 111
        }
      ]
    },
    {
      "cell_type": "code",
      "metadata": {
        "colab": {
          "base_uri": "https://localhost:8080/",
          "height": 669
        },
        "id": "TzfFC9lidnBn",
        "outputId": "4a1310f5-aaa7-40c1-fbe5-45fa507d7654"
      },
      "source": [
        "# 데이터 중 주중 월요일의 최소값 뽑기\n",
        "daily_dataset.resample('W-MON').min()"
      ],
      "execution_count": 112,
      "outputs": [
        {
          "output_type": "execute_result",
          "data": {
            "text/html": [
              "<div>\n",
              "<style scoped>\n",
              "    .dataframe tbody tr th:only-of-type {\n",
              "        vertical-align: middle;\n",
              "    }\n",
              "\n",
              "    .dataframe tbody tr th {\n",
              "        vertical-align: top;\n",
              "    }\n",
              "\n",
              "    .dataframe thead th {\n",
              "        text-align: right;\n",
              "    }\n",
              "</style>\n",
              "<table border=\"1\" class=\"dataframe\">\n",
              "  <thead>\n",
              "    <tr style=\"text-align: right;\">\n",
              "      <th></th>\n",
              "      <th>value</th>\n",
              "    </tr>\n",
              "  </thead>\n",
              "  <tbody>\n",
              "    <tr>\n",
              "      <th>2020-09-07</th>\n",
              "      <td>0.379234</td>\n",
              "    </tr>\n",
              "    <tr>\n",
              "      <th>2020-09-14</th>\n",
              "      <td>0.004671</td>\n",
              "    </tr>\n",
              "    <tr>\n",
              "      <th>2020-09-21</th>\n",
              "      <td>0.134522</td>\n",
              "    </tr>\n",
              "    <tr>\n",
              "      <th>2020-09-28</th>\n",
              "      <td>0.075612</td>\n",
              "    </tr>\n",
              "    <tr>\n",
              "      <th>2020-10-05</th>\n",
              "      <td>0.348968</td>\n",
              "    </tr>\n",
              "    <tr>\n",
              "      <th>2020-10-12</th>\n",
              "      <td>0.123900</td>\n",
              "    </tr>\n",
              "    <tr>\n",
              "      <th>2020-10-19</th>\n",
              "      <td>0.181979</td>\n",
              "    </tr>\n",
              "    <tr>\n",
              "      <th>2020-10-26</th>\n",
              "      <td>0.204577</td>\n",
              "    </tr>\n",
              "    <tr>\n",
              "      <th>2020-11-02</th>\n",
              "      <td>0.068921</td>\n",
              "    </tr>\n",
              "    <tr>\n",
              "      <th>2020-11-09</th>\n",
              "      <td>0.043324</td>\n",
              "    </tr>\n",
              "    <tr>\n",
              "      <th>2020-11-16</th>\n",
              "      <td>0.020219</td>\n",
              "    </tr>\n",
              "    <tr>\n",
              "      <th>2020-11-23</th>\n",
              "      <td>0.261145</td>\n",
              "    </tr>\n",
              "    <tr>\n",
              "      <th>2020-11-30</th>\n",
              "      <td>0.027234</td>\n",
              "    </tr>\n",
              "    <tr>\n",
              "      <th>2020-12-07</th>\n",
              "      <td>0.207487</td>\n",
              "    </tr>\n",
              "    <tr>\n",
              "      <th>2020-12-14</th>\n",
              "      <td>0.078670</td>\n",
              "    </tr>\n",
              "    <tr>\n",
              "      <th>2020-12-21</th>\n",
              "      <td>0.022485</td>\n",
              "    </tr>\n",
              "    <tr>\n",
              "      <th>2020-12-28</th>\n",
              "      <td>0.315836</td>\n",
              "    </tr>\n",
              "    <tr>\n",
              "      <th>2021-01-04</th>\n",
              "      <td>0.155308</td>\n",
              "    </tr>\n",
              "    <tr>\n",
              "      <th>2021-01-11</th>\n",
              "      <td>0.019111</td>\n",
              "    </tr>\n",
              "    <tr>\n",
              "      <th>2021-01-18</th>\n",
              "      <td>0.006866</td>\n",
              "    </tr>\n",
              "  </tbody>\n",
              "</table>\n",
              "</div>"
            ],
            "text/plain": [
              "               value\n",
              "2020-09-07  0.379234\n",
              "2020-09-14  0.004671\n",
              "2020-09-21  0.134522\n",
              "2020-09-28  0.075612\n",
              "2020-10-05  0.348968\n",
              "2020-10-12  0.123900\n",
              "2020-10-19  0.181979\n",
              "2020-10-26  0.204577\n",
              "2020-11-02  0.068921\n",
              "2020-11-09  0.043324\n",
              "2020-11-16  0.020219\n",
              "2020-11-23  0.261145\n",
              "2020-11-30  0.027234\n",
              "2020-12-07  0.207487\n",
              "2020-12-14  0.078670\n",
              "2020-12-21  0.022485\n",
              "2020-12-28  0.315836\n",
              "2021-01-04  0.155308\n",
              "2021-01-11  0.019111\n",
              "2021-01-18  0.006866"
            ]
          },
          "metadata": {
            "tags": []
          },
          "execution_count": 112
        }
      ]
    },
    {
      "cell_type": "code",
      "metadata": {
        "colab": {
          "base_uri": "https://localhost:8080/",
          "height": 204
        },
        "id": "GyoWgTRCeTZh",
        "outputId": "76c24279-bf76-46f5-d3f1-c26a59031d8e"
      },
      "source": [
        "# calendar month end 의 최소값\n",
        "daily_dataset.resample('M').min()"
      ],
      "execution_count": 113,
      "outputs": [
        {
          "output_type": "execute_result",
          "data": {
            "text/html": [
              "<div>\n",
              "<style scoped>\n",
              "    .dataframe tbody tr th:only-of-type {\n",
              "        vertical-align: middle;\n",
              "    }\n",
              "\n",
              "    .dataframe tbody tr th {\n",
              "        vertical-align: top;\n",
              "    }\n",
              "\n",
              "    .dataframe thead th {\n",
              "        text-align: right;\n",
              "    }\n",
              "</style>\n",
              "<table border=\"1\" class=\"dataframe\">\n",
              "  <thead>\n",
              "    <tr style=\"text-align: right;\">\n",
              "      <th></th>\n",
              "      <th>value</th>\n",
              "    </tr>\n",
              "  </thead>\n",
              "  <tbody>\n",
              "    <tr>\n",
              "      <th>2020-09-30</th>\n",
              "      <td>0.004671</td>\n",
              "    </tr>\n",
              "    <tr>\n",
              "      <th>2020-10-31</th>\n",
              "      <td>0.068921</td>\n",
              "    </tr>\n",
              "    <tr>\n",
              "      <th>2020-11-30</th>\n",
              "      <td>0.020219</td>\n",
              "    </tr>\n",
              "    <tr>\n",
              "      <th>2020-12-31</th>\n",
              "      <td>0.022485</td>\n",
              "    </tr>\n",
              "    <tr>\n",
              "      <th>2021-01-31</th>\n",
              "      <td>0.006866</td>\n",
              "    </tr>\n",
              "  </tbody>\n",
              "</table>\n",
              "</div>"
            ],
            "text/plain": [
              "               value\n",
              "2020-09-30  0.004671\n",
              "2020-10-31  0.068921\n",
              "2020-11-30  0.020219\n",
              "2020-12-31  0.022485\n",
              "2021-01-31  0.006866"
            ]
          },
          "metadata": {
            "tags": []
          },
          "execution_count": 113
        }
      ]
    },
    {
      "cell_type": "code",
      "metadata": {
        "colab": {
          "base_uri": "https://localhost:8080/",
          "height": 204
        },
        "id": "PvDqGuy-7w09",
        "outputId": "181f837e-d837-4f69-8e20-1b6eca78aae6"
      },
      "source": [
        "daily_dataset.resample('M').min()"
      ],
      "execution_count": 115,
      "outputs": [
        {
          "output_type": "execute_result",
          "data": {
            "text/html": [
              "<div>\n",
              "<style scoped>\n",
              "    .dataframe tbody tr th:only-of-type {\n",
              "        vertical-align: middle;\n",
              "    }\n",
              "\n",
              "    .dataframe tbody tr th {\n",
              "        vertical-align: top;\n",
              "    }\n",
              "\n",
              "    .dataframe thead th {\n",
              "        text-align: right;\n",
              "    }\n",
              "</style>\n",
              "<table border=\"1\" class=\"dataframe\">\n",
              "  <thead>\n",
              "    <tr style=\"text-align: right;\">\n",
              "      <th></th>\n",
              "      <th>value</th>\n",
              "    </tr>\n",
              "  </thead>\n",
              "  <tbody>\n",
              "    <tr>\n",
              "      <th>2020-09-30</th>\n",
              "      <td>0.004671</td>\n",
              "    </tr>\n",
              "    <tr>\n",
              "      <th>2020-10-31</th>\n",
              "      <td>0.068921</td>\n",
              "    </tr>\n",
              "    <tr>\n",
              "      <th>2020-11-30</th>\n",
              "      <td>0.020219</td>\n",
              "    </tr>\n",
              "    <tr>\n",
              "      <th>2020-12-31</th>\n",
              "      <td>0.022485</td>\n",
              "    </tr>\n",
              "    <tr>\n",
              "      <th>2021-01-31</th>\n",
              "      <td>0.006866</td>\n",
              "    </tr>\n",
              "  </tbody>\n",
              "</table>\n",
              "</div>"
            ],
            "text/plain": [
              "               value\n",
              "2020-09-30  0.004671\n",
              "2020-10-31  0.068921\n",
              "2020-11-30  0.020219\n",
              "2020-12-31  0.022485\n",
              "2021-01-31  0.006866"
            ]
          },
          "metadata": {
            "tags": []
          },
          "execution_count": 115
        }
      ]
    },
    {
      "cell_type": "markdown",
      "metadata": {
        "id": "_1WXz5km9YIL"
      },
      "source": [
        "### Shifting "
      ]
    },
    {
      "cell_type": "code",
      "metadata": {
        "id": "JPKBBij09jXb"
      },
      "source": [
        "df = pd.read_csv('/content/drive/MyDrive/Colab Notebooks/Korea_Stocks_Full/005930.csv', index_col='Date')\n"
      ],
      "execution_count": 150,
      "outputs": []
    },
    {
      "cell_type": "code",
      "metadata": {
        "colab": {
          "base_uri": "https://localhost:8080/"
        },
        "id": "-zPUjZic-d4O",
        "outputId": "4033b9c1-1e1f-4879-8050-20deb7922aa1"
      },
      "source": [
        "df.index"
      ],
      "execution_count": 151,
      "outputs": [
        {
          "output_type": "execute_result",
          "data": {
            "text/plain": [
              "Index(['2000-01-04', '2000-01-05', '2000-01-06', '2000-01-07', '2000-01-10',\n",
              "       '2000-01-11', '2000-01-12', '2000-01-13', '2000-01-14', '2000-01-17',\n",
              "       ...\n",
              "       '2021-01-04', '2021-01-05', '2021-01-06', '2021-01-07', '2021-01-08',\n",
              "       '2021-01-11', '2021-01-12', '2021-01-13', '2021-01-14', '2021-01-15'],\n",
              "      dtype='object', name='Date', length=5287)"
            ]
          },
          "metadata": {
            "tags": []
          },
          "execution_count": 151
        }
      ]
    },
    {
      "cell_type": "code",
      "metadata": {
        "colab": {
          "base_uri": "https://localhost:8080/"
        },
        "id": "Xt2BxCp0_UJk",
        "outputId": "51def771-dd6a-462b-c7d8-716b163f875d"
      },
      "source": [
        "# Date 인덱스 칼럼을 Datetime으로  바꾸는 방법\n",
        "# df['Date']= df['Date'].apply(pd.to_datetime)\n",
        "df.index = pd.to_datetime(df.index)\n",
        "df.index"
      ],
      "execution_count": 152,
      "outputs": [
        {
          "output_type": "execute_result",
          "data": {
            "text/plain": [
              "DatetimeIndex(['2000-01-04', '2000-01-05', '2000-01-06', '2000-01-07',\n",
              "               '2000-01-10', '2000-01-11', '2000-01-12', '2000-01-13',\n",
              "               '2000-01-14', '2000-01-17',\n",
              "               ...\n",
              "               '2021-01-04', '2021-01-05', '2021-01-06', '2021-01-07',\n",
              "               '2021-01-08', '2021-01-11', '2021-01-12', '2021-01-13',\n",
              "               '2021-01-14', '2021-01-15'],\n",
              "              dtype='datetime64[ns]', name='Date', length=5287, freq=None)"
            ]
          },
          "metadata": {
            "tags": []
          },
          "execution_count": 152
        }
      ]
    },
    {
      "cell_type": "code",
      "metadata": {
        "colab": {
          "base_uri": "https://localhost:8080/",
          "height": 235
        },
        "id": "9vUbix4bATCZ",
        "outputId": "f217ebe2-71a9-4e97-a4c0-d274e67eea48"
      },
      "source": [
        "df.head()"
      ],
      "execution_count": 153,
      "outputs": [
        {
          "output_type": "execute_result",
          "data": {
            "text/html": [
              "<div>\n",
              "<style scoped>\n",
              "    .dataframe tbody tr th:only-of-type {\n",
              "        vertical-align: middle;\n",
              "    }\n",
              "\n",
              "    .dataframe tbody tr th {\n",
              "        vertical-align: top;\n",
              "    }\n",
              "\n",
              "    .dataframe thead th {\n",
              "        text-align: right;\n",
              "    }\n",
              "</style>\n",
              "<table border=\"1\" class=\"dataframe\">\n",
              "  <thead>\n",
              "    <tr style=\"text-align: right;\">\n",
              "      <th></th>\n",
              "      <th>Open</th>\n",
              "      <th>High</th>\n",
              "      <th>Low</th>\n",
              "      <th>Close</th>\n",
              "      <th>Volume</th>\n",
              "      <th>Adj_Close</th>\n",
              "    </tr>\n",
              "    <tr>\n",
              "      <th>Date</th>\n",
              "      <th></th>\n",
              "      <th></th>\n",
              "      <th></th>\n",
              "      <th></th>\n",
              "      <th></th>\n",
              "      <th></th>\n",
              "    </tr>\n",
              "  </thead>\n",
              "  <tbody>\n",
              "    <tr>\n",
              "      <th>2000-01-04</th>\n",
              "      <td>300000</td>\n",
              "      <td>305500</td>\n",
              "      <td>283000</td>\n",
              "      <td>305500</td>\n",
              "      <td>1483900</td>\n",
              "      <td>268763</td>\n",
              "    </tr>\n",
              "    <tr>\n",
              "      <th>2000-01-05</th>\n",
              "      <td>290000</td>\n",
              "      <td>303000</td>\n",
              "      <td>276000</td>\n",
              "      <td>279000</td>\n",
              "      <td>1493600</td>\n",
              "      <td>245450</td>\n",
              "    </tr>\n",
              "    <tr>\n",
              "      <th>2000-01-06</th>\n",
              "      <td>287500</td>\n",
              "      <td>289000</td>\n",
              "      <td>279000</td>\n",
              "      <td>281000</td>\n",
              "      <td>1087800</td>\n",
              "      <td>247210</td>\n",
              "    </tr>\n",
              "    <tr>\n",
              "      <th>2000-01-07</th>\n",
              "      <td>278000</td>\n",
              "      <td>283500</td>\n",
              "      <td>268000</td>\n",
              "      <td>277000</td>\n",
              "      <td>806100</td>\n",
              "      <td>243691</td>\n",
              "    </tr>\n",
              "    <tr>\n",
              "      <th>2000-01-10</th>\n",
              "      <td>280000</td>\n",
              "      <td>288500</td>\n",
              "      <td>279000</td>\n",
              "      <td>288500</td>\n",
              "      <td>937600</td>\n",
              "      <td>253808</td>\n",
              "    </tr>\n",
              "  </tbody>\n",
              "</table>\n",
              "</div>"
            ],
            "text/plain": [
              "              Open    High     Low   Close   Volume  Adj_Close\n",
              "Date                                                          \n",
              "2000-01-04  300000  305500  283000  305500  1483900     268763\n",
              "2000-01-05  290000  303000  276000  279000  1493600     245450\n",
              "2000-01-06  287500  289000  279000  281000  1087800     247210\n",
              "2000-01-07  278000  283500  268000  277000   806100     243691\n",
              "2000-01-10  280000  288500  279000  288500   937600     253808"
            ]
          },
          "metadata": {
            "tags": []
          },
          "execution_count": 153
        }
      ]
    },
    {
      "cell_type": "code",
      "metadata": {
        "id": "yjJBteuXAuVg"
      },
      "source": [
        "temp = np.array(df['Close'])"
      ],
      "execution_count": 154,
      "outputs": []
    },
    {
      "cell_type": "code",
      "metadata": {
        "colab": {
          "base_uri": "https://localhost:8080/"
        },
        "id": "oXzfyxPqBBAI",
        "outputId": "77a775e4-4d98-4733-a698-3832724024fc"
      },
      "source": [
        "temp"
      ],
      "execution_count": 161,
      "outputs": [
        {
          "output_type": "execute_result",
          "data": {
            "text/plain": [
              "array([305500, 279000, 281000, ...,  89700,  89700,  88000])"
            ]
          },
          "metadata": {
            "tags": []
          },
          "execution_count": 161
        }
      ]
    },
    {
      "cell_type": "code",
      "metadata": {
        "colab": {
          "base_uri": "https://localhost:8080/",
          "height": 235
        },
        "id": "ctC6nxVZ_qeD",
        "outputId": "b9c4956d-a48d-4f06-bff4-53e782d50f48"
      },
      "source": [
        "df.shift(1).head()"
      ],
      "execution_count": 162,
      "outputs": [
        {
          "output_type": "execute_result",
          "data": {
            "text/html": [
              "<div>\n",
              "<style scoped>\n",
              "    .dataframe tbody tr th:only-of-type {\n",
              "        vertical-align: middle;\n",
              "    }\n",
              "\n",
              "    .dataframe tbody tr th {\n",
              "        vertical-align: top;\n",
              "    }\n",
              "\n",
              "    .dataframe thead th {\n",
              "        text-align: right;\n",
              "    }\n",
              "</style>\n",
              "<table border=\"1\" class=\"dataframe\">\n",
              "  <thead>\n",
              "    <tr style=\"text-align: right;\">\n",
              "      <th></th>\n",
              "      <th>Open</th>\n",
              "      <th>High</th>\n",
              "      <th>Low</th>\n",
              "      <th>Close</th>\n",
              "      <th>Volume</th>\n",
              "      <th>Adj_Close</th>\n",
              "    </tr>\n",
              "    <tr>\n",
              "      <th>Date</th>\n",
              "      <th></th>\n",
              "      <th></th>\n",
              "      <th></th>\n",
              "      <th></th>\n",
              "      <th></th>\n",
              "      <th></th>\n",
              "    </tr>\n",
              "  </thead>\n",
              "  <tbody>\n",
              "    <tr>\n",
              "      <th>2000-01-04</th>\n",
              "      <td>NaN</td>\n",
              "      <td>NaN</td>\n",
              "      <td>NaN</td>\n",
              "      <td>NaN</td>\n",
              "      <td>NaN</td>\n",
              "      <td>NaN</td>\n",
              "    </tr>\n",
              "    <tr>\n",
              "      <th>2000-01-05</th>\n",
              "      <td>300000.0</td>\n",
              "      <td>305500.0</td>\n",
              "      <td>283000.0</td>\n",
              "      <td>305500.0</td>\n",
              "      <td>1483900.0</td>\n",
              "      <td>268763.0</td>\n",
              "    </tr>\n",
              "    <tr>\n",
              "      <th>2000-01-06</th>\n",
              "      <td>290000.0</td>\n",
              "      <td>303000.0</td>\n",
              "      <td>276000.0</td>\n",
              "      <td>279000.0</td>\n",
              "      <td>1493600.0</td>\n",
              "      <td>245450.0</td>\n",
              "    </tr>\n",
              "    <tr>\n",
              "      <th>2000-01-07</th>\n",
              "      <td>287500.0</td>\n",
              "      <td>289000.0</td>\n",
              "      <td>279000.0</td>\n",
              "      <td>281000.0</td>\n",
              "      <td>1087800.0</td>\n",
              "      <td>247210.0</td>\n",
              "    </tr>\n",
              "    <tr>\n",
              "      <th>2000-01-10</th>\n",
              "      <td>278000.0</td>\n",
              "      <td>283500.0</td>\n",
              "      <td>268000.0</td>\n",
              "      <td>277000.0</td>\n",
              "      <td>806100.0</td>\n",
              "      <td>243691.0</td>\n",
              "    </tr>\n",
              "  </tbody>\n",
              "</table>\n",
              "</div>"
            ],
            "text/plain": [
              "                Open      High       Low     Close     Volume  Adj_Close\n",
              "Date                                                                    \n",
              "2000-01-04       NaN       NaN       NaN       NaN        NaN        NaN\n",
              "2000-01-05  300000.0  305500.0  283000.0  305500.0  1483900.0   268763.0\n",
              "2000-01-06  290000.0  303000.0  276000.0  279000.0  1493600.0   245450.0\n",
              "2000-01-07  287500.0  289000.0  279000.0  281000.0  1087800.0   247210.0\n",
              "2000-01-10  278000.0  283500.0  268000.0  277000.0   806100.0   243691.0"
            ]
          },
          "metadata": {
            "tags": []
          },
          "execution_count": 162
        }
      ]
    },
    {
      "cell_type": "code",
      "metadata": {
        "colab": {
          "base_uri": "https://localhost:8080/",
          "height": 235
        },
        "id": "wI28rS_pBrzk",
        "outputId": "9015dcb5-130a-4fe9-f01a-40a0ef62a718"
      },
      "source": [
        "df.shift(-1).head()"
      ],
      "execution_count": 160,
      "outputs": [
        {
          "output_type": "execute_result",
          "data": {
            "text/html": [
              "<div>\n",
              "<style scoped>\n",
              "    .dataframe tbody tr th:only-of-type {\n",
              "        vertical-align: middle;\n",
              "    }\n",
              "\n",
              "    .dataframe tbody tr th {\n",
              "        vertical-align: top;\n",
              "    }\n",
              "\n",
              "    .dataframe thead th {\n",
              "        text-align: right;\n",
              "    }\n",
              "</style>\n",
              "<table border=\"1\" class=\"dataframe\">\n",
              "  <thead>\n",
              "    <tr style=\"text-align: right;\">\n",
              "      <th></th>\n",
              "      <th>Open</th>\n",
              "      <th>High</th>\n",
              "      <th>Low</th>\n",
              "      <th>Close</th>\n",
              "      <th>Volume</th>\n",
              "      <th>Adj_Close</th>\n",
              "    </tr>\n",
              "    <tr>\n",
              "      <th>Date</th>\n",
              "      <th></th>\n",
              "      <th></th>\n",
              "      <th></th>\n",
              "      <th></th>\n",
              "      <th></th>\n",
              "      <th></th>\n",
              "    </tr>\n",
              "  </thead>\n",
              "  <tbody>\n",
              "    <tr>\n",
              "      <th>2000-01-04</th>\n",
              "      <td>290000.0</td>\n",
              "      <td>303000.0</td>\n",
              "      <td>276000.0</td>\n",
              "      <td>279000.0</td>\n",
              "      <td>1493600.0</td>\n",
              "      <td>245450.0</td>\n",
              "    </tr>\n",
              "    <tr>\n",
              "      <th>2000-01-05</th>\n",
              "      <td>287500.0</td>\n",
              "      <td>289000.0</td>\n",
              "      <td>279000.0</td>\n",
              "      <td>281000.0</td>\n",
              "      <td>1087800.0</td>\n",
              "      <td>247210.0</td>\n",
              "    </tr>\n",
              "    <tr>\n",
              "      <th>2000-01-06</th>\n",
              "      <td>278000.0</td>\n",
              "      <td>283500.0</td>\n",
              "      <td>268000.0</td>\n",
              "      <td>277000.0</td>\n",
              "      <td>806100.0</td>\n",
              "      <td>243691.0</td>\n",
              "    </tr>\n",
              "    <tr>\n",
              "      <th>2000-01-07</th>\n",
              "      <td>280000.0</td>\n",
              "      <td>288500.0</td>\n",
              "      <td>279000.0</td>\n",
              "      <td>288500.0</td>\n",
              "      <td>937600.0</td>\n",
              "      <td>253808.0</td>\n",
              "    </tr>\n",
              "    <tr>\n",
              "      <th>2000-01-10</th>\n",
              "      <td>291000.0</td>\n",
              "      <td>305000.0</td>\n",
              "      <td>288500.0</td>\n",
              "      <td>288500.0</td>\n",
              "      <td>1194900.0</td>\n",
              "      <td>253808.0</td>\n",
              "    </tr>\n",
              "  </tbody>\n",
              "</table>\n",
              "</div>"
            ],
            "text/plain": [
              "                Open      High       Low     Close     Volume  Adj_Close\n",
              "Date                                                                    \n",
              "2000-01-04  290000.0  303000.0  276000.0  279000.0  1493600.0   245450.0\n",
              "2000-01-05  287500.0  289000.0  279000.0  281000.0  1087800.0   247210.0\n",
              "2000-01-06  278000.0  283500.0  268000.0  277000.0   806100.0   243691.0\n",
              "2000-01-07  280000.0  288500.0  279000.0  288500.0   937600.0   253808.0\n",
              "2000-01-10  291000.0  305000.0  288500.0  288500.0  1194900.0   253808.0"
            ]
          },
          "metadata": {
            "tags": []
          },
          "execution_count": 160
        }
      ]
    },
    {
      "cell_type": "code",
      "metadata": {
        "colab": {
          "base_uri": "https://localhost:8080/",
          "height": 235
        },
        "id": "mWPMyksyCFZ2",
        "outputId": "a08d6e06-96c9-4452-b8b8-452350bb11fa"
      },
      "source": [
        "df.shift(-1).tail()"
      ],
      "execution_count": 164,
      "outputs": [
        {
          "output_type": "execute_result",
          "data": {
            "text/html": [
              "<div>\n",
              "<style scoped>\n",
              "    .dataframe tbody tr th:only-of-type {\n",
              "        vertical-align: middle;\n",
              "    }\n",
              "\n",
              "    .dataframe tbody tr th {\n",
              "        vertical-align: top;\n",
              "    }\n",
              "\n",
              "    .dataframe thead th {\n",
              "        text-align: right;\n",
              "    }\n",
              "</style>\n",
              "<table border=\"1\" class=\"dataframe\">\n",
              "  <thead>\n",
              "    <tr style=\"text-align: right;\">\n",
              "      <th></th>\n",
              "      <th>Open</th>\n",
              "      <th>High</th>\n",
              "      <th>Low</th>\n",
              "      <th>Close</th>\n",
              "      <th>Volume</th>\n",
              "      <th>Adj_Close</th>\n",
              "    </tr>\n",
              "    <tr>\n",
              "      <th>Date</th>\n",
              "      <th></th>\n",
              "      <th></th>\n",
              "      <th></th>\n",
              "      <th></th>\n",
              "      <th></th>\n",
              "      <th></th>\n",
              "    </tr>\n",
              "  </thead>\n",
              "  <tbody>\n",
              "    <tr>\n",
              "      <th>2021-01-11</th>\n",
              "      <td>90300.0</td>\n",
              "      <td>91400.0</td>\n",
              "      <td>87800.0</td>\n",
              "      <td>90600.0</td>\n",
              "      <td>48682416.0</td>\n",
              "      <td>90600.0</td>\n",
              "    </tr>\n",
              "    <tr>\n",
              "      <th>2021-01-12</th>\n",
              "      <td>89800.0</td>\n",
              "      <td>91200.0</td>\n",
              "      <td>89100.0</td>\n",
              "      <td>89700.0</td>\n",
              "      <td>36068848.0</td>\n",
              "      <td>89700.0</td>\n",
              "    </tr>\n",
              "    <tr>\n",
              "      <th>2021-01-13</th>\n",
              "      <td>88700.0</td>\n",
              "      <td>90000.0</td>\n",
              "      <td>88700.0</td>\n",
              "      <td>89700.0</td>\n",
              "      <td>26393970.0</td>\n",
              "      <td>89700.0</td>\n",
              "    </tr>\n",
              "    <tr>\n",
              "      <th>2021-01-14</th>\n",
              "      <td>89800.0</td>\n",
              "      <td>91800.0</td>\n",
              "      <td>88000.0</td>\n",
              "      <td>88000.0</td>\n",
              "      <td>32997656.0</td>\n",
              "      <td>88000.0</td>\n",
              "    </tr>\n",
              "    <tr>\n",
              "      <th>2021-01-15</th>\n",
              "      <td>NaN</td>\n",
              "      <td>NaN</td>\n",
              "      <td>NaN</td>\n",
              "      <td>NaN</td>\n",
              "      <td>NaN</td>\n",
              "      <td>NaN</td>\n",
              "    </tr>\n",
              "  </tbody>\n",
              "</table>\n",
              "</div>"
            ],
            "text/plain": [
              "               Open     High      Low    Close      Volume  Adj_Close\n",
              "Date                                                                 \n",
              "2021-01-11  90300.0  91400.0  87800.0  90600.0  48682416.0    90600.0\n",
              "2021-01-12  89800.0  91200.0  89100.0  89700.0  36068848.0    89700.0\n",
              "2021-01-13  88700.0  90000.0  88700.0  89700.0  26393970.0    89700.0\n",
              "2021-01-14  89800.0  91800.0  88000.0  88000.0  32997656.0    88000.0\n",
              "2021-01-15      NaN      NaN      NaN      NaN         NaN        NaN"
            ]
          },
          "metadata": {
            "tags": []
          },
          "execution_count": 164
        }
      ]
    },
    {
      "cell_type": "markdown",
      "metadata": {
        "id": "4o95XlM1CQX1"
      },
      "source": [
        "### lagging,  lag, lagged  "
      ]
    },
    {
      "cell_type": "code",
      "metadata": {
        "colab": {
          "base_uri": "https://localhost:8080/",
          "height": 450
        },
        "id": "ly_14tm1CP1x",
        "outputId": "40e2c463-05d2-4ec3-e35e-66c02be3e376"
      },
      "source": [
        "# 한달 데이터를 뒤로 미루기 \n",
        "df.shift(freq='M', periods=2)\n"
      ],
      "execution_count": 173,
      "outputs": [
        {
          "output_type": "execute_result",
          "data": {
            "text/html": [
              "<div>\n",
              "<style scoped>\n",
              "    .dataframe tbody tr th:only-of-type {\n",
              "        vertical-align: middle;\n",
              "    }\n",
              "\n",
              "    .dataframe tbody tr th {\n",
              "        vertical-align: top;\n",
              "    }\n",
              "\n",
              "    .dataframe thead th {\n",
              "        text-align: right;\n",
              "    }\n",
              "</style>\n",
              "<table border=\"1\" class=\"dataframe\">\n",
              "  <thead>\n",
              "    <tr style=\"text-align: right;\">\n",
              "      <th></th>\n",
              "      <th>Open</th>\n",
              "      <th>High</th>\n",
              "      <th>Low</th>\n",
              "      <th>Close</th>\n",
              "      <th>Volume</th>\n",
              "      <th>Adj_Close</th>\n",
              "    </tr>\n",
              "    <tr>\n",
              "      <th>Date</th>\n",
              "      <th></th>\n",
              "      <th></th>\n",
              "      <th></th>\n",
              "      <th></th>\n",
              "      <th></th>\n",
              "      <th></th>\n",
              "    </tr>\n",
              "  </thead>\n",
              "  <tbody>\n",
              "    <tr>\n",
              "      <th>2000-02-29</th>\n",
              "      <td>300000</td>\n",
              "      <td>305500</td>\n",
              "      <td>283000</td>\n",
              "      <td>305500</td>\n",
              "      <td>1483900</td>\n",
              "      <td>268763</td>\n",
              "    </tr>\n",
              "    <tr>\n",
              "      <th>2000-02-29</th>\n",
              "      <td>290000</td>\n",
              "      <td>303000</td>\n",
              "      <td>276000</td>\n",
              "      <td>279000</td>\n",
              "      <td>1493600</td>\n",
              "      <td>245450</td>\n",
              "    </tr>\n",
              "    <tr>\n",
              "      <th>2000-02-29</th>\n",
              "      <td>287500</td>\n",
              "      <td>289000</td>\n",
              "      <td>279000</td>\n",
              "      <td>281000</td>\n",
              "      <td>1087800</td>\n",
              "      <td>247210</td>\n",
              "    </tr>\n",
              "    <tr>\n",
              "      <th>2000-02-29</th>\n",
              "      <td>278000</td>\n",
              "      <td>283500</td>\n",
              "      <td>268000</td>\n",
              "      <td>277000</td>\n",
              "      <td>806100</td>\n",
              "      <td>243691</td>\n",
              "    </tr>\n",
              "    <tr>\n",
              "      <th>2000-02-29</th>\n",
              "      <td>280000</td>\n",
              "      <td>288500</td>\n",
              "      <td>279000</td>\n",
              "      <td>288500</td>\n",
              "      <td>937600</td>\n",
              "      <td>253808</td>\n",
              "    </tr>\n",
              "    <tr>\n",
              "      <th>...</th>\n",
              "      <td>...</td>\n",
              "      <td>...</td>\n",
              "      <td>...</td>\n",
              "      <td>...</td>\n",
              "      <td>...</td>\n",
              "      <td>...</td>\n",
              "    </tr>\n",
              "    <tr>\n",
              "      <th>2021-02-28</th>\n",
              "      <td>90000</td>\n",
              "      <td>96800</td>\n",
              "      <td>89500</td>\n",
              "      <td>91000</td>\n",
              "      <td>90306177</td>\n",
              "      <td>91000</td>\n",
              "    </tr>\n",
              "    <tr>\n",
              "      <th>2021-02-28</th>\n",
              "      <td>90300</td>\n",
              "      <td>91400</td>\n",
              "      <td>87800</td>\n",
              "      <td>90600</td>\n",
              "      <td>48682416</td>\n",
              "      <td>90600</td>\n",
              "    </tr>\n",
              "    <tr>\n",
              "      <th>2021-02-28</th>\n",
              "      <td>89800</td>\n",
              "      <td>91200</td>\n",
              "      <td>89100</td>\n",
              "      <td>89700</td>\n",
              "      <td>36068848</td>\n",
              "      <td>89700</td>\n",
              "    </tr>\n",
              "    <tr>\n",
              "      <th>2021-02-28</th>\n",
              "      <td>88700</td>\n",
              "      <td>90000</td>\n",
              "      <td>88700</td>\n",
              "      <td>89700</td>\n",
              "      <td>26393970</td>\n",
              "      <td>89700</td>\n",
              "    </tr>\n",
              "    <tr>\n",
              "      <th>2021-02-28</th>\n",
              "      <td>89800</td>\n",
              "      <td>91800</td>\n",
              "      <td>88000</td>\n",
              "      <td>88000</td>\n",
              "      <td>32997656</td>\n",
              "      <td>88000</td>\n",
              "    </tr>\n",
              "  </tbody>\n",
              "</table>\n",
              "<p>5287 rows × 6 columns</p>\n",
              "</div>"
            ],
            "text/plain": [
              "              Open    High     Low   Close    Volume  Adj_Close\n",
              "Date                                                           \n",
              "2000-02-29  300000  305500  283000  305500   1483900     268763\n",
              "2000-02-29  290000  303000  276000  279000   1493600     245450\n",
              "2000-02-29  287500  289000  279000  281000   1087800     247210\n",
              "2000-02-29  278000  283500  268000  277000    806100     243691\n",
              "2000-02-29  280000  288500  279000  288500    937600     253808\n",
              "...            ...     ...     ...     ...       ...        ...\n",
              "2021-02-28   90000   96800   89500   91000  90306177      91000\n",
              "2021-02-28   90300   91400   87800   90600  48682416      90600\n",
              "2021-02-28   89800   91200   89100   89700  36068848      89700\n",
              "2021-02-28   88700   90000   88700   89700  26393970      89700\n",
              "2021-02-28   89800   91800   88000   88000  32997656      88000\n",
              "\n",
              "[5287 rows x 6 columns]"
            ]
          },
          "metadata": {
            "tags": []
          },
          "execution_count": 173
        }
      ]
    },
    {
      "cell_type": "markdown",
      "metadata": {
        "id": "-GM3QRlKDaA3"
      },
      "source": [
        "### Rolling & Expanding"
      ]
    },
    {
      "cell_type": "code",
      "metadata": {
        "id": "d4NVlaxYDd5p"
      },
      "source": [
        "# parse_dates=True로 하면 데이터를 확인해서 인덱스 컬럼의 데이터 타입을 datetime으로 변환한다.  \n",
        "# df = pd.read_csv('/content/drive/MyDrive/Colab Notebooks/Korea_Stocks_Full/005930.csv', index_col=\"Date\", parse_dates=True)\n",
        "df = pd.read_csv('/content/drive/MyDrive/Colab Notebooks/Korea_Stocks_Full/005930.csv', index_col=\"Date\", parse_dates=['Date'])"
      ],
      "execution_count": 184,
      "outputs": []
    },
    {
      "cell_type": "code",
      "metadata": {
        "colab": {
          "base_uri": "https://localhost:8080/"
        },
        "id": "eyVUeEg7EA91",
        "outputId": "61e461b4-4f3e-433a-b636-b9ec2ae355a0"
      },
      "source": [
        "df.index"
      ],
      "execution_count": 185,
      "outputs": [
        {
          "output_type": "execute_result",
          "data": {
            "text/plain": [
              "DatetimeIndex(['2000-01-04', '2000-01-05', '2000-01-06', '2000-01-07',\n",
              "               '2000-01-10', '2000-01-11', '2000-01-12', '2000-01-13',\n",
              "               '2000-01-14', '2000-01-17',\n",
              "               ...\n",
              "               '2021-01-04', '2021-01-05', '2021-01-06', '2021-01-07',\n",
              "               '2021-01-08', '2021-01-11', '2021-01-12', '2021-01-13',\n",
              "               '2021-01-14', '2021-01-15'],\n",
              "              dtype='datetime64[ns]', name='Date', length=5287, freq=None)"
            ]
          },
          "metadata": {
            "tags": []
          },
          "execution_count": 185
        }
      ]
    },
    {
      "cell_type": "code",
      "metadata": {
        "colab": {
          "base_uri": "https://localhost:8080/"
        },
        "id": "-YzE5ccQCOcw",
        "outputId": "5b9d281f-a50f-46aa-d846-895750a70c76"
      },
      "source": [
        "df.info()"
      ],
      "execution_count": 181,
      "outputs": [
        {
          "output_type": "stream",
          "text": [
            "<class 'pandas.core.frame.DataFrame'>\n",
            "DatetimeIndex: 5287 entries, 2000-01-04 to 2021-01-15\n",
            "Data columns (total 6 columns):\n",
            " #   Column     Non-Null Count  Dtype\n",
            "---  ------     --------------  -----\n",
            " 0   Open       5287 non-null   int64\n",
            " 1   High       5287 non-null   int64\n",
            " 2   Low        5287 non-null   int64\n",
            " 3   Close      5287 non-null   int64\n",
            " 4   Volume     5287 non-null   int64\n",
            " 5   Adj_Close  5287 non-null   int64\n",
            "dtypes: int64(6)\n",
            "memory usage: 289.1 KB\n"
          ],
          "name": "stdout"
        }
      ]
    },
    {
      "cell_type": "code",
      "metadata": {
        "id": "qtYg-WA5FStN"
      },
      "source": [
        "def dateparser(str_dt):\n",
        "  return pd.datetime.strptime(str_dt, '%Y-%m-%d')\n",
        "  "
      ],
      "execution_count": 196,
      "outputs": []
    },
    {
      "cell_type": "code",
      "metadata": {
        "colab": {
          "base_uri": "https://localhost:8080/"
        },
        "id": "4uufTUNPFsS0",
        "outputId": "234823f6-2d7f-4b5f-cd12-1b92a42ddb81"
      },
      "source": [
        "dateparser('2019-01-01')"
      ],
      "execution_count": 197,
      "outputs": [
        {
          "output_type": "stream",
          "text": [
            "/usr/local/lib/python3.6/dist-packages/ipykernel_launcher.py:2: FutureWarning: The pandas.datetime class is deprecated and will be removed from pandas in a future version. Import from datetime instead.\n",
            "  \n"
          ],
          "name": "stderr"
        },
        {
          "output_type": "execute_result",
          "data": {
            "text/plain": [
              "datetime.datetime(2019, 1, 1, 0, 0)"
            ]
          },
          "metadata": {
            "tags": []
          },
          "execution_count": 197
        }
      ]
    },
    {
      "cell_type": "code",
      "metadata": {
        "colab": {
          "base_uri": "https://localhost:8080/"
        },
        "id": "8GwBVdlKExo6",
        "outputId": "34780cc4-d95f-4cae-a484-50ae66449bc4"
      },
      "source": [
        "# 파싱이 안되는 컬럼의 경우 \n",
        "# 2020-JAN-01 이런 경우 \n",
        "df = pd.read_csv('/content/drive/MyDrive/Colab Notebooks/Korea_Stocks_Full/005930.csv', index_col='Date', parse_dates=['Date'], date_parser=dateparser)"
      ],
      "execution_count": 214,
      "outputs": [
        {
          "output_type": "stream",
          "text": [
            "/usr/local/lib/python3.6/dist-packages/ipykernel_launcher.py:2: FutureWarning: The pandas.datetime class is deprecated and will be removed from pandas in a future version. Import from datetime instead.\n",
            "  \n"
          ],
          "name": "stderr"
        }
      ]
    },
    {
      "cell_type": "code",
      "metadata": {
        "colab": {
          "base_uri": "https://localhost:8080/",
          "height": 450
        },
        "id": "pGtTkJNxGSh-",
        "outputId": "f112de84-a796-4308-f185-bbdeec10d02c"
      },
      "source": [
        "df"
      ],
      "execution_count": 215,
      "outputs": [
        {
          "output_type": "execute_result",
          "data": {
            "text/html": [
              "<div>\n",
              "<style scoped>\n",
              "    .dataframe tbody tr th:only-of-type {\n",
              "        vertical-align: middle;\n",
              "    }\n",
              "\n",
              "    .dataframe tbody tr th {\n",
              "        vertical-align: top;\n",
              "    }\n",
              "\n",
              "    .dataframe thead th {\n",
              "        text-align: right;\n",
              "    }\n",
              "</style>\n",
              "<table border=\"1\" class=\"dataframe\">\n",
              "  <thead>\n",
              "    <tr style=\"text-align: right;\">\n",
              "      <th></th>\n",
              "      <th>Open</th>\n",
              "      <th>High</th>\n",
              "      <th>Low</th>\n",
              "      <th>Close</th>\n",
              "      <th>Volume</th>\n",
              "      <th>Adj_Close</th>\n",
              "    </tr>\n",
              "    <tr>\n",
              "      <th>Date</th>\n",
              "      <th></th>\n",
              "      <th></th>\n",
              "      <th></th>\n",
              "      <th></th>\n",
              "      <th></th>\n",
              "      <th></th>\n",
              "    </tr>\n",
              "  </thead>\n",
              "  <tbody>\n",
              "    <tr>\n",
              "      <th>2000-01-04</th>\n",
              "      <td>300000</td>\n",
              "      <td>305500</td>\n",
              "      <td>283000</td>\n",
              "      <td>305500</td>\n",
              "      <td>1483900</td>\n",
              "      <td>268763</td>\n",
              "    </tr>\n",
              "    <tr>\n",
              "      <th>2000-01-05</th>\n",
              "      <td>290000</td>\n",
              "      <td>303000</td>\n",
              "      <td>276000</td>\n",
              "      <td>279000</td>\n",
              "      <td>1493600</td>\n",
              "      <td>245450</td>\n",
              "    </tr>\n",
              "    <tr>\n",
              "      <th>2000-01-06</th>\n",
              "      <td>287500</td>\n",
              "      <td>289000</td>\n",
              "      <td>279000</td>\n",
              "      <td>281000</td>\n",
              "      <td>1087800</td>\n",
              "      <td>247210</td>\n",
              "    </tr>\n",
              "    <tr>\n",
              "      <th>2000-01-07</th>\n",
              "      <td>278000</td>\n",
              "      <td>283500</td>\n",
              "      <td>268000</td>\n",
              "      <td>277000</td>\n",
              "      <td>806100</td>\n",
              "      <td>243691</td>\n",
              "    </tr>\n",
              "    <tr>\n",
              "      <th>2000-01-10</th>\n",
              "      <td>280000</td>\n",
              "      <td>288500</td>\n",
              "      <td>279000</td>\n",
              "      <td>288500</td>\n",
              "      <td>937600</td>\n",
              "      <td>253808</td>\n",
              "    </tr>\n",
              "    <tr>\n",
              "      <th>...</th>\n",
              "      <td>...</td>\n",
              "      <td>...</td>\n",
              "      <td>...</td>\n",
              "      <td>...</td>\n",
              "      <td>...</td>\n",
              "      <td>...</td>\n",
              "    </tr>\n",
              "    <tr>\n",
              "      <th>2021-01-11</th>\n",
              "      <td>90000</td>\n",
              "      <td>96800</td>\n",
              "      <td>89500</td>\n",
              "      <td>91000</td>\n",
              "      <td>90306177</td>\n",
              "      <td>91000</td>\n",
              "    </tr>\n",
              "    <tr>\n",
              "      <th>2021-01-12</th>\n",
              "      <td>90300</td>\n",
              "      <td>91400</td>\n",
              "      <td>87800</td>\n",
              "      <td>90600</td>\n",
              "      <td>48682416</td>\n",
              "      <td>90600</td>\n",
              "    </tr>\n",
              "    <tr>\n",
              "      <th>2021-01-13</th>\n",
              "      <td>89800</td>\n",
              "      <td>91200</td>\n",
              "      <td>89100</td>\n",
              "      <td>89700</td>\n",
              "      <td>36068848</td>\n",
              "      <td>89700</td>\n",
              "    </tr>\n",
              "    <tr>\n",
              "      <th>2021-01-14</th>\n",
              "      <td>88700</td>\n",
              "      <td>90000</td>\n",
              "      <td>88700</td>\n",
              "      <td>89700</td>\n",
              "      <td>26393970</td>\n",
              "      <td>89700</td>\n",
              "    </tr>\n",
              "    <tr>\n",
              "      <th>2021-01-15</th>\n",
              "      <td>89800</td>\n",
              "      <td>91800</td>\n",
              "      <td>88000</td>\n",
              "      <td>88000</td>\n",
              "      <td>32997656</td>\n",
              "      <td>88000</td>\n",
              "    </tr>\n",
              "  </tbody>\n",
              "</table>\n",
              "<p>5287 rows × 6 columns</p>\n",
              "</div>"
            ],
            "text/plain": [
              "              Open    High     Low   Close    Volume  Adj_Close\n",
              "Date                                                           \n",
              "2000-01-04  300000  305500  283000  305500   1483900     268763\n",
              "2000-01-05  290000  303000  276000  279000   1493600     245450\n",
              "2000-01-06  287500  289000  279000  281000   1087800     247210\n",
              "2000-01-07  278000  283500  268000  277000    806100     243691\n",
              "2000-01-10  280000  288500  279000  288500    937600     253808\n",
              "...            ...     ...     ...     ...       ...        ...\n",
              "2021-01-11   90000   96800   89500   91000  90306177      91000\n",
              "2021-01-12   90300   91400   87800   90600  48682416      90600\n",
              "2021-01-13   89800   91200   89100   89700  36068848      89700\n",
              "2021-01-14   88700   90000   88700   89700  26393970      89700\n",
              "2021-01-15   89800   91800   88000   88000  32997656      88000\n",
              "\n",
              "[5287 rows x 6 columns]"
            ]
          },
          "metadata": {
            "tags": []
          },
          "execution_count": 215
        }
      ]
    },
    {
      "cell_type": "code",
      "metadata": {
        "colab": {
          "base_uri": "https://localhost:8080/",
          "height": 390
        },
        "id": "R29n-WHjGUhR",
        "outputId": "0f37d6ff-bc63-4d5e-e18f-cfcf13085814"
      },
      "source": [
        "# 샘플 윈도우를 7개짜리를 만들어서 각각  샘플링을 한다. \n",
        "# 각 샘플별로 7개의 데이터가 들어온다.\n",
        "# 각 샘플 7개의 윈도우의 mean을 구해 본다. \n",
        "# \n",
        "df.rolling(7).mean().head(10)\n",
        "# 무빙 에러리지 트렌드를 구하기 위해서 많이 사용한다. "
      ],
      "execution_count": 207,
      "outputs": [
        {
          "output_type": "execute_result",
          "data": {
            "text/html": [
              "<div>\n",
              "<style scoped>\n",
              "    .dataframe tbody tr th:only-of-type {\n",
              "        vertical-align: middle;\n",
              "    }\n",
              "\n",
              "    .dataframe tbody tr th {\n",
              "        vertical-align: top;\n",
              "    }\n",
              "\n",
              "    .dataframe thead th {\n",
              "        text-align: right;\n",
              "    }\n",
              "</style>\n",
              "<table border=\"1\" class=\"dataframe\">\n",
              "  <thead>\n",
              "    <tr style=\"text-align: right;\">\n",
              "      <th></th>\n",
              "      <th>Open</th>\n",
              "      <th>High</th>\n",
              "      <th>Low</th>\n",
              "      <th>Close</th>\n",
              "      <th>Volume</th>\n",
              "      <th>Adj_Close</th>\n",
              "    </tr>\n",
              "    <tr>\n",
              "      <th>Date</th>\n",
              "      <th></th>\n",
              "      <th></th>\n",
              "      <th></th>\n",
              "      <th></th>\n",
              "      <th></th>\n",
              "      <th></th>\n",
              "    </tr>\n",
              "  </thead>\n",
              "  <tbody>\n",
              "    <tr>\n",
              "      <th>2000-01-04</th>\n",
              "      <td>NaN</td>\n",
              "      <td>NaN</td>\n",
              "      <td>NaN</td>\n",
              "      <td>NaN</td>\n",
              "      <td>NaN</td>\n",
              "      <td>NaN</td>\n",
              "    </tr>\n",
              "    <tr>\n",
              "      <th>2000-01-05</th>\n",
              "      <td>NaN</td>\n",
              "      <td>NaN</td>\n",
              "      <td>NaN</td>\n",
              "      <td>NaN</td>\n",
              "      <td>NaN</td>\n",
              "      <td>NaN</td>\n",
              "    </tr>\n",
              "    <tr>\n",
              "      <th>2000-01-06</th>\n",
              "      <td>NaN</td>\n",
              "      <td>NaN</td>\n",
              "      <td>NaN</td>\n",
              "      <td>NaN</td>\n",
              "      <td>NaN</td>\n",
              "      <td>NaN</td>\n",
              "    </tr>\n",
              "    <tr>\n",
              "      <th>2000-01-07</th>\n",
              "      <td>NaN</td>\n",
              "      <td>NaN</td>\n",
              "      <td>NaN</td>\n",
              "      <td>NaN</td>\n",
              "      <td>NaN</td>\n",
              "      <td>NaN</td>\n",
              "    </tr>\n",
              "    <tr>\n",
              "      <th>2000-01-10</th>\n",
              "      <td>NaN</td>\n",
              "      <td>NaN</td>\n",
              "      <td>NaN</td>\n",
              "      <td>NaN</td>\n",
              "      <td>NaN</td>\n",
              "      <td>NaN</td>\n",
              "    </tr>\n",
              "    <tr>\n",
              "      <th>2000-01-11</th>\n",
              "      <td>NaN</td>\n",
              "      <td>NaN</td>\n",
              "      <td>NaN</td>\n",
              "      <td>NaN</td>\n",
              "      <td>NaN</td>\n",
              "      <td>NaN</td>\n",
              "    </tr>\n",
              "    <tr>\n",
              "      <th>2000-01-12</th>\n",
              "      <td>286714.285714</td>\n",
              "      <td>294500.000000</td>\n",
              "      <td>279071.428571</td>\n",
              "      <td>286500.000000</td>\n",
              "      <td>1.084043e+06</td>\n",
              "      <td>252048.285714</td>\n",
              "    </tr>\n",
              "    <tr>\n",
              "      <th>2000-01-13</th>\n",
              "      <td>283857.142857</td>\n",
              "      <td>291857.142857</td>\n",
              "      <td>278357.142857</td>\n",
              "      <td>283642.857143</td>\n",
              "      <td>9.897429e+05</td>\n",
              "      <td>249534.714286</td>\n",
              "    </tr>\n",
              "    <tr>\n",
              "      <th>2000-01-14</th>\n",
              "      <td>283285.714286</td>\n",
              "      <td>290571.428571</td>\n",
              "      <td>279500.000000</td>\n",
              "      <td>285428.571429</td>\n",
              "      <td>9.174429e+05</td>\n",
              "      <td>251105.714286</td>\n",
              "    </tr>\n",
              "    <tr>\n",
              "      <th>2000-01-17</th>\n",
              "      <td>285071.428571</td>\n",
              "      <td>293428.571429</td>\n",
              "      <td>281928.571429</td>\n",
              "      <td>288857.142857</td>\n",
              "      <td>9.434857e+05</td>\n",
              "      <td>254122.000000</td>\n",
              "    </tr>\n",
              "  </tbody>\n",
              "</table>\n",
              "</div>"
            ],
            "text/plain": [
              "                     Open           High  ...        Volume      Adj_Close\n",
              "Date                                      ...                             \n",
              "2000-01-04            NaN            NaN  ...           NaN            NaN\n",
              "2000-01-05            NaN            NaN  ...           NaN            NaN\n",
              "2000-01-06            NaN            NaN  ...           NaN            NaN\n",
              "2000-01-07            NaN            NaN  ...           NaN            NaN\n",
              "2000-01-10            NaN            NaN  ...           NaN            NaN\n",
              "2000-01-11            NaN            NaN  ...           NaN            NaN\n",
              "2000-01-12  286714.285714  294500.000000  ...  1.084043e+06  252048.285714\n",
              "2000-01-13  283857.142857  291857.142857  ...  9.897429e+05  249534.714286\n",
              "2000-01-14  283285.714286  290571.428571  ...  9.174429e+05  251105.714286\n",
              "2000-01-17  285071.428571  293428.571429  ...  9.434857e+05  254122.000000\n",
              "\n",
              "[10 rows x 6 columns]"
            ]
          },
          "metadata": {
            "tags": []
          },
          "execution_count": 207
        }
      ]
    },
    {
      "cell_type": "code",
      "metadata": {
        "colab": {
          "base_uri": "https://localhost:8080/",
          "height": 539
        },
        "id": "816VE-b_HW7W",
        "outputId": "2bd2e057-315b-46a9-a7b2-a2792442b10d"
      },
      "source": [
        "df['2020':]['Open'].plot()\n",
        "df['2020':].rolling(7).mean()['Open'].plot(figsize=(20,9))"
      ],
      "execution_count": 232,
      "outputs": [
        {
          "output_type": "execute_result",
          "data": {
            "text/plain": [
              "<matplotlib.axes._subplots.AxesSubplot at 0x7ff0ee585da0>"
            ]
          },
          "metadata": {
            "tags": []
          },
          "execution_count": 232
        },
        {
          "output_type": "display_data",
          "data": {
            "image/png": "[encoded data removed]",
            "text/plain": [
              "<Figure size 1440x648 with 1 Axes>"
            ]
          },
          "metadata": {
            "tags": [],
            "needs_background": "light"
          }
        }
      ]
    },
    {
      "cell_type": "code",
      "metadata": {
        "colab": {
          "base_uri": "https://localhost:8080/",
          "height": 539
        },
        "id": "M5lfMXXCHydl",
        "outputId": "c93f5de1-8f91-4d1a-90e5-72faffbcad64"
      },
      "source": [
        "#주식의 마감가격의 트렌드를 보고 싶을 경우 \n",
        "df['2020':]['Close'].plot()\n",
        "df['2020':].rolling(window=7).mean()['Close'].plot(figsize=(20, 9))"
      ],
      "execution_count": 233,
      "outputs": [
        {
          "output_type": "execute_result",
          "data": {
            "text/plain": [
              "<matplotlib.axes._subplots.AxesSubplot at 0x7ff0ee435940>"
            ]
          },
          "metadata": {
            "tags": []
          },
          "execution_count": 233
        },
        {
          "output_type": "display_data",
          "data": {
            "image/png": "[encoded data removed]",
            "text/plain": [
              "<Figure size 1440x648 with 1 Axes>"
            ]
          },
          "metadata": {
            "tags": [],
            "needs_background": "light"
          }
        }
      ]
    },
    {
      "cell_type": "code",
      "metadata": {
        "id": "9XuN--s9Kxsj"
      },
      "source": [
        "# \n",
        "df['Close: 30Day Mean'] = df['Close'].rolling(30).mean()\n"
      ],
      "execution_count": 238,
      "outputs": []
    },
    {
      "cell_type": "code",
      "metadata": {
        "colab": {
          "base_uri": "https://localhost:8080/",
          "height": 441
        },
        "id": "aRJfUq_7LRBB",
        "outputId": "c94bc4e1-7f27-4460-88be-997b8d207cc1"
      },
      "source": [
        "df['2020':][['Close','Close: 30Day Mean']].plot(figsize=(15,7))"
      ],
      "execution_count": 241,
      "outputs": [
        {
          "output_type": "execute_result",
          "data": {
            "text/plain": [
              "<matplotlib.axes._subplots.AxesSubplot at 0x7ff0ee1ce940>"
            ]
          },
          "metadata": {
            "tags": []
          },
          "execution_count": 241
        },
        {
          "output_type": "display_data",
          "data": {
            "image/png": "[encoded data removed]",
            "text/plain": [
              "<Figure size 1080x504 with 1 Axes>"
            ]
          },
          "metadata": {
            "tags": [],
            "needs_background": "light"
          }
        }
      ]
    },
    {
      "cell_type": "markdown",
      "metadata": {
        "id": "X6eSlloNLwjI"
      },
      "source": [
        "### Expanding \n"
      ]
    },
    {
      "cell_type": "code",
      "metadata": {
        "colab": {
          "base_uri": "https://localhost:8080/",
          "height": 433
        },
        "id": "XGswUzRBIATh",
        "outputId": "46702b75-a81b-4240-d312-5c23cb6030fa"
      },
      "source": [
        "# periods 에 대한 누적 평균 \n",
        "df['Close'].expanding(min_periods=1).mean().plot(figsize=(15,7))\n",
        "#누적 평균이기때문에 계속 늘어난다"
      ],
      "execution_count": 243,
      "outputs": [
        {
          "output_type": "execute_result",
          "data": {
            "text/plain": [
              "<matplotlib.axes._subplots.AxesSubplot at 0x7ff0ee3517b8>"
            ]
          },
          "metadata": {
            "tags": []
          },
          "execution_count": 243
        },
        {
          "output_type": "display_data",
          "data": {
            "image/png": "[encoded data removed]",
            "text/plain": [
              "<Figure size 1080x504 with 1 Axes>"
            ]
          },
          "metadata": {
            "tags": [],
            "needs_background": "light"
          }
        }
      ]
    },
    {
      "cell_type": "markdown",
      "metadata": {
        "id": "M7-759JqMtaZ"
      },
      "source": [
        "### 볼린저 밴드 그리기 \n",
        " 종가 기준 20일 단위의 평균 트랜드값"
      ]
    },
    {
      "cell_type": "code",
      "metadata": {
        "id": "SAikdIFnM4rt"
      },
      "source": [
        "#df['Close'] std 2 -2 20MA "
      ],
      "execution_count": null,
      "outputs": []
    },
    {
      "cell_type": "code",
      "metadata": {
        "id": "4fAr0KRjNBUr"
      },
      "source": [
        "df['Close: 20Day Mean'] = df['Close'].rolling(window=20).mean()"
      ],
      "execution_count": 245,
      "outputs": []
    },
    {
      "cell_type": "code",
      "metadata": {
        "id": "E3s36vYdNs-A"
      },
      "source": [
        "df['Upper'] = df['Close: 20Day Mean'] + 2*df['Close'].rolling(20).std()\n",
        "df['Lower'] = df['Close: 20Day Mean'] - 2*df['Close'].rolling(20).std()"
      ],
      "execution_count": 246,
      "outputs": []
    },
    {
      "cell_type": "code",
      "metadata": {
        "colab": {
          "base_uri": "https://localhost:8080/",
          "height": 596
        },
        "id": "gYojl4ivMIfO",
        "outputId": "2aded5cd-17f3-4b74-fef3-d93c605a7980"
      },
      "source": [
        "df['2020-12':][['Close','Close: 20Day Mean', 'Upper', 'Lower']].plot(figsize=(20,10))"
      ],
      "execution_count": 251,
      "outputs": [
        {
          "output_type": "execute_result",
          "data": {
            "text/plain": [
              "<matplotlib.axes._subplots.AxesSubplot at 0x7ff0ede5cda0>"
            ]
          },
          "metadata": {
            "tags": []
          },
          "execution_count": 251
        },
        {
          "output_type": "display_data",
          "data": {
            "image/png": "[encoded data removed]",
            "text/plain": [
              "<Figure size 1440x720 with 1 Axes>"
            ]
          },
          "metadata": {
            "tags": [],
            "needs_background": "light"
          }
        }
      ]
    },
    {
      "cell_type": "markdown",
      "metadata": {
        "id": "Ow-tE_bbYtwf"
      },
      "source": [
        "## 2.TimeZone, Visualizing\n",
        "\n",
        "> 들여쓴 블록\n",
        "\n",
        "```\n",
        "# 코드로 형식 지정됨\n",
        "```\n",
        "\n",
        "\n",
        "1.   항목 추가\n",
        "\n",
        "> 들여쓴 블록\n",
        "\n",
        "\n",
        "2.   항목 추가\n",
        "\n",
        "\n",
        "\n",
        "\n"
      ]
    },
    {
      "cell_type": "markdown",
      "metadata": {
        "id": "kBwC7bmMT1CC"
      },
      "source": [
        ""
      ]
    },
    {
      "cell_type": "markdown",
      "metadata": {
        "id": "n_mAmAXdBmu7"
      },
      "source": [
        "## 3.시계열 데이터 특성 및 ETS 모델"
      ]
    },
    {
      "cell_type": "markdown",
      "metadata": {
        "id": "QsDmY2mTzMDy"
      },
      "source": [
        "### ETS 모델 \n",
        " Error, Trend, Seanonality 요소들을 활용하는데 각각을 더하거나 곱하여 Smoothing한다\n",
        " 이것들을 가지고 시계열 데이터 모델링을 할수 있다. \n",
        "\n",
        " \n",
        "\n",
        "*   ETS Decompostition - Airline Passengers\n",
        "\n",
        "\n"
      ]
    },
    {
      "cell_type": "code",
      "metadata": {
        "colab": {
          "base_uri": "https://localhost:8080/"
        },
        "id": "ESqVEix923Cu",
        "outputId": "b4f5d9d1-6240-4688-bf73-9d8f547200a3"
      },
      "source": [
        "pip install statsmodels --upgrade"
      ],
      "execution_count": 40,
      "outputs": [
        {
          "output_type": "stream",
          "text": [
            "Collecting statsmodels\n",
            "\u001b[?25l  Downloading https://files.pythonhosted.org/packages/be/4c/9e2435ca6645d6bafa2b51bb11f0a365b28934a2ffe9d6e339d67130926d/statsmodels-0.12.1-cp36-cp36m-manylinux1_x86_64.whl (9.5MB)\n",
            "\u001b[K     |████████████████████████████████| 9.5MB 3.9MB/s \n",
            "\u001b[?25hRequirement already satisfied, skipping upgrade: numpy>=1.15 in /usr/local/lib/python3.6/dist-packages (from statsmodels) (1.19.5)\n",
            "Requirement already satisfied, skipping upgrade: pandas>=0.21 in /usr/local/lib/python3.6/dist-packages (from statsmodels) (1.1.5)\n",
            "Requirement already satisfied, skipping upgrade: patsy>=0.5 in /usr/local/lib/python3.6/dist-packages (from statsmodels) (0.5.1)\n",
            "Requirement already satisfied, skipping upgrade: scipy>=1.1 in /usr/local/lib/python3.6/dist-packages (from statsmodels) (1.4.1)\n",
            "Requirement already satisfied, skipping upgrade: pytz>=2017.2 in /usr/local/lib/python3.6/dist-packages (from pandas>=0.21->statsmodels) (2018.9)\n",
            "Requirement already satisfied, skipping upgrade: python-dateutil>=2.7.3 in /usr/local/lib/python3.6/dist-packages (from pandas>=0.21->statsmodels) (2.8.1)\n",
            "Requirement already satisfied, skipping upgrade: six in /usr/local/lib/python3.6/dist-packages (from patsy>=0.5->statsmodels) (1.15.0)\n",
            "Installing collected packages: statsmodels\n",
            "  Found existing installation: statsmodels 0.10.2\n",
            "    Uninstalling statsmodels-0.10.2:\n",
            "      Successfully uninstalled statsmodels-0.10.2\n",
            "Successfully installed statsmodels-0.12.1\n"
          ],
          "name": "stdout"
        }
      ]
    },
    {
      "cell_type": "code",
      "metadata": {
        "id": "8crCFfRC0Yt6"
      },
      "source": [
        "from statsmodels.tsa.seasonal import seasonal_decompose"
      ],
      "execution_count": 41,
      "outputs": []
    },
    {
      "cell_type": "code",
      "metadata": {
        "id": "wVeB9lsT3Sbl"
      },
      "source": [
        "data = [i+np.random.randint(10 ) for i in range(1, 100)]"
      ],
      "execution_count": 42,
      "outputs": []
    },
    {
      "cell_type": "code",
      "metadata": {
        "colab": {
          "base_uri": "https://localhost:8080/",
          "height": 282
        },
        "id": "RKi4MRVm43_h",
        "outputId": "7834cd43-dd94-4d54-88ff-4d4eeeca8a87"
      },
      "source": [
        "series = pd.Series(data)\n",
        "series.plot()"
      ],
      "execution_count": 43,
      "outputs": [
        {
          "output_type": "execute_result",
          "data": {
            "text/plain": [
              "<matplotlib.axes._subplots.AxesSubplot at 0x7ff1023c5908>"
            ]
          },
          "metadata": {
            "tags": []
          },
          "execution_count": 43
        },
        {
          "output_type": "display_data",
          "data": {
            "image/png": "[encoded data removed]",
            "text/plain": [
              "<Figure size 432x288 with 1 Axes>"
            ]
          },
          "metadata": {
            "tags": [],
            "needs_background": "light"
          }
        }
      ]
    },
    {
      "cell_type": "markdown",
      "metadata": {
        "id": "rIuHZ7Vt9IVP"
      },
      "source": [
        "### Additive Model"
      ]
    },
    {
      "cell_type": "code",
      "metadata": {
        "colab": {
          "base_uri": "https://localhost:8080/",
          "height": 332
        },
        "id": "c_EysHCU5GUB",
        "outputId": "da63a7b4-7d49-4fc6-d287-b5bc78588665"
      },
      "source": [
        "result = seasonal_decompose(series, model='additive', freq=1)\n",
        "result.plot();"
      ],
      "execution_count": 44,
      "outputs": [
        {
          "output_type": "stream",
          "text": [
            "/usr/local/lib/python3.6/dist-packages/ipykernel_launcher.py:1: FutureWarning: the 'freq'' keyword is deprecated, use 'period' instead\n",
            "  \"\"\"Entry point for launching an IPython kernel.\n"
          ],
          "name": "stderr"
        },
        {
          "output_type": "display_data",
          "data": {
            "image/png": "[encoded data removed]",
            "text/plain": [
              "<Figure size 432x288 with 4 Axes>"
            ]
          },
          "metadata": {
            "tags": [],
            "needs_background": "light"
          }
        }
      ]
    },
    {
      "cell_type": "code",
      "metadata": {
        "id": "sdCRrkBX5amZ"
      },
      "source": [
        "def plot_decompose(decomposeresult):\n",
        "  fig, (ax1, ax2, ax3, ax4) = plt.subplots(4,1, figsize=(15,8))\n",
        "  decomposeresult.observed.plot(legend=False, ax=ax1)\n",
        "  ax1.set_ylabel('Observerd')\n",
        "  decomposeresult.trend.plot(legend=False, ax=ax2)\n",
        "  ax2.set_ylabel('Trend')\n",
        "  decomposeresult.seasonal.plot(legend=False, ax=ax3)\n",
        "  ax3.set_ylabel('Seansonal')\n",
        "  decomposeresult.resid.plot(legend=False, ax=ax4)\n",
        "  ax4.set_ylabel('Resid')"
      ],
      "execution_count": 62,
      "outputs": []
    },
    {
      "cell_type": "code",
      "metadata": {
        "colab": {
          "base_uri": "https://localhost:8080/",
          "height": 484
        },
        "id": "X-S4xuba6DvO",
        "outputId": "d889676c-49f6-452f-a8f2-71d25bbf2b2c"
      },
      "source": [
        "plot_decompose(result)"
      ],
      "execution_count": 67,
      "outputs": [
        {
          "output_type": "display_data",
          "data": {
            "image/png": "[encoded data removed]",
            "text/plain": [
              "<Figure size 1080x576 with 4 Axes>"
            ]
          },
          "metadata": {
            "tags": [],
            "needs_background": "light"
          }
        }
      ]
    },
    {
      "cell_type": "markdown",
      "metadata": {
        "id": "lIgpIfWm7X-C"
      },
      "source": [
        " ### multiplicative Model\n",
        "  y_t = Level * Error *  Trend * Seasonality\n",
        "\n",
        "  log(y_t) = Level + Error + Trend +Seansonality"
      ]
    },
    {
      "cell_type": "markdown",
      "metadata": {
        "id": "PqAn88J3XdQr"
      },
      "source": [
        "# 새 섹션"
      ]
    },
    {
      "cell_type": "code",
      "metadata": {
        "colab": {
          "base_uri": "https://localhost:8080/",
          "height": 501
        },
        "id": "I9DZPzrk7wDP",
        "outputId": "7dfb3949-fd69-4090-9f79-89a3b96f470c"
      },
      "source": [
        "data = [i**2 for i in range(1,100)]\n",
        "series1 = pd.Series(data)\n",
        "\n",
        "result1 = seasonal_decompose(series1, model='muliplicative', freq=1)\n",
        "\n",
        "plot_decompose(result1)\n",
        "\n",
        "series.plot()"
      ],
      "execution_count": 76,
      "outputs": [
        {
          "output_type": "execute_result",
          "data": {
            "text/plain": [
              "<matplotlib.axes._subplots.AxesSubplot at 0x7f88279065f8>"
            ]
          },
          "metadata": {
            "tags": []
          },
          "execution_count": 76
        },
        {
          "output_type": "display_data",
          "data": {
            "image/png": "[encoded data removed]",
            "text/plain": [
              "<Figure size 1080x576 with 4 Axes>"
            ]
          },
          "metadata": {
            "tags": [],
            "needs_background": "light"
          }
        }
      ]
    },
    {
      "cell_type": "code",
      "metadata": {
        "colab": {
          "base_uri": "https://localhost:8080/",
          "height": 296
        },
        "id": "UAL3hfJi91NZ",
        "outputId": "8d628008-5840-4cb1-82df-7b783c218a49"
      },
      "source": [
        "airline = pd.read_csv('/content/drive/MyDrive/Colab Notebooks/AirPassengers.csv', index_col='Month' )\n",
        "airline.plot()"
      ],
      "execution_count": 77,
      "outputs": [
        {
          "output_type": "execute_result",
          "data": {
            "text/plain": [
              "<matplotlib.axes._subplots.AxesSubplot at 0x7f8827840630>"
            ]
          },
          "metadata": {
            "tags": []
          },
          "execution_count": 77
        },
        {
          "output_type": "display_data",
          "data": {
            "image/png": "[encoded data removed]",
            "text/plain": [
              "<Figure size 432x288 with 1 Axes>"
            ]
          },
          "metadata": {
            "tags": [],
            "needs_background": "light"
          }
        }
      ]
    },
    {
      "cell_type": "code",
      "metadata": {
        "colab": {
          "base_uri": "https://localhost:8080/",
          "height": 0
        },
        "id": "AmNcTCioAGQj",
        "outputId": "a69ecab5-1f2e-481a-ac9f-55ed0684fc09"
      },
      "source": [
        "airline.index = pd.to_datetime(airline.index)\n",
        "airline.head()"
      ],
      "execution_count": 78,
      "outputs": [
        {
          "output_type": "execute_result",
          "data": {
            "text/html": [
              "<div>\n",
              "<style scoped>\n",
              "    .dataframe tbody tr th:only-of-type {\n",
              "        vertical-align: middle;\n",
              "    }\n",
              "\n",
              "    .dataframe tbody tr th {\n",
              "        vertical-align: top;\n",
              "    }\n",
              "\n",
              "    .dataframe thead th {\n",
              "        text-align: right;\n",
              "    }\n",
              "</style>\n",
              "<table border=\"1\" class=\"dataframe\">\n",
              "  <thead>\n",
              "    <tr style=\"text-align: right;\">\n",
              "      <th></th>\n",
              "      <th>#Passengers</th>\n",
              "    </tr>\n",
              "    <tr>\n",
              "      <th>Month</th>\n",
              "      <th></th>\n",
              "    </tr>\n",
              "  </thead>\n",
              "  <tbody>\n",
              "    <tr>\n",
              "      <th>1949-01-01</th>\n",
              "      <td>112</td>\n",
              "    </tr>\n",
              "    <tr>\n",
              "      <th>1949-02-01</th>\n",
              "      <td>118</td>\n",
              "    </tr>\n",
              "    <tr>\n",
              "      <th>1949-03-01</th>\n",
              "      <td>132</td>\n",
              "    </tr>\n",
              "    <tr>\n",
              "      <th>1949-04-01</th>\n",
              "      <td>129</td>\n",
              "    </tr>\n",
              "    <tr>\n",
              "      <th>1949-05-01</th>\n",
              "      <td>121</td>\n",
              "    </tr>\n",
              "  </tbody>\n",
              "</table>\n",
              "</div>"
            ],
            "text/plain": [
              "            #Passengers\n",
              "Month                  \n",
              "1949-01-01          112\n",
              "1949-02-01          118\n",
              "1949-03-01          132\n",
              "1949-04-01          129\n",
              "1949-05-01          121"
            ]
          },
          "metadata": {
            "tags": []
          },
          "execution_count": 78
        }
      ]
    },
    {
      "cell_type": "code",
      "metadata": {
        "colab": {
          "base_uri": "https://localhost:8080/",
          "height": 0
        },
        "id": "THm__S0nAfRW",
        "outputId": "11c6b1f7-0115-4354-e219-42f9eca38b9a"
      },
      "source": [
        "result = seasonal_decompose(airline['#Passengers'], model='multiplicative')\n",
        "plot_decompose(result)"
      ],
      "execution_count": 79,
      "outputs": [
        {
          "output_type": "display_data",
          "data": {
            "image/png": "[encoded data removed]",
            "text/plain": [
              "<Figure size 1080x576 with 4 Axes>"
            ]
          },
          "metadata": {
            "tags": [],
            "needs_background": "light"
          }
        }
      ]
    }
  ]
}