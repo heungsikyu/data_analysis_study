{
  "nbformat": 4,
  "nbformat_minor": 0,
  "metadata": {
    "colab": {
      "name": "Stock Prediction with KreasLSM.ipynb",
      "private_outputs": true,
      "provenance": [],
      "collapsed_sections": [],
      "authorship_tag": "ABX9TyOXVe+eIrSjY/sFFkxAfnLo",
      "include_colab_link": true
    },
    "kernelspec": {
      "name": "python3",
      "display_name": "Python 3"
    },
    "accelerator": "GPU"
  },
  "cells": [
    {
      "cell_type": "markdown",
      "metadata": {
        "id": "view-in-github",
        "colab_type": "text"
      },
      "source": [
        "<a href=\"https://colab.research.google.com/github/heungsikyu/data_analysis_study/blob/master/Stock_Prediction_with_KreasLSM.ipynb\" target=\"_parent\"><img src=\"https://colab.research.google.com/assets/colab-badge.svg\" alt=\"Open In Colab\"/></a>"
      ]
    },
    {
      "cell_type": "code",
      "metadata": {
        "id": "p92eDcKzH5fK"
      },
      "source": [
        "import pandas as pd \n",
        "import numpy as np\n",
        "\n",
        "import plotly.graph_objs as go \n",
        "import plotly.offline as py \n",
        "\n",
        "import matplotlib.pyplot as plt\n",
        "\n",
        "from fbprophet import Prophet\n",
        "from fbprophet.plot import plot_plotly, add_changepoints_to_plot\n",
        "import pandas_datareader as pdr\n",
        "\n",
        "\n",
        "from keras.models import Sequential\n",
        "from keras.layers import LSTM, Dropout, Dense, Activation\n",
        "# from keras.callbacks import TensorBoard, ModelCheckpoint, ReduceLROnPlateau\n",
        "import datetime"
      ],
      "execution_count": null,
      "outputs": []
    },
    {
      "cell_type": "markdown",
      "metadata": {
        "id": "ReicY3rkKIBu"
      },
      "source": [
        "삼성전자 005930.KS \n",
        "\n",
        "LG전자 066570.KS\n",
        "\n",
        "현대차 005380.KS"
      ]
    },
    {
      "cell_type": "code",
      "metadata": {
        "id": "hZW-yY4FJJDB"
      },
      "source": [
        "df = pdr.get_data_yahoo('005930.KS', adjust_price=True)"
      ],
      "execution_count": null,
      "outputs": []
    },
    {
      "cell_type": "code",
      "metadata": {
        "id": "sRHvzZykKC9O"
      },
      "source": [
        "df.head()"
      ],
      "execution_count": null,
      "outputs": []
    },
    {
      "cell_type": "code",
      "metadata": {
        "id": "CgG81myGTBmo"
      },
      "source": [
        "df"
      ],
      "execution_count": null,
      "outputs": []
    },
    {
      "cell_type": "markdown",
      "metadata": {
        "id": "cPjye9oen881"
      },
      "source": [
        "주식의 중간 값  작성 "
      ]
    },
    {
      "cell_type": "code",
      "metadata": {
        "id": "D1EB3_R0oD6Q"
      },
      "source": [
        "high_prices = df['High'].values\n",
        "# high_prices\n",
        "low_prices = df['Low'].values\n",
        "mid_price = (high_prices+low_prices)/2"
      ],
      "execution_count": null,
      "outputs": []
    },
    {
      "cell_type": "markdown",
      "metadata": {
        "id": "koB3WEtDol1S"
      },
      "source": [
        "윈도우 만들기 - "
      ]
    },
    {
      "cell_type": "code",
      "metadata": {
        "id": "Wua3A6NtoojT"
      },
      "source": [
        "seq_len = 50\n",
        "sequence_length = seq_len + 1\n",
        "\n",
        "result = []\n",
        "\n",
        "for index in range(len(mid_price) - sequence_length):\n",
        "  result.append(mid_price[index: index+sequence_length])\n",
        "\n",
        "result[:5]"
      ],
      "execution_count": null,
      "outputs": []
    },
    {
      "cell_type": "markdown",
      "metadata": {
        "id": "y4EpAHDcpb1W"
      },
      "source": [
        "Nomarlize Data"
      ]
    },
    {
      "cell_type": "code",
      "metadata": {
        "id": "a0KghiwYpegv"
      },
      "source": [
        "normalized_data = []\n",
        "\n",
        "for window in result:\n",
        "    normalized_window = [((float(p) / float(window[0])) - 1) for p in window]\n",
        "    normalized_data.append(normalized_window)\n",
        "\n",
        "result = np.array(normalized_data)\n",
        "\n",
        "# split train and test data\n",
        "row = int(round(result.shape[0] * 0.9))\n",
        "train = result[:row, :]\n",
        "np.random.shuffle(train)\n",
        "\n",
        "x_train = train[:, :-1]\n",
        "x_train = np.reshape(x_train, (x_train.shape[0], x_train.shape[1], 1))\n",
        "y_train = train[:, -1]\n",
        "\n",
        "x_test = result[row:, :-1]\n",
        "x_test = np.reshape(x_test, (x_test.shape[0], x_test.shape[1], 1))\n",
        "y_test = result[row:, -1]\n",
        "\n",
        "x_train.shape, x_test.shape"
      ],
      "execution_count": null,
      "outputs": []
    },
    {
      "cell_type": "markdown",
      "metadata": {
        "id": "rAuH-a1qrqFe"
      },
      "source": [
        "Build a Model"
      ]
    },
    {
      "cell_type": "code",
      "metadata": {
        "id": "alncspysra74"
      },
      "source": [
        "model = Sequential()\n",
        "\n",
        "model.add(LSTM(50, return_sequences=True, input_shape=(50, 1)))\n",
        "\n",
        "model.add(LSTM(64, return_sequences=False))\n",
        "\n",
        "model.add(Dense(1, activation='linear'))\n",
        "\n",
        "model.compile(loss='mse', optimizer='rmsprop')\n",
        "\n",
        "model.summary()"
      ],
      "execution_count": null,
      "outputs": []
    },
    {
      "cell_type": "markdown",
      "metadata": {
        "id": "eBNu30VRsBCr"
      },
      "source": [
        "Training"
      ]
    },
    {
      "cell_type": "code",
      "metadata": {
        "id": "8DSeoHePrx7V"
      },
      "source": [
        "model.fit(x_train, y_train,\n",
        "    validation_data=(x_test, y_test),\n",
        "    batch_size=10,\n",
        "    epochs=60)"
      ],
      "execution_count": null,
      "outputs": []
    },
    {
      "cell_type": "markdown",
      "metadata": {
        "id": "705DaF_pr-Gx"
      },
      "source": [
        "Prediction"
      ]
    },
    {
      "cell_type": "code",
      "metadata": {
        "id": "SwXBTT0HsDw4"
      },
      "source": [
        "pred = model.predict(x_test)\n",
        "\n",
        "fig = plt.figure(facecolor='white', figsize=(20, 10))\n",
        "ax = fig.add_subplot(111)\n",
        "ax.plot(y_test, label='True')\n",
        "ax.plot(pred, label='Prediction')\n",
        "ax.legend()\n",
        "plt.show()"
      ],
      "execution_count": null,
      "outputs": []
    },
    {
      "cell_type": "code",
      "metadata": {
        "id": "-IVhj2Bn8GcC"
      },
      "source": [
        "pred = model.predict(x_test)\n",
        "pred.shape\n",
        "predt = pred.T\n",
        "predT = predt[0]\n",
        "y_test1 = y_test.astype(np.float32)"
      ],
      "execution_count": null,
      "outputs": []
    },
    {
      "cell_type": "code",
      "metadata": {
        "id": "OdHKY5Bnik95"
      },
      "source": [
        "fig = go.Figure()\n",
        "fig.add_trace(\n",
        "  go.Scatter(\n",
        "      # df, x=\"sepal_width\", y=\"sepal_length\",\n",
        "      # x = df['Date'],\n",
        "      mode='lines+markers',\n",
        "      name=\"test\",\n",
        "      y = y_test1,\n",
        "  )\n",
        ")\n",
        "fig.add_trace(\n",
        "  go.Scatter(\n",
        "      # df, x=\"sepal_width\", y=\"sepal_length\",\n",
        "      # x = df['Date'],\n",
        "      mode='lines+markers',\n",
        "      name='Predict',\n",
        "      y = predT,\n",
        "      line = dict(color='orange', width=4, dash='dot')\n",
        "  )\n",
        ")\n"
      ],
      "execution_count": null,
      "outputs": []
    },
    {
      "cell_type": "code",
      "metadata": {
        "id": "AqTo_raQDmSO"
      },
      "source": [
        "import plotly.express as px\n",
        "\n",
        "# df = px.data.gapminder().query(\"continent != 'Asia'\") # remove Asia for visibility\n",
        "df = px.data.gapminder()\n",
        "\n",
        "df\n"
      ],
      "execution_count": null,
      "outputs": []
    },
    {
      "cell_type": "code",
      "metadata": {
        "id": "uKY__VHnGWzA"
      },
      "source": [
        "fig = px.line(df, x=\"year\", y=\"lifeExp\", color=\"continent\",\n",
        "              line_group=\"country\", hover_name=\"country\")\n",
        "fig.show()"
      ],
      "execution_count": null,
      "outputs": []
    }
  ]
}